{
 "cells": [
  {
   "cell_type": "markdown",
   "id": "482433be",
   "metadata": {},
   "source": [
    "<center>\n",
    "<h1 style=\"text-align: left;\"><span style=\"text-decoration: underline;\">Les sous-programmes en Python</span></h1>\n",
    "</center>\n",
    "<p style=\"text-align: justify;\">Un sous-programme est un bloc d&rsquo;instructions r&eacute;alisant une certaine t&acirc;che. Il poss&egrave;de un <strong>nom</strong> et est ex&eacute;cut&eacute; lorsqu&rsquo;on l&rsquo;appelle. Les <strong>sous-programmes</strong> existent dans tous les langages de programmation, depuis les origines. En effet, les d&eacute;veloppeurs se sont vites rendu compte que dans la programmation on retrouve tr&egrave;s souvent des traitements similaires.</p>\n",
    "<p style=\"text-align: justify;\">Avec les <strong>sous-programmes</strong>, il devient possible de regrouper ces traitements en un seul bout de code r&eacute;utilisable, ce qui permet une &eacute;conomie de temps consid&eacute;rable. L&rsquo;utilisation de sous-programmes rend le code plus lisible et plus facile &agrave; mettre &agrave; jour. C&rsquo;est donc une bonne mani&egrave;re de programmer. Un script bien structur&eacute; contiendra un programme dit <strong>principal</strong>, et plusieurs <strong>sous-programmes</strong> d&eacute;di&eacute;s &agrave; des fonctionnalit&eacute;s sp&eacute;cifiques.</p>\n",
    "<p style=\"text-align: justify;\">Les sous-programmes en Python permettent de d&eacute;couper un gros programme en morceaux plus petit et donc plus simple &agrave; coder et &agrave; comprendre, et de plus permet d&rsquo;&eacute;viter de r&eacute;p&eacute;ter plusieurs codes identiques.</p>\n",
    "<p><img src=\"https://apcpedagogie.com/wp-content/uploads/2020/07/Les-sous-programmes-en-Python.jpg\" alt=\"Les sous-programmes en Python\" width=\"497\" height=\"312\" srcset=\"https://apcpedagogie.com/wp-content/uploads/2020/07/Les-sous-programmes-en-Python.jpg 497w, https://apcpedagogie.com/wp-content/uploads/2020/07/Les-sous-programmes-en-Python-300x188.jpg 300w\" sizes=\"(max-width: 497px) 100vw, 497px\" style=\"display: block; margin-left: auto; margin-right: auto;\" /></p>\n",
    "<p style=\"text-align: justify;\">Le probl&egrave;me initial sera r&eacute;solu dans un programme principal qui va appeler les sous-programme relatifs. Le programme initial est programme <strong>appelant.&nbsp;</strong>Les <strong>sous-programmes</strong> sont des programmes <strong>appel&eacute;s</strong>. Un <strong>sous-programme</strong> peut appeler &agrave; d&rsquo;autres sous-programmes. Il peut &ecirc;tre une fonction ou un proc&eacute;dure</p>\n",
    "<p style=\"text-align: justify;\">En algorithmique on distingue deux types de sous-programmes :</p>\n",
    "<ul style=\"text-align: justify;\">\n",
    "<li>Les proc&eacute;dures, qui modifient l&rsquo;&eacute;tat du programme sans retourner de r&eacute;sultat.</li>\n",
    "<li>Les fonctions, qui elles ont pour but de retourner un r&eacute;sultat.</li>\n",
    "<ul></ul>\n",
    "</ul>\n",
    "<p style=\"text-align: justify;\">En <em><strong>Python</strong></em>, les notions de proc&eacute;dures et fonctions sont &agrave; peu pr&egrave;s &eacute;quivalentes &agrave; leur sens algorithmique. d&rsquo;un point de vue syntaxique, proc&eacute;dures et fonctions sont d&eacute;clar&eacute;es de la m&ecirc;me mani&egrave;re dans une section introduite par le mot-cl&eacute; <em><strong><code>def</code></strong></em>. La seule diff&eacute;rence entre les deux est qu&rsquo;une fonction renvoie un r&eacute;sultat (&agrave; l&rsquo;aide du mot-cl&eacute; <em><strong><code>return</code></strong></em>) tandis que la proc&eacute;dure n&rsquo;en renvoie rien.</p>\n",
    "<p style=\"text-align: justify;\">D&eacute;finir des <strong>sous-programmes</strong> a de nombreux avantages en terme de structuration du programme complet, de compr&eacute;hension, de factorisation du code et de r&eacute;utilisation.</p>\n",
    "<h2><span>1. Description d&rsquo;une fonction en <em>Python</em></span></h2>\n",
    "<p style=\"text-align: justify;\">L&rsquo;approche efficace d&rsquo;un probl&egrave;me complexe consiste souvent &agrave; le d&eacute;composer en plusieurs sous-probl&egrave;mes plus simples qui seront &eacute;tudi&eacute;s s&eacute;par&eacute;ment (ces sous-probl&egrave;mes peuvent &eacute;ventuellement &ecirc;tre eux-m&ecirc;mes d&eacute;compos&eacute;s &agrave; leur tour, et ainsi de suite). Or il est important que cette d&eacute;composition soit repr&eacute;sent&eacute;e fid&egrave;lement dans les algorithmes pour que ceux-ci restent clairs. D&rsquo;autre part, il arrivera souvent qu&rsquo;une m&ecirc;me s&eacute;quence d&rsquo;instructions doive &ecirc;tre utilis&eacute;e &agrave; plusieurs reprises dans un programme, et on souhaitera bien &eacute;videmment ne pas avoir &agrave; la reproduire syst&eacute;matiquement.</p>\n",
    "<p style=\"text-align: justify;\">Les fonctions peuvent &ecirc;tre utilis&eacute;es pour d&eacute;finir un code r&eacute;utilisable, d&rsquo;organiser et de simplifier les programmes.</p>\n",
    "<h2><br /><span>2. D&eacute;finition d&rsquo;une fonction en <em>Python</em></span></h2>\n",
    "<p style=\"text-align: justify;\">Une fonction en informatique est une portion r&eacute;alisant une t&acirc;che bien pr&eacute;cise et qui pourra &ecirc;tre utilis&eacute;e une ou plusieurs fois dans la suite du programme. Une fonction est une portion de code que l&rsquo;on peut appeler au besoin (c&rsquo;est une sorte de sous-programme).</p>\n",
    "<p style=\"text-align: justify;\">L&rsquo;utilisation des fonctions &eacute;vite ainsi des redondances dans le code <strong><em>:</em></strong> on obtient ainsi des programmes plus courts et plus lisibles !</p>\n",
    "<p style=\"text-align: justify;\">Une fonction contient un <em><strong>en-t&ecirc;te</strong></em> et un <em><strong>corps</strong> </em>et une valeur de retour. L&rsquo;en-t&ecirc;te commence par le mot-cl&eacute; <em><strong><code>def</code></strong></em>, suivi par le <em><strong><code>nom</code></strong> </em>de la fonction et des <em><strong><code>param&egrave;tres</code></strong> </em>optionnels, et se termine par <strong><code>deux-<em>points</em></code></strong> comme le montre le sch&eacute;mas suivant:</p>\n",
    "<p><img src=\"https://drive.google.com/uc?export=view&amp;id=1wGU63l1_NNyKooq95-C5YDR8xdI4iSxm\" style=\"display: block; margin-left: auto; margin-right: auto;\" /></p>\n",
    "<h2><strong><u>3. Utilisation d&rsquo;une fonction en <em>Python</em></u></strong></h2>\n",
    "<p>La d&eacute;finition d&rsquo;une fonction commence par une <em><strong>ligne d&rsquo;introduction</strong></em> qui doit contenir :</p>\n",
    "<ul>\n",
    "<li>Le mot cl&eacute; <em><strong><code>def</code></strong> </em>, suivi du <em><strong><code>nom de la fonction</code></strong></em>, suivi de tous les <em><strong><code>param&egrave;tres</code></strong></em> de la fonction <strong>entre <em><code>parenth&egrave;ses</code></em></strong>.</li>\n",
    "<li>Le mot-cl&eacute; <strong><code>def</code></strong> est une instruction pour d&eacute;finir une fonction en <strong>Python</strong>.</li>\n",
    "<li>L&rsquo;appel <em><strong><code>def</code></strong> </em>cr&eacute;e l&rsquo;objet <em><strong><code>fonction</code></strong>&nbsp;</em>et l&rsquo;affecte au <em><strong><code>nom</code></strong></em>&nbsp;donn&eacute;.</li>\n",
    "<li>Vous pouvez en outre r&eacute;affecter le m&ecirc;me objet <em><strong><code>fonction</code></strong>&nbsp;</em>&agrave; d&rsquo;autres <em><strong><code>noms</code></strong></em>.</li>\n",
    "<li>Pour d&eacute;marrer une fonction <em><strong>Python</strong> </em>commencer avec le mot-cl&eacute; <em><strong><code>def</code></strong></em>, sp&eacute;cifier un <strong><code>nom</code>&nbsp;</strong>suivi d&rsquo;un signe de <em><strong><code>deux-points (:)</code></strong></em>.</li>\n",
    "</ul>\n",
    "<p>Ajouter une <em><strong><code>docstring</code></strong>&nbsp;</em>significative pour expliquer ce que fait la fonction. Cependant, c&rsquo;est une &eacute;tape facultative.</p>\n",
    "<p>Apr&egrave;s cette ligne d&rsquo;introduction, les instructions qui d&eacute;finissent la fonction doivent &ecirc;tre dans un bloc <em><strong>indent&eacute;</strong> </em>(d&eacute;cal&eacute; &agrave; droite) qui constitue le <em><strong>corps de la fonction</strong></em> (si une instruction n&rsquo;est pas <em><strong>indent&eacute;e</strong></em>: elle sera consid&eacute;r&eacute;e comme ne faisant pas partie de la d&eacute;finition de la fonction et entra&icirc;nera la fin de la d&eacute;finition du corps de la fonction).</p>\n",
    "<p>En fin il faut utiliser le mot cl&eacute;&nbsp;<em><strong><code>return</code></strong> </em></p>\n",
    "<ul>\n",
    "<li>Le mot cl&eacute; <em><strong><code>return</code></strong> </em>permet d&rsquo;indiquer la valeur retourn&eacute;e par la fonction. Il ach&egrave;ve la d&eacute;finition de la fonction (lorsque Python rencontre un <em><strong><code>return</code></strong> </em>dans une fonction, il sort de la fonction, les instructions qui pourraient se trouver ensuite dans le corps de la fonction seront ignor&eacute;es).</li>\n",
    "<li>La valeur retourn&eacute;e indiqu&eacute;e apr&egrave;s le mot cl&eacute; <em><strong><code>return</code></strong> </em>est le r&eacute;sultat du \"travail\" de la fonction.</li>\n",
    "<li>Tout ce qui a pu &ecirc;tre calcul&eacute; localement dans la fonction est perdu s&rsquo;il n&rsquo;est pas retourn&eacute;.</li>\n",
    "<li>Si on ne met pas de <em><strong><code>return</code></strong> </em>dans le corps de la fonction, ou bien un <em><strong><code>return</code></strong> </em>sans sp&eacute;cifier de valeur, alors <em><strong>Python</strong> </em>retourne automatiquement la valeur <em><strong><code>None</code></strong></em>.</li>\n",
    "</ul>\n",
    "<p>La <em><strong>syntaxe Python</strong></em> pour la d&eacute;finition d&rsquo;une fonction est la suivante:</p>"
   ]
  },
  {
   "cell_type": "code",
   "execution_count": null,
   "id": "3f0055cd",
   "metadata": {},
   "outputs": [],
   "source": [
    "def nomDeMaFonction(parametre1, parametre2, parametre3,...,parametreN):\n",
    "    # docstring\n",
    "    # documentation de la fonction qui s'affichera en tapant\n",
    "    # help(nomDeMaFonction)\n",
    "    # bloc d'instructions définissant la fonction…\n",
    "    \n",
    "    return valeur_retournee"
   ]
  },
  {
   "cell_type": "markdown",
   "id": "898ab219",
   "metadata": {},
   "source": [
    "<p><img loading=\"lazy\" src=\"https://apcpedagogie.com/wp-content/uploads/2019/05/fonctionPython.jpg\" alt=\"\" width=\"403\" height=\"530\" class=\"alignright wp-image-35010\" /> </p>\n",
    "<p><span style=\"text-decoration: underline;\"><strong>Interpr&eacute;tation</strong>:</span></p>\n",
    "<ul style=\"list-style-type: disc;\">\n",
    "<li><em><strong><code>def</code></strong> </em>pour expliquer qu&rsquo;on d&eacute;finit une fonction.</li>\n",
    "<li><em><strong><code>nomDeLaFonction</code></strong></em>: vous pouvez mettre des lettres et chiffres (mais pas en premier) dans le nom mais pas d&rsquo;espace.</li>\n",
    "<li><em><strong><code>liste_de_parametres</code></strong> </em>on peut pr&eacute;ciser les param&egrave;tres de la fonction comme en math pour <em><strong><code>f(x)</code></strong></em>, le param&egrave;tre est <strong><em><code>x</code></em></strong> (En math&eacute;matique, on l&rsquo;appelle une variable). S&rsquo;il y a plusieurs param&egrave;tres, on les s&eacute;pare par une virgule. S&rsquo;il n&rsquo;y en a pas, on met juste des parenth&egrave;ses sans rien dedans.</li>\n",
    "<li><strong><code><em>:</em></code></strong> les 2 points &agrave; la fin de la ligne sont obligatoires</li>\n",
    "<li>Le<em><strong> <code>bloc instructions</code></strong></em> effectue les calculs pour r&eacute;aliser les t&acirc;ches confi&eacute;es &agrave; la fonction d&eacute;finie. Les calculs peuvent produire de nouvelles valeurs que l&rsquo;on peut renvoyer dans une expression (affecter &agrave; variable, utiliser comme arguments d&rsquo;une autre fonction).</li>\n",
    "<li><em><strong><code>return</code></strong> </em>Cette commande permet de renvoyer un r&eacute;sultat obtenu par la fonction pour pouvoir l&rsquo;utiliser dans la suite du programme.</li>\n",
    "<li>L&rsquo;ex&eacute;cution de l&rsquo;instruction <em><strong><code>return</code></strong> </em>provoque la sortie imm&eacute;diate de la fonction en retournant la valeur sp&eacute;cifi&eacute;e. Si une fonction ne retourne rien, <em><strong>Python</strong> </em>lui fait retourner la valeur <em><strong><code>None</code></strong></em></li>\n",
    "</ul>\n",
    "<h2><span style=\"text-decoration: underline;\">4. Param&egrave;tres d&rsquo;une fonction <em>Python</em></span></h2>\n",
    "<p>Nous utilisons souvent les termes param&egrave;tres et arguments de mani&egrave;re interchangeable. Cependant, il existe une l&eacute;g&egrave;re diff&eacute;rence entre eux. Les param&egrave;tres sont les variables utilis&eacute;es dans la d&eacute;finition de la fonction, tandis que les arguments sont les valeurs que nous transmettons aux param&egrave;tres de la fonction.</p>\n",
    "<h3><span style=\"text-decoration: underline;\">4.1. Fonction sans param&egrave;tres</span></h3>"
   ]
  },
  {
   "cell_type": "code",
   "execution_count": 1,
   "id": "1637723b",
   "metadata": {},
   "outputs": [
    {
     "name": "stdout",
     "output_type": "stream",
     "text": [
      "Bonjour\n"
     ]
    }
   ],
   "source": [
    "def mapremierefonction():\n",
    "    # cette fonction n'a pas de paramètre\n",
    "    \"\"\" Cette fonction affiche 'Bonjour' \"\"\"\n",
    "    print(\"Bonjour\")\n",
    "    return\n",
    "# cette fonction ne retourne rien ('None')\n",
    "# l'instruction return est ici facultative\n",
    "mapremierefonction()# Appeler les parenthèses ()"
   ]
  },
  {
   "cell_type": "code",
   "execution_count": 2,
   "id": "ffa9607f",
   "metadata": {},
   "outputs": [
    {
     "name": "stdout",
     "output_type": "stream",
     "text": [
      "5\n"
     ]
    }
   ],
   "source": [
    "def tirage_de():\n",
    "    \"\"\" Retourne un nombre entier aléatoire entre 1 et 10 \"\"\"\n",
    "    import random\n",
    "    valeur = random.randint(1, 10)\n",
    "    return valeur\n",
    "\"\"\"Appeler la fonction\"\"\"\n",
    "print(tirage_de())"
   ]
  },
  {
   "cell_type": "markdown",
   "id": "c2d1718a",
   "metadata": {},
   "source": [
    "<h3><span style=\"text-decoration: underline;\">4.2. Une fonction avec deux param&egrave;tres</span><strong></strong></h3>"
   ]
  },
  {
   "cell_type": "code",
   "execution_count": 3,
   "id": "b24e91e9",
   "metadata": {},
   "outputs": [
    {
     "name": "stdout",
     "output_type": "stream",
     "text": [
      "11\n",
      "17\n",
      "12\n",
      "18\n",
      "13\n"
     ]
    }
   ],
   "source": [
    "# définition de fonction\n",
    "def tirage_de2(valeur_min, valeur_max):\n",
    "    \"\"\" Retourne un nombre entier aléatoire entre valeur_min et valeur_max \"\"\"\n",
    "    import random\n",
    "    return random.randint(valeur_min, valeur_max)\n",
    "# début du programme\n",
    "for i in range(5):\n",
    "    # appel de la fonction avec les arguments 1 et 10\n",
    "    print(tirage_de2(10, 20))"
   ]
  },
  {
   "cell_type": "markdown",
   "id": "c5dcccbe",
   "metadata": {},
   "source": [
    "<p>Pour d&eacute;finir une fonction avec plusieurs <strong><em>param&egrave;tres</em></strong>, il suffit d&rsquo;inclure ceux-ci entre les <em><strong>parenth&egrave;ses</strong> </em>qui suivent le <em><strong>nom de la fonction</strong></em>, en les s&eacute;parant &agrave; l&rsquo;aide de <em><strong>virgules</strong></em>.</p>\n",
    "<p>Lors de l&rsquo;appel de la fonction, les arguments utilis&eacute;s doivent &ecirc;tre fournis dans le m&ecirc;me ordre que celui des param&egrave;tres correspondants (en les s&eacute;parant eux aussi &agrave; l&rsquo;aide de virgules). Le premier argument sera affect&eacute; au premier param&egrave;tre, le second argument sera affect&eacute; au second param&egrave;tre, et ainsi de suite.</p>\n",
    "<h2 id=\"valeurs-de-retour-dune-fonction-python\"><span style=\"text-decoration: underline;\">5. Valeurs de retour d&rsquo;une fonction <em>Python</em></span></h2>\n",
    "<p>Dans les fonctions <em><strong>Python</strong></em>, vous pouvez ajouter l&rsquo;instruction <em><code>return</code>&nbsp;</em>pour renvoyer une valeur.</p>\n",
    "<p>Habituellement, les fonctions renvoient une seule valeur. Mais si n&eacute;cessaire, <em><strong>Python</strong> </em>permet de renvoyer plusieurs valeurs en utilisant les types de collection tels que l&rsquo;utilisation d&rsquo;un <em><strong>tuple</strong> </em>ou d&rsquo;une <em><strong>liste</strong></em>.</p>\n",
    "<h3 id=\"fonction-sans-retour\"><span style=\"text-decoration: underline;\">5.1. Fonction sans retour</span></h3>\n",
    "<p>Une fonction ne doit pas forc&eacute;ment renvoyer une valeur.</p>\n",
    "<p>Une telle fonction sans param&egrave;tre est souvent connue comme une proc&eacute;dure dans la terminologie de la programmation.</p>\n",
    "<p>Th&eacute;oriquement chaque fonction en <em><strong>Python</strong> </em>renvoie une valeur m&ecirc;me si vous n&rsquo;avez pas utilis&eacute; le mot cl&eacute; <em><strong><code>return</code></strong></em>. Si une fonction ne retourne pas de valeur, par d&eacute;faut, elle renvoie la valeur sp&eacute;ciale <em><strong><code>None</code></strong></em>.</p>\n",
    "<h3><span style=\"text-decoration: underline;\">5.2. Une fonction qui retourne une liste</span></h3>"
   ]
  },
  {
   "cell_type": "code",
   "execution_count": 4,
   "id": "2bbfffde",
   "metadata": {},
   "outputs": [
    {
     "name": "stdout",
     "output_type": "stream",
     "text": [
      "[5, 1, 4, 1, 1, 4, 1, 2, 3, 5]\n"
     ]
    }
   ],
   "source": [
    "# définition de fonction\n",
    "def tirage_multiple_de(nombretirage):\n",
    "    \"\"\" Retourne une liste de nombres entiers aléatoires entre 1 et 6 \"\"\"\n",
    "    import random\n",
    "    resultat = [random.randint(1, 6)\n",
    "                for i in range(nombretirage)]\n",
    "    # compréhension de listes (Cf. annexe)\n",
    "    return resultat\n",
    "\n",
    "# début du programme\n",
    "print(tirage_multiple_de(10))"
   ]
  },
  {
   "cell_type": "markdown",
   "id": "bf0f7f71",
   "metadata": {},
   "source": [
    "<h3 id=\"une-fonction-qui-appelle-une-autre-fonction\"><span style=\"text-decoration: underline;\">5.3. Une fonction qui appelle une autre fonction</span></h3>"
   ]
  },
  {
   "cell_type": "code",
   "execution_count": 5,
   "id": "e57906cf",
   "metadata": {},
   "outputs": [
    {
     "name": "stdout",
     "output_type": "stream",
     "text": [
      "bonjour\n",
      "0\n",
      "1\n",
      "2\n",
      "0\n",
      "1\n",
      "2\n"
     ]
    }
   ],
   "source": [
    "def compteur():\n",
    "    i = 0\n",
    "    while i < 3:\n",
    "        print(i)\n",
    "        i = i + 1\n",
    "\n",
    "def double_compteur():\n",
    "    compteur()\n",
    "    compteur()\n",
    "\n",
    "print(\"bonjour\")\n",
    "double_compteur()"
   ]
  },
  {
   "cell_type": "markdown",
   "id": "5a154158",
   "metadata": {},
   "source": [
    "<h2 style=\"text-align: justify;\"><span style=\"text-decoration: underline;\">6. Comment utiliser <em><code>*args</code></em> et <em><code>**kwargs</code></em> en Python</span></h2>\n",
    "<p style=\"text-align: justify;\">Dans les d&eacute;finitions de fonction , les param&egrave;tres sont des entit&eacute;s nomm&eacute;es qui sp&eacute;cifient un argument qu&rsquo;une fonction donn&eacute;e peut accepter.</p>\n",
    "<p style=\"text-align: justify;\">Nous pouvons passer un nombre variable d&rsquo;arguments &agrave; une fonction en utilisant <em><strong><code>*args</code></strong></em> et <em><strong><code>**kwargs</code></strong></em> dans notre code.</p>\n",
    "<p style=\"text-align: justify;\"><code><em><strong>*args</strong></em></code> et <em><strong><code>**kwargs</code></strong></em> sont principalement utilis&eacute;s dans les d&eacute;finitions de fonctions. <em><strong><code>*args</code></strong></em>&nbsp;et <em><strong><code>**kwargs</code></strong></em>&nbsp;vous permettent de passer un nombre non sp&eacute;cifi&eacute; d&rsquo;arguments &agrave; une fonction, donc lors de l&rsquo;&eacute;criture de la d&eacute;finition de fonction, vous n&rsquo;avez pas besoin de savoir combien d&rsquo;arguments seront pass&eacute;s &agrave; votre fonction.</p>\n",
    "<p style=\"text-align: justify;\">La syntaxe sp&eacute;ciale <em><strong><code>*args</code></strong></em> dans les d&eacute;finitions de fonction en <em><strong>Python&nbsp;</strong></em>est utilis&eacute;e pour passer un nombre variable d&rsquo;arguments &agrave; une fonction. Il est utilis&eacute; pour transmettre une liste d&rsquo;arguments de longueur variable sans mots cl&eacute;s.</p>\n",
    "<h3 style=\"text-align: justify;\"><span style=\"text-decoration: underline;\"><strong>6.1. Argument de fonction</strong></span></h3>\n",
    "<p style=\"text-align: justify;\">En programmation, nous d&eacute;finissons une fonction pour cr&eacute;er un code r&eacute;utilisable qui effectue une op&eacute;ration similaire. Pour effectuer cette op&eacute;ration, nous appelons une fonction avec la valeur sp&eacute;cifique, cette valeur est appel&eacute;e un argument de fonction en <em><strong>Python</strong></em>.</p>\n",
    "<p style=\"text-align: justify;\">En <em><strong>Python</strong></em>, nous pouvons passer un nombre variable d&rsquo;arguments &agrave; une fonction en utilisant des symboles sp&eacute;ciaux. Il y a deux symboles sp&eacute;ciaux:</p>\n",
    "<ul style=\"text-align: justify;\">\n",
    "<li><em><strong><code>*args</code></strong></em> (Arguments sans mots cl&eacute;s)</li>\n",
    "<li><em><strong><code>**kwargs</code></strong></em> (Arguments de mot-cl&eacute;)</li>\n",
    "</ul>\n",
    "<h3 style=\"text-align: justify;\"><span style=\"text-decoration: underline;\">6.2. Utilisation de <em><code>*args</code></em></span></h3>\n",
    "<p style=\"text-align: justify;\">En <em><strong>Python</strong></em>, la forme &agrave; ast&eacute;risque unique <em><strong><code>*args</code></strong></em>&nbsp;peut &ecirc;tre utilis&eacute;e comme param&egrave;tre pour envoyer une liste d&rsquo;arguments de longueur variable sans mot cl&eacute; &agrave; des fonctions.</p>\n",
    "<p style=\"text-align: justify;\"><em><strong><code>args</code>&nbsp;</strong></em>est une forme courte d&rsquo;arguments. Avec l&rsquo;utilisation de <code>*args</code>, prend n&rsquo;importe quel nombre d&rsquo;arguments dans la fonction d&eacute;finie par l&rsquo;utilisateur et convertit les entr&eacute;es de l&rsquo;utilisateur en un tuple nomm&eacute; <strong><em><code>args</code></em></strong>. En d&rsquo;autres termes, <em><strong><code>*args</code></strong></em>&nbsp;signifie z&eacute;ro ou plusieurs arguments qui sont stock&eacute;s dans un <em><strong>tuple</strong> </em>nomm&eacute; <strong><em><code>args</code></em></strong>.</p>\n",
    "<p style=\"text-align: justify;\">Il convient de noter que l&rsquo;ast&eacute;risque (<code><em><strong>*</strong></em></code>) est l&rsquo;&eacute;l&eacute;ment important ici, comme le mot <em><strong><code>args</code> </strong></em>est l&rsquo;idiome conventionnel &eacute;tabli, bien qu&rsquo;il ne soit pas impos&eacute; par la langue.</p>\n",
    "<p style=\"text-align: justify;\">Ce que <em><strong><code>*args</code></strong></em>&nbsp;vous permet de faire, c&rsquo;est de prendre plus d&rsquo;arguments que le nombre d&rsquo;arguments formels que vous avez pr&eacute;c&eacute;demment d&eacute;finis.</p>\n",
    "<p style=\"text-align: justify;\">La syntaxe consiste &agrave; utiliser le symbole <code><strong><em>*</em></strong></code> pour prendre un nombre variable d&rsquo;arguments; par convention, il est souvent utilis&eacute; avec le mot <strong><em><code>args</code></em></strong>.</p>\n",
    "<ul style=\"text-align: justify;\"></ul>\n",
    "<pre></pre>"
   ]
  },
  {
   "cell_type": "code",
   "execution_count": null,
   "id": "3fb912aa",
   "metadata": {},
   "outputs": [],
   "source": [
    "def multiplier(a, b):\n",
    "    print (a * b)"
   ]
  },
  {
   "cell_type": "markdown",
   "id": "aa4b499d",
   "metadata": {},
   "source": [
    "<p style=\"text-align: justify;\">Lorsque nous appelons la fonction, nous devons utiliser des nombres pour correspondre avec <em><strong>a</strong></em> et <em><strong>b</strong></em>. Pour appeler la fonction nous devons &eacute;crire:&nbsp;<em><strong><code>multiplier(6,9)</code></strong></em></p>\n",
    "<p style=\"text-align: justify;\">Si, plus tard, nous d&eacute;cidions que nous aimerions multiplier trois nombres plut&ocirc;t que deux. Si nous essayons d&rsquo;ajouter un num&eacute;ro suppl&eacute;mentaire &agrave; la fonction, comme indiqu&eacute; ci-dessous, nous recevrons une erreur:&nbsp;<span style=\"color: #ff0000;\"><strong><em><code>TypeError: multiply() takes 2 positional arguments but 3 were given</code></em></strong></span></p>\n",
    "<p style=\"text-align: justify;\">Pour r&eacute;soudre ce probl&egrave;me on doit utiliser <em><strong><code>*args</code>.&nbsp;</strong></em>On doit cr&eacute;er la m&ecirc;me fonction et le m&ecirc;me code que ceux que nous avons montr&eacute;s dans le premier exemple, en supprimant <em><strong>a</strong></em> et <em><strong>b</strong></em> en tant que param&egrave;tres de fonction, et en les rempla&ccedil;ant &agrave; la place par <strong><code>*args</code></strong>:</p>"
   ]
  },
  {
   "cell_type": "code",
   "execution_count": 6,
   "id": "001d05cc",
   "metadata": {},
   "outputs": [
    {
     "name": "stdout",
     "output_type": "stream",
     "text": [
      "20\n",
      "90\n",
      "24\n",
      "900\n"
     ]
    }
   ],
   "source": [
    "def multiplier(*args):\n",
    "    somme = 1\n",
    "    for num in args:\n",
    "        somme *= num\n",
    "    print(somme)\n",
    "multiplier(4, 5)\n",
    "multiplier(10, 9)\n",
    "multiplier(2, 3, 4)\n",
    "multiplier(3, 5, 10, 6)"
   ]
  },
  {
   "cell_type": "markdown",
   "id": "fe7afd70",
   "metadata": {},
   "source": [
    "<p style=\"text-align: justify;\">Il n&rsquo;est pas obligatoire d&rsquo;utiliser uniquement le mot-cl&eacute; nomm&eacute; <strong><code>args</code></strong>. Vous pouvez utiliser n&rsquo;importe quelle convention de d&eacute;nomination autre que <strong><code>args</code></strong>.</p>\n",
    "<h3 style=\"text-align: justify;\"><span style=\"text-decoration: underline;\">6.3. Utilisation de <em><code>**kwargs</code></em></span></h3>\n",
    "<p style=\"text-align: justify;\"><em><strong><code>**kwargs</code></strong></em> vous permet de passer des arguments de longueur variable mot &ndash; cl&eacute; &agrave; une fonction. Vous devez utiliser <em><strong><code>**kwargs</code></strong></em>&nbsp;si vous souhaitez g&eacute;rer des arguments nomm&eacute;s dans une fonction.</p>\n",
    "<p style=\"text-align: justify;\">Utiliser <em><strong><code>**kwargs</code></strong></em>&nbsp;est presque identique &agrave; l&rsquo;utilisation de <strong><em><code>*args</code></em></strong> mais dans <em><strong><code>**kwargs</code></strong></em>, vous pouvez passer des arguments de mot-cl&eacute;.</p>"
   ]
  },
  {
   "cell_type": "code",
   "execution_count": 7,
   "id": "69e888fb",
   "metadata": {},
   "outputs": [
    {
     "name": "stdout",
     "output_type": "stream",
     "text": [
      "premier == Table\n",
      "----------------------------------------\n",
      "premier == Table\n",
      "deuxième == Chaîse\n",
      "----------------------------------------\n",
      "premier == Table\n",
      "deuxième == Chaîse\n",
      "troisième == Tableau\n"
     ]
    }
   ],
   "source": [
    "def ma_fonction (** kwargs): \n",
    "    for clé, valeur in kwargs.items (): \n",
    "        print (\"% s == % s\"% (clé, valeur)) \n",
    "\n",
    "ma_fonction (premier = 'Table')\n",
    "print(40*'-')\n",
    "ma_fonction (premier = 'Table', deuxième = 'Chaîse')\n",
    "print(40*'-')\n",
    "ma_fonction (premier = 'Table', deuxième = 'Chaîse', troisième = 'Tableau')"
   ]
  },
  {
   "cell_type": "markdown",
   "id": "1bb418bf",
   "metadata": {},
   "source": [
    "<h3 style=\"text-align: justify;\"><span style=\"text-decoration: underline;\">6.4. Comment obtenir chaque argument?</span></h3>\n",
    "<p style=\"text-align: justify;\">Vous pouvez extraire des arguments bas&eacute;s sur l&rsquo;index comme nous obtenons une valeur du tuple bas&eacute;e sur la position d&rsquo;index se <strong><em><code>args[0]</code></em></strong> r&eacute;f&egrave;re au premier argument car l&rsquo;indexation en <em><strong>Python</strong></em></p>"
   ]
  },
  {
   "cell_type": "code",
   "execution_count": 8,
   "id": "d55142fd",
   "metadata": {},
   "outputs": [
    {
     "name": "stdout",
     "output_type": "stream",
     "text": [
      "Mohamed\n",
      "Tahar\n",
      "Eline\n"
     ]
    }
   ],
   "source": [
    "def ajouter (* args):\n",
    "    print (args [0])\n",
    "    print (args [1])\n",
    "    print (args [2])\n",
    "    \n",
    "ajouter ('Mohamed','Tahar','Eline')"
   ]
  },
  {
   "cell_type": "code",
   "execution_count": null,
   "id": "12c416fb",
   "metadata": {},
   "outputs": [],
   "source": []
  }
 ],
 "metadata": {
  "kernelspec": {
   "display_name": "Python 3 (ipykernel)",
   "language": "python",
   "name": "python3"
  },
  "language_info": {
   "codemirror_mode": {
    "name": "ipython",
    "version": 3
   },
   "file_extension": ".py",
   "mimetype": "text/x-python",
   "name": "python",
   "nbconvert_exporter": "python",
   "pygments_lexer": "ipython3",
   "version": "3.9.12"
  }
 },
 "nbformat": 4,
 "nbformat_minor": 5
}
