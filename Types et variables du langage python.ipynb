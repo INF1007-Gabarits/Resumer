{
 "cells": [
  {
   "cell_type": "markdown",
   "id": "40575e55",
   "metadata": {},
   "source": [
    "<h2 style=\"text-align: justify;\"><strong><u>Types et variables du langage python</u></strong></h2>\n",
    "<h3 style=\"text-align: justify;\"><strong><u>1. Variables</u></strong></h3>\n",
    "<p style=\"text-align: justify;\">Il est impossible d&rsquo;&eacute;crire un programme sans utiliser de variable. Ce terme d&eacute;signe le fait d&rsquo;attribuer un nom ou identificateur &agrave; des informations: en les nommant, on peut manipuler ces informations beaucoup plus facilement. L&rsquo;autre avantage est de pouvoir &eacute;crire des programmes valables pour des valeurs qui varient : on peut changer la valeur des variables, le programme s&rsquo;ex&eacute;cutera toujours de la m&ecirc;me mani&egrave;re et fera les m&ecirc;mes types de calculs quelles que soient les valeurs manipul&eacute;es. Les variables jouent un r&ocirc;le semblable aux inconnues dans une &eacute;quation math&eacute;matique.</p>\n",
    "<p style=\"text-align: justify;\">L&rsquo;ordinateur ne sait pas faire l&rsquo;addition de plus de deux nombres mais cela suffit &agrave; calculer la somme de&nbsp;<strong><em>n</em></strong> premiers nombres entiers. Pour cela, il est n&eacute;cessaire de cr&eacute;er une variable interm&eacute;diaire qu&rsquo;on appellera par exemple&nbsp;somme&nbsp;de mani&egrave;re &agrave; conserver le r&eacute;sultat des sommes interm&eacute;diaires.</p>"
   ]
  },
  {
   "cell_type": "code",
   "execution_count": 1,
   "id": "d50de62b",
   "metadata": {},
   "outputs": [
    {
     "name": "stdout",
     "output_type": "stream",
     "text": [
      "55\n"
     ]
    }
   ],
   "source": [
    "n = 11\n",
    "somme = 0                   # initialisation : la somme est nulle\n",
    "for i in range(1, n):       # pour tous les indices de 1 à n exclu\n",
    "    somme = somme + i       # on ajoute le i ème élément à somme\n",
    "print(somme)"
   ]
  },
  {
   "cell_type": "markdown",
   "id": "33f3494a",
   "metadata": {},
   "source": [
    "<h4 style=\"text-align: justify;\"><span style=\"text-decoration: underline;\"><strong>1.1. D&eacute;finition: variable</strong></span></h4>\n",
    "<p style=\"text-align: justify;\">Une variable est caract&eacute;ris&eacute;e par :</p>\n",
    "<ul>\n",
    "<li style=\"text-align: justify;\"><strong>Un identificateur:</strong>&nbsp;il peut contenir des lettres, des chiffres, des blancs soulign&eacute;s mais il ne peut commencer par un chiffre. <strong>Minuscules</strong> et <strong>majuscules</strong> sont diff&eacute;renci&eacute;es.&nbsp;</li>\n",
    "<li style=\"text-align: justify;\"><strong>Un type: </strong>&nbsp;c&rsquo;est une information sur le contenu de la variable qui indique &agrave; l&rsquo;interpr&eacute;teur <strong>P<em>ython</em></strong>, la mani&egrave;re de manipuler cette information.</li>\n",
    "</ul>\n",
    "<p style=\"text-align: justify;\">Comme le typage est dynamique en <em><strong>Python</strong></em>, le type n&rsquo;est pas pr&eacute;cis&eacute; explicitement, il est implicitement li&eacute; &agrave; l&rsquo;information manipul&eacute;e. Par exemple, en &eacute;crivant, <em><strong>x=3.4</strong></em>, on ne pr&eacute;cise pas le type de la variable <em><strong>x</strong></em> mais il est implicite car re&ccedil;oit une valeur r&eacute;elle: <em><strong>x</strong></em> est de type <strong>r&eacute;el</strong> ou <strong>float</strong> en <strong>Python</strong>. Pour leur premi&egrave;re initialisation, une variable re&ccedil;oit dans la plupart des cas une constante:</p>\n",
    "\n",
    "<h4 style=\"text-align: justify;\"><span style=\"text-decoration: underline;\"><strong>1.2. D&eacute;finition : constante</strong></span></h4>\n",
    "<p style=\"text-align: justify;\">Les constantes sont le contraire des variables, ce sont toutes les valeurs num&eacute;riques, cha&icirc;nes de caract&egrave;res, &hellip;, tout ce qui n&rsquo;est pas d&eacute;sign&eacute; par un nom. Les constantes poss&egrave;dent un type mais pas d&rsquo;identificateur.</p>\n",
    "<p style=\"text-align: justify;\">Le langage&nbsp;<strong><em>Python</em>&nbsp;</strong>poss&egrave;de un certain nombre de types de variables d&eacute;j&agrave; d&eacute;finis ou types fondamentaux &agrave; partir desquels il sera possible de d&eacute;finir ses propres types. Au contraire de langages tels que le&nbsp;<em><strong>C</strong></em>, il n&rsquo;est pas besoin de d&eacute;clarer une variable pour signifier qu&rsquo;elle existe, il suffit de lui affecter une valeur. Le type de la variable sera d&eacute;fini par le type de la constante qui lui est affect&eacute;e. Le type d&rsquo;une variable peut changer, il correspond toujours au type de la derni&egrave;re affectation.</p>"
   ]
  },
  {
   "cell_type": "code",
   "execution_count": 2,
   "id": "70b9b881",
   "metadata": {},
   "outputs": [],
   "source": [
    "x   = 3.5      # création d'une variable nombre réel appelée x initialisée à 3.5\n",
    "               # 3.5 est un réel, la variable est de type \"float\"\n",
    "sc = \"chaîne\"  # création d'une variable chaîne de caractères appelée str\n",
    "               # initialisée à \"chaîne\", sc est de type \"str\""
   ]
  },
  {
   "cell_type": "markdown",
   "id": "d3c768c8",
   "metadata": {},
   "source": [
    "<p style=\"text-align: justify;\">Pour tous les exemples qui suivront, le symbole&nbsp;#&nbsp;appara&icirc;tra &agrave; maintes reprises. Il marque le d&eacute;but d&rsquo;un commentaire que la fin de la ligne termine. Autrement dit, un commentaire est une information aidant &agrave; la compr&eacute;hension du programme mais n&rsquo;en faisant pas partie comme dans l&rsquo;exemple qui suit.</p>"
   ]
  },
  {
   "cell_type": "code",
   "execution_count": 3,
   "id": "602c1e53",
   "metadata": {},
   "outputs": [],
   "source": [
    "x = 3          # affectation de la valeur entière 3 à la variable x\n",
    "y = 3.0        # affectation de la valeur réelle 3.0 à la variable y"
   ]
  },
  {
   "cell_type": "markdown",
   "id": "b295fe60",
   "metadata": {},
   "source": [
    "<h3 style=\"text-align: justify;\"><span style=\"text-decoration: underline;\"><strong>2. Types immuables (ou immutable)</strong> </span></h3>\n",
    "<h4 style=\"text-align: justify;\"><span style=\"text-decoration: underline;\"><strong>2.1. D&eacute;finition: type immuable (ou immutable) </strong></span></h4>\n",
    "<p style=\"text-align: justify;\">Une variable de type immuable ne peut &ecirc;tre modifi&eacute;e. Une op&eacute;ration sur une variable de ce type entra&icirc;ne n&eacute;cessairement la cr&eacute;ation d&rsquo;une autre variable du m&ecirc;me type, m&ecirc;me si cette derni&egrave;re est temporaire.</p>\n",
    "<p style=\"text-align: justify;\">Autrement dit, la simple instruction <em><strong>x+=3</strong></em> qui consiste &agrave; ajouter &agrave; la variable <strong>x</strong> la valeur <strong>3</strong> cr&eacute;e une seconde variable dont la valeur est celle de <strong>x</strong> augment&eacute;e de <strong>3</strong> puis &agrave; en recopier le contenu dans celui de la variable <strong>x</strong>. Les nombres sont des types immuables tout comme les cha&icirc;nes de caract&egrave;res et les tuple qui sont des tableaux d&rsquo;objets. Il n&rsquo;est pas possible de modifier une variable de ce type, il faut en recr&eacute;er une autre du m&ecirc;me type qui int&egrave;grera la modification.</p>\n",
    "<h4 style=\"text-align: justify;\"><span style=\"text-decoration: underline;\"><strong>2.2. Type &laquo; rien &raquo; ou None </strong></span></h4>\n",
    "<p style=\"text-align: justify;\"><em><strong>Python</strong> </em>propose un type <em><strong>None</strong> </em>pour signifier qu&rsquo;une variable ne contient rien. La variable est de type <em><strong>None</strong> </em>et est &eacute;gale &agrave; <em><strong>None</strong></em>.</p>"
   ]
  },
  {
   "cell_type": "code",
   "execution_count": 22,
   "id": "7d39baa5",
   "metadata": {},
   "outputs": [
    {
     "name": "stdout",
     "output_type": "stream",
     "text": [
      "None\n"
     ]
    }
   ],
   "source": [
    "s = None\n",
    "print(s)    # affiche None"
   ]
  },
  {
   "cell_type": "markdown",
   "id": "982e52cb",
   "metadata": {},
   "source": [
    "<p style=\"text-align: justify;\">Certaines fonctions utilisent cette convention lorsqu&rsquo;il leur est impossible de retourner un r&eacute;sultat. Ce n&rsquo;est pas la seule option pour g&eacute;rer cette impossibilit&eacute;: il est possible de g&eacute;n&eacute;rer une&nbsp;exception, de retourner une valeur par d&eacute;faut ou encore de retourner&nbsp;<em><strong>None</strong></em>. Il n&rsquo;y a pas de choix meilleur, il suffit juste de pr&eacute;ciser la convention choisie.</p>\n",
    "<p style=\"text-align: justify;\">Les fonctions ce sont des mini-programmes: elles permettent de d&eacute;couper un programme long en t&acirc;ches plus petites. On les distingue des variables car leur nom est suivi d&rsquo;une liste de constantes ou variables comprises entre parenth&egrave;ses et s&eacute;par&eacute;es par une virgule.</p>\n",
    "<h3 style=\"text-align: justify;\"><strong><u>4. Nombres r&eacute;els et entiers</u></strong></h3>\n",
    "<p style=\"text-align: justify;\">Il existe deux types de nombres en&nbsp;<strong>Python</strong>, les nombres r&eacute;els&nbsp;<em><strong>float&nbsp;</strong></em>et les nombres entiers&nbsp;<em><strong>int</strong></em>. L&rsquo;instruction&nbsp;<em><strong>x=3&nbsp;</strong></em>cr&eacute;e une variable de type&nbsp;<em><strong>int&nbsp;</strong></em>initialis&eacute;e &agrave;&nbsp;<em><strong>3</strong></em>&nbsp;tandis que&nbsp;<em><strong>y=3.0</strong></em>&nbsp;cr&eacute;e une variable de type&nbsp;<em><strong>float&nbsp;</strong></em>initialis&eacute;e &agrave;&nbsp;<em><strong>3.0</strong></em>. Le programme suivant permet de v&eacute;rifier cela en affichant pour les variables&nbsp;<em><strong>x</strong></em>&nbsp;et&nbsp;<em><strong>y</strong></em>, leurs valeurs et leurs types respectifs gr&acirc;ce &agrave; la fonction&nbsp;<em><strong>type</strong></em>.</p>"
   ]
  },
  {
   "cell_type": "code",
   "execution_count": 23,
   "id": "0dad1ee1",
   "metadata": {},
   "outputs": [
    {
     "name": "stdout",
     "output_type": "stream",
     "text": [
      "x = 3 <class 'int'>\n",
      "y = 3.0 <class 'float'>\n"
     ]
    }
   ],
   "source": [
    "x = 3\n",
    "y = 3.0\n",
    "print(\"x =\", x, type(x))\n",
    "print(\"y =\", y, type(y))"
   ]
  },
  {
   "cell_type": "markdown",
   "id": "97b9dcdb",
   "metadata": {},
   "source": [
    "<p style=\"text-align: justify;\">La liste des op&eacute;rateurs qui s&rsquo;appliquent aux nombres r&eacute;els et entiers suit. Les trois premiers r&eacute;sultats s&rsquo;expliquent en utilisant la repr&eacute;sentation en base deux.&nbsp;<em><strong>8&nbsp;&lt;&lt;&nbsp;1</strong></em>&nbsp;s&rsquo;&eacute;crit en base deux&nbsp;<em><strong>100&nbsp;&lt;&lt;&nbsp;1&nbsp;=&nbsp;1000</strong></em>, ce qui vaut <em><strong>16</strong> </em>en base d&eacute;cimale : les bits sont d&eacute;cal&eacute;s vers la droite ce qui &eacute;quivaut &agrave; multiplier par deux. De m&ecirc;me,&nbsp;<em><strong>7&nbsp;&amp;&nbsp;2</strong></em>&nbsp;s&rsquo;&eacute;crit&nbsp;<em><strong>1011&nbsp;&amp;&nbsp;10&nbsp;=&nbsp;10</strong></em>, qui vaut <em><strong>2</strong></em> en base <em><strong>d&eacute;cimale</strong></em>. Les op&eacute;rateurs&nbsp;<em><strong>&lt;&lt;,&nbsp;&gt;&gt;,&nbsp;|,&nbsp;&amp;</strong></em>&nbsp;sont des op&eacute;rateurs <em><strong>bit &agrave; bit</strong></em>, ils se comprennent &agrave; partir de la repr&eacute;sentation binaire des nombres entiers.</p>\n",
    "<table>\n",
    "<tbody>\n",
    "<tr>\n",
    "<td>\n",
    "<p><strong>op&eacute;rateur</strong></p>\n",
    "</td>\n",
    "<td>\n",
    "<p><strong>signification</strong></p>\n",
    "</td>\n",
    "<td>\n",
    "<p><strong>exemple</strong></p>\n",
    "</td>\n",
    "</tr>\n",
    "<tr>\n",
    "<td>\n",
    "<p>&lt;&lt;&nbsp;&gt;&gt;</p>\n",
    "</td>\n",
    "<td>\n",
    "<p>d&eacute;calage &agrave; gauche, &agrave; droite</p>\n",
    "</td>\n",
    "<td>\n",
    "<p>x&nbsp;=&nbsp;8&nbsp;&lt;&lt;&nbsp;1</p>\n",
    "</td>\n",
    "</tr>\n",
    "<tr>\n",
    "<td>\n",
    "<p>|</p>\n",
    "</td>\n",
    "<td>\n",
    "<p>op&eacute;rateur logique&nbsp;ou&nbsp;bit &agrave; bit</p>\n",
    "</td>\n",
    "<td>\n",
    "<p>x&nbsp;=&nbsp;8&nbsp;|&nbsp;1</p>\n",
    "</td>\n",
    "</tr>\n",
    "<tr>\n",
    "<td>\n",
    "<p>&amp;</p>\n",
    "</td>\n",
    "<td>\n",
    "<p>op&eacute;rateur logique&nbsp;et&nbsp;bit &agrave; bit</p>\n",
    "</td>\n",
    "<td>\n",
    "<p>x&nbsp;=&nbsp;11&nbsp;&amp;&nbsp;2</p>\n",
    "</td>\n",
    "</tr>\n",
    "<tr>\n",
    "<td>\n",
    "<p>+&nbsp;-</p>\n",
    "</td>\n",
    "<td>\n",
    "<p>addition, soustraction</p>\n",
    "</td>\n",
    "<td>\n",
    "<p>x&nbsp;=&nbsp;y&nbsp;+&nbsp;z</p>\n",
    "</td>\n",
    "</tr>\n",
    "<tr>\n",
    "<td>\n",
    "<p>+=&nbsp;-=</p>\n",
    "</td>\n",
    "<td>\n",
    "<p>addition ou soustraction puis affectation</p>\n",
    "</td>\n",
    "<td>\n",
    "<p>x&nbsp;+=&nbsp;3</p>\n",
    "</td>\n",
    "</tr>\n",
    "<tr>\n",
    "<td>\n",
    "<p>*&nbsp;&nbsp;&nbsp;&nbsp;&nbsp;/</p>\n",
    "</td>\n",
    "<td>\n",
    "<p>multiplication, division</p>\n",
    "</td>\n",
    "<td>\n",
    "<p>x&nbsp;=&nbsp;y&nbsp;*&nbsp;z</p>\n",
    "</td>\n",
    "</tr>\n",
    "<tr>\n",
    "<td>\n",
    "<p>//</p>\n",
    "</td>\n",
    "<td>\n",
    "<p>division enti&egrave;re, le r&eacute;sultat est de type r&eacute;el si l&rsquo;un des nombres est r&eacute;el</p>\n",
    "</td>\n",
    "<td>\n",
    "<p>x&nbsp;=&nbsp;y&nbsp;//&nbsp;3</p>\n",
    "</td>\n",
    "</tr>\n",
    "<tr>\n",
    "<td>\n",
    "<p>%</p>\n",
    "</td>\n",
    "<td>\n",
    "<p>reste d&rsquo;une division enti&egrave;re (modulo)</p>\n",
    "</td>\n",
    "<td>\n",
    "<p>x&nbsp;=&nbsp;y&nbsp;%&nbsp;3</p>\n",
    "</td>\n",
    "</tr>\n",
    "<tr>\n",
    "<td>\n",
    "<p>*=&nbsp;/=</p>\n",
    "</td>\n",
    "<td>\n",
    "<p>multiplication ou division puis affectation</p>\n",
    "</td>\n",
    "<td>\n",
    "<p>x&nbsp;*=&nbsp;3</p>\n",
    "</td>\n",
    "</tr>\n",
    "<tr>\n",
    "<td>\n",
    "<p>**</p>\n",
    "</td>\n",
    "<td>\n",
    "<p>puissance (enti&egrave;re ou non, racine carr&eacute;e = ** 0.5)</p>\n",
    "</td>\n",
    "<td>\n",
    "<p>x&nbsp;=&nbsp;y&nbsp;**&nbsp;3</p>\n",
    "</td>\n",
    "</tr>\n",
    "</tbody>\n",
    "</table>"
   ]
  },
  {
   "cell_type": "markdown",
   "id": "fd332bfe",
   "metadata": {},
   "source": [
    "<p style=\"text-align: justify;\">Les op&eacute;rateurs list&eacute;s dans le tableau ci-dessus ont des priorit&eacute;s diff&eacute;rentes, tri&eacute;s par ordre croissant. Toutefois, il est conseill&eacute; d&rsquo;avoir recours aux <em><strong>parenth&egrave;ses</strong> </em>pour enlever les doutes : <em><strong>3 * 2 ** 4 = 3 * (2 ** 4)</strong></em>.</p>\n",
    "<p style=\"text-align: justify;\">Python propose l&rsquo;op&eacute;rateur <em><strong>//</strong></em> pour les <em><strong>divisions enti&egrave;res</strong></em> et c&rsquo;est une rare exception parmi les languages qui ne poss&egrave;dent qu&rsquo;un seul op&eacute;rateur <em><strong>/</strong></em> qui retourne un entier pour une division enti&egrave;re except&eacute; en <em><strong>Python.</strong></em></p>"
   ]
  },
  {
   "cell_type": "code",
   "execution_count": 1,
   "id": "0c660e93",
   "metadata": {},
   "outputs": [
    {
     "name": "stdout",
     "output_type": "stream",
     "text": [
      "5.5 5.5\n"
     ]
    }
   ],
   "source": [
    "x = 11\n",
    "y = 2\n",
    "zi = x / y      # le résultat est 5 et non 5.5 car la division est entière\n",
    "zf = x / y      # le résultat est 5.5\n",
    "print(zi, zf)"
   ]
  },
  {
   "cell_type": "markdown",
   "id": "007fc297",
   "metadata": {},
   "source": [
    "<h3 style=\"text-align: justify;\"><strong><u>5. Nombres complexe</u></strong></h3>\n",
    "<p style=\"text-align: justify;\"><em><strong>Python</strong></em> poss&eacute;de par d&eacute;faut un type pour manipuler les nombres complexes. La partie imaginaire est indiqu&eacute;e gr&acirc;ce &agrave; la lettre&nbsp;<strong><em>j</em></strong>. La lettre math&eacute;matique utilis&eacute;e habituellement, le <em><strong>i</strong></em>, n&rsquo;est pas utilis&eacute;e en <strong><em>Python</em> </strong>car la variable <em><strong>i</strong></em> est souvent utilis&eacute;e dans les boucles.</p>"
   ]
  },
  {
   "cell_type": "code",
   "execution_count": 6,
   "id": "ae20c1d6",
   "metadata": {},
   "outputs": [
    {
     "name": "stdout",
     "output_type": "stream",
     "text": [
      "Le type de donnée de  (2+3j)  est:  <class 'complex'>\n"
     ]
    }
   ],
   "source": [
    "a = 2 + 3j\n",
    "print('Le type de donnée de ', a,' est: ', type(a))"
   ]
  },
  {
   "cell_type": "markdown",
   "id": "42645787",
   "metadata": {},
   "source": [
    "<h3><strong><u>6. Bool&eacute;en</u></strong></h3>\n",
    "<p>Les bool&eacute;ens sont le r&eacute;sultat d&rsquo;op&eacute;rations logiques et ont deux valeurs possibles :&nbsp;<em><strong>True&nbsp;ou&nbsp;False</strong></em>. Voici la liste des op&eacute;rateurs&nbsp;qui s&rsquo;appliquent aux bool&eacute;ens.</p>\n",
    "<table>\n",
    "<tbody>\n",
    "<tr>\n",
    "<td>\n",
    "<p><strong>op&eacute;rateur</strong></p>\n",
    "</td>\n",
    "<td>\n",
    "<p><strong>signification</strong></p>\n",
    "</td>\n",
    "<td>\n",
    "<p><strong>exemple</strong></p>\n",
    "</td>\n",
    "</tr>\n",
    "<tr>\n",
    "<td>\n",
    "<p>and&nbsp;or</p>\n",
    "</td>\n",
    "<td>\n",
    "<p>et, ou logique</p>\n",
    "</td>\n",
    "<td>\n",
    "<p>x&nbsp;=&nbsp;True&nbsp;or&nbsp;False&nbsp;(r&eacute;sultat = True)</p>\n",
    "</td>\n",
    "</tr>\n",
    "<tr>\n",
    "<td>\n",
    "<p>not</p>\n",
    "</td>\n",
    "<td>\n",
    "<p>n&eacute;gation logique</p>\n",
    "</td>\n",
    "<td>\n",
    "<p>x&nbsp;=&nbsp;not&nbsp;x</p>\n",
    "</td>\n",
    "</tr>\n",
    "</tbody>\n",
    "</table>"
   ]
  },
  {
   "cell_type": "code",
   "execution_count": 29,
   "id": "e8dc23dd",
   "metadata": {},
   "outputs": [
    {
     "name": "stdout",
     "output_type": "stream",
     "text": [
      "True\n",
      "False\n"
     ]
    }
   ],
   "source": [
    "x = 4 < 5\n",
    "print(x)         # affiche True\n",
    "print(not x)     # affiche False"
   ]
  },
  {
   "cell_type": "markdown",
   "id": "bf837117",
   "metadata": {},
   "source": [
    "<p style=\"text-align: justify;\">Voici la liste des op&eacute;rateurs de&nbsp;comparaisons&nbsp;qui retournent des bool&eacute;ens. Ceux-ci s&rsquo;appliquent &agrave; tout type, aux entiers, r&eacute;els, cha&icirc;nes de caract&egrave;res, tuples&hellip; Une comparaison entre un entier et une cha&icirc;ne de caract&egrave;res est syntaxiquement correcte m&ecirc;me si le r&eacute;sultat a peu d&rsquo;int&eacute;r&ecirc;t.</p>\n",
    "<table>\n",
    "<tbody>\n",
    "<tr>\n",
    "<td>\n",
    "<p><strong>op&eacute;rateur</strong></p>\n",
    "</td>\n",
    "<td>\n",
    "<p><strong>signification</strong></p>\n",
    "</td>\n",
    "<td>\n",
    "<p><strong>exemple</strong></p>\n",
    "</td>\n",
    "</tr>\n",
    "<tr>\n",
    "<td>\n",
    "<p>&lt;&nbsp;&gt;</p>\n",
    "</td>\n",
    "<td>\n",
    "<p>inf&eacute;rieur, sup&eacute;rieur</p>\n",
    "</td>\n",
    "<td>\n",
    "<p>x&nbsp;=&nbsp;5&nbsp;&nbsp;&lt;&nbsp;5</p>\n",
    "</td>\n",
    "</tr>\n",
    "<tr>\n",
    "<td>\n",
    "<p>&lt;=&nbsp;&gt;=</p>\n",
    "</td>\n",
    "<td>\n",
    "<p>inf&eacute;rieur ou &eacute;gal, sup&eacute;rieur ou &eacute;gal</p>\n",
    "</td>\n",
    "<td>\n",
    "<p>x&nbsp;=&nbsp;5&nbsp;&lt;=&nbsp;5</p>\n",
    "</td>\n",
    "</tr>\n",
    "<tr>\n",
    "<td>\n",
    "<p>==&nbsp;!=</p>\n",
    "</td>\n",
    "<td>\n",
    "<p>&eacute;gal, diff&eacute;rent</p>\n",
    "</td>\n",
    "<td>\n",
    "<p>x&nbsp;=&nbsp;5&nbsp;==&nbsp;5</p>\n",
    "</td>\n",
    "</tr>\n",
    "</tbody>\n",
    "</table>\n",
    "<p style=\"text-align: justify;\">A l&rsquo;instar des nombres r&eacute;els, il est pr&eacute;f&eacute;rable d&rsquo;utiliser les parenth&egrave;ses pour &eacute;viter les probl&egrave;mes de priorit&eacute;s d&rsquo;op&eacute;rateurs dans des expressions comme: &nbsp;<em><strong>3&nbsp;&lt;&nbsp;x&nbsp;and&nbsp;x&nbsp;&lt;&nbsp;7</strong></em>. Toutefois, pour cet exemple,&nbsp;<strong><em>Python</em>&nbsp;</strong>accepte l&rsquo;&eacute;criture r&eacute;sum&eacute;e qui encha&icirc;ne des comparaisons :&nbsp;<em><strong>3&nbsp;&lt;&nbsp;x&nbsp;and&nbsp;x&nbsp;&lt;&nbsp;7</strong></em>&nbsp;est &eacute;quivalent &agrave;&nbsp;<em><strong>3&nbsp;&lt;&nbsp;x&nbsp;&lt;&nbsp;7</strong></em>. Il existe deux autres mots-cl&eacute;s qui retournent un r&eacute;sultat de type bool&eacute;en :</p>\n",
    "<table>\n",
    "<tbody>\n",
    "<tr>\n",
    "<td>\n",
    "<p><strong>op&eacute;rateur</strong></p>\n",
    "</td>\n",
    "<td>\n",
    "<p><strong>signification</strong></p>\n",
    "</td>\n",
    "<td>\n",
    "<p><strong>exemple</strong></p>\n",
    "</td>\n",
    "</tr>\n",
    "<tr>\n",
    "<td>\n",
    "<p>is</p>\n",
    "</td>\n",
    "<td>\n",
    "<p>test d&rsquo;identification</p>\n",
    "</td>\n",
    "<td>\n",
    "<p>\"3\"&nbsp;is&nbsp;str</p>\n",
    "</td>\n",
    "</tr>\n",
    "<tr>\n",
    "<td>\n",
    "<p>in</p>\n",
    "</td>\n",
    "<td>\n",
    "<p>test d&rsquo;appartenance</p>\n",
    "</td>\n",
    "<td>\n",
    "<p>3&nbsp;in&nbsp;[3,&nbsp;4,&nbsp;5]</p>\n",
    "</td>\n",
    "</tr>\n",
    "</tbody>\n",
    "</table>\n",
    "<p style=\"text-align: justify;\">Ces deux op&eacute;rateurs seront utilis&eacute;s ult&eacute;rieurement,&nbsp;<em><strong>in</strong></em>&nbsp;avec les <em><strong>listes</strong></em>, les <em><strong>dictionnaires</strong></em>, les <em><strong>boucles</strong></em>,&nbsp;<em><strong>is&nbsp;</strong></em>lors de l&rsquo;&eacute;tude des <em><strong>listes</strong></em>. Bien souvent, les bool&eacute;ens sont utilis&eacute;s de mani&egrave;re implicite lors de <em><strong>tests</strong> </em>ce qui n&rsquo;emp&ecirc;che pas de les d&eacute;clarer explicitement.</p>"
   ]
  },
  {
   "cell_type": "code",
   "execution_count": 30,
   "id": "727c5fa7",
   "metadata": {},
   "outputs": [
    {
     "name": "stdout",
     "output_type": "stream",
     "text": [
      "True\n"
     ]
    }
   ],
   "source": [
    "x = 5\n",
    "print(3 < x < 7)"
   ]
  },
  {
   "cell_type": "code",
   "execution_count": 8,
   "id": "4164e2c3",
   "metadata": {},
   "outputs": [
    {
     "data": {
      "text/plain": [
       "True"
      ]
     },
     "execution_count": 8,
     "metadata": {},
     "output_type": "execute_result"
    }
   ],
   "source": [
    "(2 < 3) and (3 < 4)"
   ]
  },
  {
   "cell_type": "code",
   "execution_count": 9,
   "id": "6132a9d5",
   "metadata": {},
   "outputs": [
    {
     "data": {
      "text/plain": [
       "True"
      ]
     },
     "execution_count": 9,
     "metadata": {},
     "output_type": "execute_result"
    }
   ],
   "source": [
    "(2 < 3) or (3 < 4)"
   ]
  },
  {
   "cell_type": "markdown",
   "id": "0631706d",
   "metadata": {},
   "source": [
    "<h3><span style=\"text-decoration: underline;\"><strong>7. Cha&icirc;ne de caract&egrave;res</strong></span></h3>\n",
    "<h4><strong><span style=\"text-decoration: underline;\">7.1. D&eacute;finition: cha&icirc;ne de caract&egrave;res</span></strong></h4>\n",
    "<p style=\"text-align: justify;\">Le terme &laquo;&nbsp;<em><strong>cha&icirc;ne de caract&egrave;res</strong></em>&nbsp;&raquo; ou&nbsp;<strong>string&nbsp;</strong>en anglais signifie une suite finie de caract&egrave;res, autrement dit, du texte.</p>\n",
    "<p style=\"text-align: justify;\">Ce texte est compris entre deux guillemets ou deux apostrophes, ces deux symboles sont interchangeables. Le type&nbsp;<strong><em>Python</em>&nbsp;</strong>est&nbsp;<em><strong>str</strong></em>. L&rsquo;exemple suivant montre comment cr&eacute;er une cha&icirc;ne de caract&egrave;res. Il ne faut pas confondre la partie entre guillemets ou apostrophes, qui est une constante, de la variable qui la contient.</p>"
   ]
  },
  {
   "cell_type": "code",
   "execution_count": 35,
   "id": "12e574e4",
   "metadata": {},
   "outputs": [
    {
     "name": "stdout",
     "output_type": "stream",
     "text": [
      "<class 'str'> string@texte\n",
      "<class 'str'> string = texte, initialisation avec apostrophes\n",
      "morceau 1morceau 2\n",
      "première ligne\n",
      "    seconde ligne\n"
     ]
    }
   ],
   "source": [
    "t = \"string@texte\"\n",
    "print( type (t), t)\n",
    "t = 'string = texte, initialisation avec apostrophes'\n",
    "print(type (t), t)\n",
    "t = \"morceau 1\" \\\n",
    "    \"morceau 2\" \n",
    "print (t)                       # il ne doit rien y avoir après le symbole \\,\n",
    "                                # pas d’espace ni de commentaire\t\n",
    "t = \"\"\"première ligne\n",
    "    seconde ligne\"\"\"        # chaîne de caractères qui s’étend sur deux lignes\n",
    "print (t)"
   ]
  },
  {
   "cell_type": "markdown",
   "id": "68170069",
   "metadata": {},
   "source": [
    "<p style=\"text-align: justify;\">La troisi&egrave;me cha&icirc;ne de caract&egrave;res cr&eacute;&eacute;e lors de ce programme s&rsquo;&eacute;tend sur deux lignes. Il est parfois plus commode d&rsquo;&eacute;crire du texte sur deux lignes plut&ocirc;t que de le laisser cach&eacute; par les limites de fen&ecirc;tres d&rsquo;affichage.&nbsp;<strong><em>Python</em>&nbsp;</strong>offre la possibilit&eacute; de couper le texte en deux cha&icirc;nes de caract&egrave;res recoll&eacute;es &agrave; l&rsquo;aide du symbole&nbsp;<em><strong>\\</strong></em>&nbsp;&agrave; condition que ce symbole soit le dernier de la ligne sur laquelle il appara&icirc;t. <span>De m&ecirc;me, lorsque le texte contient plusieurs lignes, il suffit de les encadrer entre deux symboles <em><strong>\"\"\"</strong></em> ou <em><strong>\"\"\"</strong></em> pour que l&rsquo;interpr&eacute;teur <em><strong>Python</strong> </em>consid&egrave;re l&rsquo;ensemble comme une cha&icirc;ne de caract&egrave;res et non comme une s&eacute;rie d&rsquo;instructions.</span></p>\n",
    "<p style=\"text-align: justify;\">Pour ins&eacute;rer un guillemet dans une cha&icirc;ne de caract&egrave;res encadr&eacute;e elle-m&ecirc;me par des guillemets, il faut le faire pr&eacute;c&eacute;der du symbole&nbsp;<em><strong>\\</strong></em>. La s&eacute;quence&nbsp;<em><strong>\\</strong></em>&nbsp;est appel&eacute;e un extra-caract&egrave;re ou un caract&egrave;re d&rsquo;&eacute;chappement.</p>\n",
    "<p style=\"text-align: justify;\">&nbsp;</p>\n",
    "<table>\n",
    "<tbody>\n",
    "<tr>\n",
    "<td>\n",
    "<p><strong>&laquo;&nbsp;</strong></p>\n",
    "</td>\n",
    "<td>\n",
    "<p><strong>guillemet</strong></p>\n",
    "</td>\n",
    "</tr>\n",
    "<tr>\n",
    "<td>\n",
    "<p>&lsquo;</p>\n",
    "</td>\n",
    "<td>\n",
    "<p>apostrophe</p>\n",
    "</td>\n",
    "</tr>\n",
    "<tr>\n",
    "<td>\n",
    "<p>\\n</p>\n",
    "</td>\n",
    "<td>\n",
    "<p>passage &agrave; la ligne</p>\n",
    "</td>\n",
    "</tr>\n",
    "<tr>\n",
    "<td>\n",
    "<p>\\\\</p>\n",
    "</td>\n",
    "<td>\n",
    "<p>insertion du symbole&nbsp;\\</p>\n",
    "</td>\n",
    "</tr>\n",
    "<tr>\n",
    "<td>\n",
    "<p>\\%</p>\n",
    "</td>\n",
    "<td>\n",
    "<p>pourcentage, ce symbole est aussi un caract&egrave;re sp&eacute;cial</p>\n",
    "</td>\n",
    "</tr>\n",
    "<tr>\n",
    "<td>\n",
    "<p>\\t</p>\n",
    "</td>\n",
    "<td>\n",
    "<p>tabulation</p>\n",
    "</td>\n",
    "</tr>\n",
    "</tbody>\n",
    "</table>\n",
    "<p style=\"text-align: justify;\">Il peut &ecirc;tre fastidieux d&rsquo;avoir &agrave; doubler tous les symboles&nbsp;<em><strong>\\</strong></em>&nbsp;d&rsquo;un nom de fichier. Il est plus simple dans ce cas de pr&eacute;fixer la cha&icirc;ne de caract&egrave;res par&nbsp;<em><strong>r</strong></em>&nbsp;de fa&ccedil;on &agrave; &eacute;viter que l&rsquo;utilisation du symbole <em><strong>\\</strong></em> ne d&eacute;signe un caract&egrave;re sp&eacute;cial. Les deux lignes suivantes sont &eacute;quivalentes :</p>"
   ]
  },
  {
   "cell_type": "code",
   "execution_count": 36,
   "id": "75ec56cd",
   "metadata": {},
   "outputs": [
    {
     "name": "stdout",
     "output_type": "stream",
     "text": [
      "C:\\Users\\Dupre\\exemple.txt\n",
      "C:\\Users\\Dupre\\exemple.txt\n"
     ]
    }
   ],
   "source": [
    "s = \"C:\\\\Users\\\\Dupre\\\\exemple.txt\"\n",
    "print(s)\n",
    "s = r\"C:\\Users\\Dupre\\exemple.txt\"\n",
    "print(s)"
   ]
  },
  {
   "cell_type": "markdown",
   "id": "1687488a",
   "metadata": {},
   "source": [
    "<p style=\"text-align: justify;\">Sans la lettre <em><strong>r</strong></em>, tous les&nbsp;<em><strong>\\</strong></em>&nbsp;doivent &ecirc;tre doubl&eacute;s, dans le cas contraire,&nbsp;<strong><em>Python</em>&nbsp;</strong>peut avoir des effets ind&eacute;sirables selon le caract&egrave;re qui suit ce symbole.</p>\n",
    "<h4><strong><u>7.2. Manipulation d&rsquo;une cha&icirc;ne de caract&egrave;res</u></strong></h4>\n",
    "<p style=\"text-align: justify;\">Une cha&icirc;ne de caract&egrave;res est semblable &agrave; un <em><strong>tableau</strong> </em>et certains op&eacute;rateurs qui s&rsquo;appliquent aux tableaux s&rsquo;appliquent &eacute;galement aux <em><strong>cha&icirc;nes de caract&egrave;res</strong></em>. Ceux-ci sont regroup&eacute;s dans la table&nbsp;Manipulation d&rsquo;une <em><strong>cha&icirc;ne de caract&egrave;res</strong></em>. La fonction&nbsp;<em><strong>str&nbsp;</strong></em>permet de convertir un nombre, un tableau, un objet en cha&icirc;ne de caract&egrave;res afin de pouvoir l&rsquo;afficher. La fonction&nbsp;<em><strong>len&nbsp;</strong></em>retourne la longueur de la cha&icirc;ne de caract&egrave;res.</p>"
   ]
  },
  {
   "cell_type": "code",
   "execution_count": 37,
   "id": "0ffd6e86",
   "metadata": {},
   "outputs": [
    {
     "name": "stdout",
     "output_type": "stream",
     "text": [
      "<class 'str'> 5.567\n",
      "5\n"
     ]
    }
   ],
   "source": [
    "x = 5.567\n",
    "s = str(x)\n",
    "print(type(s), s)   # <type 'str'> 5.567\n",
    "print(len(s))       # affiche 5"
   ]
  },
  {
   "cell_type": "markdown",
   "id": "97a576fe",
   "metadata": {},
   "source": [
    "<table width=\"690\">\n",
    "<tbody>\n",
    "<tr>\n",
    "<td width=\"82\">\n",
    "<p><strong>op&eacute;rateur</strong></p>\n",
    "</td>\n",
    "<td width=\"371\">\n",
    "<p><strong>signification</strong></p>\n",
    "</td>\n",
    "<td width=\"236\">\n",
    "<p><strong>exemple</strong></p>\n",
    "</td>\n",
    "</tr>\n",
    "<tr>\n",
    "<td width=\"82\">\n",
    "<p>+</p>\n",
    "</td>\n",
    "<td width=\"371\">\n",
    "<p>concat&eacute;nation de cha&icirc;nes de caract&egrave;res</p>\n",
    "</td>\n",
    "<td width=\"236\">\n",
    "<p>t&nbsp;=&nbsp;\"abc\"&nbsp;+&nbsp;\"def\"</p>\n",
    "</td>\n",
    "</tr>\n",
    "<tr>\n",
    "<td width=\"82\">\n",
    "<p>+=</p>\n",
    "</td>\n",
    "<td width=\"371\">\n",
    "<p>concat&eacute;nation puis affectation</p>\n",
    "</td>\n",
    "<td width=\"236\">\n",
    "<p>t&nbsp;+=&nbsp;\"abc\"</p>\n",
    "</td>\n",
    "</tr>\n",
    "<tr>\n",
    "<td width=\"82\">\n",
    "<p>in,&nbsp;not&nbsp;in</p>\n",
    "</td>\n",
    "<td width=\"371\">\n",
    "<p>une cha&icirc;ne en contient-elle une autre ?</p>\n",
    "</td>\n",
    "<td width=\"236\">\n",
    "<p>\"ed\"&nbsp;in&nbsp;\"med\"</p>\n",
    "</td>\n",
    "</tr>\n",
    "<tr>\n",
    "<td width=\"82\">\n",
    "<p>*</p>\n",
    "</td>\n",
    "<td width=\"371\">\n",
    "<p>r&eacute;p&eacute;tition d&rsquo;une cha&icirc;ne de caract&egrave;res</p>\n",
    "</td>\n",
    "<td width=\"236\">\n",
    "<p>t&nbsp;=&nbsp;\"abc\"&nbsp;*&nbsp;4</p>\n",
    "</td>\n",
    "</tr>\n",
    "<tr>\n",
    "<td width=\"82\">\n",
    "<p>[n]</p>\n",
    "</td>\n",
    "<td width=\"371\">\n",
    "<p>obtention du eni&egrave;me caract&egrave;re, le premier caract&egrave;re a pour indice 0</p>\n",
    "</td>\n",
    "<td width=\"236\">\n",
    "<p>t&nbsp;=&nbsp;\"abc\";&nbsp;print(t[0])&nbsp;&nbsp;#&nbsp;donne&nbsp;a</p>\n",
    "</td>\n",
    "</tr>\n",
    "<tr>\n",
    "<td width=\"82\">\n",
    "<p>[i:j]</p>\n",
    "</td>\n",
    "<td width=\"371\">\n",
    "<p>obtention des caract&egrave;res compris entre les indices&nbsp;i&nbsp;et&nbsp;j-1&nbsp;inclus, le premier caract&egrave;re a pour indice 0</p>\n",
    "</td>\n",
    "<td width=\"236\">\n",
    "<p>t&nbsp;=&nbsp;\"abc\";&nbsp;print(t&nbsp;[0:2])&nbsp;#&nbsp;donne&nbsp;ab</p>\n",
    "</td>\n",
    "</tr>\n",
    "</tbody>\n",
    "</table>\n",
    "<p style=\"text-align: justify;\">&nbsp;</p>\n",
    "<p style=\"text-align: justify;\">Il existe d&rsquo;autres fonctions qui permettent de manipuler les cha&icirc;nes de caract&egrave;res.</p>\n",
    "\n",
    "```python\n",
    "res = s.fonction (...)\n",
    "```"
   ]
  },
  {
   "cell_type": "markdown",
   "id": "93c4feb8",
   "metadata": {},
   "source": [
    "<p style=\"text-align: justify;\">O&ugrave;&nbsp;<strong><em>s</em></strong>&nbsp;est une <strong><em>cha&icirc;ne de caract&egrave;res</em></strong>,&nbsp;<strong><em>fonction&nbsp;</em></strong>est le nom de l&rsquo;op&eacute;ration que l&rsquo;on veut appliquer &agrave;&nbsp;<strong><em>s</em></strong>,&nbsp;<strong><em>res&nbsp;</em></strong>est le r&eacute;sultat de cette manipulation.</p>\n",
    "<p style=\"text-align: justify;\">La table&nbsp;<strong><em>string_method</em></strong>&nbsp;pr&eacute;sente une liste non exhaustive des fonctions disponibles dont un exemple d&rsquo;utilisation suit.</p>\n",
    "<table>\n",
    "<tbody>\n",
    "<tr>\n",
    "<td>\n",
    "<p>count(&nbsp;sub[,&nbsp;start[,&nbsp;end]])</p>\n",
    "</td>\n",
    "<td>\n",
    "<p style=\"text-align: justify;\">Retourne le nombre d&rsquo;occurences de la cha&icirc;ne de caract&egrave;res&nbsp;sub, les param&egrave;tres par d&eacute;faut&nbsp;start&nbsp;et&nbsp;end&nbsp;permettent de r&eacute;duire la recherche entre les caract&egrave;res d&rsquo;indice&nbsp;start&nbsp;et&nbsp;end&nbsp;exclu. Par d&eacute;faut,&nbsp;start&nbsp;est nul tandis que&nbsp;end&nbsp;correspond &agrave; la fin de la cha&icirc;ne de caract&egrave;res.</p>\n",
    "</td>\n",
    "</tr>\n",
    "<tr>\n",
    "<td>\n",
    "<p>find(&nbsp;sub[,&nbsp;start[,&nbsp;end]])</p>\n",
    "</td>\n",
    "<td>\n",
    "<p style=\"text-align: justify;\">Recherche une cha&icirc;ne de caract&egrave;res&nbsp;sub, les param&egrave;tres par d&eacute;faut&nbsp;start&nbsp;et&nbsp;end&nbsp;ont la m&ecirc;me signification que ceux de la fonction&nbsp;count. Cette fonction retourne -1 si la recherche n&rsquo;a pas abouti.</p>\n",
    "</td>\n",
    "</tr>\n",
    "<tr>\n",
    "<td>\n",
    "<p>isalpha()</p>\n",
    "</td>\n",
    "<td>\n",
    "<p>Retourne&nbsp;True&nbsp;si tous les caract&egrave;res sont des lettres,&nbsp;False&nbsp;sinon.</p>\n",
    "</td>\n",
    "</tr>\n",
    "<tr>\n",
    "<td>\n",
    "<p>isdigit()</p>\n",
    "</td>\n",
    "<td>\n",
    "<p>Retourne&nbsp;True&nbsp;si tous les caract&egrave;res sont des chiffres,&nbsp;False&nbsp;sinon.</p>\n",
    "</td>\n",
    "</tr>\n",
    "<tr>\n",
    "<td>\n",
    "<p>replace(&nbsp;old,&nbsp;new[,&nbsp;count])</p>\n",
    "</td>\n",
    "<td>\n",
    "<p style=\"text-align: justify;\">Retourne une copie de la cha&icirc;ne de caract&egrave;res en rempla&ccedil;ant toutes les occurrences de la cha&icirc;ne&nbsp;old&nbsp;par&nbsp;new. Si le param&egrave;tre optionnel&nbsp;count&nbsp;est renseign&eacute;, alors seules les&nbsp;count&nbsp;premi&egrave;res occurrences seront remplac&eacute;es.</p>\n",
    "</td>\n",
    "</tr>\n",
    "<tr>\n",
    "<td>\n",
    "<p style=\"text-align: justify;\">split(&nbsp;[sep&nbsp;[,maxsplit]])</p>\n",
    "</td>\n",
    "<td>\n",
    "<p style=\"text-align: justify;\">D&eacute;coupe la cha&icirc;ne de caract&egrave;res en se servant de la cha&icirc;ne&nbsp;sep&nbsp;comme d&eacute;limiteur. Si le param&egrave;tre&nbsp;maxsplit&nbsp;est renseign&eacute;, au plus&nbsp;maxsplit&nbsp;coupures seront effectu&eacute;es.</p>\n",
    "</td>\n",
    "</tr>\n",
    "<tr>\n",
    "<td>\n",
    "<p>upper()</p>\n",
    "</td>\n",
    "<td>\n",
    "<p>Remplace les minuscules par des majuscules.</p>\n",
    "</td>\n",
    "</tr>\n",
    "<tr>\n",
    "<td>\n",
    "<p>lower()</p>\n",
    "</td>\n",
    "<td>\n",
    "<p>Remplace les majuscules par des minuscules.</p>\n",
    "</td>\n",
    "</tr>\n",
    "<tr>\n",
    "<td>\n",
    "<p>join&nbsp;(&nbsp;li&nbsp;)</p>\n",
    "</td>\n",
    "<td>\n",
    "<p>li&nbsp;est une liste, cette fonction agglutine tous les &eacute;l&eacute;ments d&rsquo;une liste s&eacute;par&eacute;s par&nbsp;sep&nbsp;dans l&rsquo;expression&nbsp;sep.join&nbsp;(&nbsp;[\"un\",&nbsp;\"deux\"]).</p>\n",
    "</td>\n",
    "</tr>\n",
    "<tr>\n",
    "<td>\n",
    "<p>startswith(prefix[,&nbsp;start[,&nbsp;end]])</p>\n",
    "</td>\n",
    "<td>\n",
    "<p>Teste si la cha&icirc;ne commence par&nbsp;prefix.</p>\n",
    "</td>\n",
    "</tr>\n",
    "<tr>\n",
    "<td>\n",
    "<p>endswith(suffix[,&nbsp;start[,&nbsp;end]])</p>\n",
    "</td>\n",
    "<td>\n",
    "<p>Teste si la cha&icirc;ne se termine par&nbsp;suffix.</p>\n",
    "</td>\n",
    "</tr>\n",
    "</tbody>\n",
    "</table>\n",
    "<p style=\"text-align: justify;\">&nbsp;</p>"
   ]
  },
  {
   "cell_type": "code",
   "execution_count": 38,
   "id": "2bae9279",
   "metadata": {},
   "outputs": [
    {
     "name": "stdout",
     "output_type": "stream",
     "text": [
      "8\n",
      "1\n",
      "0\n"
     ]
    }
   ],
   "source": [
    "st = \"langage Python\"\n",
    "st = st.upper()               # mise en lettres majuscules\n",
    "i = st.find(\"PYTHON\")        # on cherche \"PYTHON\" dans st\n",
    "print(i)                      # affiche 8\n",
    "print(st.count(\"PYTHON\"))     # affiche 1\n",
    "print(st.count(\"PYTHON\", 9))  # affiche 0"
   ]
  },
  {
   "cell_type": "markdown",
   "id": "7ba773aa",
   "metadata": {},
   "source": [
    "<p style=\"text-align: justify;\">L&rsquo;exemple suivant permet de retourner une <em><strong>cha&icirc;ne de caract&egrave;res</strong></em> contenant plusieurs &eacute;l&eacute;ments s&eacute;par&eacute;s par&nbsp;\"<em><strong>;</strong></em>\". La cha&icirc;ne&nbsp;<em><strong>\"un;deux;trois\"</strong></em>&nbsp;doit devenir&nbsp;<em><strong>\"trois;deux;un\"</strong></em>. On utilise pour cela les fonctionnalit&eacute;s&nbsp;<em><strong>split&nbsp;</strong></em>et&nbsp;<em><strong>join</strong></em>. L&rsquo;exemple utilise &eacute;galement la fonctionnalit&eacute;&nbsp;<em><strong>reverse&nbsp;</strong></em>des <em><strong>listes</strong> </em>qui seront d&eacute;crites plus loin. Il faut simplement retenir qu&rsquo;une <em><strong>liste</strong> </em>est un <em><strong>tableau</strong></em>.&nbsp;<em><strong>reverse&nbsp;</strong></em>retourne le <em><strong>tableau</strong></em>.</p>"
   ]
  },
  {
   "cell_type": "code",
   "execution_count": 39,
   "id": "2f51b029",
   "metadata": {},
   "outputs": [
    {
     "name": "stdout",
     "output_type": "stream",
     "text": [
      "trois;deux;un\n"
     ]
    }
   ],
   "source": [
    "s = \"un;deux;trois\"\n",
    "mots = s.split(\";\")        # mots est égal à ['un', 'deux', 'trois']\n",
    "mots.reverse()             # retourne la liste, mots devient égal à\n",
    "                           # ['trois', 'deux', 'un']\n",
    "s2 = \";\".join(mots)        # concaténation des éléments de mots séparés par \";\"\n",
    "print(s2)                   "
   ]
  },
  {
   "cell_type": "code",
   "execution_count": 46,
   "id": "90b2c11e",
   "metadata": {},
   "outputs": [
    {
     "name": "stdout",
     "output_type": "stream",
     "text": [
      "un nombre réel 5.500000 et un entier 7, une chaîne de caractères, \n",
      "un réel d'abord converti en chaîne de caractères 9.5\n",
      "un nombre réel 5.5 et un entier 7, une chaîne de caractères,\n",
      "un réel d'abord converti en chaîne de caractères 9.5\n"
     ]
    }
   ],
   "source": [
    "x = 5.5\n",
    "d = 7\n",
    "s = \"caractères\"\n",
    "res = \"un nombre réel %f et un entier %d, une chaîne de %s, \\n\" \\\n",
    "      \"un réel d'abord converti en chaîne de caractères %s\" % (\n",
    "          x, d, s, str(x + 4))\n",
    "print(res)\n",
    "res = \"un nombre réel \" + str(x) + \" et un entier \" + str(d) + \\\n",
    "      \", une chaîne de \" + s + \\\n",
    "      \",\\nun réel d'abord converti en chaîne de caractères \" + str(x + 4)\n",
    "print(res)"
   ]
  },
  {
   "cell_type": "markdown",
   "id": "0de1193f",
   "metadata": {},
   "source": [
    "<h3><span style=\"text-decoration: underline;\"><strong>8. formatage d'une chaine de caract&egrave;res</strong></span>&nbsp;</h3>\n",
    "<p style=\"text-align: justify;\">Le terme de <em><strong>formatage</strong></em>&nbsp;de cha&icirc;nes&nbsp;de caract&egrave;res n'a rien &agrave; voir avec le formatage d'un disque dur. Par <em><strong>formatage</strong></em>, on entend <em><strong>mise en forme</strong></em> et il existe de nombreuses fa&ccedil;ons de mettre en forme des cha&icirc;nes de caract&egrave;res avec <strong><em>Python</em></strong>.</p>\n",
    "<p style=\"text-align: justify;\"><span>La concat&eacute;nation peut se faire tr&egrave;s simplement avec l'op&eacute;rateur math&eacute;matique&nbsp;</span><em><strong><code>+</code></strong></em><span>:</span></p>\n",
    "<p></p>"
   ]
  },
  {
   "cell_type": "code",
   "execution_count": 48,
   "id": "b03ba328",
   "metadata": {},
   "outputs": [
    {
     "name": "stdout",
     "output_type": "stream",
     "text": [
      "https://www.Docstring.fr\n"
     ]
    }
   ],
   "source": [
    "protocole = \"https://\"\n",
    "nom_du_site = \"Docstring\"\n",
    "extension = \"fr\"\n",
    "\n",
    "url = protocole + \"www.\" + nom_du_site + \".\" + extension\n",
    "print(url)"
   ]
  },
  {
   "cell_type": "markdown",
   "id": "daafc23b",
   "metadata": {},
   "source": [
    "<p>&Ccedil;a fonctionne, mais tr&egrave;s rapidement vous allez observer deux probl&egrave;mes :</p>\n",
    "<ul>\n",
    "<li>Ce n'est pas tr&egrave;s agr&eacute;able &agrave; lire.</li>\n",
    "<li>Vous ne pouvez concat&eacute;ner que des objets du m&ecirc;me type (car <strong><em>Python</em></strong> est un langage fortement typ&eacute;).</li>\n",
    "</ul>\n",
    "<p>Ainsi, le code suivant retournera une erreur car la variable&nbsp;<em><strong>age&nbsp;</strong></em>est un nombre entier:</p>"
   ]
  },
  {
   "cell_type": "code",
   "execution_count": 49,
   "id": "d6c54515",
   "metadata": {},
   "outputs": [
    {
     "ename": "SyntaxError",
     "evalue": "EOL while scanning string literal (890906721.py, line 2)",
     "output_type": "error",
     "traceback": [
      "\u001b[1;36m  Input \u001b[1;32mIn [49]\u001b[1;36m\u001b[0m\n\u001b[1;33m    phrase = \"J'ai \" + age + \" ans.\u001b[0m\n\u001b[1;37m                                   ^\u001b[0m\n\u001b[1;31mSyntaxError\u001b[0m\u001b[1;31m:\u001b[0m EOL while scanning string literal\n"
     ]
    }
   ],
   "source": [
    "age = 26\n",
    "phrase = \"J'ai \" + age + \" ans."
   ]
  },
  {
   "cell_type": "markdown",
   "id": "658604ff",
   "metadata": {},
   "source": [
    "<p>Pour palier &agrave; cette erreur, il faut convertir la variable<span> <em><strong>age&nbsp;</strong></em></span>en cha&icirc;ne de caract&egrave;res :</p>"
   ]
  },
  {
   "cell_type": "code",
   "execution_count": 50,
   "id": "3e145676",
   "metadata": {},
   "outputs": [
    {
     "name": "stdout",
     "output_type": "stream",
     "text": [
      "J'ai 26 ans.\n"
     ]
    }
   ],
   "source": [
    "age = 26\n",
    "phrase = \"J'ai \" + str(age) + \" ans.\"\n",
    "\n",
    "print(phrase)"
   ]
  },
  {
   "cell_type": "markdown",
   "id": "cba65eda",
   "metadata": {},
   "source": [
    "<p>Et on retombe sur le premier probl&egrave;me: &ccedil;a devient tr&egrave;s vite difficile &agrave; lire et c'est&nbsp;le meilleur moyen de se retrouver avec des&nbsp;<em><strong>TypeError</strong></em>.</p>\n",
    "<p>Il existe un autre moyen d'ins&eacute;rer des objets dans une cha&icirc;ne de caract&egrave;res qui permet de sp&eacute;cifier directement le type des donn&eacute;es ins&eacute;r&eacute;es.</p>\n",
    "<p><span>Pour ce faire, on utilise l'op&eacute;rateur <em><strong>modulo</strong> <strong>(</strong></em></span><em><strong><code>%</code></strong></em><span><em><strong>)</strong></em> et on sp&eacute;cifie ensuite&nbsp;le format des donn&eacute;es que l'on ins&egrave;re dans la cha&icirc;ne de caract&egrave;res.</span></p>"
   ]
  },
  {
   "cell_type": "code",
   "execution_count": 51,
   "id": "a3791787",
   "metadata": {},
   "outputs": [
    {
     "name": "stdout",
     "output_type": "stream",
     "text": [
      "J'ai 26 ans.\n",
      "J'ai 26.000000 ans.\n"
     ]
    }
   ],
   "source": [
    "age = 26\n",
    "phrase = \"J'ai %d ans.\" %age  # \"J'ai 26 ans.\"\n",
    "print(phrase)\n",
    "phrase = \"J'ai %f ans.\" %age  # \"J'ai 26.000000 ans.\"\n",
    "print(phrase)"
   ]
  },
  {
   "cell_type": "markdown",
   "id": "794b7322",
   "metadata": {},
   "source": [
    "<p style=\"text-align: justify;\">En utilisant<span>&nbsp;</span><em><strong>%d&nbsp;</strong></em>on se retrouve avec un nombre entier.</p>\n",
    "<p style=\"text-align: justify;\">En utilisant<span>&nbsp;</span><em><strong>%f</strong></em>, la variable&nbsp;<em><strong>age</strong></em>, qui est au d&eacute;part un nombre entier, se retrouve dans la <em><strong>cha&icirc;ne de caract&egrave;res</strong></em> sous forme de nombre <em><strong>d&eacute;cimal.</strong></em></p>\n",
    "<p style=\"text-align: justify;\">Cette fa&ccedil;on de faire a &eacute;t&eacute; longtemps la m&eacute;thode privil&eacute;gi&eacute;e pour formater des cha&icirc;nes de caract&egrave;res, raison pour laquelle vous la verrez souvent dans certains scripts. Certains&nbsp;continuent m&ecirc;me d'utiliser cette fa&ccedil;on de faire alors qu'il existe maintenant des m&eacute;thodes bien plus efficaces comme celles que nous allons voir dans la suite.</p>\n",
    "<h4 id=\"la-methode-format\"><span style=\"text-decoration: underline;\"><strong>8.1. La m&eacute;thode format</strong></span></h4>\n",
    "<p style=\"text-align: justify;\">Pour &eacute;viter les erreurs de type et ins&eacute;rer des objets dans une cha&icirc;ne de caract&egrave;res, on peut utiliser la m&eacute;thode<span>&nbsp;</span><em><strong>format</strong></em>. Cette m&eacute;thode permet d'ins&eacute;rer des objets &agrave; l'int&eacute;rieur d'emplacements sp&eacute;cifi&eacute;s dans la cha&icirc;ne de caract&egrave;res par des<span>&nbsp;</span><strong>accolades</strong>:</p>"
   ]
  },
  {
   "cell_type": "code",
   "execution_count": 52,
   "id": "b6baf6cb",
   "metadata": {},
   "outputs": [
    {
     "name": "stdout",
     "output_type": "stream",
     "text": [
      "J'ai 26 ans\n"
     ]
    }
   ],
   "source": [
    "age = 26\n",
    "phrase = \"J'ai {} ans\".format(age)\n",
    "print(phrase)"
   ]
  },
  {
   "cell_type": "markdown",
   "id": "54caa7e9",
   "metadata": {},
   "source": [
    "<p style=\"text-align: justify;\">Ici, pas besoin de convertir la variable<span>&nbsp;</span><em><strong>age&nbsp;</strong></em>en cha&icirc;ne de caract&egrave;res. La m&eacute;thode <em><strong>format</strong> </em>s'en charge pour nous et nous &eacute;vitons ainsi le<span>&nbsp;</span><em><strong>TypeError</strong></em>. Cela permet &eacute;galement de garder une certaine continuit&eacute; dans notre cha&icirc;ne de caract&egrave;res qui ne se retrouve pas entrecoup&eacute;e d'op&eacute;rateurs<span>&nbsp;</span><code><em><strong>+</strong></em></code>. On peut &eacute;galement sp&eacute;cifier &agrave; l'int&eacute;rieur des <em><strong>accolades</strong></em> un nom qu'on utilisera comme param&egrave;tre dans la m&eacute;thode <em><strong>format</strong> </em>pour obtenir une phrase encore plus claire.</p>"
   ]
  },
  {
   "cell_type": "code",
   "execution_count": 53,
   "id": "09fd2232",
   "metadata": {},
   "outputs": [
    {
     "name": "stdout",
     "output_type": "stream",
     "text": [
      "J'ai 26 ans\n"
     ]
    }
   ],
   "source": [
    "age_de_lutilisateur = 26\n",
    "phrase = \"J'ai {age} ans\".format(age=age_de_lutilisateur)\n",
    "print(phrase)"
   ]
  },
  {
   "cell_type": "markdown",
   "id": "bbe477d1",
   "metadata": {},
   "source": [
    "<p style=\"text-align: justify;\">On peut mettre autant d'emplacements dans une cha&icirc;ne de caract&egrave;res que n&eacute;cessaire. Il faudra cependant faire attention de passer autant d'&eacute;l&eacute;ments &agrave; la m&eacute;thode <em><strong>format</strong> </em>qu'il y a d'emplacements dans notre cha&icirc;ne de caract&egrave;res.</p>\n",
    "<p style=\"text-align: justify;\">Par exemple, le code suivant fonctionne :</p>"
   ]
  },
  {
   "cell_type": "code",
   "execution_count": 54,
   "id": "e5a86c88",
   "metadata": {},
   "outputs": [
    {
     "name": "stdout",
     "output_type": "stream",
     "text": [
      "Je m'appelle Pierre et j'ai 26 ans.\n"
     ]
    }
   ],
   "source": [
    "prenom = \"Pierre\"\n",
    "age = 26\n",
    "phrase = \"Je m'appelle {} et j'ai {} ans.\".format(prenom, age)\n",
    "print(phrase)"
   ]
  },
  {
   "cell_type": "markdown",
   "id": "16df0807",
   "metadata": {},
   "source": [
    "<p style=\"text-align: justify;\"><span>Mais ci-dessous nous aurons une erreur (</span><em><strong><code>**IndexError: tuple index out of range**</code></strong></em><span>) car il y a deux emplacements dans la cha&icirc;ne de caract&egrave;res mais un seul &eacute;l&eacute;ment est pass&eacute; &agrave; la m&eacute;thode <em><strong>format</strong> </em>:</span></p>"
   ]
  },
  {
   "cell_type": "code",
   "execution_count": 55,
   "id": "e813c452",
   "metadata": {},
   "outputs": [
    {
     "ename": "IndexError",
     "evalue": "Replacement index 1 out of range for positional args tuple",
     "output_type": "error",
     "traceback": [
      "\u001b[1;31m---------------------------------------------------------------------------\u001b[0m",
      "\u001b[1;31mIndexError\u001b[0m                                Traceback (most recent call last)",
      "Input \u001b[1;32mIn [55]\u001b[0m, in \u001b[0;36m<cell line: 3>\u001b[1;34m()\u001b[0m\n\u001b[0;32m      1\u001b[0m prenom \u001b[38;5;241m=\u001b[39m \u001b[38;5;124m\"\u001b[39m\u001b[38;5;124mPierre\u001b[39m\u001b[38;5;124m\"\u001b[39m\n\u001b[0;32m      2\u001b[0m age \u001b[38;5;241m=\u001b[39m \u001b[38;5;241m26\u001b[39m\n\u001b[1;32m----> 3\u001b[0m phrase \u001b[38;5;241m=\u001b[39m \u001b[38;5;124;43m\"\u001b[39;49m\u001b[38;5;124;43mJe m\u001b[39;49m\u001b[38;5;124;43m'\u001b[39;49m\u001b[38;5;124;43mappelle \u001b[39;49m\u001b[38;5;132;43;01m{}\u001b[39;49;00m\u001b[38;5;124;43m et j\u001b[39;49m\u001b[38;5;124;43m'\u001b[39;49m\u001b[38;5;124;43mai \u001b[39;49m\u001b[38;5;132;43;01m{}\u001b[39;49;00m\u001b[38;5;124;43m ans.\u001b[39;49m\u001b[38;5;124;43m\"\u001b[39;49m\u001b[38;5;241;43m.\u001b[39;49m\u001b[43mformat\u001b[49m\u001b[43m(\u001b[49m\u001b[43mprenom\u001b[49m\u001b[43m)\u001b[49m\n",
      "\u001b[1;31mIndexError\u001b[0m: Replacement index 1 out of range for positional args tuple"
     ]
    }
   ],
   "source": [
    "prenom = \"Pierre\"\n",
    "age = 26\n",
    "phrase = \"Je m'appelle {} et j'ai {} ans.\".format(prenom)"
   ]
  },
  {
   "cell_type": "markdown",
   "id": "e37bbef3",
   "metadata": {},
   "source": [
    "<p style=\"text-align: justify;\">On peut &eacute;galement sp&eacute;cifier &agrave; l'int&eacute;rieur des accolades un <em><strong>indice</strong></em>, qui fera r&eacute;f&eacute;rence &agrave; la <em><strong>position</strong> </em>de l'argument&nbsp;de la m&eacute;thode <em><strong>format</strong> </em>&agrave; utiliser.</p>\n",
    "<p style=\"text-align: justify;\">C'est tr&egrave;s pratique si vous souhaitez r&eacute;utiliser un argument&nbsp;:</p>"
   ]
  },
  {
   "cell_type": "code",
   "execution_count": 56,
   "id": "24f17722",
   "metadata": {},
   "outputs": [
    {
     "name": "stdout",
     "output_type": "stream",
     "text": [
      "Je m'appelle Pierre et j'ai 26 ans. Pierre apprends le langage Python.\n"
     ]
    }
   ],
   "source": [
    "prenom = \"Pierre\"\n",
    "age = 26\n",
    "langage = \"Python\"\n",
    "phrase = \"Je m'appelle {0} et j'ai {1} ans. {0} apprends le langage {2}.\".format(prenom, age, langage)\n",
    "print(phrase)"
   ]
  },
  {
   "cell_type": "markdown",
   "id": "975b5af3",
   "metadata": {},
   "source": [
    "<p style=\"text-align: justify;\"><span>On peut &eacute;galement remettre des <em><strong>noms</strong> </em>&agrave; l'int&eacute;rieur des <em><strong>accolades</strong> </em>afin d'obtenir quelque chose de plus agr&eacute;able &agrave; lire:</span></p>"
   ]
  },
  {
   "cell_type": "code",
   "execution_count": 58,
   "id": "c0e6f0df",
   "metadata": {},
   "outputs": [
    {
     "name": "stdout",
     "output_type": "stream",
     "text": [
      "Je m'appelle Pierre et j'ai 26 ans. Pierre apprends le langage Python.\n"
     ]
    }
   ],
   "source": [
    "prenom = \"Pierre\"\n",
    "age = 26\n",
    "langage = \"Python\"\n",
    "phrase = \"Je m'appelle {prenom} et j'ai {age} ans. {prenom} apprends le langage {langage}.\".format(prenom=prenom,\n",
    "                                                                                                   age=age,\n",
    "                                                                                                   langage=langage)\n",
    "print(phrase)"
   ]
  },
  {
   "cell_type": "markdown",
   "id": "9fa1ddab",
   "metadata": {},
   "source": [
    "<p style=\"text-align: justify;\"><span>Le <em><strong>nom</strong> </em>que vous mettez &agrave; l'int&eacute;rieur des <em><strong>accolades</strong> </em>n'a pas besoin d'&ecirc;tre le m&ecirc;me que la variable que vous passez &agrave; la m&eacute;thode <em><strong>format</strong></em>. On aurait tr&egrave;s bien pu faire :</span></p>"
   ]
  },
  {
   "cell_type": "code",
   "execution_count": 59,
   "id": "8c90988a",
   "metadata": {},
   "outputs": [
    {
     "name": "stdout",
     "output_type": "stream",
     "text": [
      "Je m'appelle Pierre et j'ai 26 ans. Pierre apprends le langage Python.\n"
     ]
    }
   ],
   "source": [
    "prenom = \"Pierre\"\n",
    "age = 26\n",
    "langage = \"Python\"\n",
    "phrase = \"Je m'appelle {user} et j'ai {age} ans. {user} apprends le langage {learning}.\".format(user=prenom,\n",
    "                                                                                                age=age,\n",
    "                                                                                                learning=langage)\n",
    "print(phrase)"
   ]
  },
  {
   "cell_type": "markdown",
   "id": "f08f24b9",
   "metadata": {},
   "source": [
    "<h4 id=\"les-f-string\" style=\"text-align: justify;\"><span style=\"text-decoration: underline;\"><strong>8.2. Les f-string</strong></span></h4>\n",
    "<p style=\"text-align: justify;\">Depuis la version <em><strong>3.6 de Python</strong></em>, une fonctionnalit&eacute; tr&egrave;s int&eacute;ressante a fait son apparition&nbsp;:<span>&nbsp;</span><strong>les f-string</strong>. Derri&egrave;re ce nom un peu bizarre se trouve une fa&ccedil;on tr&egrave;s efficace de formater des cha&icirc;nes de caract&egrave;res.</p>\n",
    "<p style=\"text-align: justify;\">C'est vrai autant pour la lisibilit&eacute;&nbsp;que pour les performances, qui seront meilleures qu'avec la m&eacute;thode <em><strong>format</strong> </em>(&ccedil;a reste de l'ordre du milli&egrave;me de milliseconde mais tout de m&ecirc;me).</p>\n",
    "<p style=\"text-align: justify;\">Pour utiliser les <em><strong>f-string</strong></em>, il suffit de rajouter la lettre<span>&nbsp;</span><strong>f</strong><span>&nbsp;</span>devant votre cha&icirc;ne de caract&egrave;res:</p>"
   ]
  },
  {
   "cell_type": "markdown",
   "id": "016b453c",
   "metadata": {},
   "source": [
    "<p style=\"text-align: justify;\">La diff&eacute;rence majeure r&eacute;side dans le fait qu'on peut &eacute;crire du code <em><strong>Python</strong> </em>directement dans les accolades. On retrouve donc la flexibilit&eacute; de la m&eacute;thode <em><strong>format</strong> </em>mais avec quelque chose d'encore plus facile &agrave; lire.</p>\n",
    "<p style=\"text-align: justify;\">Reprenons l'exemple de l'<em><strong>URL&nbsp;</strong></em></p>"
   ]
  },
  {
   "cell_type": "code",
   "execution_count": 7,
   "id": "ef80e1b5",
   "metadata": {},
   "outputs": [
    {
     "name": "stdout",
     "output_type": "stream",
     "text": [
      "https://www.Docstring.fr\n"
     ]
    }
   ],
   "source": [
    "protocole = \"https://\"\n",
    "nom_du_site = \"Docstring\"\n",
    "extension = \"fr\"\n",
    "\n",
    "url = f\"{protocole}www.{nom_du_site}.{extension}\"\n",
    "print(url)"
   ]
  },
  {
   "cell_type": "markdown",
   "id": "c699e31f",
   "metadata": {},
   "source": [
    "<p style=\"text-align: justify;\">Vous souhaitez mettre le <strong>nom</strong> du site en minuscule? Aucun probl&egrave;me, on peut utiliser la m&eacute;thode<span>&nbsp;</span><em><strong>lower&nbsp;</strong></em>directement &agrave; l'int&eacute;rieur du <em><strong>f-string</strong></em>:</p>"
   ]
  },
  {
   "cell_type": "code",
   "execution_count": 61,
   "id": "20cd66c7",
   "metadata": {},
   "outputs": [
    {
     "name": "stdout",
     "output_type": "stream",
     "text": [
      "https://www.docstring.fr\n"
     ]
    }
   ],
   "source": [
    "protocole = \"https://\"\n",
    "nom_du_site = \"Docstring\"\n",
    "extension = \"fr\"\n",
    "\n",
    "url = f\"{protocole}www.{nom_du_site.lower()}.{extension}\"  \n",
    "print(url)"
   ]
  },
  {
   "cell_type": "markdown",
   "id": "109b4b47",
   "metadata": {},
   "source": [
    "<p>On peut ins&eacute;rer n'importe quel <em><strong>type</strong> </em>d'objet dans un <em><strong>f-string</strong></em> sans que cela ne pose de probl&egrave;me &agrave; <em><strong>Python</strong> </em>:</p>"
   ]
  },
  {
   "cell_type": "code",
   "execution_count": 62,
   "id": "e454c7e4",
   "metadata": {},
   "outputs": [
    {
     "name": "stdout",
     "output_type": "stream",
     "text": [
      "Voici votre liste de courses : ['Pommes', 'Poires', 'Bananes']\n"
     ]
    }
   ],
   "source": [
    "liste = ['Pommes', 'Poires', 'Bananes']\n",
    "print(f\"Voici votre liste de courses : {liste}\")"
   ]
  },
  {
   "cell_type": "markdown",
   "id": "db204836",
   "metadata": {},
   "source": [
    "<p>Et comme toujours, on peut &eacute;crire du code <em><strong>Python</strong> </em>directement &agrave; l'int&eacute;rieur des <em><strong>accolades</strong></em> :</p>"
   ]
  },
  {
   "cell_type": "code",
   "execution_count": 63,
   "id": "01e19d99",
   "metadata": {},
   "outputs": [
    {
     "name": "stdout",
     "output_type": "stream",
     "text": [
      "Voici votre liste de courses : Pommes, Poires, Bananes\n"
     ]
    }
   ],
   "source": [
    "liste = ['Pommes', 'Poires', 'Bananes']\n",
    "print(f\"Voici votre liste de courses : {', '.join(liste)}\")"
   ]
  },
  {
   "cell_type": "markdown",
   "id": "f760f1e2",
   "metadata": {},
   "source": [
    "<p><span>Faites attention cependant &agrave; garder un code facile &agrave; lire !&nbsp;Ce n'est pas parce qu'on peut tout faire &agrave; l'int&eacute;rieur d'un <em><strong>f-string</strong></em> qu'on doit le faire !</span></p>\n",
    "<p>Par exemple, &eacute;vitez de faire ceci :</p>"
   ]
  },
  {
   "cell_type": "code",
   "execution_count": 71,
   "id": "266ec1d6",
   "metadata": {},
   "outputs": [
    {
     "name": "stdout",
     "output_type": "stream",
     "text": [
      "Voici votre liste de courses : POMMES, Poires, Bananes\n"
     ]
    }
   ],
   "source": [
    "liste = ['Pommes', 'Poires', 'Bananes']\n",
    "print(f\"Voici votre liste de courses : {', '.join([fruit.upper() if fruit.lower() == 'pommes' else fruit for fruit in liste])}\")"
   ]
  },
  {
   "cell_type": "markdown",
   "id": "c4166657",
   "metadata": {},
   "source": [
    "Il vaut mieux découper un peu plus notre code pour le rendre plus lisible :"
   ]
  },
  {
   "cell_type": "code",
   "execution_count": 72,
   "id": "1bb7265e",
   "metadata": {},
   "outputs": [
    {
     "name": "stdout",
     "output_type": "stream",
     "text": [
      "Voici votre liste de courses : POMMES, Poires, Bananes\n"
     ]
    }
   ],
   "source": [
    "liste = ['Pommes', 'Poires', 'Bananes']\n",
    "liste_final = [fruit.upper() if fruit.lower() == 'pommes' else fruit for fruit in liste]\n",
    "liste_format = ', '.join(liste_final)\n",
    "print(f\"Voici votre liste de courses : {liste_format}\")"
   ]
  },
  {
   "cell_type": "markdown",
   "id": "5925e79c",
   "metadata": {},
   "source": [
    "<h2 style=\"text-align: justify;\"><strong><u>9. D&eacute;terminer le type d&rsquo;un objet</u></strong></h2>\n",
    "<ul style=\"text-align: justify;\">\n",
    "<li>En <strong><em>Python</em></strong>, pour obtenir le type d&rsquo;un objet ou d&eacute;terminer s&rsquo;il s&rsquo;agit d&rsquo;un type sp&eacute;cifique, utilisez les fonctions int&eacute;gr&eacute;es <em><strong><code>type()</code></strong></em> et <em><strong><code>isinstance()</code></strong></em>.</li>\n",
    "<li>Il est possible de d&eacute;terminer le type d&rsquo;un objet gr&acirc;ce &agrave; deux fonctions diff&eacute;rentes. Bien qu&rsquo;elles aient un fonctionnement similaire pour les types de base, elles diff&egrave;rent dans la gestion des types personnalis&eacute;s.</li>\n",
    "</ul>\n",
    "<h3 style=\"text-align: justify;\"><span style=\"text-decoration: underline;\">9.1. La fonction type()</span></h3>\n",
    "<ul>\n",
    "<li style=\"text-align: justify;\">La fonction <strong><em><code>type()</code></em></strong> retourne le type d&rsquo;un objet.</li>\n",
    "<li style=\"text-align: justify;\">Elle g&egrave;re tous les types de base du langage <strong><em>Python</em></strong> mais &eacute;galement les types personnalis&eacute;s que vous avez cr&eacute;&eacute;s dans votre programme.</li>\n",
    "<li style=\"text-align: justify;\">Cette fonction est utilis&eacute;e pour conna&icirc;tre le type d&rsquo;une donn&eacute;e ou le type de la valeur d&rsquo;une variable.</li>\n",
    "</ul>"
   ]
  },
  {
   "cell_type": "code",
   "execution_count": 3,
   "id": "ef35d4f5",
   "metadata": {},
   "outputs": [
    {
     "data": {
      "text/plain": [
       "int"
      ]
     },
     "execution_count": 3,
     "metadata": {},
     "output_type": "execute_result"
    }
   ],
   "source": [
    "type(15)"
   ]
  },
  {
   "cell_type": "code",
   "execution_count": 4,
   "id": "f4955ecf",
   "metadata": {},
   "outputs": [
    {
     "data": {
      "text/plain": [
       "int"
      ]
     },
     "execution_count": 4,
     "metadata": {},
     "output_type": "execute_result"
    }
   ],
   "source": [
    "a = 15\n",
    "type(a)"
   ]
  },
  {
   "cell_type": "code",
   "execution_count": 5,
   "id": "8fca4363",
   "metadata": {},
   "outputs": [
    {
     "data": {
      "text/plain": [
       "str"
      ]
     },
     "execution_count": 5,
     "metadata": {},
     "output_type": "execute_result"
    }
   ],
   "source": [
    "a = \"toto\"\n",
    "type(a)"
   ]
  },
  {
   "cell_type": "markdown",
   "id": "81694a07",
   "metadata": {},
   "source": [
    "<h3 style=\"text-align: justify;\"><span><strong>9.2. La fonction </strong></span><strong>isinstance()</strong></h3>\n",
    "<ul>\n",
    "<li style=\"text-align: justify;\">La fonction <strong><code>isinstance()</code></strong> est une fonction int&eacute;gr&eacute;e qui renvoie un <em><strong>bool&eacute;en</strong></em> indiquant si un objet est une instance ou une sous-classe d&rsquo;un autre objet</li>\n",
    "<li style=\"text-align: justify;\">Elle prend en premier argument la variable et en deuxi&egrave;me argument le type &agrave; tester et retourne <strong><em>True</em></strong>si la variable est bien de ce type.</li>\n",
    "<li style=\"text-align: justify;\"><strong><em><code>isinstance()</code></em></strong> accepte &eacute;galement en deuxi&egrave;me argument un tuple de type et retourne&nbsp;<strong>True </strong>si la variable appartient &agrave; l&rsquo;un des types.</li>\n",
    "</ul>"
   ]
  },
  {
   "cell_type": "code",
   "execution_count": 6,
   "id": "dd57fdae",
   "metadata": {},
   "outputs": [
    {
     "data": {
      "text/plain": [
       "True"
      ]
     },
     "execution_count": 6,
     "metadata": {},
     "output_type": "execute_result"
    }
   ],
   "source": [
    "x = 1\n",
    "isinstance(x, int)"
   ]
  },
  {
   "cell_type": "code",
   "execution_count": 7,
   "id": "9bc9e0bb",
   "metadata": {},
   "outputs": [
    {
     "data": {
      "text/plain": [
       "True"
      ]
     },
     "execution_count": 7,
     "metadata": {},
     "output_type": "execute_result"
    }
   ],
   "source": [
    "x = 1\n",
    "type(x) is int "
   ]
  },
  {
   "cell_type": "code",
   "execution_count": 10,
   "id": "5ae54bd4",
   "metadata": {},
   "outputs": [
    {
     "data": {
      "text/plain": [
       "True"
      ]
     },
     "execution_count": 10,
     "metadata": {},
     "output_type": "execute_result"
    }
   ],
   "source": [
    "y = \"Coucou\"\n",
    "isinstance(y, (int, str))"
   ]
  },
  {
   "cell_type": "markdown",
   "id": "00403576",
   "metadata": {},
   "source": [
    "<h3 style=\"text-align: justify;\"><span style=\"text-decoration: underline;\">9.3. La diff&eacute;rence entre t<em>ype ()</em> et <em>isinstance ()</em></span></h3>\n",
    "<ul>\n",
    "<li style=\"text-align: justify;\">La diff&eacute;rence entre <strong><em><code>type()</code></em></strong> et <em><strong><code>isinstance()</code></strong></em> est que <em><strong><code>isinstance()</code></strong></em> renvoie <strong>True</strong> m&ecirc;me pour les instances de sous-classes qui h&eacute;ritent de la classe sp&eacute;cifi&eacute;e dans le deuxi&egrave;me argument.</li>\n",
    "<li style=\"text-align: justify;\">La fonction <em><strong><code>isinstance()</code></strong></em> int&eacute;gr&eacute;e est recommand&eacute;e pour tester le type d&rsquo;un objet, car elle prend en compte les sous-classes.</li>\n",
    "</ul>\n",
    "<h2 id=\"verifier-les-chaines-de-caracteres\" style=\"text-align: justify;\"><span style=\"text-decoration: underline;\">10. V&eacute;rifier les cha&icirc;nes de caract&egrave;res</span></h2>"
   ]
  },
  {
   "cell_type": "markdown",
   "id": "ba809855",
   "metadata": {},
   "source": [
    "<h3 style=\"text-align: justify;\"><u>10.1. La m&eacute;thode </u><strong><em><u><code>isalnum()</code></u></em></strong></h3>\n",
    "<ul style=\"text-align: justify;\">\n",
    "<li>La m&eacute;thode <strong><em><code>isalnum()</code></em></strong> renvoie <strong><em>True </em></strong>si tous les caract&egrave;res de la cha&icirc;ne sont alphanum&eacute;riques (alphabets ou nombres). Sinon, elle renvoie <strong><em>False</em></strong>.</li>\n",
    "<li>La syntaxe de <strong><em><code>isalnum()</code></em></strong>est<strong>: <code>string.</code></strong><strong><code>isalnum()</code></strong></li>\n",
    "<li>Valeur renvoy&eacute;e par <strong><em><code>isalnum()</code></em></strong>\n",
    "<ul>\n",
    "<li><strong><em>True </em></strong>si tous les caract&egrave;res de la cha&icirc;ne sont alphanum&eacute;riques</li>\n",
    "<li><strong><em>False</em></strong> si au moins un caract&egrave;re n&rsquo;est pas alphanum&eacute;rique</li>\n",
    "</ul>\n",
    "</li>\n",
    "</ul>"
   ]
  },
  {
   "cell_type": "code",
   "execution_count": 13,
   "id": "0d702b90",
   "metadata": {},
   "outputs": [
    {
     "name": "stdout",
     "output_type": "stream",
     "text": [
      "True\n"
     ]
    }
   ],
   "source": [
    "nom = \"M234hamed\"\n",
    "print(nom.isalnum())"
   ]
  },
  {
   "cell_type": "code",
   "execution_count": 17,
   "id": "487ba87d",
   "metadata": {},
   "outputs": [
    {
     "name": "stdout",
     "output_type": "stream",
     "text": [
      "False\n"
     ]
    }
   ],
   "source": [
    "nom = \"M3hamed Gell22er \"   # contains whitespace\n",
    "print(nom.isalnum())"
   ]
  },
  {
   "cell_type": "code",
   "execution_count": 15,
   "id": "ab49c0e0",
   "metadata": {},
   "outputs": [
    {
     "name": "stdout",
     "output_type": "stream",
     "text": [
      "True\n"
     ]
    }
   ],
   "source": [
    "nom = \"Mo3nicaGell22er\"\n",
    "print(nom.isalnum())"
   ]
  },
  {
   "cell_type": "code",
   "execution_count": 16,
   "id": "4c87d7bf",
   "metadata": {},
   "outputs": [
    {
     "name": "stdout",
     "output_type": "stream",
     "text": [
      "True\n"
     ]
    }
   ],
   "source": [
    "nom = \"133\"\n",
    "print(nom.isalnum())"
   ]
  },
  {
   "cell_type": "markdown",
   "id": "09fbde69",
   "metadata": {},
   "source": [
    "<h3 style=\"text-align: justify;\"><u>10.2. La m&eacute;thode </u><strong><em><u><code>isalpha()</code></u></em></strong></h3>\n",
    "<ul style=\"text-align: justify;\">\n",
    "<li>La m&eacute;thode <strong><em><code>isalpha()</code></em></strong> renvoie <strong><em>True</em></strong> si tous les caract&egrave;res de la cha&icirc;ne sont des alphabets. Sinon, il renvoie <strong><em>False</em></strong>.</li>\n",
    "<li>La syntaxe de <strong><em><code>isalpha()</code></em></strong>est: <strong><code>string.</code></strong><strong><em><code>isalpha()</code></em></strong></li>\n",
    "<li>Valeur renvoy&eacute;e par <strong><em><code>isalpha()</code></em></strong>\n",
    "<ul>\n",
    "<li><strong><em>True </em></strong>si tous les caract&egrave;res de la cha&icirc;ne sont des alphabets.</li>\n",
    "<li><strong><em>False</em></strong> si au moins un caract&egrave;re n&rsquo;est pas un alphabet.</li>\n",
    "</ul>\n",
    "</li>\n",
    "</ul>"
   ]
  },
  {
   "cell_type": "code",
   "execution_count": 1,
   "id": "2b676770",
   "metadata": {},
   "outputs": [
    {
     "name": "stdout",
     "output_type": "stream",
     "text": [
      "True\n"
     ]
    }
   ],
   "source": [
    "nom = \"Mohamed\"\n",
    "print(nom.isalpha())"
   ]
  },
  {
   "cell_type": "code",
   "execution_count": 2,
   "id": "6c47cd05",
   "metadata": {},
   "outputs": [
    {
     "name": "stdout",
     "output_type": "stream",
     "text": [
      "False\n"
     ]
    }
   ],
   "source": [
    "# contains whitespace\n",
    "nom = \"Mohamed Geller\"\n",
    "print(nom.isalpha())"
   ]
  },
  {
   "cell_type": "code",
   "execution_count": 3,
   "id": "98d322d5",
   "metadata": {},
   "outputs": [
    {
     "name": "stdout",
     "output_type": "stream",
     "text": [
      "False\n"
     ]
    }
   ],
   "source": [
    "# contains number\n",
    "nom = \"Mo3hamedGell22er\"\n",
    "print(nom.isalpha())"
   ]
  },
  {
   "cell_type": "markdown",
   "id": "0519bcec",
   "metadata": {},
   "source": [
    "<h3 style=\"text-align: justify;\"><u>10.3. La m&eacute;thode </u><em><u><code>isdigit()</code></u></em></h3>\n",
    "<ul style=\"text-align: justify;\">\n",
    "<li>La m&eacute;thode <strong><em><code>isdigit()</code></em></strong> renvoie <strong><em>True</em></strong> si tous les caract&egrave;res de la cha&icirc;ne sont des chiffres. Sinon, il renvoie <strong><em>False</em></strong>.</li>\n",
    "<li>La syntaxe de&nbsp;<strong><em><code>isdigit()</code>&nbsp;</em></strong>est: <strong><em><code>string.</code><code>isdigit()</code></em></strong></li>\n",
    "<li>Valeur renvoy&eacute;e par <strong><em><code>isdigit()</code></em></strong>\n",
    "<ul>\n",
    "<li><strong><em>True </em></strong>si tous les caract&egrave;res sont des chiffres.</li>\n",
    "<li><strong><em>False</em></strong> si au moins un caract&egrave;re n&rsquo;est pas un chiffre.</li>\n",
    "<li>En <em><strong>Python</strong></em>, les exposants et les indices (g&eacute;n&eacute;ralement &eacute;crits en Unicode) sont &eacute;galement consid&eacute;r&eacute;s comme des caract&egrave;res num&eacute;riques. Par cons&eacute;quent, si la cha&icirc;ne contient ces caract&egrave;res avec des caract&egrave;res d&eacute;cimaux, <strong><em><code>isdigit()</code></em></strong>renvoie <strong><em>True</em></strong>.</li>\n",
    "<li>Les chiffres romains, les num&eacute;rateurs de devises et les fractions (g&eacute;n&eacute;ralement &eacute;crits en Unicode) sont consid&eacute;r&eacute;s comme des caract&egrave;res num&eacute;riques mais pas des chiffres. Les <strong><em><code>isdigit()</code></em></strong>retours <strong><em>False</em></strong> si la cha&icirc;ne contient ces caract&egrave;res.</li>\n",
    "</ul>\n",
    "</li>\n",
    "</ul>"
   ]
  },
  {
   "cell_type": "code",
   "execution_count": 4,
   "id": "6eafeeed",
   "metadata": {},
   "outputs": [
    {
     "name": "stdout",
     "output_type": "stream",
     "text": [
      "True\n"
     ]
    }
   ],
   "source": [
    "s = \"28212\"\n",
    "print(s.isdigit())"
   ]
  },
  {
   "cell_type": "code",
   "execution_count": 6,
   "id": "342f39e4",
   "metadata": {},
   "outputs": [
    {
     "name": "stdout",
     "output_type": "stream",
     "text": [
      "False\n"
     ]
    }
   ],
   "source": [
    "# contains alphabets and spaces\n",
    "s = \"Mo3 nicaG el l22er\"\n",
    "print(s.isdigit())"
   ]
  },
  {
   "cell_type": "markdown",
   "id": "b56bb6c2",
   "metadata": {},
   "source": [
    "<h3 style=\"text-align: justify;\"><strong><em><u>10.4. La m&eacute;thode </u></em></strong><em><u><code>isnumeric()</code></u></em></h3>\n",
    "<ul style=\"text-align: justify;\">\n",
    "<li>La m&eacute;thode <strong><em><code>isnumeric()</code></em></strong> renvoie <strong><em>True</em></strong> si tous les caract&egrave;res de la cha&icirc;ne sont des caract&egrave;res num&eacute;riques. Sinon, il renvoie <strong><em>False</em></strong>.</li>\n",
    "<li>Un caract&egrave;re num&eacute;rique a les propri&eacute;t&eacute;s suivantes:\n",
    "<ul>\n",
    "<li>Numeric_Type = D&eacute;cimal</li>\n",
    "<li>Numeric_Type = Chiffre</li>\n",
    "<li>Numeric_Type = Num&eacute;rique</li>\n",
    "</ul>\n",
    "</li>\n",
    "<li>En <em><strong>Python</strong></em>, les caract&egrave;res d&eacute;cimaux (comme: 0, 1, 2 ..), les chiffres (comme: l&rsquo;indice, l&rsquo;exposant) et les caract&egrave;res ayant la propri&eacute;t&eacute; de valeur num&eacute;rique Unicode (comme: fraction, chiffres romains, num&eacute;rateurs de devises) sont tous consid&eacute;r&eacute;s comme des caract&egrave;res num&eacute;riques.</li>\n",
    "<li>La syntaxe de <strong><em><code>isnumeric()</code></em></strong> est: <strong><code>string.</code></strong><strong><em><code>isnumeric()</code></em></strong></li>\n",
    "<li>Valeur renvoy&eacute;e par <strong><em><code>isnumeric()</code></em></strong>\n",
    "<ul>\n",
    "<li><strong><em>True </em></strong>si tous les caract&egrave;res de la cha&icirc;ne sont des caract&egrave;res num&eacute;riques.</li>\n",
    "<li><strong><em>False</em></strong> si au moins un caract&egrave;re n&rsquo;est pas un caract&egrave;re num&eacute;rique.</li>\n",
    "</ul>\n",
    "</li>\n",
    "</ul>"
   ]
  },
  {
   "cell_type": "code",
   "execution_count": 7,
   "id": "1a799876",
   "metadata": {},
   "outputs": [
    {
     "name": "stdout",
     "output_type": "stream",
     "text": [
      "True\n"
     ]
    }
   ],
   "source": [
    "s = '1242323'\n",
    "print(s.isnumeric())"
   ]
  },
  {
   "cell_type": "code",
   "execution_count": 8,
   "id": "f0cf297b",
   "metadata": {},
   "outputs": [
    {
     "name": "stdout",
     "output_type": "stream",
     "text": [
      "True\n"
     ]
    }
   ],
   "source": [
    "#s = '²3455'\n",
    "s = '\\u00B23455'\n",
    "print(s.isnumeric())"
   ]
  },
  {
   "cell_type": "code",
   "execution_count": 9,
   "id": "174c4079",
   "metadata": {},
   "outputs": [
    {
     "name": "stdout",
     "output_type": "stream",
     "text": [
      "True\n"
     ]
    }
   ],
   "source": [
    "# s = '½'\n",
    "s = '\\u00BD'\n",
    "print(s.isnumeric())"
   ]
  },
  {
   "cell_type": "code",
   "execution_count": 10,
   "id": "a9d87167",
   "metadata": {},
   "outputs": [
    {
     "name": "stdout",
     "output_type": "stream",
     "text": [
      "False\n"
     ]
    }
   ],
   "source": [
    "s='python12'\n",
    "print(s.isnumeric())"
   ]
  },
  {
   "cell_type": "markdown",
   "id": "fd263fe3",
   "metadata": {},
   "source": [
    "<h3 style=\"text-align: justify;\"><u>10.5. La m&eacute;thode </u><strong><em><u><code>isdecimal()</code></u></em></strong></h3>\n",
    "<ul style=\"text-align: justify;\">\n",
    "<li>La m&eacute;thode <strong><em><code>isdecimal()</code></em></strong> renvoie <strong><em>True </em></strong>si tous les caract&egrave;res de la cha&icirc;ne sont des caract&egrave;res d&eacute;cimaux. Sinon, il renvoie <strong><em>False</em></strong>.</li>\n",
    "<li>La syntaxe de <code>isdecimal()</code> est: string.<code>isdecimal()</code></li>\n",
    "<li>Valeur renvoy&eacute;e par <strong><em><code>isdecimal()</code></em></strong></li>\n",
    "<ul>\n",
    "<li><strong><em>True </em></strong>si tous les caract&egrave;res sont des d&eacute;cimaux.</li>\n",
    "<li><strong><em>False</em></strong> si au moins un caract&egrave;re n&rsquo;est pas un caract&egrave;re d&eacute;cimal.</li>\n",
    "<li>L&rsquo;exposant et les indices sont consid&eacute;r&eacute;s comme des caract&egrave;res num&eacute;riques mais pas des d&eacute;cimales. Si la cha&icirc;ne contient ces caract&egrave;res (g&eacute;n&eacute;ralement &eacute;crits en Unicode), <strong><em><code>isdecimal()</code></em></strong>renvoie <strong><em>False</em></strong>.</li>\n",
    "</ul>\n",
    "</ul>\n",
    "<pre></pre>"
   ]
  },
  {
   "cell_type": "code",
   "execution_count": 11,
   "id": "932f6ba5",
   "metadata": {},
   "outputs": [
    {
     "name": "stdout",
     "output_type": "stream",
     "text": [
      "True\n"
     ]
    }
   ],
   "source": [
    "s = '23455'\n",
    "print(s.isdecimal())"
   ]
  },
  {
   "cell_type": "code",
   "execution_count": 12,
   "id": "e32b5be2",
   "metadata": {},
   "outputs": [
    {
     "name": "stdout",
     "output_type": "stream",
     "text": [
      "False\n"
     ]
    }
   ],
   "source": [
    "#s = '²3455'\n",
    "s = '\\u00B23455'\n",
    "print(s.isdecimal())"
   ]
  },
  {
   "cell_type": "code",
   "execution_count": 13,
   "id": "38a56423",
   "metadata": {},
   "outputs": [
    {
     "name": "stdout",
     "output_type": "stream",
     "text": [
      "False\n"
     ]
    }
   ],
   "source": [
    "# s = '½'\n",
    "s = '\\u00BD'\n",
    "print(s.isdecimal())"
   ]
  },
  {
   "cell_type": "markdown",
   "id": "39d2c80c",
   "metadata": {},
   "source": [
    "<h2><span style=\"text-decoration: underline;\">11. Conversion de types</span></h2>\n",
    "<ul>\n",
    "<li>En programmation, on est souvent amen&eacute; &agrave; convertir les types, c&rsquo;est-&agrave;-dire passer d&rsquo;un type num&eacute;rique &agrave; une cha&icirc;ne de caract&egrave;res ou vice-versa.</li>\n",
    "<li>En <em><strong>Python</strong></em>, rien de plus simple avec les fonctions <em><strong><code>int()</code></strong></em>, <em><strong><code>float()</code></strong></em>,&nbsp;<em><strong><code>chr()</code>&nbsp;</strong></em><em><strong><code></code></strong></em>et <em><strong><code>str()</code></strong></em>.</li>\n",
    "</ul>"
   ]
  },
  {
   "cell_type": "code",
   "execution_count": 15,
   "id": "4762c3c8",
   "metadata": {},
   "outputs": [
    {
     "data": {
      "text/plain": [
       "'\\x03'"
      ]
     },
     "execution_count": 15,
     "metadata": {},
     "output_type": "execute_result"
    }
   ],
   "source": [
    "i = 3\n",
    "chr(i)"
   ]
  },
  {
   "cell_type": "code",
   "execution_count": 16,
   "id": "46d9ebee",
   "metadata": {},
   "outputs": [
    {
     "data": {
      "text/plain": [
       "456"
      ]
     },
     "execution_count": 16,
     "metadata": {},
     "output_type": "execute_result"
    }
   ],
   "source": [
    "i = '456'\n",
    "int(i)"
   ]
  },
  {
   "cell_type": "code",
   "execution_count": 17,
   "id": "fa2ba4d2",
   "metadata": {},
   "outputs": [
    {
     "data": {
      "text/plain": [
       "456.0"
      ]
     },
     "execution_count": 17,
     "metadata": {},
     "output_type": "execute_result"
    }
   ],
   "source": [
    "float(i)"
   ]
  },
  {
   "cell_type": "code",
   "execution_count": 18,
   "id": "5d1b62b4",
   "metadata": {},
   "outputs": [
    {
     "data": {
      "text/plain": [
       "3.1416"
      ]
     },
     "execution_count": 18,
     "metadata": {},
     "output_type": "execute_result"
    }
   ],
   "source": [
    "i = '3.1416 '\n",
    "float(i)"
   ]
  },
  {
   "cell_type": "code",
   "execution_count": 19,
   "id": "d830043d",
   "metadata": {},
   "outputs": [
    {
     "data": {
      "text/plain": [
       "'456'"
      ]
     },
     "execution_count": 19,
     "metadata": {},
     "output_type": "execute_result"
    }
   ],
   "source": [
    "i = 456\n",
    "str(i)"
   ]
  },
  {
   "cell_type": "markdown",
   "id": "41c47246",
   "metadata": {},
   "source": [
    "<p style=\"text-align: justify;\">Il peut arriver que la conversion en un nombre entier ne soit pas directe. Dans l&rsquo;exemple qui suit, on cherche &agrave; convertir une cha&icirc;ne de caract&egrave;res en entier mais cette cha&icirc;ne repr&eacute;sente un r&eacute;el. Il faut d&rsquo;abord la convertir en r&eacute;el puis en entier, c&rsquo;est &agrave; ce moment que l&rsquo;arrondi sera effectu&eacute;.</p>"
   ]
  },
  {
   "cell_type": "code",
   "execution_count": 25,
   "id": "731ee4ec",
   "metadata": {},
   "outputs": [
    {
     "ename": "ValueError",
     "evalue": "invalid literal for int() with base 10: '3.5'",
     "output_type": "error",
     "traceback": [
      "\u001b[1;31m---------------------------------------------------------------------------\u001b[0m",
      "\u001b[1;31mValueError\u001b[0m                                Traceback (most recent call last)",
      "Input \u001b[1;32mIn [25]\u001b[0m, in \u001b[0;36m<cell line: 1>\u001b[1;34m()\u001b[0m\n\u001b[1;32m----> 1\u001b[0m i \u001b[38;5;241m=\u001b[39m \u001b[38;5;28;43mint\u001b[39;49m\u001b[43m \u001b[49m\u001b[43m(\u001b[49m\u001b[38;5;124;43m\"\u001b[39;49m\u001b[38;5;124;43m3.5\u001b[39;49m\u001b[38;5;124;43m\"\u001b[39;49m\u001b[43m)\u001b[49m\n",
      "\u001b[1;31mValueError\u001b[0m: invalid literal for int() with base 10: '3.5'"
     ]
    }
   ],
   "source": [
    "i = int (\"3.5\")          # provoque une erreur"
   ]
  },
  {
   "cell_type": "code",
   "execution_count": 27,
   "id": "3e5e4b16",
   "metadata": {},
   "outputs": [
    {
     "name": "stdout",
     "output_type": "stream",
     "text": [
      "3\n"
     ]
    }
   ],
   "source": [
    "i = int (float (\"3.5\"))  # fonctionne\n",
    "print(i)"
   ]
  }
 ],
 "metadata": {
  "kernelspec": {
   "display_name": "Python 3 (ipykernel)",
   "language": "python",
   "name": "python3"
  },
  "language_info": {
   "codemirror_mode": {
    "name": "ipython",
    "version": 3
   },
   "file_extension": ".py",
   "mimetype": "text/x-python",
   "name": "python",
   "nbconvert_exporter": "python",
   "pygments_lexer": "ipython3",
   "version": "3.9.12"
  }
 },
 "nbformat": 4,
 "nbformat_minor": 5
}
