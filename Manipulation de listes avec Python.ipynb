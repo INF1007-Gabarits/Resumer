{
 "cells": [
  {
   "cell_type": "markdown",
   "id": "c9305cea",
   "metadata": {},
   "source": [
    "<h1 style=\"text-align: justify;\"><u>Manipulation de listes avec <em>Python</em></u></h1>\n",
    "<div style=\"text-align: justify;\">Une <strong>liste</strong> est une <em><strong>structure de donn&eacute;es</strong> </em>qui contient une s&eacute;rie de valeurs. Une liste pourra &ecirc;tre compos&eacute;e de valeurs de tailles et types diff&eacute;rents (entiers, cha&icirc;nes de caract&egrave;res, des tuples. etc), ce qui leur conf&egrave;re une grande flexibilit&eacute;.</div>\n",
    "<p style=\"text-align: justify;\">Sous <em><strong>Python</strong></em>, on peut d&eacute;finir une liste comme une collection d&rsquo;&eacute;l&eacute;ments s&eacute;par&eacute;s par des <em><strong>virgules</strong></em>, l&rsquo;ensemble &eacute;tant enferm&eacute; dans des <em><strong>crochets</strong><strong>&nbsp;</strong></em></p>\n",
    "<p style=\"text-align: justify;\">Un des gros avantages d&rsquo;une liste est que vous pouvez appeler ses &eacute;l&eacute;ments par leur position. Ce num&eacute;ro est appel&eacute; <em><strong>indice</strong> </em>(ou <em><strong>index</strong></em>) de la liste.</p>"
   ]
  },
  {
   "cell_type": "code",
   "execution_count": null,
   "id": "71370cdf",
   "metadata": {},
   "outputs": [],
   "source": [
    "liste : ['girafe ', 'tigre ', 'singe ', 'souris ']\n",
    "indice : 0 1 2 3"
   ]
  },
  {
   "cell_type": "markdown",
   "id": "2f5d912c",
   "metadata": {},
   "source": [
    "<p style=\"text-align: justify;\">Soyez tr&egrave;s attentifs au fait que les <em>indices</em> d&rsquo;une liste de <em><strong>n</strong></em> &eacute;l&eacute;ments commence &agrave; <em><strong>0</strong></em> et se termine &agrave; <em><strong>n-1</strong></em>.</p>"
   ]
  },
  {
   "cell_type": "code",
   "execution_count": 1,
   "id": "53c427c7",
   "metadata": {},
   "outputs": [
    {
     "name": "stdout",
     "output_type": "stream",
     "text": [
      "girafe \n",
      "tigre \n",
      "souris \n"
     ]
    }
   ],
   "source": [
    "animaux = ['girafe ','tigre ','singe ','souris ']\n",
    "print(animaux[0])\n",
    "print(animaux[1])\n",
    "print(animaux[3])"
   ]
  },
  {
   "cell_type": "markdown",
   "id": "203f75fd",
   "metadata": {},
   "source": [
    "<p style=\"text-align: justify;\">Si on appelle l&rsquo;&eacute;l&eacute;ment d&rsquo;indice 4 de notre liste, Python renverra un message d&rsquo;erreur.</p>"
   ]
  },
  {
   "cell_type": "code",
   "execution_count": 2,
   "id": "8f55566f",
   "metadata": {},
   "outputs": [
    {
     "ename": "IndexError",
     "evalue": "list index out of range",
     "output_type": "error",
     "traceback": [
      "\u001b[1;31m---------------------------------------------------------------------------\u001b[0m",
      "\u001b[1;31mIndexError\u001b[0m                                Traceback (most recent call last)",
      "Input \u001b[1;32mIn [2]\u001b[0m, in \u001b[0;36m<cell line: 1>\u001b[1;34m()\u001b[0m\n\u001b[1;32m----> 1\u001b[0m \u001b[38;5;28mprint\u001b[39m(\u001b[43manimaux\u001b[49m\u001b[43m[\u001b[49m\u001b[38;5;241;43m4\u001b[39;49m\u001b[43m]\u001b[49m)\n",
      "\u001b[1;31mIndexError\u001b[0m: list index out of range"
     ]
    }
   ],
   "source": [
    "print(animaux[4])"
   ]
  },
  {
   "cell_type": "markdown",
   "id": "3f71873c",
   "metadata": {},
   "source": [
    "<h2 style=\"text-align: justify;\"><u>1. Cr&eacute;ation de liste en Python</u></h2>\n",
    "<p style=\"text-align: justify;\">Pour cr&eacute;er une <em><strong>liste</strong> </em>en <em><strong>Python</strong></em>, on a plusieurs possibilit&eacute;s</p>\n",
    "<h3 style=\"text-align: justify;\"><u>1.1. Cr&eacute;ation de listes avec op&eacute;rateur d&rsquo;indice</u></h3>\n",
    "<p style=\"text-align: justify;\">Les crochets <em><strong><code>[]</code></strong></em> repr&eacute;sentent l&rsquo;op&eacute;rateur d&rsquo;indice en Python. Il ne n&eacute;cessite pas de recherche de symbole ni d&rsquo;appel de fonction. Par cons&eacute;quent, il s&rsquo;av&egrave;re le moyen le plus rapide de cr&eacute;er une liste en Python. Vous pouvez sp&eacute;cifier les &eacute;l&eacute;ments &agrave; l&rsquo;int&eacute;rieur de <em><strong><code>[]</code></strong></em>, s&eacute;par&eacute;s par des <em><strong>virgules</strong></em>.</p>"
   ]
  },
  {
   "cell_type": "code",
   "execution_count": 3,
   "id": "32637d5b",
   "metadata": {},
   "outputs": [
    {
     "ename": "NameError",
     "evalue": "name 'a1' is not defined",
     "output_type": "error",
     "traceback": [
      "\u001b[1;31m---------------------------------------------------------------------------\u001b[0m",
      "\u001b[1;31mNameError\u001b[0m                                 Traceback (most recent call last)",
      "Input \u001b[1;32mIn [3]\u001b[0m, in \u001b[0;36m<cell line: 4>\u001b[1;34m()\u001b[0m\n\u001b[0;32m      1\u001b[0m \u001b[38;5;66;03m#Créer une liste Python à l'aide de l'opérateur indice\u001b[39;00m\n\u001b[0;32m      2\u001b[0m \u001b[38;5;66;03m# Syntaxe\u001b[39;00m\n\u001b[0;32m      3\u001b[0m liste1 \u001b[38;5;241m=\u001b[39m [] \u001b[38;5;66;03m# Création d'une liste vide\u001b[39;00m\n\u001b[1;32m----> 4\u001b[0m liste2\u001b[38;5;241m=\u001b[39m [\u001b[43ma1\u001b[49m, a2, a3, \u001b[38;5;241m.\u001b[39m\u001b[38;5;241m.\u001b[39m\u001b[38;5;241m.\u001b[39m]\n",
      "\u001b[1;31mNameError\u001b[0m: name 'a1' is not defined"
     ]
    }
   ],
   "source": [
    "#Créer une liste Python à l'aide de l'opérateur indice\n",
    "# Syntaxe\n",
    "liste1 = [] # Création d'une liste vide\n",
    "liste2= [a1, a2, a3, ...] # Création d'une liste avec des éléments"
   ]
  },
  {
   "cell_type": "markdown",
   "id": "74c351fb",
   "metadata": {},
   "source": [
    "<h3 style=\"text-align: justify;\"><span style=\"text-decoration: underline;\">1.2. Cr&eacute;ation de listes avec le constructeur <em><code>list()</code></em></span></h3>\n",
    "<p style=\"text-align: justify;\"><em><strong>Python</strong> </em>inclut une m&eacute;thode <strong><em><code>list()</code> </em></strong>int&eacute;gr&eacute;e. Il accepte une <em><strong>s&eacute;quence</strong> </em>ou un <em><strong>tuple</strong> </em>comme <em><strong>argument</strong> </em>et se convertit en une liste <em><strong>Python</strong></em>.</p>"
   ]
  },
  {
   "cell_type": "code",
   "execution_count": 4,
   "id": "cd511ee8",
   "metadata": {},
   "outputs": [
    {
     "name": "stdout",
     "output_type": "stream",
     "text": [
      "[]\n",
      "['a', 'e', 'i', 'o', 'u']\n",
      "['a', 'e', 'i', 'o', 'u']\n",
      "['a', 'e', 'i', 'o', 'u']\n",
      "['i', 'a', 'e', 'o', 'u']\n",
      "['a', 'e', 'i', 'o', 'u']\n"
     ]
    }
   ],
   "source": [
    "# Création d'une liste vide\n",
    "print(list())\n",
    "# Création d'une chaîne de voyelle\n",
    "chaine_voyelle = 'aeiou'\n",
    "print(list(chaine_voyelle))\n",
    "\n",
    "# voyelle tuple\n",
    "voyelle_tuple = ('a', 'e', 'i', 'o', 'u')\n",
    "print(list(voyelle_tuple))\n",
    "\n",
    "# voyelle liste\n",
    "voyelle_liste = ['a', 'e', 'i', 'o', 'u']\n",
    "print(list(voyelle_liste))\n",
    "\n",
    "# voyelle set\n",
    "voyelle_set = {'a', 'e', 'i', 'o', 'u'}\n",
    "print(list(voyelle_set))\n",
    "\n",
    "# voyelle dictionary\n",
    "vowel_dictionary = {'a': 1, 'e': 2, 'i': 3, 'o':4, 'u':5}\n",
    "print(list(vowel_dictionary))"
   ]
  },
  {
   "cell_type": "markdown",
   "id": "a396b9f6",
   "metadata": {},
   "source": [
    "<h3 style=\"text-align: justify;\"><span style=\"text-decoration: underline;\">1.3. Cr&eacute;ation de listes &agrave; une dimension</span></h3>\n",
    "<p style=\"text-align: justify;\"><em>On peut cr&eacute;er une liste de fa&ccedil;on exhaustive :</em></p>"
   ]
  },
  {
   "cell_type": "code",
   "execution_count": 5,
   "id": "cc5c9c3e",
   "metadata": {},
   "outputs": [
    {
     "name": "stdout",
     "output_type": "stream",
     "text": [
      "Premier affichage\n",
      "a\n",
      "e\n",
      "i\n",
      "o\n",
      "u\n",
      "y\n",
      "\n",
      "Second affichage\n",
      "0\n",
      "1\n",
      "2\n",
      "3\n",
      "4\n",
      "5\n",
      "\n",
      "Troisieme affichage\n",
      "0 a\n",
      "1 e\n",
      "2 i\n",
      "3 o\n",
      "4 u\n",
      "5 y\n"
     ]
    }
   ],
   "source": [
    "voyelles = ['a','e','i','o','u','y']\n",
    "\n",
    "# Exemple 1\n",
    "print(\"Premier affichage\")\n",
    "for lettre in voyelles:\n",
    "    print(lettre)\n",
    " \n",
    " # Exemple 2\n",
    "print(\"\\nSecond affichage\")\n",
    "for index in range(len(voyelles)):\n",
    "    print(index)\n",
    "    \n",
    "# Exemple 3\n",
    "print(\"\\nTroisieme affichage\")\n",
    "for index, lettre in enumerate(voyelles):\n",
    "    print(index, lettre)"
   ]
  },
  {
   "cell_type": "markdown",
   "id": "86c376c3",
   "metadata": {},
   "source": [
    "<p style=\"text-align: justify;\"><em>On peut cr&eacute;er une liste vide puis lui ajouter des &eacute;l&eacute;ments :</em><code></code></p>"
   ]
  },
  {
   "cell_type": "code",
   "execution_count": 6,
   "id": "703d802a",
   "metadata": {},
   "outputs": [],
   "source": [
    "Tab=[]                  # initialisation d’une liste vide.\n",
    "Tab=[0]*10              # permet d’initialiser une liste ou un tableau de 10 cases avec la valeur 0.\n",
    "M=[[0, 3, 4],[1, 5, 7]] # des listes de listes sont possibles."
   ]
  },
  {
   "cell_type": "markdown",
   "id": "62911e4c",
   "metadata": {},
   "source": [
    "<h3 style=\"text-align: justify;\"><span style=\"text-decoration: underline;\">1.4. Cr&eacute;ation d&rsquo;une liste en compr&eacute;hension</span></h3>\n",
    "<p style=\"text-align: justify;\">Une liste en compr&eacute;hension est souvent construite sur la base d&rsquo;une liste mais on peut construire une liste en compr&eacute;hension sur la base de n&rsquo;importe quel <em><strong>it&eacute;rable</strong></em><span>.&nbsp;</span>Une liste en <strong>compr&eacute;hension</strong> admet un &eacute;quivalent cr&eacute;&eacute; avec une boucle <em><code>for</code> </em>mais n&eacute;cessitant un code plus long.</p>\n",
    "<p style=\"text-align: justify;\">Soit la liste en compr&eacute;hension <em><strong>L</strong></em> suivante:</p>"
   ]
  },
  {
   "cell_type": "code",
   "execution_count": 7,
   "id": "99ab8ff9",
   "metadata": {},
   "outputs": [
    {
     "name": "stdout",
     "output_type": "stream",
     "text": [
      "[50, 20, 0, 30, 70, 100]\n"
     ]
    }
   ],
   "source": [
    "t = [5, 2, 0, 3, 7, 10]\n",
    "L = [10 * x for x in t]\n",
    "print(L)"
   ]
  },
  {
   "cell_type": "markdown",
   "id": "ede8c2cb",
   "metadata": {},
   "source": [
    "<p style=\"text-align: justify;\">La m&ecirc;me liste pourrait &ecirc;tre obtenue avec une boucle <em><strong><code>for</code></strong></em>:</p>"
   ]
  },
  {
   "cell_type": "code",
   "execution_count": 8,
   "id": "7114cb10",
   "metadata": {},
   "outputs": [
    {
     "name": "stdout",
     "output_type": "stream",
     "text": [
      "[50, 20, 0, 30, 70, 100]\n"
     ]
    }
   ],
   "source": [
    "t = [5, 2, 0, 3, 7, 10]\n",
    "L = []\n",
    "for x in t:\n",
    "    L.append(10*x)\n",
    "print(L)"
   ]
  },
  {
   "cell_type": "markdown",
   "id": "356b6cd9",
   "metadata": {},
   "source": [
    "<h4 style=\"text-align: justify;\"><u>1.4.1. Listes en compr&eacute;hension imbriqu&eacute;es</u></h4>\n",
    "<p style=\"text-align: justify;\">Les listes en compr&eacute;hension peuvent &ecirc;tre imbriqu&eacute;es. N&eacute;anmoins la liste n&rsquo;est pas forc&eacute;ment cr&eacute;&eacute;e dans l&rsquo;ordre o&ugrave; on s&rsquo;y attendrait.</p>\n",
    "<p style=\"text-align: justify;\">Soit &agrave; cr&eacute;er une liste form&eacute;e de tous \"mots\" commen&ccedil;ant par une lettre <strong>A</strong> ou <strong>B</strong> et suivie d&rsquo;un chiffre parmi <strong>1</strong>, <strong>2</strong> ou <strong>3</strong>. On peut utiliser une liste en compr&eacute;hension:<p>"
   ]
  },
  {
   "cell_type": "code",
   "execution_count": 9,
   "id": "bb196e1e",
   "metadata": {},
   "outputs": [
    {
     "name": "stdout",
     "output_type": "stream",
     "text": [
      "['A1', 'A2', 'A3', 'B1', 'B2', 'B3']\n"
     ]
    }
   ],
   "source": [
    "L = [x+y for x in \"AB\" for y in \"123\"]\n",
    "print(L)"
   ]
  },
  {
   "cell_type": "markdown",
   "id": "abf29004",
   "metadata": {},
   "source": [
    "<h4 style=\"text-align: justify;\"><span style=\"text-decoration: underline;\">1.4.2. Cr&eacute;ation de listes &agrave; deux dimensions</span></h4>\n",
    "<p><em>On peut la cr&eacute;er de fa&ccedil;on exhaustive :</em></p>"
   ]
  },
  {
   "cell_type": "code",
   "execution_count": 10,
   "id": "9e27a04d",
   "metadata": {},
   "outputs": [
    {
     "name": "stdout",
     "output_type": "stream",
     "text": [
      "[[1, 2, 3], [4, 5, 6]]\n"
     ]
    }
   ],
   "source": [
    "A=[[1,2,3],[4,5,6]]\n",
    "print(A)"
   ]
  },
  {
   "cell_type": "markdown",
   "id": "cbd9079b",
   "metadata": {},
   "source": [
    "On peut aussi utiliser les boucles:"
   ]
  },
  {
   "cell_type": "code",
   "execution_count": 11,
   "id": "94c96ed7",
   "metadata": {},
   "outputs": [
    {
     "name": "stdout",
     "output_type": "stream",
     "text": [
      "[[0, 0, 0, 0, 0, 0, 0, 0, 0, 0], [0, 0, 0, 0, 0, 0, 0, 0, 0, 0], [0, 0, 0, 0, 0, 0, 0, 0, 0, 0]]\n"
     ]
    }
   ],
   "source": [
    "B=[[0 for j in range(10)] for i in range(3)]\n",
    "print(B)"
   ]
  },
  {
   "cell_type": "markdown",
   "id": "11687999",
   "metadata": {},
   "source": [
    "<h2 style=\"text-align: justify;\"><span style=\"text-decoration: underline;\">2. les index de la liste</span></h2>\n",
    "<p style=\"text-align: justify;\">Soit la liste suivante: <strong><em><code>a = ['foo', 'bar', 'baz', 'qux', 'quux', 'corge']</code></em></strong></p>\n",
    "<p style=\"text-align: justify;\">Voici un diagramme pour vous connaitre les <em><strong>index</strong> </em>de cette liste:</p>\n",
    "<p style=\"text-align: justify;\"><img src=\"https://apcpedagogie.com/wp-content/uploads/2019/05/liste.jpg\" alt=\"inde liste python\" width=\"1653\" height=\"429\" srcset=\"https://apcpedagogie.com/wp-content/uploads/2019/05/liste.jpg 1653w, https://apcpedagogie.com/wp-content/uploads/2019/05/liste-600x156.jpg 600w, https://apcpedagogie.com/wp-content/uploads/2019/05/liste-300x78.jpg 300w, https://apcpedagogie.com/wp-content/uploads/2019/05/liste-1024x266.jpg 1024w, https://apcpedagogie.com/wp-content/uploads/2019/05/liste-768x199.jpg 768w, https://apcpedagogie.com/wp-content/uploads/2019/05/liste-1536x399.jpg 1536w\" sizes=\"(max-width: 1653px) 100vw, 1653px\" /></p>\n",
    "<p>Pour acc&eacute;der &agrave; un &eacute;l&eacute;ment dans une <em><strong>liste</strong></em>, on utilise la notation entre crochets&nbsp;<code><em><strong>[ ]</strong></em></code>et <em><strong>l'indice</strong></em>de l'&eacute;l&eacute;ment.</p>\n",
    "<ul>\n",
    "<li><em><strong><code>liste[indice]</code>&nbsp;</strong></em>&rarr; Retourne l'&eacute;l&eacute;ment associ&eacute; &agrave; l'indice<em></em></li>\n",
    "<li><em><strong><code>liste[d&eacute;but:fin:pas]</code></strong></em>&rarr; Retourne le ou les &eacute;l&eacute;ments en fonction de l'intervalle pr&eacute;cis&eacute;</li>\n",
    "</ul>"
   ]
  },
  {
   "cell_type": "code",
   "execution_count": 12,
   "id": "bde1c687",
   "metadata": {},
   "outputs": [
    {
     "ename": "NameError",
     "evalue": "name 'a' is not defined",
     "output_type": "error",
     "traceback": [
      "\u001b[1;31m---------------------------------------------------------------------------\u001b[0m",
      "\u001b[1;31mNameError\u001b[0m                                 Traceback (most recent call last)",
      "Input \u001b[1;32mIn [12]\u001b[0m, in \u001b[0;36m<cell line: 1>\u001b[1;34m()\u001b[0m\n\u001b[1;32m----> 1\u001b[0m \u001b[38;5;28mprint\u001b[39m(\u001b[43ma\u001b[49m[\u001b[38;5;241m2\u001b[39m])\n\u001b[0;32m      2\u001b[0m \u001b[38;5;28mprint\u001b[39m(a[\u001b[38;5;241m-\u001b[39m\u001b[38;5;241m2\u001b[39m])\n",
      "\u001b[1;31mNameError\u001b[0m: name 'a' is not defined"
     ]
    }
   ],
   "source": [
    "print(a[2])\n",
    "print(a[-2])"
   ]
  },
  {
   "cell_type": "code",
   "execution_count": 13,
   "id": "407e8b97",
   "metadata": {},
   "outputs": [
    {
     "ename": "NameError",
     "evalue": "name 'a' is not defined",
     "output_type": "error",
     "traceback": [
      "\u001b[1;31m---------------------------------------------------------------------------\u001b[0m",
      "\u001b[1;31mNameError\u001b[0m                                 Traceback (most recent call last)",
      "Input \u001b[1;32mIn [13]\u001b[0m, in \u001b[0;36m<cell line: 1>\u001b[1;34m()\u001b[0m\n\u001b[1;32m----> 1\u001b[0m \u001b[38;5;28mprint\u001b[39m(\u001b[43ma\u001b[49m[\u001b[38;5;241m4\u001b[39m::\u001b[38;5;241m-\u001b[39m\u001b[38;5;241m2\u001b[39m])\n",
      "\u001b[1;31mNameError\u001b[0m: name 'a' is not defined"
     ]
    }
   ],
   "source": [
    "print(a[4::-2])"
   ]
  },
  {
   "cell_type": "markdown",
   "id": "19d9de36",
   "metadata": {},
   "source": [
    "<p style=\"text-align: justify;\">La syntaxe de tranche <em><strong><code>[4::-2]</code></strong></em> commence par l&rsquo;&eacute;l&eacute;ment &agrave; <strong><em>index 4( &lsquo;quux&rsquo;)</em></strong> et continue jusqu&rsquo;au d&eacute;but de la liste, en ignorant tous les autres &eacute;l&eacute;ments. Cela donne les &eacute;l&eacute;ments &agrave; indices <em><strong>4</strong>, <strong>2</strong></em> et <em><strong>0</strong></em>.</p>"
   ]
  },
  {
   "cell_type": "code",
   "execution_count": 14,
   "id": "1b538639",
   "metadata": {},
   "outputs": [
    {
     "ename": "NameError",
     "evalue": "name 'a' is not defined",
     "output_type": "error",
     "traceback": [
      "\u001b[1;31m---------------------------------------------------------------------------\u001b[0m",
      "\u001b[1;31mNameError\u001b[0m                                 Traceback (most recent call last)",
      "Input \u001b[1;32mIn [14]\u001b[0m, in \u001b[0;36m<cell line: 1>\u001b[1;34m()\u001b[0m\n\u001b[1;32m----> 1\u001b[0m \u001b[38;5;28mprint\u001b[39m(\u001b[43ma\u001b[49m[\u001b[38;5;241m-\u001b[39m\u001b[38;5;241m5\u001b[39m:\u001b[38;5;241m-\u001b[39m\u001b[38;5;241m3\u001b[39m])\n",
      "\u001b[1;31mNameError\u001b[0m: name 'a' is not defined"
     ]
    }
   ],
   "source": [
    "print(a[-5:-3])"
   ]
  },
  {
   "cell_type": "markdown",
   "id": "a94ce0eb",
   "metadata": {},
   "source": [
    "<p style=\"text-align: justify;\"><em><strong><code>[-5:-3]</code></strong></em> commence &agrave; l&rsquo;<em><strong>index -5</strong></em> et remonte &agrave; l&rsquo;index mais <em><strong>non compris -3</strong></em>, qui d&eacute;signe les &eacute;l&eacute;ments <em><strong>&lsquo;bar&rsquo;</strong></em>et <em><strong>&lsquo;baz&rsquo;</strong></em>.</p>"
   ]
  },
  {
   "cell_type": "markdown",
   "id": "44251cd5",
   "metadata": {},
   "source": [
    "<h2><span style=\"text-decoration: underline;\">2. Op&eacute;ration sur les listes</span></h2>\n",
    "<p>Les listes supportent l&rsquo;op&eacute;rateur <em><strong><code>+</code></strong></em> de concat&eacute;nation, ainsi que l&rsquo;op&eacute;rateur <strong><code><em>*</em></code></strong> pour la duplication :</p>"
   ]
  },
  {
   "cell_type": "code",
   "execution_count": 15,
   "id": "963bad62",
   "metadata": {},
   "outputs": [],
   "source": [
    "site = ['Le', 'site', 'apcpedagogie.com', 'est','un', 'site', \"d'autoformation\"]\n",
    "objectif = ['son','objectif','est', 'de', 'donner', 'à tout', 'personnes,', 'un', 'ensemble', 'de', 'contenus',\n",
    "             'simples', 'et', 'compréhensible.']"
   ]
  },
  {
   "cell_type": "markdown",
   "id": "248db3d5",
   "metadata": {},
   "source": [
    "<h3><span style=\"text-decoration: underline;\">2.1. Concat&eacute;nation:</span></h3>"
   ]
  },
  {
   "cell_type": "code",
   "execution_count": 16,
   "id": "3ca610ea",
   "metadata": {},
   "outputs": [
    {
     "name": "stdout",
     "output_type": "stream",
     "text": [
      "['Le', 'site', 'apcpedagogie.com', 'est', 'un', 'site', \"d'autoformation\", 'son', 'objectif', 'est', 'de', 'donner', 'à tout', 'personnes,', 'un', 'ensemble', 'de', 'contenus', 'simples', 'et', 'compréhensible.']\n"
     ]
    }
   ],
   "source": [
    "print(site + objectif)"
   ]
  },
  {
   "cell_type": "markdown",
   "id": "1742074a",
   "metadata": {},
   "source": [
    "<h3><span style=\"text-decoration: underline;\">2.2. Duplication:</span></h3>"
   ]
  },
  {
   "cell_type": "code",
   "execution_count": 17,
   "id": "7fe4c31a",
   "metadata": {},
   "outputs": [
    {
     "name": "stdout",
     "output_type": "stream",
     "text": [
      "['Le', 'site', 'apcpedagogie.com', 'est', 'un', 'site', \"d'autoformation\", 'Le', 'site', 'apcpedagogie.com', 'est', 'un', 'site', \"d'autoformation\"]\n"
     ]
    }
   ],
   "source": [
    "print(site * 2)"
   ]
  },
  {
   "cell_type": "markdown",
   "id": "bfb12759",
   "metadata": {},
   "source": [
    "<h3><span style=\"text-decoration: underline;\">2.3. Parcourir une liste &agrave; l&rsquo;aide de <strong>for</strong>, <strong>range()</strong> et <strong>len()</strong></span></h3>\n",
    "<p>L&rsquo;instruction <code>for&nbsp;</code>est l&rsquo;instruction id&eacute;ale pour parcourir une liste :</p>"
   ]
  },
  {
   "cell_type": "code",
   "execution_count": 18,
   "id": "75831352",
   "metadata": {},
   "outputs": [
    {
     "name": "stdout",
     "output_type": "stream",
     "text": [
      "Le\n",
      "site\n",
      "apcpedagogie.com\n",
      "est\n",
      "un\n",
      "site\n",
      "d'autoformation\n"
     ]
    }
   ],
   "source": [
    "site = ['Le', 'site', 'apcpedagogie.com', 'est','un', 'site', \"d'autoformation\"]\n",
    "for mot in site:\n",
    "    print(mot)"
   ]
  },
  {
   "cell_type": "markdown",
   "id": "8005a1ef",
   "metadata": {},
   "source": [
    "<p>L&rsquo;instruction <code>len()</code> vous permet de conna&icirc;tre la longueur d&rsquo;une liste, c&rsquo;est-&agrave;-dire le nombre d&rsquo;&eacute;l&eacute;ments que contient la liste. La fonction <code>len()</code> retourne le nombre d&rsquo;&eacute;l&eacute;ments d&rsquo;une liste.</p>"
   ]
  },
  {
   "cell_type": "code",
   "execution_count": 19,
   "id": "b6ad1fc4",
   "metadata": {},
   "outputs": [
    {
     "name": "stdout",
     "output_type": "stream",
     "text": [
      "0\n",
      "4\n"
     ]
    }
   ],
   "source": [
    "maListe=[]\n",
    "print(len(maListe))\n",
    "\n",
    "maListe=[1, 2, 3, 4]\n",
    "print(len(maListe))"
   ]
  },
  {
   "cell_type": "markdown",
   "id": "36f87c94",
   "metadata": {},
   "source": [
    "<p>La fonction <code>range()</code> permet de cr&eacute;er une liste. Elle permet d&rsquo;utiliser 3 param&egrave;tres. Le premier contient le num&eacute;ro de d&eacute;part de la liste, le second le dernier nombre de la liste et finalement l&rsquo;incr&eacute;ment entre chaque nombre g&eacute;n&eacute;r&eacute;.</p>\n",
    "<p>Conjointement utilis&eacute; avec la fonction <code>len()</code>, l<span>a fonction&nbsp;</span><code>range()</code> permet de cr&eacute;er une boucle qui parcours tous les &eacute;l&eacute;ments d&rsquo;une liste. On peut combiner les fonctions <code>range()</code> et <code>len()</code> pour obtenir automatiquement tous les indices d&rsquo;une liste.</p>"
   ]
  },
  {
   "cell_type": "code",
   "execution_count": 20,
   "id": "19470c10",
   "metadata": {},
   "outputs": [
    {
     "name": "stdout",
     "output_type": "stream",
     "text": [
      "0 Le\n",
      "1 site\n",
      "2 apcpedagogie.com\n",
      "3 est\n",
      "4 un\n",
      "5 site\n",
      "6 d'autoformation\n"
     ]
    }
   ],
   "source": [
    "site = ['Le', 'site', 'apcpedagogie.com', 'est','un', 'site', \"d'autoformation\"]\n",
    "for index in range(len(site)):\n",
    "    print (index, site[index])"
   ]
  },
  {
   "cell_type": "markdown",
   "id": "71e967a3",
   "metadata": {},
   "source": [
    "<p style=\"text-align: justify;\"><span>Lorsque vous it&eacute;rez sur une s&eacute;quence, la position et la valeur correspondante peuvent &ecirc;tre r&eacute;cup&eacute;r&eacute;es en m&ecirc;me temps en utilisant la fonction&nbsp;</span><em><strong><code>enumerate()</code></strong></em><span>.</span></p>"
   ]
  },
  {
   "cell_type": "code",
   "execution_count": 21,
   "id": "b553413b",
   "metadata": {},
   "outputs": [
    {
     "name": "stdout",
     "output_type": "stream",
     "text": [
      "0 Le\n",
      "1 site\n",
      "2 apcpedagogie.com\n",
      "3 est\n",
      "4 un\n",
      "5 site\n",
      "6 d'autoformation\n"
     ]
    }
   ],
   "source": [
    "site = ['Le', 'site', 'apcpedagogie.com', 'est','un', 'site', \"d'autoformation\"]\n",
    "for index, value in enumerate(site):\n",
    "    print (index, value)"
   ]
  },
  {
   "cell_type": "markdown",
   "id": "d19ef0d7",
   "metadata": {},
   "source": [
    "<p><span>Pour faire des boucles sur deux s&eacute;quences ou plus en m&ecirc;me temps, les &eacute;l&eacute;ments peuvent &ecirc;tre associ&eacute;s par la fonction&nbsp;</span><strong><em><code>zip()</code></em></strong><span>:</span></p>"
   ]
  },
  {
   "cell_type": "code",
   "execution_count": 22,
   "id": "2b097ea9",
   "metadata": {},
   "outputs": [
    {
     "name": "stdout",
     "output_type": "stream",
     "text": [
      "What is your name?  It is lancelot.\n",
      "What is your quest?  It is the holy grail.\n",
      "What is your favorite color?  It is blue.\n"
     ]
    }
   ],
   "source": [
    "questions = ['name', 'quest', 'favorite color']\n",
    "answers = ['lancelot', 'the holy grail', 'blue']\n",
    "for q, a in zip(questions, answers):\n",
    "    print('What is your {0}?  It is {1}.'.format(q, a))"
   ]
  },
  {
   "cell_type": "markdown",
   "id": "637da2ce",
   "metadata": {},
   "source": [
    "<h3><span style=\"text-decoration: underline;\">2.4. Trier une liste</span></h3>\n",
    "<p style=\"text-align: justify;\">Les fonctions <em><strong><code>sorted()</code></strong></em> et <strong><em><code>sort()</code></em></strong> permettent de trier une liste. la fonction <strong><em><code>sort()</code></em></strong>&nbsp;permet de trier et modifier les listes elles-m&ecirc;mes, tandis que la fonction <strong><em><code>sorted()</code></em></strong>&nbsp;permet de trier tout en construisant une nouvelle liste tri&eacute;e depuis un it&eacute;rable. Le tri pourra &ecirc;tre effectu&eacute; dans l'ordre <em><strong>inverse</strong></em><strong>(<em><code>reverse</code></em>)</strong></p>"
   ]
  },
  {
   "cell_type": "code",
   "execution_count": 23,
   "id": "b878eee7",
   "metadata": {},
   "outputs": [
    {
     "name": "stdout",
     "output_type": "stream",
     "text": [
      "[1, 2, 3, 4]\n",
      "[1, 2, 3, 4]\n",
      "[1, 2, 3, 4]\n"
     ]
    }
   ],
   "source": [
    "#utiliser sorted sans le nom de la liste\n",
    "print(sorted([1, 4, 3, 2]))\n",
    "#utiliser sorted avec le nom de la liste\n",
    "maListe=[1, 4, 3, 2]\n",
    "print(sorted(maListe))\n",
    "#utiliser le nom de la liste puis sort()\n",
    "maListe.sort()\n",
    "print(maListe)"
   ]
  },
  {
   "cell_type": "code",
   "execution_count": 24,
   "id": "f5b1fbeb",
   "metadata": {},
   "outputs": [
    {
     "name": "stdout",
     "output_type": "stream",
     "text": [
      "[4, 3, 2, 1]\n",
      "[4, 3, 2, 1]\n"
     ]
    }
   ],
   "source": [
    "maListe=[1, 4, 3, 2]\n",
    "maListe.sort(reverse=True)\n",
    "print(maListe)\n",
    "print(sorted(maListe,reverse=True))"
   ]
  },
  {
   "cell_type": "markdown",
   "id": "056d33f2",
   "metadata": {},
   "source": [
    "<h3><span style=\"text-decoration: underline;\"><strong>2.5. Ajouter un &eacute;l&eacute;ment &agrave; une liste</strong></span></h3>\n",
    "<p style=\"text-align: justify;\">Pour ajouter des &eacute;l&eacute;ments dans une <em><strong>liste</strong></em>, <em><strong>Python</strong></em> dispose de plusieurs m&eacute;thodes&nbsp;:</p>\n",
    "<ul>\n",
    "<li style=\"text-align: justify;\"><code><em><strong>.append(item)</strong></em></code>&rarr; Ajoute un item &agrave; la fin de ta liste</li>\n",
    "<li style=\"text-align: justify;\"><code>.<em><strong>insert(index, item)</strong></em></code>&rarr; Ajoute un item &agrave; la position indiqu&eacute;e en param&egrave;tre</li>\n",
    "<li style=\"text-align: justify;\"><code>.<em><strong>extend(iterable)</strong></em></code>&rarr; Ajouter tous les items de la collection dans ta liste</li>\n",
    "</ul>\n",
    "<p>La méthode <em><strong><code>append()</code>&nbsp;</strong></em>sert &agrave; ajouter un &eacute;l&eacute;ment &agrave; la fin d&rsquo;une liste. C'est la méthode la plus connue et celle qui est le plus souvent utilisée:</p>"
   ]
  },
  {
   "cell_type": "code",
   "execution_count": 25,
   "id": "764f653c",
   "metadata": {},
   "outputs": [
    {
     "name": "stdout",
     "output_type": "stream",
     "text": [
      "['Paris', 'Lille', 'Lyon']\n",
      "['Paris', 'Lille', 'Lyon', 'Strasbourg']\n"
     ]
    }
   ],
   "source": [
    "# Ajoute un objet (un nombre, une chaîne ....) à la fin de ma_liste\n",
    "villes = ['Paris', 'Lille', 'Lyon']\n",
    "print(villes)\n",
    "villes.append('Strasbourg')\n",
    "print(villes)"
   ]
  },
  {
   "cell_type": "markdown",
   "id": "5273d42b",
   "metadata": {},
   "source": [
    "<p>La m&eacute;thode<span>&nbsp;</span><em><strong><code>extend()</code></strong></em><span>&nbsp;</span>ajoute les &eacute;l&eacute;ments de liste sp&eacute;cifi&eacute;s (ou tout &eacute;l&eacute;ment it&eacute;rable) &agrave; la fin de la liste actuelle.</p>"
   ]
  },
  {
   "cell_type": "code",
   "execution_count": 26,
   "id": "f0cd35f6",
   "metadata": {},
   "outputs": [
    {
     "name": "stdout",
     "output_type": "stream",
     "text": [
      "['Paris', 'Lille', 'Lyon']\n",
      "['Paris', 'Lille', 'Lyon', 'Strasbourg', 'Marseille']\n"
     ]
    }
   ],
   "source": [
    "villes = ['Paris', 'Lille', 'Lyon']\n",
    "autres_villes = ['Strasbourg', 'Marseille']\n",
    "print(villes)\n",
    "villes.extend(autres_villes)\n",
    "print(villes)  # ['Paris', 'Lille', 'Lyon', 'Strasbourg', 'Marseille']"
   ]
  },
  {
   "cell_type": "markdown",
   "id": "603bd7f1",
   "metadata": {},
   "source": [
    "<p style=\"text-align: justify;\">La m&eacute;thode&nbsp;<code><em><strong>append()</strong></em></code> ne fonctionne que pour l&rsquo;ajout d&rsquo;&eacute;l&eacute;ments &agrave; la fin de la liste, pour l&rsquo;ajout d&rsquo;un &eacute;l&eacute;ment &agrave; la position souhait&eacute;e, la m&eacute;thode <em><strong><code>.insert(indice, &eacute;l&eacute;ment)</code></strong></em>&nbsp;est utilis&eacute;e. Contrairement &agrave;&nbsp;<em><strong><code>append()</code>&nbsp;</strong></em>qui ne prend qu&rsquo;un seul argument, la m&eacute;thode&nbsp;<em><strong><code>.insert(indice, &eacute;l&eacute;ment)</code>&nbsp;</strong></em>n&eacute;cessite deux arguments&nbsp;<em><strong>(position, valeur)</strong></em>.</p>"
   ]
  },
  {
   "cell_type": "code",
   "execution_count": 27,
   "id": "77846a82",
   "metadata": {},
   "outputs": [
    {
     "name": "stdout",
     "output_type": "stream",
     "text": [
      "['Paris', 'Lille', 'Lyon']\n",
      "['Paris', 'Strasbourg', 'Lille', 'Lyon']\n"
     ]
    }
   ],
   "source": [
    "villes = ['Paris', 'Lille', 'Lyon']\n",
    "print(villes)\n",
    "villes.insert(1, 'Strasbourg')\n",
    "print(villes)  # ['Paris', 'Strasbourg', 'Lille', 'Lyon']"
   ]
  },
  {
   "cell_type": "markdown",
   "id": "bbd66eb5",
   "metadata": {},
   "source": [
    "<p style=\"text-align: justify;\"><span>On peux l&agrave; aussi utiliser un indice n&eacute;gatif, pour ins&eacute;rer un &eacute;l&eacute;ment en partant de la fin de la liste :</span></p>"
   ]
  },
  {
   "cell_type": "code",
   "execution_count": 28,
   "id": "89bf31c0",
   "metadata": {},
   "outputs": [
    {
     "name": "stdout",
     "output_type": "stream",
     "text": [
      "['Paris', 'Lille', 'Nice', 'Strasbourg', 'Lyon']\n"
     ]
    }
   ],
   "source": [
    "villes = ['Paris', 'Lille', 'Lyon']\n",
    "villes.insert(-1, 'Strasbourg')\n",
    "villes.insert(-2, 'Nice')\n",
    "print(villes)"
   ]
  },
  {
   "cell_type": "markdown",
   "id": "7063ec1a",
   "metadata": {},
   "source": [
    "<div>\n",
    "<h3><span style=\"text-decoration: underline;\"><strong>2.6. Modifier des &eacute;l&eacute;ments</strong></span></h3>\n",
    "</div>\n",
    "<p>Une <em><strong>liste</strong> </em>est un objet <em><strong>muable</strong></em>, ce qui signifie qu'on peut la modifier sans probl&egrave;me !</p>\n",
    "<ul>\n",
    "<li><code><strong><em>liste[indice] = value</em></strong></code><span>&nbsp;</span>&rarr; Assigne une nouvelle valeur</li>\n",
    "<li><code><em><strong>liste[d&eacute;but:fin] = [value1, value2, ...]</strong></em></code><span>&nbsp;</span>&rarr; Assigne des nouvelles valeur sur l'intervalle donn&eacute;</li>\n",
    "</ul>\n",
    "<p></p>"
   ]
  },
  {
   "cell_type": "code",
   "execution_count": 29,
   "id": "47e15e31",
   "metadata": {},
   "outputs": [
    {
     "name": "stdout",
     "output_type": "stream",
     "text": [
      "['Paris', 'Strasbourg', 'Lyon']\n"
     ]
    }
   ],
   "source": [
    "villes = ['Paris', 'Lille', 'Lyon']\n",
    "villes[1] = 'Strasbourg'\n",
    "print(villes)  # ['Paris', 'Strasbourg', 'Lyon']"
   ]
  },
  {
   "cell_type": "code",
   "execution_count": 30,
   "id": "928c6747",
   "metadata": {},
   "outputs": [
    {
     "name": "stdout",
     "output_type": "stream",
     "text": [
      "['Paris', 'Strasbourg', 'Rennes']\n"
     ]
    }
   ],
   "source": [
    "villes = ['Paris', 'Lille', 'Lyon']\n",
    "villes[1:] = ['Strasbourg', 'Rennes']\n",
    "print(villes)  # ['Paris', 'Strasbourg', 'Rennes']"
   ]
  },
  {
   "cell_type": "markdown",
   "id": "702aaae2",
   "metadata": {},
   "source": [
    "<div>\n",
    "<div>\n",
    "<h3 style=\"text-align: justify;\"><span><strong>2.7. Supprimer des &eacute;l&eacute;ments</strong></span></h3>\n",
    "</div>\n",
    "<p style=\"text-align: justify;\">Il existe trois fa&ccedil;ons de supprimer un &eacute;l&eacute;ment :</p>\n",
    "<ul style=\"text-align: justify;\">\n",
    "<li><em><strong><code>del liste[indice]</code>&nbsp;</strong></em>&rarr; Supprime un ou plusieurs &eacute;l&eacute;ments d'une liste. Peut aussi &ecirc;tre utilis&eacute; pour&nbsp;<strong>d&eacute;truire&nbsp;</strong>compl&egrave;tement une liste.</li>\n",
    "<li><code><em><strong>liste.pop(indice)</strong></em></code>&rarr; Retire un &eacute;l&eacute;ment de la liste. Si on ne pr&eacute;cises pas d'indice, cela retire automatiquement le dernier &eacute;l&eacute;ment. Et surtout, cela permet de r&eacute;cup&eacute;rer l'&eacute;l&eacute;ment supprim&eacute;.</li>\n",
    "<li><em><strong><code>liste.remove(item)</code></strong></em>&rarr; cherche la&nbsp;<strong>1&egrave;re occurrence</strong><span>&nbsp;d&rsquo;une valeur &agrave; enlever puis la supprime.</span></li>\n",
    "</ul>\n",
    "</div>"
   ]
  },
  {
   "cell_type": "code",
   "execution_count": 31,
   "id": "48433dc6",
   "metadata": {},
   "outputs": [
    {
     "name": "stdout",
     "output_type": "stream",
     "text": [
      "['a', 'e', 'i', 'o', 'e', 'u', 'y']\n",
      "['a', 'e', 'i', 'o', 'e', 'u']\n",
      "u ['a', 'e', 'i', 'o', 'e']\n",
      "['a', 'i', 'o', 'e']\n",
      "['i', 'o', 'e']\n",
      "['e']\n",
      "[]\n"
     ]
    }
   ],
   "source": [
    "voyelles = ['a','e','i','o','e','u','y']\n",
    "print(voyelles)\n",
    "# Suppression du dernnier element de la liste\n",
    "voyelles.pop()\n",
    "print(voyelles)\n",
    "# Suppression du dernnier element de la liste, l;element supprimer est placer dans la variable lettre\n",
    "lettre = voyelles.pop()\n",
    "print(lettre, voyelles)\n",
    "# Suppression de la premiere occurence de la lettre 'e' de la liste\n",
    "voyelles.remove('e')\n",
    "print(voyelles)\n",
    "# Suppression du premier element de la liste\n",
    "del(voyelles[0])\n",
    "print(voyelles)\n",
    "# Suppression des deux premiers elements de la liste\n",
    "del(voyelles[0:2])\n",
    "print(voyelles)\n",
    "\n",
    "voyelles = ['a','e','i','o','e','u','y']\n",
    "voyelles.clear()\n",
    "print(voyelles)"
   ]
  },
  {
   "cell_type": "code",
   "execution_count": 32,
   "id": "0f1fb8d7",
   "metadata": {},
   "outputs": [
    {
     "name": "stdout",
     "output_type": "stream",
     "text": [
      "['Paris', 'Lille', 'Lyon']\n",
      "['Lille', 'Lyon']\n"
     ]
    }
   ],
   "source": [
    "villes = ['Paris', 'Lille', 'Lyon']\n",
    "print(villes) \n",
    "del villes[0]\n",
    "print(villes)  # ['Lille', 'Lyon']"
   ]
  },
  {
   "cell_type": "code",
   "execution_count": 33,
   "id": "f501a664",
   "metadata": {},
   "outputs": [
    {
     "ename": "NameError",
     "evalue": "name 'villes' is not defined",
     "output_type": "error",
     "traceback": [
      "\u001b[1;31m---------------------------------------------------------------------------\u001b[0m",
      "\u001b[1;31mNameError\u001b[0m                                 Traceback (most recent call last)",
      "Input \u001b[1;32mIn [33]\u001b[0m, in \u001b[0;36m<cell line: 4>\u001b[1;34m()\u001b[0m\n\u001b[0;32m      1\u001b[0m villes \u001b[38;5;241m=\u001b[39m [\u001b[38;5;124m'\u001b[39m\u001b[38;5;124mParis\u001b[39m\u001b[38;5;124m'\u001b[39m, \u001b[38;5;124m'\u001b[39m\u001b[38;5;124mLille\u001b[39m\u001b[38;5;124m'\u001b[39m, \u001b[38;5;124m'\u001b[39m\u001b[38;5;124mLyon\u001b[39m\u001b[38;5;124m'\u001b[39m]\n\u001b[0;32m      3\u001b[0m \u001b[38;5;28;01mdel\u001b[39;00m villes\n\u001b[1;32m----> 4\u001b[0m \u001b[38;5;28mprint\u001b[39m(\u001b[43mvilles\u001b[49m)\n",
      "\u001b[1;31mNameError\u001b[0m: name 'villes' is not defined"
     ]
    }
   ],
   "source": [
    "villes = ['Paris', 'Lille', 'Lyon']\n",
    "\n",
    "del villes\n",
    "print(villes)  # NameError"
   ]
  },
  {
   "cell_type": "code",
   "execution_count": 34,
   "id": "00a27da5",
   "metadata": {},
   "outputs": [
    {
     "name": "stdout",
     "output_type": "stream",
     "text": [
      "['Paris', 'Lyon']\n",
      "Lille\n"
     ]
    }
   ],
   "source": [
    "villes = ['Paris', 'Lille', 'Lyon']\n",
    "\n",
    "ma_ville = villes.pop(1)\n",
    "print(villes)    # [’Paris', 'Lyon']\n",
    "print(ma_ville)  # Lille"
   ]
  },
  {
   "cell_type": "code",
   "execution_count": 35,
   "id": "b24a2af5",
   "metadata": {},
   "outputs": [
    {
     "name": "stdout",
     "output_type": "stream",
     "text": [
      "['Lille', 'Lyon']\n"
     ]
    }
   ],
   "source": [
    "villes = ['Paris', 'Lille', 'Lyon']\n",
    "\n",
    "villes.remove('Paris')\n",
    "print(villes)  # ['Lille', 'Lyon']"
   ]
  },
  {
   "cell_type": "code",
   "execution_count": 36,
   "id": "ead48cf9",
   "metadata": {},
   "outputs": [
    {
     "ename": "ValueError",
     "evalue": "list.remove(x): x not in list",
     "output_type": "error",
     "traceback": [
      "\u001b[1;31m---------------------------------------------------------------------------\u001b[0m",
      "\u001b[1;31mValueError\u001b[0m                                Traceback (most recent call last)",
      "Input \u001b[1;32mIn [36]\u001b[0m, in \u001b[0;36m<cell line: 3>\u001b[1;34m()\u001b[0m\n\u001b[0;32m      1\u001b[0m villes \u001b[38;5;241m=\u001b[39m [\u001b[38;5;124m'\u001b[39m\u001b[38;5;124mParis\u001b[39m\u001b[38;5;124m'\u001b[39m, \u001b[38;5;124m'\u001b[39m\u001b[38;5;124mLille\u001b[39m\u001b[38;5;124m'\u001b[39m, \u001b[38;5;124m'\u001b[39m\u001b[38;5;124mLyon\u001b[39m\u001b[38;5;124m'\u001b[39m]\n\u001b[1;32m----> 3\u001b[0m \u001b[43mvilles\u001b[49m\u001b[38;5;241;43m.\u001b[39;49m\u001b[43mremove\u001b[49m\u001b[43m(\u001b[49m\u001b[38;5;124;43m'\u001b[39;49m\u001b[38;5;124;43mMarseille\u001b[39;49m\u001b[38;5;124;43m'\u001b[39;49m\u001b[43m)\u001b[49m\n\u001b[0;32m      4\u001b[0m \u001b[38;5;28mprint\u001b[39m(villes)\n",
      "\u001b[1;31mValueError\u001b[0m: list.remove(x): x not in list"
     ]
    }
   ],
   "source": [
    "villes = ['Paris', 'Lille', 'Lyon']\n",
    "\n",
    "villes.remove('Marseille')\n",
    "print(villes)  # ValueError"
   ]
  },
  {
   "cell_type": "markdown",
   "id": "e8ce12f4",
   "metadata": {},
   "source": [
    "<h3><span style=\"text-decoration: underline;\">2.8. Copier une liste</span></h3>\n",
    "<p style=\"text-align: justify;\"><span>A l&rsquo;inverse des objets de type immuable, une affectation ne signifie pas une copie. Afin d&rsquo;&eacute;viter certaines op&eacute;rations superflues et parfois co&ucirc;teuses en temps de traitement, on doit distinguer la variable de son contenu. Une variable d&eacute;signe une liste avec un mot (ou identificateur), une affection permet de cr&eacute;er un second mot pour d&eacute;signer la m&ecirc;me liste. Il est alors &eacute;quivalent de faire des op&eacute;rations avec le premier mot ou le second comme le montre l&rsquo;exemple suivant</span><span>.</span></p>"
   ]
  },
  {
   "cell_type": "code",
   "execution_count": 37,
   "id": "7d7c0fb6",
   "metadata": {},
   "outputs": [
    {
     "name": "stdout",
     "output_type": "stream",
     "text": [
      "[4, 5, 6]\n",
      "[4, 5, 6]\n",
      "[4, 'modif', 6]\n",
      "[4, 'modif', 6]\n"
     ]
    }
   ],
   "source": [
    "l = [4, 5, 6]\n",
    "l2 = l\n",
    "print(l)            # affiche [4,5,6]\n",
    "print(l2)           # affiche [4,5,6]\n",
    "l2[1] = \"modif\"\n",
    "print(l)            # affiche [4, 'modif', 6]\n",
    "print(l2)           # affiche [4, 'modif', 6]"
   ]
  },
  {
   "cell_type": "markdown",
   "id": "78acff4f",
   "metadata": {},
   "source": [
    "<p style=\"text-align: justify;\"><span>Par cons&eacute;quent, lorsqu&rsquo;on affecte une liste &agrave; une variable, celle-ci n&rsquo;est pas recopi&eacute;e, la liste re&ccedil;oit seulement un nom de variable. L&rsquo;affectation est en fait l&rsquo;association d&rsquo;un nom avec un objet</span><span>. Pour copier une liste, il faut utiliser la fonction&nbsp;</span><em><strong><code>copy()</code></strong></em><span>&nbsp;du module&nbsp;</span><em><strong><code>copy</code></strong></em>.</p>"
   ]
  },
  {
   "cell_type": "code",
   "execution_count": 38,
   "id": "4d77d6da",
   "metadata": {},
   "outputs": [
    {
     "name": "stdout",
     "output_type": "stream",
     "text": [
      "[4, 5, 6]\n",
      "[4, 5, 6]\n",
      "[4, 5, 6]\n",
      "[4, 'modif', 6]\n"
     ]
    }
   ],
   "source": [
    "import copy\n",
    "l = [4, 5, 6]\n",
    "l2 = copy.copy(l)\n",
    "print(l)            # affiche [4,5,6]\n",
    "print(l2)           # affiche [4,5,6]\n",
    "l2[1] = \"modif\"\n",
    "print(l)            # affiche [4,5,6]\n",
    "print(l2)           # affiche [4, 'modif', 6]"
   ]
  },
  {
   "cell_type": "markdown",
   "id": "0221f767",
   "metadata": {},
   "source": [
    "<p style=\"text-align: justify;\"><span>L&rsquo;op&eacute;rateur&nbsp;</span><code><span>==</span></code><span>&nbsp;permet de savoir si deux listes sont &eacute;gales m&ecirc;me si l&rsquo;une est une copie de l&rsquo;autre. Le mot-cl&eacute;&nbsp;</span>is<span>&nbsp;permet de v&eacute;rifier si deux variables font r&eacute;f&eacute;rence &agrave; la m&ecirc;me liste ou si l&rsquo;une est une copie de l&rsquo;autre comme le montre l&rsquo;exemple suivant:</span></p>"
   ]
  },
  {
   "cell_type": "code",
   "execution_count": 39,
   "id": "478c8651",
   "metadata": {},
   "outputs": [
    {
     "name": "stdout",
     "output_type": "stream",
     "text": [
      "True\n",
      "False\n",
      "True\n"
     ]
    }
   ],
   "source": [
    "import copy\n",
    "l = [1, 2, 3]\n",
    "l2 = copy.copy(l)\n",
    "l3 = l\n",
    "\n",
    "print(l == l2)  # affiche True\n",
    "print(l is l2)  # affiche False\n",
    "print(l is l3)  # affiche True"
   ]
  },
  {
   "cell_type": "markdown",
   "id": "82f18a2c",
   "metadata": {},
   "source": [
    "<p style=\"text-align: justify;\"><span>Le comportement de la fonction <em><strong><code>copy()</code></strong></em></span><span>&nbsp;peut surprendre dans le cas o&ugrave; une liste contient d&rsquo;autres listes. Pour &ecirc;tre s&ucirc;r que chaque &eacute;l&eacute;ment d&rsquo;une liste a &eacute;t&eacute; correctement recopi&eacute;e, il faut utiliser la fonction&nbsp;</span><em><strong><code>deepcopy()</code></strong></em><span>. La fonction est plus longue mais elle recopie toutes les listes que ce soit une liste incluse dans une liste elle-m&ecirc;me incluse dans une autre liste elle-m&ecirc;me incluse&hellip;</span></p>"
   ]
  },
  {
   "cell_type": "code",
   "execution_count": 40,
   "id": "58b02ac3",
   "metadata": {},
   "outputs": [
    {
     "name": "stdout",
     "output_type": "stream",
     "text": [
      "[[1111, 2, 3], [4, 5, 6]]\n",
      "[[1111, 2, 3], [4, 5, 6]]\n",
      "[[1, 2, 3], [4, 5, 6]]\n",
      "False\n",
      "True\n",
      "False\n"
     ]
    }
   ],
   "source": [
    "import copy\n",
    "l = [[1, 2, 3], [4, 5, 6]]\n",
    "l2 = copy.copy(l)\n",
    "l3 = copy.deepcopy(l)\n",
    "l[0][0] = 1111\n",
    "print(l)                # affiche [[1111, 2, 3], [4, 5, 6]]\n",
    "print(l2)               # affiche [[1111, 2, 3], [4, 5, 6]]\n",
    "print(l3)               # affiche [[1, 2, 3], [4, 5, 6]]\n",
    "print(l is l2)          # affiche False\n",
    "print(l[0] is l2[0])  # affiche True\n",
    "print(l[0] is l3[0])  # affiche False"
   ]
  },
  {
   "cell_type": "markdown",
   "id": "d61df219",
   "metadata": {},
   "source": [
    "<h2><span style=\"text-decoration: underline;\">3. R&eacute;sum&eacute; des fonction utiliser par les listes</span></h2>\n",
    "\n",
    "<table>\n",
    "    <tbody>\n",
    "        <tr>\n",
    "            <td>\n",
    "                <p style=\"text-align: justify;\"><code>x&nbsp;in&nbsp;l</code></p>\n",
    "            </td>\n",
    "            <td>\n",
    "                <p style=\"text-align: justify;\">vrai si <code>x</code> est un des &eacute;l&eacute;ments de <code>l</code></p>\n",
    "            </td>\n",
    "        </tr>\n",
    "        <tr>\n",
    "            <td>\n",
    "                <p style=\"text-align: justify;\"><code>x&nbsp;not&nbsp;in&nbsp;l</code></p>\n",
    "            </td>\n",
    "            <td>\n",
    "                <p style=\"text-align: justify;\">r&eacute;ciproque de la ligne pr&eacute;c&eacute;dente</p>\n",
    "            </td>\n",
    "        </tr>\n",
    "        <tr>\n",
    "            <td>\n",
    "                <p style=\"text-align: justify;\"><code>l&nbsp;+&nbsp;t</code></p>\n",
    "            </td>\n",
    "            <td>\n",
    "                <p style=\"text-align: justify;\">concat&eacute;nation de <code>l</code> et <code>t</code></p>\n",
    "            </td>\n",
    "        </tr>\n",
    "        <tr>\n",
    "            <td>\n",
    "                <p style=\"text-align: justify;\"><code>l&nbsp;*&nbsp;n</code></p>\n",
    "            </td>\n",
    "            <td>\n",
    "                <p style=\"text-align: justify;\">concat&egrave;ne <code>n</code> copies de <code>l</code> les unes &agrave; la suite des autres</p>\n",
    "            </td>\n",
    "        </tr>\n",
    "        <tr>\n",
    "            <td>\n",
    "                <p style=\"text-align: justify;\"><code>l[i]</code></p>\n",
    "            </td>\n",
    "            <td>\n",
    "                <p style=\"text-align: justify;\">retourne l&rsquo;&eacute;l&eacute;ment i$^text{&egrave;me}$ &eacute;l&eacute;ment de <code>l</code>, &agrave; la diff&eacute;rence des tuples, l&rsquo;instruction <code>l&nbsp;[i]&nbsp;=&nbsp;&quot;a&quot;</code> est valide, elle remplace l&rsquo;&eacute;l&eacute;ment <code>i</code> par <code>&quot;a&quot;</code>. Un indice n&eacute;gatif correspond &agrave; la position <code>len(l)+i</code>.</p>\n",
    "            </td>\n",
    "        </tr>\n",
    "        <tr>\n",
    "            <td>\n",
    "                <p style=\"text-align: justify;\"><code>l[i:j]</code></p>\n",
    "            </td>\n",
    "            <td>\n",
    "                <p style=\"text-align: justify;\">retourne une liste contenant les &eacute;l&eacute;ments de <code>l</code> d&rsquo;indices <em>i</em> &agrave; <em>j</em> exclu. Il est possible de remplacer cette sous-liste par une autre en utilisant l&rsquo;affectation <code>l[i:j]&nbsp;=&nbsp;l2</code> o&ugrave; <code>l2</code> est une autre liste (ou un tuple) de dimension diff&eacute;rente ou &eacute;gale.</p>\n",
    "            </td>\n",
    "        </tr>\n",
    "        <tr>\n",
    "            <td>\n",
    "                <p style=\"text-align: justify;\"><code>l[i:j:k]</code></p>\n",
    "            </td>\n",
    "            <td>\n",
    "                <p style=\"text-align: justify;\">retourne une liste contenant les &eacute;l&eacute;ments de <code>l</code> dont les indices sont compris entre <em>i</em> et <em>j</em> exclu, ces indices sont espac&eacute;s de <em>k</em> : <img src=\"http://www.xavierdupre.fr/app/teachpyx/helpsphinx/_images/math/db2b3f0ca6050d02c7fcdf41f0f1dd3cda17894b.svg\" alt=\"i, i+k, i+2k, i+3k, ...\"> Ici encore, il est possible d&rsquo;&eacute;crire l&rsquo;affectation suivante : <code>l[i:j:k]&nbsp;=&nbsp;l2</code> mais <code>l2</code> doit &ecirc;tre une liste (ou un tuple) de m&ecirc;me dimension que <code>l[i:j:k]</code>.</p>\n",
    "            </td>\n",
    "        </tr>\n",
    "        <tr>\n",
    "            <td>\n",
    "                <p style=\"text-align: justify;\"><code>len(l)</code></p>\n",
    "            </td>\n",
    "            <td>\n",
    "                <p style=\"text-align: justify;\">nombre d&rsquo;&eacute;l&eacute;ments de <code>l</code></p>\n",
    "            </td>\n",
    "        </tr>\n",
    "        <tr>\n",
    "            <td>\n",
    "                <p style=\"text-align: justify;\"><code>min(l)</code></p>\n",
    "            </td>\n",
    "            <td>\n",
    "                <p style=\"text-align: justify;\">plus petit &eacute;l&eacute;ment de <code>l</code>, r&eacute;sultat difficile &agrave; pr&eacute;voir lorsque les types des &eacute;l&eacute;ments sont diff&eacute;rents</p>\n",
    "            </td>\n",
    "        </tr>\n",
    "        <tr>\n",
    "            <td>\n",
    "                <p style=\"text-align: justify;\"><code>max(l)</code></p>\n",
    "            </td>\n",
    "            <td>\n",
    "                <p style=\"text-align: justify;\">plus grand &eacute;l&eacute;ment de <code>l</code></p>\n",
    "            </td>\n",
    "        </tr>\n",
    "        <tr>\n",
    "            <td>\n",
    "                <p style=\"text-align: justify;\"><code>sum(l)</code></p>\n",
    "            </td>\n",
    "            <td>\n",
    "                <p style=\"text-align: justify;\">retourne la somme de tous les &eacute;l&eacute;ments</p>\n",
    "            </td>\n",
    "        </tr>\n",
    "        <tr>\n",
    "            <td>\n",
    "                <p style=\"text-align: justify;\"><code>del&nbsp;l&nbsp;[i:j]</code></p>\n",
    "            </td>\n",
    "            <td>\n",
    "                <p style=\"text-align: justify;\">supprime les &eacute;l&eacute;ments d&rsquo;indices entre <code>i</code> et <code>j</code> exclu. Cette instruction est &eacute;quivalente &agrave; <code>l&nbsp;[i:j]&nbsp;=&nbsp;[]</code>.</p>\n",
    "            </td>\n",
    "        </tr>\n",
    "        <tr>\n",
    "            <td>\n",
    "                <p style=\"text-align: justify;\"><code>list&nbsp;(x)</code></p>\n",
    "            </td>\n",
    "            <td>\n",
    "                <p style=\"text-align: justify;\">convertit <code>x</code> en une liste quand cela est possible</p>\n",
    "            </td>\n",
    "        </tr>\n",
    "        <tr>\n",
    "            <td>\n",
    "                <p style=\"text-align: justify;\"><code>l.count&nbsp;(x)</code></p>\n",
    "            </td>\n",
    "            <td>\n",
    "                <p style=\"text-align: justify;\">Retourne le nombre d&rsquo;occurrences de l&rsquo;&eacute;l&eacute;ment <code>x</code>.&nbsp;</p>\n",
    "            </td>\n",
    "        </tr>\n",
    "        <tr>\n",
    "            <td>\n",
    "                <p style=\"text-align: justify;\"><code>l.index&nbsp;(x)</code></p>\n",
    "            </td>\n",
    "            <td>\n",
    "                <p style=\"text-align: justify;\">Retourne l&rsquo;indice de la premi&egrave;re occurrence de l&rsquo;&eacute;l&eacute;ment <code>x</code> dans la liste <code>l</code>. Si celle-ci n&rsquo;existe pas, une exception est d&eacute;clench&eacute;e.<a href=\"http://www.xavierdupre.fr/app/teachpyx/helpsphinx/c_exception/exception.html#chap-exception\"></a></p>\n",
    "            </td>\n",
    "        </tr>\n",
    "        <tr>\n",
    "            <td>\n",
    "                <p style=\"text-align: justify;\"><code>l.append&nbsp;(x)</code></p>\n",
    "            </td>\n",
    "            <td>\n",
    "                <p style=\"text-align: justify;\">Ajoute l&rsquo;&eacute;l&eacute;ment <code>x</code> &agrave; la fin de la liste <code>l</code>. Si <code>x</code> est une liste, cette fonction ajoute la liste <code>x</code> en tant qu&rsquo;&eacute;l&eacute;ment, au final, la liste <code>l</code> ne contiendra qu&rsquo;un &eacute;l&eacute;ment de plus.</p>\n",
    "            </td>\n",
    "        </tr>\n",
    "        <tr>\n",
    "            <td>\n",
    "                <p style=\"text-align: justify;\"><code>l.extend&nbsp;(k)</code></p>\n",
    "            </td>\n",
    "            <td>\n",
    "                <p style=\"text-align: justify;\">Ajoute tous les &eacute;l&eacute;ments de la liste <code>k</code> &agrave; la liste <code>l</code>. La liste <code>l</code> aura autant d&rsquo;&eacute;l&eacute;ments suppl&eacute;mentaires qu&rsquo;il y en a dans la liste <code>k</code>.</p>\n",
    "            </td>\n",
    "        </tr>\n",
    "        <tr>\n",
    "            <td>\n",
    "                <p style=\"text-align: justify;\"><code>l.insert(i,x)</code></p>\n",
    "            </td>\n",
    "            <td>\n",
    "                <p style=\"text-align: justify;\">Ins&egrave;re l&rsquo;&eacute;l&eacute;ment <code>x</code> &agrave; la position <code>i</code> dans la liste <code>l</code>.</p>\n",
    "            </td>\n",
    "        </tr>\n",
    "        <tr>\n",
    "            <td>\n",
    "                <p style=\"text-align: justify;\"><code>l.remove&nbsp;(x)</code></p>\n",
    "            </td>\n",
    "            <td>\n",
    "                <p style=\"text-align: justify;\">Supprime la premi&egrave;re occurrence de l&rsquo;&eacute;l&eacute;ment <code>x</code> dans la liste <code>l</code>. S&rsquo;il n&rsquo;y a aucune occurrence de <code>x</code>, cette m&eacute;thode d&eacute;clenche une exception.</p>\n",
    "            </td>\n",
    "        </tr>\n",
    "        <tr>\n",
    "            <td>\n",
    "                <p style=\"text-align: justify;\"><code>l.pop&nbsp;([i])</code></p>\n",
    "            </td>\n",
    "            <td>\n",
    "                <p style=\"text-align: justify;\">Retourne l&rsquo;&eacute;l&eacute;ment <code>l[i]</code> et le supprime de la liste. Le param&egrave;tre <code>i</code> est facultatif, s&rsquo;il n&rsquo;est pas pr&eacute;cis&eacute;, c&rsquo;est le dernier &eacute;l&eacute;ment qui est retourn&eacute; puis supprim&eacute; de la liste.</p>\n",
    "            </td>\n",
    "        </tr>\n",
    "        <tr>\n",
    "            <td>\n",
    "                <p style=\"text-align: justify;\"><code>l.reverse&nbsp;(x)</code></p>\n",
    "            </td>\n",
    "            <td>\n",
    "                <p style=\"text-align: justify;\">Retourne la liste, le premier et dernier &eacute;l&eacute;ment &eacute;change leurs places, le second et l&rsquo;avant dernier, et ainsi de suite.</p>\n",
    "            </td>\n",
    "        </tr>\n",
    "        <tr>\n",
    "            <td>\n",
    "                <p style=\"text-align: justify;\"><code>l.sort&nbsp;([key=None,&nbsp;reverse=False])</code></p>\n",
    "            </td>\n",
    "            <td>\n",
    "                <p style=\"text-align: justify;\">Cette fonction trie la liste par ordre croissant. Le param&egrave;tre <code>key</code> est facultatif, il permet de pr&eacute;ciser la fonction qui pr&eacute;cise cl&eacute; de comparaison qui doit &ecirc;tre utilis&eacute;e lors du tri. Si <code>reverse</code> est <code>True</code>, alors le tri est d&eacute;croissant.</p>\n",
    "            </td>\n",
    "        </tr>\n",
    "    </tbody>\n",
    "</table>"
   ]
  }
 ],
 "metadata": {
  "kernelspec": {
   "display_name": "Python 3 (ipykernel)",
   "language": "python",
   "name": "python3"
  },
  "language_info": {
   "codemirror_mode": {
    "name": "ipython",
    "version": 3
   },
   "file_extension": ".py",
   "mimetype": "text/x-python",
   "name": "python",
   "nbconvert_exporter": "python",
   "pygments_lexer": "ipython3",
   "version": "3.9.12"
  }
 },
 "nbformat": 4,
 "nbformat_minor": 5
}
