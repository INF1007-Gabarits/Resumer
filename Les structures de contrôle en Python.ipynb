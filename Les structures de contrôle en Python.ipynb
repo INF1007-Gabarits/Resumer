{
 "cells": [
  {
   "cell_type": "markdown",
   "id": "e3589dc4",
   "metadata": {},
   "source": [
    "<h1><span style=\"text-decoration: underline;\"><strong>Les structures de contr&ocirc;le en <em>Python</em></strong></span></h1>\n",
    "<h2><span style=\"text-decoration: underline;\"><strong>1. Les structures de contr&ocirc;le conditionnelles</strong></span></h2>\n",
    "<ul style=\"list-style-type: disc;\">\n",
    "<li style=\"text-align: justify;\">Une structure de contr&ocirc;le conditionnelle permet &agrave; un programme de modifier son traitement en fonction d&rsquo;une <em><strong><code>condition</code></strong></em>. Cette condition n&rsquo;est qu&rsquo;une expression qui renvoie une valeur <strong><em>vrai </em></strong>ou <em><strong>faux</strong></em></li>\n",
    "<li style=\"text-align: justify;\">Une structure de contr&ocirc;le est un ensemble d&rsquo;instructions qui permet de contr&ocirc;ler l&rsquo;ex&eacute;cution du code.</li>\n",
    "<li style=\"text-align: justify;\">Le test par <code><em><strong>if</strong></em></code>&nbsp;est le premier outil de s&eacute;lection en <em><strong>Python</strong></em>. Le test <code><em><strong>if</strong></em></code>&nbsp;avec ses autres blocs permettent de choisir une partie du code &agrave; effectuer parmi d&rsquo;autres. Le choix se fait par une op&eacute;ration logique.</li>\n",
    "<li style=\"text-align: justify;\">L&rsquo;instruction <code><em><strong>if</strong></em></code>&nbsp;en <em><strong>Python</strong> </em>peut comporter plusieurs tests conditionnels <code><em><strong>elif</strong></em></code>, et se termine par un bloc optionnel <code><em><strong>else</strong></em></code>. Le bloc qui sera ex&eacute;cut&eacute; sera le premier dont la condition est vraie, sinon le <code><em><strong>else</strong></em></code>, qui ne comporte aucune condition, sera ex&eacute;cut&eacute;.</li>\n",
    "<li style=\"text-align: justify;\"><em><strong>Python</strong></em> nous fournit les structures conditionnelles suivantes:</li>\n",
    "</ul>\n",
    "<p style=\"text-align: justify;\"><img src=\"https://apcpedagogie.com/wp-content/uploads/2020/07/if-if&hellip;else-et-if&hellip;elif&hellip;else-en-Python-4.jpg\" alt=\"if, if&hellip;else et if&hellip;elif&hellip;else en Python\" width=\"724\" height=\"356\" srcset=\"https://apcpedagogie.com/wp-content/uploads/2020/07/if-if&hellip;else-et-if&hellip;elif&hellip;else-en-Python-4.jpg 724w, https://apcpedagogie.com/wp-content/uploads/2020/07/if-if&hellip;else-et-if&hellip;elif&hellip;else-en-Python-4-600x295.jpg 600w, https://apcpedagogie.com/wp-content/uploads/2020/07/if-if&hellip;else-et-if&hellip;elif&hellip;else-en-Python-4-300x148.jpg 300w\" sizes=\"(max-width: 724px) 100vw, 724px\" /></p>\n",
    "<ul>\n",
    "<ul>\n",
    "<li style=\"text-align: justify;\">La condition <strong><em><code>if</code> </em></strong>(\"si\") ;</li>\n",
    "<li style=\"text-align: justify;\">La condition <strong><em><code>if&hellip;else</code></em></strong> (\"si&hellip;sinon\") ;</li>\n",
    "<li style=\"text-align: justify;\">La condition <em><strong><code>if&hellip;elif&hellip;else</code></strong></em> (\"si&hellip;sinon si&hellip; sinon\") .</li>\n",
    "</ul>\n",
    "</ul>"
   ]
  },
  {
   "cell_type": "markdown",
   "id": "41f876a4",
   "metadata": {},
   "source": [
    "<h2 style=\"text-align: justify;\"><span style=\"text-decoration: underline;\">1.1. La condition <code><em>if</em></code> en <em>Python</em></span></h2>\n",
    "<p style=\"text-align: justify;\">La condition <strong><em><code>if</code></em></strong> en <em><strong>Python&nbsp;</strong></em>est la d&eacute;claration de prise de d&eacute;cision la plus simple. Il est utilis&eacute; pour d&eacute;cider si une certaine instruction ou un bloc d&rsquo;instructions sera ex&eacute;cut&eacute; ou non, c&rsquo;est-&agrave;-dire si une certaine condition est <strong>vraie</strong>, alors un bloc d&rsquo;instruction est ex&eacute;cut&eacute; sinon.</p>\n",
    "<p style=\"text-align: justify;\">L&rsquo;instruction <em><strong><code>if</code>&nbsp;</strong></em>(\"<em><strong>si</strong></em>\") est associ&eacute;e &agrave; une expression termin&eacute;e par le caract&egrave;re :. Chaque &eacute;l&eacute;ment de l&rsquo;expression est &eacute;valu&eacute; tour &agrave; tour. Si l&rsquo;expression &eacute;valu&eacute;e renvoie <em><strong><code>False</code></strong></em>, l&rsquo;interpr&eacute;teur n&rsquo;ex&eacute;cute pas le contenu de la structure. Dans le cas o&ugrave; l&rsquo;&eacute;valuation de l&rsquo;expression renvoi <em><strong><code>True</code></strong></em>, le bloc est ex&eacute;cut&eacute;.</p>\n",
    "<div style=\"text-align: justify;\">\n",
    "<h3><span style=\"text-decoration: underline;\">1.1.1. Bloc d&rsquo;instructions - Indentation</span></h3>\n",
    "Un bloc est d&eacute;fini par une <strong>indentation</strong> obtenue en d&eacute;calant le d&eacute;but des instructions vers la droite gr&acirc;ce &agrave; des <em>espaces en d&eacute;but de ligne</em> (habituellement 4 espaces mais ce n&rsquo;est pas obligatoire). Toutes les instructions d&rsquo;un m&ecirc;me bloc doivent &ecirc;tre indent&eacute;es exactement au m&ecirc;me niveau (c&rsquo;est-&agrave;-dire d&eacute;cal&eacute;es &agrave; droite d&rsquo;un m&ecirc;me nombre d&rsquo;espaces).\n",
    "<p>Un bloc peut contenir une ou plusieurs instructions, et notamment des instructions compos&eacute;es (tests, boucles, etc.).</p>\n",
    "</div>\n",
    "<div>\n",
    "<h3 style=\"text-align: justify;\"><span style=\"text-decoration: underline;\">1.1.2. Syntaxe et organigramme</span></h3>\n",
    "</div>\n",
    "\n",
    "```python\n",
    "if condition:\n",
    "    Instruction A\n",
    "```\n",
    "\n",
    "<p><img src=\"https://drive.google.com/uc?export=view&amp;id=1fLVqLH6W0vKTC0XGgwMo951oZn-4R5IS\" style=\"display: block; margin-left: auto; margin-right: auto;\" /></p>\n",
    "<p style=\"text-align: justify;\"><em><strong><code>condition</code></strong></em>est une expression <em><strong>bool&eacute;enne</strong></em>, c&rsquo;est-&agrave;-dire une expression qui prend pour valeur <em><strong><code>True</code></strong></em>ou <em><strong><code>False</code></strong></em>.</p>\n",
    "<p style=\"text-align: justify;\">L'<em>instruction A</em> n&rsquo;est ex&eacute;cut&eacute;e que <strong>si</strong> la <code><span>condition</span></code> est v&eacute;rifi&eacute;e (c&rsquo;est-&agrave;-dire si elle prend pour valeur <em><strong><code>True</code></strong></em>).</p>\n",
    "<p style=\"text-align: justify;\">L&rsquo;instruction <strong><em><code>if</code></em></strong>&nbsp;est une instruction compos&eacute;e. Le <code><span>:</span></code> (deux-points) &agrave; la fin de la ligne introduit le bloc d&rsquo;instructions qui sera ex&eacute;cut&eacute; <strong>si</strong> la <em><strong><code>condition</code></strong></em>est v&eacute;rifi&eacute;e.</p>"
   ]
  },
  {
   "cell_type": "code",
   "execution_count": 1,
   "id": "555ec089",
   "metadata": {},
   "outputs": [
    {
     "name": "stdout",
     "output_type": "stream",
     "text": [
      "15 est plus grand que 10\n",
      "Fin\n"
     ]
    }
   ],
   "source": [
    "x = 15\n",
    "if x > 10:\n",
    "    print(x, \"est plus grand que 10\")\n",
    "print(\"Fin\")"
   ]
  },
  {
   "cell_type": "code",
   "execution_count": 2,
   "id": "49a16c66",
   "metadata": {},
   "outputs": [
    {
     "name": "stdout",
     "output_type": "stream",
     "text": [
      "Fin\n"
     ]
    }
   ],
   "source": [
    "x = 3\n",
    "if x > 10:\n",
    "    print(x, \"est plus grand que 10\")\n",
    "print(\"Fin\")"
   ]
  },
  {
   "cell_type": "markdown",
   "id": "82d6cca8",
   "metadata": {},
   "source": [
    "<h2 style=\"text-align: justify;\"><span style=\"text-decoration: underline;\">1.2. La condition <code>if&hellip; else</code> en Python</span></h2>\n",
    "<p style=\"text-align: justify;\">L&rsquo;instruction&nbsp;<strong><em><code>if</code></em></strong><u>seule</u> nous dit que si une condition est <em><strong>vraie</strong></em>, elle ex&eacute;cutera un bloc d&rsquo;instructions et si la condition est <em><strong>fausse</strong></em>, elle ne le fera pas. Mais que faire si nous voulons faire autre chose si la condition est <em><strong>fausse</strong></em>. Nous pouvons utiliser l&rsquo; instruction&nbsp;<em><strong><code>else</code>&nbsp;</strong></em>avec l&rsquo;instruction <em><strong><code>if</code>&nbsp;</strong></em>pour ex&eacute;cuter un bloc de code lorsque la condition est <em><strong>fausse</strong></em>.</p>\n",
    "<h3 style=\"text-align: justify;\"><span style=\"text-decoration: underline;\">1.2.1. Syntaxe et organigramme</span></h3>\n",
    "<ol style=\"text-align: justify;\"></ol>\n",
    "\n",
    "```python\n",
    "if condition:\n",
    "    Instruction A\n",
    "else:\n",
    "    Instruction B\n",
    "```\n",
    "\n",
    "<p><img src=\"https://drive.google.com/uc?export=view&amp;id=1didKE2iLjAKvmdiVn89jAVtO9ibNalO2\" style=\"display: block; margin-left: auto; margin-right: auto;\" /></p>"
   ]
  },
  {
   "cell_type": "code",
   "execution_count": 3,
   "id": "4c72812b",
   "metadata": {},
   "outputs": [
    {
     "name": "stdout",
     "output_type": "stream",
     "text": [
      "5 est positif\n",
      "Fin\n"
     ]
    }
   ],
   "source": [
    "x = 5\n",
    "if x > 0:\n",
    "    print(x, \"est positif\")\n",
    "else:\n",
    "    print(x, \"est négatif ou nul\")\n",
    "print(\"Fin\")"
   ]
  },
  {
   "cell_type": "code",
   "execution_count": 4,
   "id": "2ed0ad84",
   "metadata": {},
   "outputs": [
    {
     "name": "stdout",
     "output_type": "stream",
     "text": [
      "-2 est négatif ou nul\n",
      "Fin\n"
     ]
    }
   ],
   "source": [
    "x = -2\n",
    "if x > 0:\n",
    "    print(x, \"est positif\")\n",
    "else:\n",
    "    print(x, \"est négatif ou nul\")\n",
    "print(\"Fin\")"
   ]
  },
  {
   "cell_type": "markdown",
   "id": "a8cfcc73",
   "metadata": {},
   "source": [
    "<h3 style=\"text-align: justify;\"><span style=\"text-decoration: underline;\">1.3. La condition <em><code>if&hellip; elif&hellip; else</code></em> en Python</span></h3>\n",
    "<p style=\"text-align: justify;\">La condition <em><strong><code>if&hellip;elif&hellip;else</code></strong></em> (\"si&hellip;sinon si&hellip;sinon\") est une structure conditionnelle encore plus compl&egrave;te que la condition <em><strong><code>if&hellip;else</code></strong></em>&nbsp;qui vannons permettre cette fois-ci d&rsquo;effectuer autant de tests que l&rsquo;on souhaite et ainsi de prendre en compte le nombre de cas souhait&eacute;.</p>\n",
    "<p style=\"text-align: justify;\">Pour cette instruction <em><strong><code>if&hellip;elif&hellip;else</code></strong></em>, un utilisateur peut choisir entre plusieurs options. Les instructions&nbsp;<em><strong><code>if</code></strong></em>sont ex&eacute;cut&eacute;es de haut en bas. D&egrave;s qu&rsquo;une des conditions contr&ocirc;lant l&rsquo;<strong><em><code>if</code></em></strong>&nbsp;est <em><strong>vraie</strong></em>, l&rsquo;instruction associ&eacute;e &agrave; l&rsquo;<strong><em><code>if</code></em></strong>&nbsp;est ex&eacute;cut&eacute;e et le reste de l&rsquo;&eacute;chelle est contourn&eacute;. Si aucune des conditions n&rsquo;est <em><strong>vraie</strong></em>, alors la derni&egrave;re instruction <em><strong><code>else</code>&nbsp;</strong></em>sera ex&eacute;cut&eacute;e.</p>\n",
    "<h3 style=\"text-align: justify;\"><span style=\"text-decoration: underline;\">1.3.1. Syntaxe et organigramme</span></h3>\n",
    "\n",
    "```python\n",
    "if condition:\n",
    "    Instruction A\n",
    "elif:\n",
    "    Instruction B\n",
    "else:\n",
    "    Instruction c\n",
    "```\n",
    "\n",
    "<p><img src=\"https://drive.google.com/uc?export=view&amp;id=1tlUNgLO4QDi80JLtW9DFslKViaMuezqA\" style=\"display: block; margin-left: auto; margin-right: auto;\" /></p>"
   ]
  },
  {
   "cell_type": "code",
   "execution_count": 5,
   "id": "2e792885",
   "metadata": {},
   "outputs": [
    {
     "name": "stdout",
     "output_type": "stream",
     "text": [
      "5 est positif\n",
      "Fin\n"
     ]
    }
   ],
   "source": [
    "x = 5\n",
    "if x > 0:\n",
    "    print(x, \"est positif\")\n",
    "elif x < 0:\n",
    "    print(x, \"est négatif\")\n",
    "else:\n",
    "    print(x, \"est nul\")\n",
    "print(\"Fin\")"
   ]
  },
  {
   "cell_type": "code",
   "execution_count": 6,
   "id": "233279ac",
   "metadata": {},
   "outputs": [
    {
     "name": "stdout",
     "output_type": "stream",
     "text": [
      "-5 est négatif\n",
      "Fin\n"
     ]
    }
   ],
   "source": [
    "x = -5\n",
    "if x > 0:\n",
    "    print(x, \"est positif\")\n",
    "elif x < 0:\n",
    "    print(x, \"est négatif\")\n",
    "else:\n",
    "    print(x, \"est nul\")\n",
    "print(\"Fin\")"
   ]
  },
  {
   "cell_type": "code",
   "execution_count": 7,
   "id": "8fc69a50",
   "metadata": {},
   "outputs": [
    {
     "name": "stdout",
     "output_type": "stream",
     "text": [
      "0 est nul\n",
      "Fin\n"
     ]
    }
   ],
   "source": [
    "x = 0\n",
    "if x > 0:\n",
    "    print(x, \"est positif\")\n",
    "elif x < 0:\n",
    "    print(x, \"est négatif\")\n",
    "else:\n",
    "    print(x, \"est nul\")\n",
    "print(\"Fin\")"
   ]
  },
  {
   "cell_type": "markdown",
   "id": "e98cada4",
   "metadata": {},
   "source": [
    "<h2 style=\"text-align: justify;\"><span style=\"text-decoration: underline;\"><strong>2. Les structures de contr&ocirc;le it&eacute;ratives</strong></span></h2>\n",
    "<p style=\"text-align: justify;\">Les boucles permettent de r&eacute;p&eacute;ter une certaine op&eacute;ration autant de fois que n&eacute;cessaire.</p>\n",
    "<p style=\"text-align: justify;\">En <em><strong>Python</strong></em>, on trouve deux types de boucle :</p>\n",
    "<ul style=\"list-style-type: disc; text-align: justify;\">\n",
    "<li>La boucle <em><strong><code>for</code> </strong></em>dans laquelle une variable parcourt une collection de valeurs.</li>\n",
    "<li>La boucle <em><strong><code>while</code></strong></em>&nbsp;qui se r&eacute;p&egrave;te tant qu&rsquo;une condition est vraie.</li>\n",
    "</ul>\n",
    "<h3 style=\"text-align: justify;\"><span style=\"text-decoration: underline;\"><strong>2.1. La boucle&nbsp;<em><code>for</code></em>:</strong></span></h3>\n",
    "<p style=\"text-align: justify;\">L&rsquo;instruction <em><strong><code>for</code> </strong></em>est une structure de contr&ocirc;le it&eacute;rative compl&egrave;te permet de r&eacute;p&eacute;ter l&rsquo;ex&eacute;cution d&rsquo;une suite d&rsquo;instructions un nombre fini de fois connu &agrave; l&rsquo;avance.</p>\n",
    "<p style=\"text-align: justify;\">L&rsquo;instruction <em><strong><code>for</code>&nbsp;</strong></em>travaille sur des s&eacute;quences. Elle est sp&eacute;cialis&eacute;es dans le parcours d&rsquo;une s&eacute;quence de plusieurs &eacute;l&eacute;ments.</p>\n",
    "<p style=\"text-align: justify;\">Contrairement &agrave; d&rsquo;autres langages comme le <em><strong>C</strong></em>, <em><strong>Python</strong> </em>n&rsquo;utilise pas de d&eacute;limiteurs pour regrouper les lignes. L&rsquo;indentation, souvent pr&eacute;sent&eacute;e comme un moyen de rendre les programmes plus lisibles, est ici int&eacute;gr&eacute;e &agrave; la syntaxe du langage. Il n&rsquo;y a pas non plus de d&eacute;limiteurs entre deux instructions autre qu&rsquo;un passage &agrave; la ligne.</p>\n",
    "<h4 style=\"text-align: justify;\"><span style=\"text-decoration: underline;\">2.1.1. Syntaxe et organigramme</span></h4>\n",
    "\n",
    "```python\n",
    "for index in séquence:\n",
    "    Instruction 1\n",
    "    Instruction 2\n",
    "\n",
    "    Instruction n\n",
    "```\n",
    "\n",
    "<p><img src=\"https://drive.google.com/uc?export=view&amp;id=1cuornQlbbjhdERDhV7ySWvOciru_iHgZ\" style=\"display: block; margin-left: auto; margin-right: auto;\" /></p>\n",
    "<p style=\"text-align: justify;\">L&rsquo;instruction <span><span><b><i>for</i></b></span></span>&nbsp;est une instruction compos&eacute;e, c&rsquo;est-&agrave;-dire une instruction dont l&rsquo;en-t&ecirc;te se termine par deux-points <code><span>:</span></code>, suivie d&rsquo;un bloc indent&eacute; qui constitue le <strong>corps de la boucle</strong>.</p>\n",
    "<p style=\"text-align: justify;\">On dit que l&rsquo;on r&eacute;alise une <strong>it&eacute;ration</strong> de la boucle &agrave; chaque fois que le corps de la boucle est ex&eacute;cut&eacute;.</p>\n",
    "<p style=\"text-align: justify;\">Dans l&rsquo;en-t&ecirc;te de la boucle, on pr&eacute;cise apr&egrave;s le mot-cl&eacute; <em><strong><code><span>for</span></code></strong></em>&nbsp;le nom d&rsquo;une variable (<em><strong><code><span>index</span></code></strong></em> dans l&rsquo;exemple ci-dessus) qui prendra successivement toutes les valeurs qui sont donn&eacute;es apr&egrave;s le mot-cl&eacute;&nbsp;<em><strong><code><span>in</span></code></strong></em>. On dit souvent que cette variable (ici <em><strong><code><span>index</span></code></strong></em>) est un <strong>compteur</strong> car elle sert &agrave; num&eacute;roter les it&eacute;rations de la boucle.</p>"
   ]
  },
  {
   "cell_type": "code",
   "execution_count": 8,
   "id": "6e427518",
   "metadata": {},
   "outputs": [
    {
     "name": "stdout",
     "output_type": "stream",
     "text": [
      "i a pour valeur 0\n",
      "i a pour valeur 1\n",
      "i a pour valeur 2\n",
      "i a pour valeur 3\n"
     ]
    }
   ],
   "source": [
    "for i in [0, 1, 2, 3]:\n",
    "    print(\"i a pour valeur\", i)"
   ]
  },
  {
   "cell_type": "markdown",
   "id": "5ae8880e",
   "metadata": {},
   "source": [
    "<p>Pour parcourir les indices d&rsquo;une <em><strong>liste</strong></em>, il est possible de combiner <em><strong><a><code>range()</code></a></strong></em> et <em><strong><a><code>len()</code></a></strong></em> comme ci-dessous:</p>"
   ]
  },
  {
   "cell_type": "code",
   "execution_count": 9,
   "id": "46f697f8",
   "metadata": {},
   "outputs": [
    {
     "name": "stdout",
     "output_type": "stream",
     "text": [
      "i a pour valeur 0\n",
      "i a pour valeur 1\n",
      "i a pour valeur 2\n",
      "i a pour valeur 3\n"
     ]
    }
   ],
   "source": [
    "for i in range(4):\n",
    "    print(\"i a pour valeur\", i)"
   ]
  },
  {
   "cell_type": "code",
   "execution_count": 10,
   "id": "0fac63a0",
   "metadata": {},
   "outputs": [
    {
     "name": "stdout",
     "output_type": "stream",
     "text": [
      "i vaut Marc\n",
      "i vaut est\n",
      "i vaut dans\n",
      "i vaut le\n",
      "i vaut jardin\n"
     ]
    }
   ],
   "source": [
    "c = [\"Marc\", \"est\", \"dans\", \"le\", \"jardin\"]\n",
    "for i in c:\n",
    "    print(\"i vaut\", i)"
   ]
  },
  {
   "cell_type": "code",
   "execution_count": 11,
   "id": "678c4edb",
   "metadata": {},
   "outputs": [
    {
     "name": "stdout",
     "output_type": "stream",
     "text": [
      "indice: 0 valeur: Marc\n",
      "indice: 1 valeur: est\n",
      "indice: 2 valeur: dans\n",
      "indice: 3 valeur: le\n",
      "indice: 4 valeur: jardin\n"
     ]
    }
   ],
   "source": [
    "c = [\"Marc\", \"est\", \"dans\", \"le\", \"jardin\"]\n",
    "for i, value in enumerate(c):\n",
    "    print(\"indice:\", i, \"valeur:\", value)"
   ]
  },
  {
   "cell_type": "markdown",
   "id": "a6cb40d3",
   "metadata": {},
   "source": [
    "<h3 style=\"text-align: justify;\"><span style=\"text-decoration: underline;\"><strong>2.2. La boucle&nbsp;<em><code>while</code></em>:</strong></span></h3>\n",
    "<p style=\"text-align: justify;\">En anglais <em><strong><code>while</code></strong></em> signifie <em><strong>Tant que</strong></em>. Pour cr&eacute;er une boucle , il faut donc utiliser ce mot cl&eacute; suivi d&rsquo;une indication qui dit quand la boucle s&rsquo;arr&ecirc;te. Lorsque l&rsquo;on souhaite effectuer une m&ecirc;me s&eacute;rie d&rsquo;instructions tant qu&rsquo;une condition donn&eacute;e reste v&eacute;rifi&eacute;e, on utilise une boucle <em><strong><code>while</code></strong></em>. Cette boucle <em><strong><code>while</code></strong></em> est utilis&eacute;e lorsqu&rsquo;elle correspond au cas o&ugrave; l&rsquo;on ne peut d&eacute;terminer &agrave; l&rsquo;avance le nombre d&rsquo;it&eacute;rations n&eacute;cessaires &agrave; la r&eacute;solution de notre probl&egrave;me.</p>\n",
    "<p style=\"text-align: justify;\">Le but de la boucle <em><strong><code>while</code></strong></em> est de r&eacute;p&eacute;ter certaines instructions tant qu&rsquo;une condition est respect&eacute;e. L&rsquo;avantage de <em><strong><code>while</code></strong></em> est donc qu&rsquo;il ne faut pas connaitre &agrave; l&rsquo;avance le nombre de fois o&ugrave; on devra r&eacute;p&eacute;ter notre boucle.</p>\n",
    "\n",
    "<h4 style=\"text-align: justify;\"><span style=\"text-decoration: underline;\">2.1.1. Syntaxe et organigramme</span></h4>\n",
    "\n",
    "```python\n",
    "while condition:\n",
    "    Instruction 1\n",
    "    Instruction 2\n",
    "\n",
    "    Instruction n\n",
    "```\n",
    "\n",
    "<p><img src=\"https://drive.google.com/uc?export=view&amp;id=1lIiQlRW4mDVtx31gWX74ru7rIK17uFMB\" style=\"display: block; margin-left: auto; margin-right: auto;\" /></p>"
   ]
  },
  {
   "cell_type": "code",
   "execution_count": 12,
   "id": "11ffaed1",
   "metadata": {},
   "outputs": [
    {
     "name": "stdout",
     "output_type": "stream",
     "text": [
      "x a pour valeur 1\n",
      "x a pour valeur 2\n",
      "x a pour valeur 4\n",
      "x a pour valeur 8\n",
      "Fin\n"
     ]
    }
   ],
   "source": [
    "x = 1\n",
    "while x < 10:\n",
    "    print(\"x a pour valeur\", x)\n",
    "    x = x * 2\n",
    "print(\"Fin\")"
   ]
  },
  {
   "cell_type": "markdown",
   "id": "d8393926",
   "metadata": {},
   "source": [
    "<h2><span style=\"text-decoration: underline;\">3. Les instructions&nbsp;<strong><code>break</code></strong><em><strong>,&nbsp;</strong><code>continue</code></em>, et la clause <em><code>else</code> </em>dans les boucles</span></h2>\n",
    "<h2><span style=\"text-decoration: underline;\">3.1. L&rsquo;instruction code <em><strong><code>break</code></strong></em></span></h2>\n",
    "<p>L&rsquo;instruction <em><strong><code>break</code> </strong></em>permet de &laquo; casser &raquo; l&rsquo;ex&eacute;cution d&rsquo;une boucle (<em><strong><code>while</code> </strong></em>ou <em><strong><code>for</code></strong></em>). Elle fait sortir de la boucle et passer &agrave; l&rsquo;instruction suivante.</p>"
   ]
  },
  {
   "cell_type": "code",
   "execution_count": 13,
   "id": "26843d81",
   "metadata": {},
   "outputs": [
    {
     "name": "stdout",
     "output_type": "stream",
     "text": [
      "debut iteration 0\n",
      "bonjour\n",
      "fin iteration 0\n",
      "debut iteration 1\n",
      "bonjour\n",
      "fin iteration 1\n",
      "debut iteration 2\n",
      "bonjour\n",
      "apres la boucle\n"
     ]
    }
   ],
   "source": [
    "for i in range(10):\n",
    "    print(\"debut iteration\", i)\n",
    "    print(\"bonjour\")\n",
    "    if i == 2:\n",
    "        break\n",
    "    print(\"fin iteration\", i)\n",
    "print(\"apres la boucle\")"
   ]
  },
  {
   "cell_type": "markdown",
   "id": "c847429a",
   "metadata": {},
   "source": [
    "<h3 style=\"text-align: justify;\"><span>3.2 L&rsquo;instruction </span><em><code><span>continue</span></code></em></h3>\n",
    "<p style=\"text-align: justify;\">L&rsquo;instruction <strong><em><code>continue</code> </em></strong>permet de passer pr&eacute;matur&eacute;ment au tour de boucle suivant. Elle fait continuer sur la prochaine it&eacute;ration de la boucle.</p>"
   ]
  },
  {
   "cell_type": "code",
   "execution_count": 14,
   "id": "24d4372f",
   "metadata": {},
   "outputs": [
    {
     "name": "stdout",
     "output_type": "stream",
     "text": [
      "debut iteration 0\n",
      "\t bonjour\n",
      "debut iteration 1\n",
      "\t bonjour\n",
      "debut iteration 2\n",
      "\t bonjour\n",
      "fin iteration 2\n",
      "debut iteration 3\n",
      "\t bonjour\n",
      "fin iteration 3\n",
      "apres la boucle\n"
     ]
    }
   ],
   "source": [
    "for i in range(4):\n",
    "    print(\"debut iteration\", i)\n",
    "    print(\"\\t bonjour\")\n",
    "    if i < 2:\n",
    "        continue\n",
    "    print(\"fin iteration\", i)\n",
    "print(\"apres la boucle\")"
   ]
  },
  {
   "cell_type": "markdown",
   "id": "af04c27a",
   "metadata": {},
   "source": [
    "<h3 style=\"text-align: justify;\"><span>3.3. La clause <em><code>else</code></em>dans une boucle</span></h3>\n",
    "<p style=\"text-align: justify;\">La clause <strong><em><code>else</code>&nbsp;</em></strong>dans un boucle permet de d&eacute;finir un bloc d&rsquo;instructions qui sera ex&eacute;cut&eacute; &agrave; la fin seulement si la boucle s&rsquo;est d&eacute;roul&eacute;e compl&eacute;tement sans &ecirc;tre interrompue par un <em><strong><code>break</code></strong></em>.</p>\n",
    "<p style=\"text-align: justify;\">Contrairement aux instructions pr&eacute;sentes apr&egrave;s la boucle, qui s&rsquo;ex&eacute;cutent dans tous les cas (avec ou sans interruption par un <em><strong><code>break</code></strong></em>), le bloc d&rsquo;instructions d&eacute;fini dans la clause <strong><em><code>else</code> </em></strong>ne s&rsquo;ex&eacute;cutera pas lors de l&rsquo;interruption par un <em><strong><code>break</code></strong></em>. Apr&egrave;s l&rsquo;interruption, on passera directement aux instructions apr&egrave;s la boucle.</p>\n",
    "<p style=\"text-align: justify;\">Autrement dit, le bloc de la clause <strong><em><code>else</code> </em></strong>est ex&eacute;cut&eacute; lorsque la boucle se termine par &eacute;puisement de la liste (avec <em><strong><code>for</code></strong></em>) ou quand la condition devient fausse (avec <em><strong><code>while</code></strong></em>), mais pas quand la boucle est interrompue par un <em><strong><code>break</code></strong></em>. Ceci est illustr&eacute; dans la boucle suivante, qui recherche des nombres premiers :</p>"
   ]
  },
  {
   "cell_type": "code",
   "execution_count": 3,
   "id": "8ce02084",
   "metadata": {},
   "outputs": [
    {
     "name": "stdout",
     "output_type": "stream",
     "text": [
      "2 est un nombre premier\n",
      "3 est un nombre premier\n",
      "4 egale 2 * 2\n",
      "5 est un nombre premier\n",
      "6 egale 2 * 3\n",
      "7 est un nombre premier\n"
     ]
    }
   ],
   "source": [
    "for n in range(2, 8):\n",
    "    for x in range(2, n):\n",
    "        if n % x == 0:\n",
    "            print(n, \"egale\", x, \"*\", n//x)\n",
    "            break\n",
    "    else:\n",
    "        print(n, \"est un nombre premier\")"
   ]
  },
  {
   "cell_type": "code",
   "execution_count": null,
   "id": "3df12b0a",
   "metadata": {},
   "outputs": [],
   "source": []
  }
 ],
 "metadata": {
  "kernelspec": {
   "display_name": "Python 3 (ipykernel)",
   "language": "python",
   "name": "python3"
  },
  "language_info": {
   "codemirror_mode": {
    "name": "ipython",
    "version": 3
   },
   "file_extension": ".py",
   "mimetype": "text/x-python",
   "name": "python",
   "nbconvert_exporter": "python",
   "pygments_lexer": "ipython3",
   "version": "3.9.12"
  }
 },
 "nbformat": 4,
 "nbformat_minor": 5
}
