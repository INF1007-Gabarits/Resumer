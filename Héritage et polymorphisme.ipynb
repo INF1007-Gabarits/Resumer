{
 "cells": [
  {
   "cell_type": "markdown",
   "id": "8012a371",
   "metadata": {},
   "source": [
    "<h1><span style=\"text-decoration: underline;\">H&eacute;ritage et polymorphisme</span></h1>\n",
    "<p style=\"text-align: justify;\">Une application <em><strong>Python</strong> </em>est compos&eacute;e d&rsquo;un ensemble d&rsquo;objets. Un des int&eacute;r&ecirc;ts de la programmation orient&eacute;e objet (<em><strong>POO</strong></em>) r&eacute;side dans les relations que ces objets entretiennent les uns avec les autres. Ces relations sont construites par les d&eacute;veloppeurs et constituent ce que l&rsquo;on appelle l&rsquo;architecture d&rsquo;une application. Il existe deux relations fondamentales en <em><strong>POO</strong> </em>:</p>\n",
    "<ul>\n",
    "<li style=\"text-align: justify;\"><span style=\"text-decoration: underline;\"><em><strong>a un(e) (has-a)</strong></em></span></li>\n",
    "</ul>\n",
    "<blockquote>\n",
    "<p style=\"text-align: justify;\">Cette relation permet de cr&eacute;er une relation de d&eacute;pendance d&rsquo;une classe envers une autre. Une classe a besoin des services d&rsquo;une autre classe pour r&eacute;aliser sa fonction. On parle &eacute;galement de relation de composition pour d&eacute;signer ce type de relation.</p>\n",
    "<p style=\"text-align: justify;\">La relation &laquo;&nbsp;<em><strong>a un</strong></em>&nbsp;&raquo; implique simplement qu&rsquo;un objet poss&egrave;de un attribut qui r&eacute;f&eacute;rence un autre objet. Par exemple, si une programme d&eacute;clare une classe<span>&nbsp;</span><em><code class=\"docutils literal notranslate\"><span class=\"pre\">Personne</span></code></em>, cette classe peut avoir une propri&eacute;t&eacute; pour stocker l&rsquo;adresse sous la forme d&rsquo;une classe adresse:</p>\n",
    "</blockquote>"
   ]
  },
  {
   "cell_type": "code",
   "execution_count": 2,
   "id": "26637b4b",
   "metadata": {},
   "outputs": [],
   "source": [
    "class Personne:\n",
    "\n",
    "    def __init__(self, nom, prenom, adresse):\n",
    "        self.nom = nom\n",
    "        self.prenom = prenom\n",
    "        self.adresse = adresse\n",
    "\n",
    "\n",
    "class Adresse:\n",
    "\n",
    "    def __init__(self, rue, code_postal, ville):\n",
    "        self.rue = rue\n",
    "        self.code_postal = code_postal\n",
    "        self.ville = ville\n",
    "\n",
    "\n",
    "adresse = Adresse(rue=\"4 rue d'ici\", code_postal=\"78000\", ville=\"Paris\")\n",
    "personne = Personne(prenom=\"Jean\", nom=\"Dumond\", adresse=adresse)"
   ]
  },
  {
   "cell_type": "markdown",
   "id": "49b531ae",
   "metadata": {},
   "source": [
    "<blockquote>\n",
    "<p style=\"text-align: justify;\">Le code ci-dessus illustre la relation de composition et on peut bien dire qu&rsquo;une <em><strong><code>personne</code>&nbsp;</strong></em>a une&nbsp;<code><em><strong>adresse</strong></em></code>.</p>\n",
    "</blockquote>\n",
    "<ul>\n",
    "<li style=\"text-align: justify;\"><span style=\"text-decoration: underline;\"><em><strong>est un(e) (is-a)</strong></em></span></li>\n",
    "</ul>\n",
    "<blockquote>\n",
    "<p style=\"text-align: justify;\">Cette relation permet de cr&eacute;er une cha&icirc;ne de relation d&rsquo;identit&eacute; entre des classes. Elle indique qu&rsquo;une classe peut &ecirc;tre assimil&eacute;e &agrave; une autre classe qui correspond &agrave; une notion plus abstraite ou plus g&eacute;n&eacute;rale. On parle<span>&nbsp;</span><strong>d&rsquo;h&eacute;ritage</strong><span>&nbsp;</span>pour d&eacute;signer le m&eacute;canisme qui permet d&rsquo;impl&eacute;menter ce type de relation.&nbsp;</p>\n",
    "</blockquote>\n",
    "<div class=\"section\" id=\"l-heritage\">\n",
    "<h2 style=\"text-align: justify;\"><span style=\"text-decoration: underline;\">1. L&rsquo;h&eacute;ritage</span><a class=\"headerlink\" href=\"https://gayerie.dev/docs/python/python3/heritage.html#l-heritage\" title=\"Lien permanent vers ce titre\"></a></h2>\n",
    "<p style=\"text-align: justify;\">L&rsquo;h&eacute;ritage est donc le m&eacute;canisme qui permet de traduire une relation de type &laquo;&nbsp;<em><strong>est un(e)</strong></em>&nbsp;&raquo;.</p>\n",
    "<p style=\"text-align: justify;\">Prenons l&rsquo;exemple d&rsquo;une classe<span>&nbsp;</span><em><strong><code class=\"docutils literal notranslate\"><span class=\"pre\">Voiture</span></code></strong></em><span>&nbsp;</span>et d&rsquo;une classe<span>&nbsp;</span><em><strong><code class=\"docutils literal notranslate\"><span class=\"pre\">Vehicule</span></code></strong></em>. Il est possible de dire qu&rsquo;une <code><em><strong>voiture</strong></em></code><span>&nbsp;</span><strong>est un</strong><span>&nbsp;</span><code><em><strong>v&eacute;hicule</strong></em></code>. On peut traduire cette relation en <em><strong>Python</strong></em>. On dit que<span>&nbsp;</span><em><strong><code class=\"docutils literal notranslate\"><span class=\"pre\">Vehicule</span></code></strong></em><span>&nbsp;</span>est la classe parente de<span>&nbsp;</span><em><strong><code class=\"docutils literal notranslate\"><span class=\"pre\">Voiture</span></code></strong></em><span>&nbsp;</span>ou la g&eacute;n&eacute;ralisation. Sym&eacute;triquement, on dit que<span>&nbsp;</span><em><strong><code class=\"docutils literal notranslate\"><span class=\"pre\">Voiture</span></code></strong></em><span>&nbsp;</span>est la <em><strong>classe enfant (ou fille)</strong></em> de<span>&nbsp;</span><em><strong><code class=\"docutils literal notranslate\"><span class=\"pre\">Vehicule</span></code></strong></em><span>&nbsp;</span>ou la sp&eacute;cialisation. On dit aussi que la classe<span>&nbsp;</span><em><strong><code class=\"docutils literal notranslate\"><span class=\"pre\">Vehicule</span></code></strong></em><span>&nbsp;</span>est la<span>&nbsp;</span><strong>super classe</strong><span>&nbsp;</span>de<span>&nbsp;</span><em><strong><code class=\"docutils literal notranslate\"><span class=\"pre\">Voiture</span></code></strong></em>.</p>\n",
    "</div>"
   ]
  },
  {
   "cell_type": "code",
   "execution_count": 4,
   "id": "a49c005f",
   "metadata": {},
   "outputs": [],
   "source": [
    "class Vehicule:\n",
    "    pass\n",
    "\n",
    "\n",
    "class Voiture(Vehicule):\n",
    "    pass"
   ]
  },
  {
   "cell_type": "markdown",
   "id": "4c74d2b6",
   "metadata": {},
   "source": [
    "<p style=\"text-align: justify;\">Cette relation se traduit en pr&eacute;cisant le nom de la classe parente entre parenth&egrave;ses apr&egrave;s le nom de la classe.</p>\n",
    "<p style=\"text-align: justify;\">Si nous cr&eacute;ons un objet &agrave; partir de la classe<span>&nbsp;</span><em><strong><code class=\"docutils literal notranslate\"><span class=\"pre\">Voiture</span></code></strong></em>, cet objet est &agrave; la fois de type<span>&nbsp;</span><em><strong><code class=\"docutils literal notranslate\"><span class=\"pre\">Vehicule</span></code></strong></em><span>&nbsp;</span>et de type<span>&nbsp;</span><em><strong><code class=\"docutils literal notranslate\"><span class=\"pre\">Voiture</span></code></strong></em>.</p>"
   ]
  },
  {
   "cell_type": "code",
   "execution_count": 5,
   "id": "7f07323c",
   "metadata": {},
   "outputs": [
    {
     "name": "stdout",
     "output_type": "stream",
     "text": [
      "True\n",
      "True\n"
     ]
    }
   ],
   "source": [
    "v = Voiture()\n",
    "print(isinstance(v, Voiture))\n",
    "print(isinstance(v, Vehicule))"
   ]
  },
  {
   "cell_type": "markdown",
   "id": "977fac1e",
   "metadata": {},
   "source": [
    "<p><span>Le mot de h&eacute;ritage vient du fait qu&rsquo;une classe fille h&eacute;rite des attributs et des comportements de sa classe m&egrave;re.</span></p>"
   ]
  },
  {
   "cell_type": "code",
   "execution_count": 7,
   "id": "6a323615",
   "metadata": {},
   "outputs": [],
   "source": [
    "class Vehicule:\n",
    "\n",
    "    def __init__(self):\n",
    "        self._vitesse = 0\n",
    "\n",
    "    @property\n",
    "    def vitesse(self):\n",
    "        return self._vitesse\n",
    "\n",
    "    def accelerer(self, delta_vitesse):\n",
    "        self._vitesse += delta_vitesse\n",
    "\n",
    "    def decelerer(self, delta_vitesse):\n",
    "        self._vitesse -= delta_vitesse\n",
    "\n",
    "\n",
    "class Voiture(Vehicule):\n",
    "    pass"
   ]
  },
  {
   "cell_type": "code",
   "execution_count": 8,
   "id": "5cf32142",
   "metadata": {},
   "outputs": [
    {
     "data": {
      "text/plain": [
       "0"
      ]
     },
     "execution_count": 8,
     "metadata": {},
     "output_type": "execute_result"
    }
   ],
   "source": [
    "v = Voiture()\n",
    "v.vitesse"
   ]
  },
  {
   "cell_type": "code",
   "execution_count": 10,
   "id": "3d5d9f24",
   "metadata": {},
   "outputs": [
    {
     "data": {
      "text/plain": [
       "120"
      ]
     },
     "execution_count": 10,
     "metadata": {},
     "output_type": "execute_result"
    }
   ],
   "source": [
    "v.accelerer(40)\n",
    "v.vitesse"
   ]
  },
  {
   "cell_type": "markdown",
   "id": "cdc15d9f",
   "metadata": {},
   "source": [
    "<p>Les objets de type<span>&nbsp;</span><em><strong><code class=\"docutils literal notranslate\"><span class=\"pre\">Voiture</span></code></strong></em><span>&nbsp;</span>disposent des m&ecirc;mes comportements, propri&eacute;t&eacute;s et attributs d&eacute;clar&eacute;s dans la classe<span>&nbsp;</span><em><strong><code class=\"docutils literal notranslate\"><span class=\"pre\">Vehicule</span></code></strong></em>.</p>\n",
    "<p>La classe fille peut fournir ses propres comportements et ses propres attributs:</p>"
   ]
  },
  {
   "cell_type": "code",
   "execution_count": 7,
   "id": "5f605d19",
   "metadata": {},
   "outputs": [],
   "source": [
    "class Voiture(Vehicule):\n",
    "\n",
    "    def klaxonner(self):\n",
    "        print(\"tût tût !\")"
   ]
  },
  {
   "cell_type": "markdown",
   "id": "52a62a51",
   "metadata": {},
   "source": [
    "<h3><span style=\"text-decoration: underline;\">1.1. Constructeur et h&eacute;ritage</span></h3>\n",
    "<p style=\"text-align: justify;\"><span>Le constructeur est, comme toutes les m&eacute;thodes, h&eacute;rit&eacute;. Cependant que ce passe-t-il si nous souhaitons ajouter une constructeur dans notre classe&nbsp;</span><em><strong><code class=\"docutils literal notranslate\"><span class=\"pre\">Voiture</span></code></strong></em><span>?</span></p>"
   ]
  },
  {
   "cell_type": "code",
   "execution_count": 8,
   "id": "ad1fcb2b",
   "metadata": {},
   "outputs": [],
   "source": [
    "class Voiture(Vehicule):\n",
    "\n",
    "    def __init__(self, klaxon=\"tût tût !\"):\n",
    "        self.klaxon = klaxon\n",
    "\n",
    "    def klaxonner(self):\n",
    "        print(self.klaxon)"
   ]
  },
  {
   "cell_type": "code",
   "execution_count": 9,
   "id": "87e82dcf",
   "metadata": {},
   "outputs": [
    {
     "name": "stdout",
     "output_type": "stream",
     "text": [
      "tût tût !\n"
     ]
    }
   ],
   "source": [
    "v = Voiture()\n",
    "v.klaxonner()"
   ]
  },
  {
   "cell_type": "code",
   "execution_count": 10,
   "id": "c5cf6d12",
   "metadata": {},
   "outputs": [
    {
     "ename": "AttributeError",
     "evalue": "'Voiture' object has no attribute '_vitesse'",
     "output_type": "error",
     "traceback": [
      "\u001b[1;31m---------------------------------------------------------------------------\u001b[0m",
      "\u001b[1;31mAttributeError\u001b[0m                            Traceback (most recent call last)",
      "Input \u001b[1;32mIn [10]\u001b[0m, in \u001b[0;36m<cell line: 1>\u001b[1;34m()\u001b[0m\n\u001b[1;32m----> 1\u001b[0m \u001b[43mv\u001b[49m\u001b[38;5;241;43m.\u001b[39;49m\u001b[43mvitesse\u001b[49m\n",
      "Input \u001b[1;32mIn [4]\u001b[0m, in \u001b[0;36mVehicule.vitesse\u001b[1;34m(self)\u001b[0m\n\u001b[0;32m      6\u001b[0m \u001b[38;5;129m@property\u001b[39m\n\u001b[0;32m      7\u001b[0m \u001b[38;5;28;01mdef\u001b[39;00m \u001b[38;5;21mvitesse\u001b[39m(\u001b[38;5;28mself\u001b[39m):\n\u001b[1;32m----> 8\u001b[0m     \u001b[38;5;28;01mreturn\u001b[39;00m \u001b[38;5;28;43mself\u001b[39;49m\u001b[38;5;241;43m.\u001b[39;49m\u001b[43m_vitesse\u001b[49m\n",
      "\u001b[1;31mAttributeError\u001b[0m: 'Voiture' object has no attribute '_vitesse'"
     ]
    }
   ],
   "source": [
    "v.vitesse"
   ]
  },
  {
   "cell_type": "markdown",
   "id": "a9bf7010",
   "metadata": {},
   "source": [
    "<p style=\"text-align: justify;\"><span>Cela ne fonctionne plus car le constructeur d&eacute;clar&eacute; dans la classe&nbsp;</span><em><strong><code>Voiture</code></strong></em><span>&nbsp;remplace et cache celui h&eacute;rit&eacute; de la classe&nbsp;</span><em><strong><code>Vehicule</code></strong></em><span>&nbsp;et l&rsquo;initialisation de l&rsquo;attribut&nbsp;</span><em><strong><code>_vitesse</code></strong></em><span>&nbsp;n&rsquo;est plus faite. Quand une classe h&eacute;rite d&rsquo;une autre classe, elle a la responsabilit&eacute; de s&rsquo;assurer que le constructeur de la classe parente est appel&eacute; pour garantir l&rsquo;initialisation. Pour cela, <em><strong>Python 3</strong></em> fournit la fonction&nbsp;</span><em><strong><code>super()</code></strong></em><span>&nbsp;qui retourne le type de la super classe. L&rsquo;impl&eacute;mentation correcte de la classe&nbsp;</span><em><strong><code>Voiture</code></strong></em><span>&nbsp;doit donc &ecirc;tre:</span></p>"
   ]
  },
  {
   "cell_type": "code",
   "execution_count": 11,
   "id": "24931860",
   "metadata": {},
   "outputs": [],
   "source": [
    "class Voiture(Vehicule):\n",
    "\n",
    "    def __init__(self, klaxon=\"tût tût !\"):\n",
    "        super().__init__()\n",
    "        self.klaxon = klaxon\n",
    "\n",
    "    def klaxonner(self):\n",
    "        print(self.klaxon)"
   ]
  },
  {
   "cell_type": "code",
   "execution_count": 12,
   "id": "ad528564",
   "metadata": {},
   "outputs": [
    {
     "name": "stdout",
     "output_type": "stream",
     "text": [
      "tût tût !\n"
     ]
    }
   ],
   "source": [
    "v = Voiture()\n",
    "v.klaxonner()"
   ]
  },
  {
   "cell_type": "code",
   "execution_count": 13,
   "id": "816af6bc",
   "metadata": {},
   "outputs": [
    {
     "data": {
      "text/plain": [
       "0"
      ]
     },
     "execution_count": 13,
     "metadata": {},
     "output_type": "execute_result"
    }
   ],
   "source": [
    "v.vitesse"
   ]
  },
  {
   "cell_type": "markdown",
   "id": "500f0d90",
   "metadata": {},
   "source": [
    "<p style=\"text-align: justify;\"><span>Il est donc facile de passer des param&egrave;tres &agrave; l&rsquo;initialisation de la classe parente si cette derni&egrave;re attend des param&egrave;tres de constructeur.</span></p>"
   ]
  },
  {
   "cell_type": "code",
   "execution_count": 14,
   "id": "2d638067",
   "metadata": {},
   "outputs": [],
   "source": [
    "class Vehicule:\n",
    "\n",
    "    def __init__(self, marque=None, vitesse_initiale=0):\n",
    "        self.marque = marque\n",
    "        self._vitesse = vitesse_initiale\n",
    "\n",
    "    @property\n",
    "    def vitesse(self):\n",
    "        return self._vitesse\n",
    "\n",
    "    def accelerer(self, delta_vitesse):\n",
    "        self._vitesse += delta_vitesse\n",
    "\n",
    "    def decelerer(self, delta_vitesse):\n",
    "        self._vitesse -= delta_vitesse\n",
    "\n",
    "\n",
    "class Voiture(Vehicule):\n",
    "\n",
    "    def __init__(self, marque=None, vitesse_initiale=0, klaxon=\"tût tût !\"):\n",
    "        super().__init__(marque, vitesse_initiale)\n",
    "        self.klaxon = klaxon\n",
    "\n",
    "    def klaxonner(self):\n",
    "        print(self.klaxon)"
   ]
  },
  {
   "cell_type": "code",
   "execution_count": 15,
   "id": "e325f8b8",
   "metadata": {},
   "outputs": [
    {
     "data": {
      "text/plain": [
       "88.0"
      ]
     },
     "execution_count": 15,
     "metadata": {},
     "output_type": "execute_result"
    }
   ],
   "source": [
    "v = Voiture(\"De Lorean\", 88.0)\n",
    "v.vitesse"
   ]
  },
  {
   "cell_type": "code",
   "execution_count": 16,
   "id": "4ba95046",
   "metadata": {},
   "outputs": [
    {
     "data": {
      "text/plain": [
       "'De Lorean'"
      ]
     },
     "execution_count": 16,
     "metadata": {},
     "output_type": "execute_result"
    }
   ],
   "source": [
    "v.marque"
   ]
  },
  {
   "cell_type": "code",
   "execution_count": 17,
   "id": "f11b342f",
   "metadata": {},
   "outputs": [
    {
     "name": "stdout",
     "output_type": "stream",
     "text": [
      "tût tût !\n"
     ]
    }
   ],
   "source": [
    "v.klaxonner()"
   ]
  },
  {
   "cell_type": "markdown",
   "id": "92fcded5",
   "metadata": {},
   "source": [
    "<p style=\"text-align: justify;\">Pour cha&icirc;ner l&rsquo;appel des constructeurs, il est &eacute;galement possibled&rsquo;appeler directement le constructeur en d&eacute;signant la classe parente:</p>\n",
    "\n",
    "    \n",
    "```python\n",
    "class Voiture(Vehicule):\n",
    "    def__init__(self,marque=None,vitesse_initiale=0,klaxon=\"tût tût !\"):\n",
    "        Vehicule.__init__(marque,vitesse_initiale)\n",
    "        self.klaxon=klaxon\n",
    "```\n",
    "<p style=\"text-align: justify;\">Cette &eacute;criture est cependant consid&eacute;r&eacute;e comme obsol&egrave;te en <em><strong>Python 3</strong></em> gr&acirc;ce &agrave; la fonction&nbsp;<em><strong><code>super()</code></strong></em>.</p>\n",
    "</div>\n",
    "</div>\n",
    "<div>\n",
    "<h3 style=\"text-align: justify;\"><span style=\"text-decoration: underline;\">1.2. H&eacute;ritage et mutualisation de code</span></h3>\n",
    "<p style=\"text-align: justify;\">Un des int&eacute;r&ecirc;ts de l&rsquo;h&eacute;ritage est de permettre la r&eacute;utilisation de code. Maintenant que nous avons d&eacute;fini un&nbsp;<em><strong><code>Vehicule</code></strong></em>, nous pouvons imaginer diverses classes appropri&eacute;es pour notre syst&egrave;me et qui sont des v&eacute;hicules.</p>\n",
    "<p style=\"text-align: justify;\"></p>\n",
    "<p style=\"text-align: justify;\"></p>\n",
    "</div>\n",
    "\n"
   ]
  },
  {
   "cell_type": "code",
   "execution_count": 18,
   "id": "1f0184ff",
   "metadata": {},
   "outputs": [],
   "source": [
    "class Voiture(Vehicule):\n",
    "\n",
    "    def __init__(self, marque=None, vitesse_initiale=0, klaxon=\"tût tût !\"):\n",
    "        Vehicule.__init__(marque, vitesse_initiale)\n",
    "        self.klaxon = klaxon"
   ]
  },
  {
   "cell_type": "markdown",
   "id": "63eb69b8",
   "metadata": {},
   "source": []
  },
  {
   "cell_type": "code",
   "execution_count": 19,
   "id": "2a8db1ce",
   "metadata": {},
   "outputs": [],
   "source": [
    "class Charette(Vehicule):\n",
    "\n",
    "    def __init__(self, vitesse_initiale=0):\n",
    "        super().__init__(vitesse_initiale=vitesse_initiale)"
   ]
  },
  {
   "cell_type": "code",
   "execution_count": 20,
   "id": "d703354a",
   "metadata": {},
   "outputs": [
    {
     "data": {
      "text/plain": [
       "6"
      ]
     },
     "execution_count": 20,
     "metadata": {},
     "output_type": "execute_result"
    }
   ],
   "source": [
    "c = Charette(1)\n",
    "c.accelerer(5)\n",
    "c.vitesse"
   ]
  },
  {
   "cell_type": "markdown",
   "id": "f462ebd7",
   "metadata": {},
   "source": [
    "<h3><span style=\"text-decoration: underline;\">1.3. La classe&nbsp;object</span></h3>\n",
    "<p style=\"text-align: justify;\">Python d&eacute;finit la classe&nbsp;<em><strong><code><span>object</span></code></strong></em>. Toutes les classes h&eacute;rite directement ou indirectement de cette classe. Si une classe ne d&eacute;clare aucune classe parente alors sa classe parente est&nbsp;<span><em><strong><code><span>object</span></code></strong></em></span>.</p>"
   ]
  },
  {
   "cell_type": "code",
   "execution_count": 21,
   "id": "d0e72ce5",
   "metadata": {},
   "outputs": [],
   "source": [
    "class MaClasse:\n",
    "    pass"
   ]
  },
  {
   "cell_type": "markdown",
   "id": "f0fd7ae1",
   "metadata": {},
   "source": [
    "<p>La d&eacute;claration ci-dessus est strictement &eacute;quivalente &agrave; :</p>"
   ]
  },
  {
   "cell_type": "code",
   "execution_count": 22,
   "id": "73df4d57",
   "metadata": {},
   "outputs": [],
   "source": [
    "class MaClasse(object):\n",
    "    pass"
   ]
  },
  {
   "cell_type": "markdown",
   "id": "ec963d87",
   "metadata": {},
   "source": [
    "<p style=\"text-align: justify;\"><span>Il est possible de cr&eacute;er des instances de la classe&nbsp;</span><code><em><strong>object</strong></em></code><span>. Cela reste d&rsquo;un usage limit&eacute; car cette classe n&rsquo;offre aucune m&eacute;thode particuli&egrave;re et il n&rsquo;est pas possible d&rsquo;ajouter dynamiquement des attributs &agrave; ses instances.</span></p>"
   ]
  },
  {
   "cell_type": "code",
   "execution_count": 23,
   "id": "14924c4e",
   "metadata": {},
   "outputs": [
    {
     "ename": "AttributeError",
     "evalue": "'object' object has no attribute 'nom'",
     "output_type": "error",
     "traceback": [
      "\u001b[1;31m---------------------------------------------------------------------------\u001b[0m",
      "\u001b[1;31mAttributeError\u001b[0m                            Traceback (most recent call last)",
      "Input \u001b[1;32mIn [23]\u001b[0m, in \u001b[0;36m<cell line: 2>\u001b[1;34m()\u001b[0m\n\u001b[0;32m      1\u001b[0m o \u001b[38;5;241m=\u001b[39m \u001b[38;5;28mobject\u001b[39m()\n\u001b[1;32m----> 2\u001b[0m o\u001b[38;5;241m.\u001b[39mnom \u001b[38;5;241m=\u001b[39m \u001b[38;5;124m\"\u001b[39m\u001b[38;5;124mUn nom\u001b[39m\u001b[38;5;124m\"\u001b[39m\n",
      "\u001b[1;31mAttributeError\u001b[0m: 'object' object has no attribute 'nom'"
     ]
    }
   ],
   "source": [
    "o = object()\n",
    "o.nom = \"Un nom\""
   ]
  },
  {
   "cell_type": "markdown",
   "id": "a7098ad3",
   "metadata": {},
   "source": [
    "<h2><span style=\"text-decoration: underline;\">2. Le polymorphisme</span></h2>\n",
    "<p style=\"text-align: justify;\">Le polymorphisme est un m&eacute;canisme important dans la programmation objet. Il permet de modifier le comportement d&rsquo;une classe fille par rapport &agrave; sa classe m&egrave;re. Le polymorphisme permet d&rsquo;utiliser l&rsquo;h&eacute;ritage comme un m&eacute;canisme d&rsquo;extension en adaptant le comportement des objets.</p>\n",
    "<p style=\"text-align: justify;\">Prenons l&rsquo;exemple de la classe<span>&nbsp;</span><em><strong><code class=\"docutils literal notranslate\"><span class=\"pre\">Animal</span></code></strong></em>. Cette classe offre une m&eacute;thode<span>&nbsp;</span><em><strong><code class=\"docutils literal notranslate\"><span class=\"pre\">crier</span></code></strong></em>. Pour simplifier notre exemple, la m&eacute;thode se contente d&rsquo;&eacute;crire le cri de l&rsquo;animal sur la sortie standard.</p>"
   ]
  },
  {
   "cell_type": "code",
   "execution_count": 24,
   "id": "90983b82",
   "metadata": {},
   "outputs": [],
   "source": [
    "class Animal:\n",
    "\n",
    "    def crier(self):\n",
    "        print(\"un cri d'animal\")"
   ]
  },
  {
   "cell_type": "markdown",
   "id": "5e5f4e58",
   "metadata": {},
   "source": [
    "<p style=\"text-align: justify;\"><span>Nous pouvons cr&eacute;er les classes&nbsp;</span><em><strong><code class=\"docutils literal notranslate\"><span class=\"pre\">Chien</span></code></strong></em><span>&nbsp;et&nbsp;</span><em><strong><code class=\"docutils literal notranslate\"><span class=\"pre\">Chat</span></code></strong></em><span>&nbsp;qui h&eacute;ritent toutes deux de la classe&nbsp;</span><em><strong><code class=\"docutils literal notranslate\"><span class=\"pre\">Animal</span></code></strong></em><span>. Ces classes peuvent &ecirc;tre des sp&eacute;cialisations de la classe&nbsp;</span><em><strong><code class=\"docutils literal notranslate\"><span class=\"pre\">Animal</span></code></strong></em><span>&nbsp;en ce qu&rsquo;elles peuvent&nbsp;</span><strong>red&eacute;finir</strong><span>&nbsp;(</span><strong><em>override</em></strong><span>) le comportement de la m&eacute;thode&nbsp;</span><em><strong><code class=\"docutils literal notranslate\"><span class=\"pre\">crier</span><span class=\"pre\">()</span></code></strong></em><span>.</span></p>"
   ]
  },
  {
   "cell_type": "code",
   "execution_count": 25,
   "id": "84918d86",
   "metadata": {},
   "outputs": [],
   "source": [
    "class Chien(Animal):\n",
    "\n",
    "    def crier(self):\n",
    "        print(\"whouaf whouaf !\")\n",
    "\n",
    "\n",
    "class Chat(Animal):\n",
    "\n",
    "    def crier(self):\n",
    "        print(\"miaou !\")"
   ]
  },
  {
   "cell_type": "code",
   "execution_count": 26,
   "id": "6cb1a7e0",
   "metadata": {},
   "outputs": [
    {
     "name": "stdout",
     "output_type": "stream",
     "text": [
      "un cri d'animal\n"
     ]
    }
   ],
   "source": [
    "a = Animal()\n",
    "animal = Animal()\n",
    "animal.crier()"
   ]
  },
  {
   "cell_type": "code",
   "execution_count": 27,
   "id": "846e5ff5",
   "metadata": {},
   "outputs": [
    {
     "name": "stdout",
     "output_type": "stream",
     "text": [
      "whouaf whouaf !\n"
     ]
    }
   ],
   "source": [
    "animal = Chien()\n",
    "animal.crier()"
   ]
  },
  {
   "cell_type": "code",
   "execution_count": 28,
   "id": "3405d338",
   "metadata": {},
   "outputs": [
    {
     "name": "stdout",
     "output_type": "stream",
     "text": [
      "miaou !\n"
     ]
    }
   ],
   "source": [
    "animal = Chat()\n",
    "animal.crier()"
   ]
  },
  {
   "cell_type": "markdown",
   "id": "770870c4",
   "metadata": {},
   "source": [
    "<p style=\"text-align: justify;\">Un <code><em><strong>chat</strong></em></code> est bien un <code><em><strong>animal</strong></em></code>, un <code><em><strong>chien</strong></em></code> est bien un <code><em><strong>animal</strong></em></code>. Les objets de ces types disposent bien de la m&eacute;thode<span>&nbsp;</span><em><strong><code class=\"docutils literal notranslate\"><span class=\"pre\">crier()</span></code></strong></em><span>&nbsp;</span>mais son comportement est polymorphe. Il d&eacute;pend du type r&eacute;el de l&rsquo;objet.</p>\n",
    "<p style=\"text-align: justify;\">&Agrave; noter qu&rsquo;il est toujours possible d&rsquo;appeler la m&eacute;thode parente dans la classe enfant gr&acirc;ce &agrave; la fonction<span>&nbsp;</span><em><strong><code class=\"xref py py-func docutils literal notranslate\"><span class=\"pre\">super()</span></code></strong></em>.</p>"
   ]
  },
  {
   "cell_type": "code",
   "execution_count": 29,
   "id": "66544244",
   "metadata": {},
   "outputs": [],
   "source": [
    "class Chien(Animal):\n",
    "\n",
    "    def crier(self):\n",
    "        print(\"whouaf whouaf !\")\n",
    "\n",
    "    def crier_comme_un_animal(self):\n",
    "        super().crier()"
   ]
  },
  {
   "cell_type": "code",
   "execution_count": 30,
   "id": "7b795474",
   "metadata": {},
   "outputs": [
    {
     "name": "stdout",
     "output_type": "stream",
     "text": [
      "whouaf whouaf !\n"
     ]
    }
   ],
   "source": [
    "chien = Chien()\n",
    "chien.crier()"
   ]
  },
  {
   "cell_type": "code",
   "execution_count": 31,
   "id": "cf1d3df7",
   "metadata": {},
   "outputs": [
    {
     "name": "stdout",
     "output_type": "stream",
     "text": [
      "un cri d'animal\n"
     ]
    }
   ],
   "source": [
    "chien.crier_comme_un_animal()"
   ]
  },
  {
   "cell_type": "markdown",
   "id": "4216ccc4",
   "metadata": {},
   "source": [
    "<div>\n",
    "<h3 style=\"text-align: justify;\"><span style=\"text-decoration: underline;\">2.1 Polymorphisme et&nbsp;<em>duck typing</em></span></h3>\n",
    "<p style=\"text-align: justify;\">Pour les langages de programmation &agrave; typage fort comme le <em><strong>C++</strong></em> ou le <em><strong>Java</strong></em>, le polymorphisme a des implications tr&egrave;s fortes et il permet d&rsquo;introduire une grande souplesse dans les relations entre types. Pour les langages de programmation &agrave; typage dynamique comme <em><strong>Python</strong></em>, le polymorphisme, m&ecirc;me s&rsquo;il reste une notion importante, a moins d&rsquo;impact.</p>\n",
    "<p style=\"text-align: justify;\">En <em><strong>Python</strong></em>, on pr&eacute;f&egrave;re souvent le principe du <em><strong>duck typing(ou typage canard)</strong></em>. Cette approche repose sur le principe suivant :</p>\n",
    "<blockquote>\n",
    "<p>Si je vois un oiseau qui vole comme un canard, cancane comme un canard, et nage comme un canard, alors j&rsquo;appelle cet oiseau un canard.</p>\n",
    "</blockquote>\n",
    "<p style=\"text-align: justify;\">Cela signifie que le type r&eacute;el est moins important que le comportement attendu. Pour reprendre notre exemple des v&eacute;hicules: si une classe offre des m&eacute;thodes pour acc&eacute;l&eacute;rer, d&eacute;c&eacute;l&eacute;rer et des propri&eacute;t&eacute;s pour la vitesse et la marque, alors c&rsquo;est qu&rsquo;il s&rsquo;agit d&rsquo;un v&eacute;hicule et peu importe que cette classe h&eacute;rite ou non de la classe&nbsp;<em><strong><code>Vehicule</code></strong></em>. Tous les objets de cette classe pourront &ecirc;tre utilis&eacute;s dans un contexte qui manipule des v&eacute;hicules.</p>\n",
    "</div>\n",
    "<div>\n",
    "<h3 style=\"text-align: justify;\"><span style=\"text-decoration: underline;\">2.2. Masquer les attributs et les m&eacute;thodes pour les classe filles</span></h3>\n",
    "<p style=\"text-align: justify;\">Parfois, on ne souhaite pas qu&rsquo;une m&eacute;thode puisse &ecirc;tre red&eacute;finie ou qu&rsquo;un attribut puisse &ecirc;tre modifi&eacute; dans une classe fille. Pour cela, il suffit que le nom de la m&eacute;thode ou de l&rsquo;attribut commence par deux <em><strong>caract&egrave;res soulign&eacute;s (underscores)</strong></em>. Nous avons vu pr&eacute;c&eacute;demment que <em><strong>Python</strong></em>n&rsquo;a pas de m&eacute;canisme pour contr&ocirc;ler la visibilit&eacute; des &eacute;l&eacute;ments d&rsquo;une classe. Par convention, les d&eacute;veloppeurs signalent par un <em><strong>caract&egrave;re soulign&eacute; (underscore)</strong></em> le statut priv&eacute; d&rsquo;un attribut ou d&rsquo;une m&eacute;thode. Par contre le recours &agrave; deux caract&egrave;res soulign&eacute;s &agrave; un impact sur l&rsquo;interpr&eacute;teur. Ce dernier renomme la m&eacute;thode ou l&rsquo;attribut de la forme:</p>\n",
    "</div>\n",
    "\n",
    "```python\n",
    "_<nom de la classe>__<nom>\n",
    "```   \n",
    "\n",
    "<p style=\"text-align: justify;\">Ainsi si nous modifions le nom de la la classe&nbsp;<em><strong><code>Vehicule</code></strong></em>:</p>"
   ]
  },
  {
   "cell_type": "code",
   "execution_count": 32,
   "id": "03c8928f",
   "metadata": {},
   "outputs": [],
   "source": [
    "class Vehicule:\n",
    "\n",
    "    def __init__(self, marque=None, vitesse_initiale=0):\n",
    "        self.marque = marque\n",
    "        self.__vitesse = vitesse_initiale\n",
    "\n",
    "    @property\n",
    "    def vitesse(self):\n",
    "        return self.__vitesse\n",
    "\n",
    "    def accelerer(self, delta_vitesse):\n",
    "        self.__vitesse += delta_vitesse\n",
    "\n",
    "    def decelerer(self, delta_vitesse):\n",
    "        self.__vitesse -= delta_vitesse"
   ]
  },
  {
   "cell_type": "markdown",
   "id": "cca0ce0e",
   "metadata": {},
   "source": [
    "<p style=\"text-align: justify;\"><span>L&rsquo;attribut&nbsp;</span><em><strong><code class=\"docutils literal notranslate\"><span class=\"pre\">__vitesse</span></code></strong></em><span>&nbsp;sera renomm&eacute;&nbsp;</span><em><strong><code class=\"docutils literal notranslate\"><span class=\"pre\">_Vehicule__vitesse</span></code></strong></em><span>. Donc, si un attribut&nbsp;</span><em><strong><code class=\"docutils literal notranslate\"><span class=\"pre\">__vitesse</span></code></strong></em><span>&nbsp;est &eacute;galement utilis&eacute; dans une classe fille, l&rsquo;interpr&eacute;teur consid&eacute;rera qu&rsquo;il s&rsquo;agit d&rsquo;un attribut diff&eacute;rent.</span></p>\n",
    "<h3 style=\"text-align: justify;\"><span style=\"text-decoration: underline;\">2.3. Les exceptions comme objets</span></h3>\n",
    "<p style=\"text-align: justify;\">En <em><strong>Python</strong></em>, une exception est un objet qui est directement ou indirectement une instance de la classe&nbsp;<em><strong><code>BaseException</code></strong></em>.</p>\n",
    "<p style=\"text-align: justify;\">Il existe beaucoup de classes pour repr&eacute;senter des exceptions en <em><strong>Python</strong></em>. Vous pouvez consulter la documentation pour conna&icirc;tre la hi&eacute;rarchie des exceptions. N&eacute;anmoins, il est tr&egrave;s simple de cr&eacute;er ses propres exceptions. Il est recommand&eacute; de cr&eacute;er des exceptions en h&eacute;ritant de <em><strong><code>Exception</code></strong></em> ou d&rsquo;une classe h&eacute;ritant de <em><strong><code>Exception</code></strong></em>.&nbsp;<em><strong><code>Exception</code></strong></em> est une classe qui h&eacute;rite de <em><strong><code>BaseException</code></strong></em>. Pour simplifier l&rsquo;impl&eacute;mentation, <em><strong><code>BaseException</code></strong></em> d&eacute;finit l&rsquo;attribut <em><strong><code>args</code></strong></em> qui contient tous les param&egrave;tres pass&eacute;s au constructeur.</p>"
   ]
  },
  {
   "cell_type": "code",
   "execution_count": 33,
   "id": "dfb76a69",
   "metadata": {},
   "outputs": [
    {
     "name": "stdout",
     "output_type": "stream",
     "text": [
      "('Mon message',)\n",
      "Mon message\n"
     ]
    }
   ],
   "source": [
    "class MonException(Exception):\n",
    "    pass\n",
    "\n",
    "try:\n",
    "    raise MonException(\"Mon message\")\n",
    "except MonException as e:\n",
    "    print(e.args)\n",
    "    # Affiche ('Mon message',)\n",
    "    print(e)\n",
    "    # Affiche Mon message"
   ]
  },
  {
   "cell_type": "markdown",
   "id": "55060521",
   "metadata": {},
   "source": [
    "<h2><span style=\"text-decoration: underline;\">3. H&eacute;ritage multiple et&nbsp;<em>mixin</em></span></h2>\n",
    "<p style=\"text-align: justify;\">Une classe peut h&eacute;riter de plusieurs classes. Dans ce cas, elle h&eacute;ritera des m&eacute;thodes et des attributs de l&rsquo;ensemble de ces classes et de leurs classes parentes. Il suffit d&rsquo;indiquer la liste des classes parentes en les s&eacute;parant par une virgule.</p>"
   ]
  },
  {
   "cell_type": "code",
   "execution_count": 34,
   "id": "2f601e19",
   "metadata": {},
   "outputs": [],
   "source": [
    "class Animal:\n",
    "\n",
    "    def crier(self):\n",
    "        pass\n",
    "\n",
    "\n",
    "class Carnivore:\n",
    "\n",
    "    def chasser(self):\n",
    "        pass\n",
    "\n",
    "\n",
    "class Chien(Animal, Carnivore):\n",
    "    \"\"\"Un chien qui est à la fois un animal et un carnivore\"\"\""
   ]
  },
  {
   "cell_type": "code",
   "execution_count": 35,
   "id": "6c179ab1",
   "metadata": {},
   "outputs": [],
   "source": [
    "c = Chien()\n",
    "c.chasser()\n",
    "c.crier()"
   ]
  },
  {
   "cell_type": "markdown",
   "id": "13c383f0",
   "metadata": {},
   "source": [
    "<p style=\"text-align: justify;\"><span>La classe&nbsp;</span><em><strong><code class=\"docutils literal notranslate\"><span class=\"pre\">Chien</span></code></strong></em><span>&nbsp;h&eacute;rite des comportements mais aussi des attributs des classes parentes. La variable&nbsp;</span><code class=\"docutils literal notranslate\"><span class=\"pre\"><em>c</em></span></code><span>&nbsp;d&eacute;signe un objet qui est &agrave; la fois un&nbsp;</span><strong><code class=\"docutils literal notranslate\"><span class=\"pre\">Chien</span></code></strong><span>, un&nbsp;</span><em><strong><code class=\"docutils literal notranslate\"><span class=\"pre\">Animal</span></code></strong></em><span><em><strong>&nbsp;</strong></em>et un&nbsp;</span><em><strong><code class=\"docutils literal notranslate\"><span class=\"pre\">Carnivore</span></code></strong></em><span>.</span></p>"
   ]
  },
  {
   "cell_type": "code",
   "execution_count": 36,
   "id": "435274ae",
   "metadata": {},
   "outputs": [
    {
     "name": "stdout",
     "output_type": "stream",
     "text": [
      "True\n",
      "True\n",
      "True\n"
     ]
    }
   ],
   "source": [
    "print(isinstance(c, Chien))\n",
    "print(isinstance(c, Animal))\n",
    "print(isinstance(c, Carnivore))"
   ]
  },
  {
   "cell_type": "markdown",
   "id": "39b85937",
   "metadata": {},
   "source": [
    "<h3><span style=\"text-decoration: underline;\">L&rsquo;h&eacute;ritage en diamant</span></h3>\n",
    "<p style=\"text-align: justify;\">Il peut arriver qu&rsquo;une classe h&eacute;rite indirectement plusieurs fois de la m&ecirc;me classe. Reprenons notre exemple pr&eacute;c&eacute;dent et supposons que les classes&nbsp;<em><strong><code>Animal</code></strong></em> et&nbsp;<em><strong><code>Carnivore</code></strong></em> h&eacute;ritent toutes deux de la classe&nbsp;<em><strong><code>EtreVivant</code></strong></em> et que la classe&nbsp;<code><span><em><strong>EtreVivant</strong></em></span></code> poss&egrave;de l&rsquo;attribut <code><span><em><strong>point_de_vie</strong></em></span></code>.</p>"
   ]
  },
  {
   "cell_type": "code",
   "execution_count": 37,
   "id": "de0d0426",
   "metadata": {},
   "outputs": [],
   "source": [
    "class EtreVivant:\n",
    "\n",
    "    def __init__(self):\n",
    "        self.point_de_vie = 100\n",
    "\n",
    "class Animal(EtreVivant):\n",
    "\n",
    "    def dormir(self):\n",
    "        self.point_de_vie += 1\n",
    "\n",
    "class Carnivore(EtreVivant):\n",
    "\n",
    "    def chasser(self):\n",
    "        self.point_de_vie -= 1\n",
    "\n",
    "\n",
    "class Chien(Animal, Carnivore):\n",
    "    \"\"\"Un chien qui est à la fois un animal et un carnivore\"\"\""
   ]
  },
  {
   "cell_type": "markdown",
   "id": "2c8d8a9b",
   "metadata": {},
   "source": [
    "<p>Dans ce cas, la classe&nbsp;<code><span><em><strong>Chien</strong></em></span></code> h&eacute;rite deux fois de la classe&nbsp;<em><code>EtreVivant</code></em>. &Agrave; cause de la repr&eacute;sentation graphique d&rsquo;une telle situation, on appelle ce cas particulier&nbsp;<strong>l&rsquo;h&eacute;ritage en diamant</strong>.</p>\n",
    "<p><em><strong>Python</strong></em> r&eacute;sout cette situation en consid&eacute;rant qu&rsquo;une classe ne peut pas directement ou indirectement h&eacute;riter plusieurs fois d&rsquo;une m&ecirc;me classe. Donc, les instances de la classe&nbsp;<code><span><em><strong>Chien</strong></em></span></code> ne poss&eacute;deront qu&rsquo;un seul attribut&nbsp;<em><strong><code>point_de_vie</code></strong></em>.</p>"
   ]
  },
  {
   "cell_type": "code",
   "execution_count": 38,
   "id": "c621b5a4",
   "metadata": {},
   "outputs": [
    {
     "data": {
      "text/plain": [
       "99"
      ]
     },
     "execution_count": 38,
     "metadata": {},
     "output_type": "execute_result"
    }
   ],
   "source": [
    "c = Chien()\n",
    "c.chasser()\n",
    "c.point_de_vie"
   ]
  },
  {
   "cell_type": "code",
   "execution_count": 39,
   "id": "64c4199e",
   "metadata": {},
   "outputs": [
    {
     "data": {
      "text/plain": [
       "100"
      ]
     },
     "execution_count": 39,
     "metadata": {},
     "output_type": "execute_result"
    }
   ],
   "source": [
    "c.dormir()\n",
    "c.point_de_vie"
   ]
  },
  {
   "cell_type": "markdown",
   "id": "194023eb",
   "metadata": {},
   "source": [
    "<p style=\"text-align: justify;\"><span>Mais que se passe-t-il si l&rsquo;h&eacute;ritage en diamant implique des m&eacute;thodes ? Par exemple, imaginons que la classe&nbsp;</span><code><span><em><strong>EtreVivant</strong></em></span></code><span>&nbsp;poss&egrave;de la m&eacute;thode&nbsp;</span><em><strong><code>se_nourrir()</code></strong></em><span>&nbsp;qui est red&eacute;finie &agrave; la fois dans la classe&nbsp;</span><code><span><em><strong>Animal</strong></em></span></code><span>&nbsp;et dans la classe&nbsp;</span><em><strong><code>Carnivore</code></strong></em><span>.</span></p>"
   ]
  },
  {
   "cell_type": "code",
   "execution_count": 40,
   "id": "1a8e5ea6",
   "metadata": {},
   "outputs": [],
   "source": [
    "class EtreVivant:\n",
    "\n",
    "    def __init__(self):\n",
    "        self.point_de_vie = 100\n",
    "\n",
    "    def se_nourrir(self):\n",
    "        self.point_de_vie += 1\n",
    "\n",
    "\n",
    "class Animal(EtreVivant):\n",
    "\n",
    "    def dormir(self):\n",
    "        self.point_de_vie += 1\n",
    "\n",
    "    def se_nourrir(self):\n",
    "        self.point_de_vie += 5\n",
    "\n",
    "\n",
    "class Carnivore(EtreVivant):\n",
    "\n",
    "    def chasser(self):\n",
    "        self.point_de_vie -= 1\n",
    "\n",
    "    def se_nourrir(self):\n",
    "        self.point_de_vie += 10\n",
    "\n",
    "\n",
    "class Chien(Animal, Carnivore):\n",
    "    \"\"\"Un chien qui est à la fois un animal et un carnivore\"\"\""
   ]
  },
  {
   "cell_type": "markdown",
   "id": "e3590d95",
   "metadata": {},
   "source": [
    "<p>Que se passe-t-il si nous appelons la m&eacute;thode&nbsp;<em><strong><code>se_nourrir()</code>&nbsp;</strong></em>depuis une instance de&nbsp;<em><strong><code>Chien</code></strong></em>?</p>"
   ]
  },
  {
   "cell_type": "code",
   "execution_count": 41,
   "id": "09c5ba47",
   "metadata": {},
   "outputs": [
    {
     "data": {
      "text/plain": [
       "105"
      ]
     },
     "execution_count": 41,
     "metadata": {},
     "output_type": "execute_result"
    }
   ],
   "source": [
    "c = Chien()\n",
    "c.se_nourrir()\n",
    "c.point_de_vie"
   ]
  },
  {
   "cell_type": "markdown",
   "id": "43a0456f",
   "metadata": {},
   "source": [
    "<p style=\"text-align: justify;\"><span>C&rsquo;est la m&eacute;thode de la classe&nbsp;</span><em><strong><code>Animal</code></strong></em><span>&nbsp;qui est ex&eacute;cut&eacute;e, passant la valeur de&nbsp;</span><em><strong><code>point_de_vie</code></strong></em><span>&nbsp;&agrave; <em><strong>105</strong></em>. Pour choisir quelle m&eacute;thode est appel&eacute;e, l&rsquo;interpr&eacute;teur se base sur un algorithme appel&eacute;&nbsp;</span><strong>method resolution order</strong><span>&nbsp;ou&nbsp;</span><strong>mro</strong><span>. Il s&rsquo;agit de chercher dans la liste de l&rsquo;h&eacute;ritage des classes la premi&egrave;re d&eacute;claration de la m&eacute;thode appel&eacute;e. On peut facilement conna&icirc;tre le&nbsp;</span><em>mro</em><span>&nbsp;d&rsquo;une classe car il existe la m&eacute;thode&nbsp;</span><em><strong><code>class.mro()</code></strong></em><span>&nbsp;qui retourne pr&eacute;cis&eacute;ment cette liste. Pour acc&eacute;der &agrave; la classe d&rsquo;une instance, on peut utiliser la fonction&nbsp;</span><em><strong><code>type</code></strong></em><span>.</span></p>"
   ]
  },
  {
   "cell_type": "code",
   "execution_count": 42,
   "id": "982d21c3",
   "metadata": {},
   "outputs": [
    {
     "data": {
      "text/plain": [
       "[__main__.Chien,\n",
       " __main__.Animal,\n",
       " __main__.Carnivore,\n",
       " __main__.EtreVivant,\n",
       " object]"
      ]
     },
     "execution_count": 42,
     "metadata": {},
     "output_type": "execute_result"
    }
   ],
   "source": [
    "type(c).mro()"
   ]
  },
  {
   "cell_type": "markdown",
   "id": "5c3361a9",
   "metadata": {},
   "source": [
    "<p>On voit que pour le type&nbsp;<em><strong><code>Chien</code></strong></em>, un appel &agrave; une m&eacute;thode conduit &agrave; chercher cette m&eacute;thode d&rsquo;abord dans la classe<code><span>Chien</span></code>et ensuite dans les classes&nbsp;<em><strong><code>Animal</code></strong></em>,&nbsp;<em><strong><code>Carnivore</code></strong></em>,&nbsp;<em><strong><code>EtreVivant</code></strong></em> et enfin&nbsp;<em><strong><code>object</code></strong></em>.</p>\n",
    "<div>\n",
    "<p>Si nous intervertissons l&rsquo;ordre d&rsquo;h&eacute;ritage de la d&eacute;claration de la classe&nbsp;<em><strong><code>Chien</code></strong></em>.</p>\n",
    "</div>"
   ]
  },
  {
   "cell_type": "code",
   "execution_count": 43,
   "id": "609ce4f6",
   "metadata": {},
   "outputs": [],
   "source": [
    "class EtreVivant:\n",
    "\n",
    "    def __init__(self):\n",
    "        self.point_de_vie = 100\n",
    "\n",
    "    def se_nourrir(self):\n",
    "        self.point_de_vie += 1\n",
    "\n",
    "\n",
    "class Animal(EtreVivant):\n",
    "\n",
    "    def dormir(self):\n",
    "        self.point_de_vie += 1\n",
    "\n",
    "    def se_nourrir(self):\n",
    "        self.point_de_vie += 5\n",
    "\n",
    "\n",
    "class Carnivore(EtreVivant):\n",
    "\n",
    "    def chasser(self):\n",
    "        self.point_de_vie -= 1\n",
    "\n",
    "    def se_nourrir(self):\n",
    "        self.point_de_vie += 10\n",
    "\n",
    "\n",
    "class Chien(Carnivore, Animal):\n",
    "    \"\"\"Un chien qui est à la fois un animal et un carnivore\"\"\""
   ]
  },
  {
   "cell_type": "code",
   "execution_count": 44,
   "id": "d8b9c261",
   "metadata": {},
   "outputs": [
    {
     "data": {
      "text/plain": [
       "110"
      ]
     },
     "execution_count": 44,
     "metadata": {},
     "output_type": "execute_result"
    }
   ],
   "source": [
    "c = Chien()\n",
    "c.se_nourrir()\n",
    "c.point_de_vie"
   ]
  },
  {
   "cell_type": "code",
   "execution_count": 45,
   "id": "b8230d41",
   "metadata": {},
   "outputs": [
    {
     "data": {
      "text/plain": [
       "[__main__.Chien,\n",
       " __main__.Carnivore,\n",
       " __main__.Animal,\n",
       " __main__.EtreVivant,\n",
       " object]"
      ]
     },
     "execution_count": 45,
     "metadata": {},
     "output_type": "execute_result"
    }
   ],
   "source": [
    "type(c).mro()"
   ]
  },
  {
   "cell_type": "markdown",
   "id": "b40ee9d5",
   "metadata": {},
   "source": [
    "<div>\n",
    "<p style=\"text-align: justify;\">Maintenant, c&rsquo;est la m&eacute;thode&nbsp;<em><strong><code>se_nourrir()</code>&nbsp;</strong></em>de la classe <code><span><em><strong>Carnivore</strong></em></span></code> qui est appel&eacute;e pour un objet de type <em><strong><code>Chien</code></strong></em>. L&rsquo;ordre de d&eacute;claration de l&rsquo;h&eacute;ritage multiple est donc primordial !</p>\n",
    "</div>\n",
    "<div>\n",
    "<h3 style=\"text-align: justify;\"><span style=\"text-decoration: underline;\">Appel des constructeurs</span></h3>\n",
    "<p style=\"text-align: justify;\">Si nous voulons d&eacute;clarer des constructeurs, il faut imp&eacute;rativement&nbsp;<strong>appeler le constructeur de la super classe</strong>.</p>\n",
    "</div>"
   ]
  },
  {
   "cell_type": "code",
   "execution_count": 46,
   "id": "f6555a3a",
   "metadata": {},
   "outputs": [],
   "source": [
    "class EtreVivant:\n",
    "\n",
    "    def __init__(self, point_de_vie):\n",
    "        self.point_de_vie = point_de_vie\n",
    "\n",
    "    def se_nourrir(self):\n",
    "        self.point_de_vie += 1\n",
    "\n",
    "\n",
    "class Animal(EtreVivant):\n",
    "\n",
    "    def __init__(self, nom, point_de_vie):\n",
    "        super().__init__(point_de_vie)\n",
    "        self.nom = nom\n",
    "\n",
    "    def dormir(self):\n",
    "        self.point_de_vie += 1\n",
    "\n",
    "    def se_nourrir(self):\n",
    "        self.point_de_vie += 5\n",
    "\n",
    "\n",
    "class Carnivore(EtreVivant):\n",
    "\n",
    "    def chasser(self):\n",
    "        self.point_de_vie -= 1\n",
    "\n",
    "    def se_nourrir(self):\n",
    "        self.point_de_vie += 10\n",
    "\n",
    "\n",
    "class Chien(Carnivore, Animal):\n",
    "    \"\"\"Un chien qui est à la fois un animal et un carnivore\"\"\"\n",
    "\n",
    "    def __init__(self, point_de_vie, nom):\n",
    "        super().__init__(point_de_vie, nom)"
   ]
  },
  {
   "cell_type": "code",
   "execution_count": 47,
   "id": "869102a9",
   "metadata": {},
   "outputs": [
    {
     "data": {
      "text/plain": [
       "'Médor'"
      ]
     },
     "execution_count": 47,
     "metadata": {},
     "output_type": "execute_result"
    }
   ],
   "source": [
    "c = Chien(\"Médor\", 60)\n",
    "c.nom"
   ]
  },
  {
   "cell_type": "code",
   "execution_count": 48,
   "id": "fdc2d7ea",
   "metadata": {},
   "outputs": [
    {
     "data": {
      "text/plain": [
       "60"
      ]
     },
     "execution_count": 48,
     "metadata": {},
     "output_type": "execute_result"
    }
   ],
   "source": [
    "c.point_de_vie"
   ]
  },
  {
   "cell_type": "code",
   "execution_count": 49,
   "id": "68c92586",
   "metadata": {},
   "outputs": [
    {
     "data": {
      "text/plain": [
       "70"
      ]
     },
     "execution_count": 49,
     "metadata": {},
     "output_type": "execute_result"
    }
   ],
   "source": [
    "c.se_nourrir()\n",
    "c.point_de_vie"
   ]
  },
  {
   "cell_type": "markdown",
   "id": "6eae6434",
   "metadata": {},
   "source": [
    "<div>\n",
    "<p style=\"text-align: justify;\">La fonction&nbsp;<code><span><em><strong>super()</strong></em></span></code> retourne le type suivant dans la liste du<em>mro</em>. La classe<code><span>Carnivore</span></code>ne proposant pas de constructeur, elle se contente de passer l&rsquo;appel au constructeur de la classe&nbsp;<code><span><em><strong>Animal</strong></em></span></code> qui est la classe suivante dans la liste&nbsp;<code><strong><em>mro</em></strong></code>.</p>\n",
    "</div>\n",
    "<div>\n",
    "<h3 style=\"text-align: justify;\"><span style=\"text-decoration: underline;\">Les mixins</span></h3>\n",
    "<p style=\"text-align: justify;\">Un&nbsp;<em><code><strong>mixin</strong></code>&nbsp;</em>est une classe qui permet d&rsquo;ajouter des fonctionnalit&eacute;s suppl&eacute;mentaires. Il s&rsquo;agit simplement d&rsquo;une classe comme une autre mais qui n&rsquo;est pas destin&eacute;e &agrave; &ecirc;tre utilis&eacute;e directement pour cr&eacute;er des instances.</p>\n",
    "<p style=\"text-align: justify;\">Imaginons que nous d&eacute;sirions ajouter &agrave; certaines de nos classes la possibilit&eacute; d&rsquo;afficher leur &eacute;tat (la valeur des attributs) gr&acirc;ce &agrave; une m&eacute;thode&nbsp;<em><strong><code>afficher()</code></strong></em>. Nous pouvons cr&eacute;er un&nbsp;<em><code><strong>mixin</strong></code>&nbsp;</em>proposant cette m&eacute;thode. Ce&nbsp;<em><code><strong>mixin</strong></code>&nbsp;</em>accepte en param&egrave;tre le caract&egrave;re &agrave; utiliser comme s&eacute;parateur ainsi que l&rsquo;indentation &agrave; utiliser lors de l&rsquo;affichage.</p>\n",
    "</div>"
   ]
  },
  {
   "cell_type": "code",
   "execution_count": 50,
   "id": "c97c5b12",
   "metadata": {},
   "outputs": [],
   "source": [
    "class Affichable:\n",
    "\n",
    "    def __init__(self, *args, indentation=0, separateur=\"-\", **kwargs):\n",
    "        self.__indentation = indentation\n",
    "        self.__separateur = separateur\n",
    "        super().__init__(*args, **kwargs)\n",
    "\n",
    "    def afficher(self):\n",
    "        cls = type(self)\n",
    "        separateur = self.__separateur * 80\n",
    "        print(separateur)\n",
    "        print(\"Objet de la classe\", cls.__name__)\n",
    "        print(cls.__doc__)\n",
    "        print(\"mro : \", cls.mro())\n",
    "        print()\n",
    "        indentation = ' ' * self.__indentation\n",
    "        for attr in self.__dict__:\n",
    "            if not attr.startswith('_'):\n",
    "                valeur = getattr(self, attr)\n",
    "                print(f\"{indentation}{attr} = {valeur}\")\n",
    "        print(separateur)"
   ]
  },
  {
   "cell_type": "markdown",
   "id": "79097391",
   "metadata": {},
   "source": [
    "<p>Nous pouvons modifier notre impl&eacute;mentation de la classe&nbsp;<code><span><em><strong>Chien</strong></em></span></code> pour la rendre affichable :</p>"
   ]
  },
  {
   "cell_type": "code",
   "execution_count": 51,
   "id": "40514032",
   "metadata": {},
   "outputs": [],
   "source": [
    "class Chien(Affichable, Animal):\n",
    "    \"\"\"Un chien qui est à la fois un animal et un carnivore\"\"\"\n",
    "\n",
    "    def __init__(self, point_de_vie, nom, **kwargs):\n",
    "        super().__init__(point_de_vie, nom, **kwargs)"
   ]
  },
  {
   "cell_type": "markdown",
   "id": "cfa4cda8",
   "metadata": {},
   "source": [
    "<p>Ainsi nous pouvons afficher l&rsquo;&eacute;tat interne d&rsquo;un objet de type&nbsp;<em><strong><code><span>Chien</span></code></strong></em>.</p>"
   ]
  },
  {
   "cell_type": "code",
   "execution_count": 52,
   "id": "f64a057a",
   "metadata": {},
   "outputs": [
    {
     "name": "stdout",
     "output_type": "stream",
     "text": [
      "--------------------------------------------------------------------------------\n",
      "Objet de la classe Chien\n",
      "Un chien qui est à la fois un animal et un carnivore\n",
      "mro :  [<class '__main__.Chien'>, <class '__main__.Affichable'>, <class '__main__.Animal'>, <class '__main__.EtreVivant'>, <class 'object'>]\n",
      "\n",
      "    point_de_vie = Médor\n",
      "    nom = 40\n",
      "--------------------------------------------------------------------------------\n"
     ]
    }
   ],
   "source": [
    "c = Chien(40, \"Médor\", indentation=4)\n",
    "c.afficher()"
   ]
  },
  {
   "cell_type": "markdown",
   "id": "ef57bc4d",
   "metadata": {},
   "source": [
    "<p style=\"text-align: justify;\">Il y a plusieurs points importants &agrave; remarquer dans l&rsquo;impl&eacute;mentation ci-dessus :</p>\n",
    "<ol style=\"text-align: justify;\">\n",
    "<li>La classe<code><span>Chien</span></code>h&eacute;rite en premier du&nbsp;<em><code><strong>mixin</strong></code>&nbsp;<strong><code>Affichable</code></strong></em>. &Agrave; cause de ce que nous avons vu &agrave; propos du&nbsp;<code><strong><em>mro</em></strong></code>, un <em><code><strong>mixin</strong></code>&nbsp;</em>devrait toujours &ecirc;tre d&eacute;clar&eacute; avant la classe parente.</li>\n",
    "<li>La classe&nbsp;<code><span><em><strong>Chien</strong></em></span></code> accepte comme dernier param&egrave;tre de constructeur le param&egrave;tre de compactage&nbsp;<em><strong><code>**kwargs</code></strong></em>. La classe&nbsp;<code><span><em><strong>Chien</strong></em></span></code> peut ainsi accepter les param&egrave;tres nomm&eacute;s&nbsp;<code><span><em><strong>identation</strong></em></span></code> et&nbsp;<code><span><em><strong>separateur</strong></em></span></code> sans avoir besoin de les r&eacute;p&eacute;ter.</li>\n",
    "<li>La classe&nbsp;<code><span><em><strong>Affichage</strong></em></span></code> a un constructeur assez compliqu&eacute;.</li>\n",
    "</ol>\n",
    "\n",
    "```python\n",
    "def __init__(self, *args, indentation=0, separateur=\"-\", **kwargs):\n",
    "    self.__indentation = indentation\n",
    "    self.__separateur = separateur\n",
    "    super().__init__(*args, **kwargs)\n",
    "```\n",
    "\n",
    "<p style=\"text-align: justify;\">Les param&egrave;tres&nbsp;<code><span><em><strong>indentation</strong></em></span></code> et&nbsp;<em><strong><code>separateur</code></strong></em> sont plac&eacute;s apr&egrave;s l&rsquo;op&eacute;rateur de compactage <em><strong><code>*args</code></strong></em> ce qui implique qu&rsquo;il s&rsquo;agit de param&egrave;tres nomm&eacute;s. Le constructeur utilise &agrave; la fin la&nbsp; fonction&nbsp;<em><strong><code>super()</code></strong></em> pour appeler le constructeur suivant en lui passant tous les param&egrave;tres que le <em><code><strong>mixin</strong></code></em><em>&nbsp;</em>ne reconna&icirc;t pas. On voit qu&rsquo;il est tout &agrave; fait possible de concevoir un&nbsp;<em><code><strong>mixin</strong></code></em><i> </i>qui accepte des param&egrave;tres de constructeur tout en s&rsquo;int&eacute;grant &eacute;l&eacute;gamment &agrave; un h&eacute;ritage existant&hellip; au prix d&rsquo;une petite complexit&eacute; dans la d&eacute;claration du constructeur.</p>"
   ]
  },
  {
   "cell_type": "markdown",
   "id": "2f857608",
   "metadata": {},
   "source": [
    "<h3><span style=\"text-decoration: underline;\">La m&eacute;ta-classe</span></h3>\n",
    "<p>La m&eacute;ta-classe est un concept avanc&eacute; en <em><strong>Python&nbsp;</strong></em>qui n&rsquo;est que tr&egrave;s tr&egrave;s rarement utilis&eacute; directement par les d&eacute;veloppeurs.</p>\n",
    "<p>En <em><strong>Python</strong></em>, les classes sont elles-m&ecirc;mes des objets qui h&eacute;ritent de<span>type</span>. Il est possible de sp&eacute;cifier le type dont doit h&eacute;riter l&rsquo;objet qui repr&eacute;sente la classe. On parle alors de&nbsp;<em><strong>m&eacute;ta-classe</strong></em>.</p>\n",
    "<p>Une <em><strong>m&eacute;ta-classe</strong></em> est une classe qui d&eacute;crit une classe. Cela signifie que tous les attributs et toutes les m&eacute;thodes d&rsquo;une m&eacute;ta-classe seront les attributs et les m&eacute;thodes de la classe.</p>\n",
    "<p>L&rsquo;usage de la&nbsp;<strong><em>m&eacute;ta-classe</em>&nbsp;</strong>permet de r&eacute;aliser des impl&eacute;mentations qui ne sont pas possibles avec une simple classe. Par exemple, il n&rsquo;est pas possible en <em><strong>Python</strong></em> de d&eacute;clarer une propri&eacute;t&eacute; de classe avec le d&eacute;corateur&nbsp;<em><strong><code>@property</code></strong></em>. Mais cela devient possible par le truchement d&rsquo;une <strong>m&eacute;ta-classe</strong>.</p>"
   ]
  },
  {
   "cell_type": "code",
   "execution_count": 54,
   "id": "59403310",
   "metadata": {},
   "outputs": [],
   "source": [
    "class MetaclasseCompteur(type):\n",
    "    \"\"\"Une méta-classe pour aider à compter les instances créées.\"\"\"\n",
    "\n",
    "    def __init__(cls, *args, **kwargs):\n",
    "        super().__init__(*args, **kwargs)\n",
    "        cls._nb_instances = 0\n",
    "\n",
    "    @property\n",
    "    def nb_instances(cls):\n",
    "        return cls._nb_instances\n",
    "\n",
    "    def plus_une_instance(cls):\n",
    "        cls._nb_instances += 1\n",
    "\n",
    "\n",
    "class MaClasse(metaclass=MetaclasseCompteur):\n",
    "\n",
    "    def __init__(self):\n",
    "        MaClasse.plus_une_instance()"
   ]
  },
  {
   "cell_type": "markdown",
   "id": "a49cdc0e",
   "metadata": {},
   "source": [
    "<p style=\"text-align: justify;\"><span>Une <em><strong>m&eacute;ta-classe</strong></em> doit h&eacute;riter directement ou indirectement de&nbsp;</span><em><strong><code>type</code></strong></em><span>. &Agrave; la ligne 16, on d&eacute;clare la m&eacute;ta-classe de la classe&nbsp;</span><em><strong><code>MaClasse</code></strong></em><span>. Cette <em><strong>m&eacute;ta-classe</strong></em> va fournir la propri&eacute;t&eacute; de classe&nbsp;</span><em><strong><code>nb_instances</code></strong></em><span>&nbsp;ainsi que la m&eacute;thode de classe&nbsp;</span><em><strong><code>plus_une_instance()</code></strong></em><span>.</span></p>"
   ]
  },
  {
   "cell_type": "code",
   "execution_count": 55,
   "id": "9919129b",
   "metadata": {},
   "outputs": [
    {
     "data": {
      "text/plain": [
       "0"
      ]
     },
     "execution_count": 55,
     "metadata": {},
     "output_type": "execute_result"
    }
   ],
   "source": [
    "MaClasse.nb_instances"
   ]
  },
  {
   "cell_type": "code",
   "execution_count": 56,
   "id": "df1f4462",
   "metadata": {},
   "outputs": [
    {
     "data": {
      "text/plain": [
       "3"
      ]
     },
     "execution_count": 56,
     "metadata": {},
     "output_type": "execute_result"
    }
   ],
   "source": [
    "m1 = MaClasse()\n",
    "m2 = MaClasse()\n",
    "m3 = MaClasse()\n",
    "MaClasse.nb_instances"
   ]
  },
  {
   "cell_type": "markdown",
   "id": "8b600e86",
   "metadata": {},
   "source": [
    "<h3 style=\"text-align: justify;\"><span style=\"text-decoration: underline;\">Classes et m&eacute;thodes abstraites</span></h3>\n",
    "<p style=\"text-align: justify;\">Comme <em><strong>Python&nbsp;</strong></em>est un langage &agrave; typage dynamique, nous avons d&eacute;j&agrave; dit plus haut que la plupart des d&eacute;veloppeurs favorisent le <code><em><strong>duck typing</strong></em></code>: le type r&eacute;el d&rsquo;un objet importe moins que le fait qu&rsquo;il produise les comportements attendus (c&rsquo;est-&agrave;-dire les m&eacute;thodes et les propri&eacute;t&eacute;s attendues). Cette approche am&egrave;ne ind&eacute;niablement plus de souplesse dans la conception des applications. Mais elle rend plus difficile la validation du code et donc cela peut aboutir &agrave; la production d&rsquo;un code moins robuste.</p>\n",
    "<p style=\"text-align: justify;\">Les langages de programmation &agrave; typage fort comme <em><strong>C++, Java ou C#</strong></em> introduisent tous le principe de classes abstraites et/ou d&rsquo;interfaces. Ce type d&rsquo;approche insiste sur le fait de pouvoir d&eacute;finir un type particulier contenant un certain nombre de m&eacute;thodes mais pour lesquelles on ne fournit aucune impl&eacute;mentation. Ces classes abstraites et ces interfaces sont ensuite h&eacute;rit&eacute;es ou impl&eacute;ment&eacute;es par d&rsquo;autres classes qui doivent fournir les impl&eacute;mentations des m&eacute;thodes attendues. Cela permet de garantir qu&rsquo;un objet aura bien les comportements attendus, c&rsquo;est-&agrave;-dire impl&eacute;mentera les m&eacute;thodes attendues. On parle parfois de programmation par contrat, dans le sens o&ugrave; ces classes abstraites et ces interfaces sont comme des contrats qui lient les objets qui les impl&eacute;mentent et les objets qui appellent ces m&eacute;thodes.</p>\n",
    "<p style=\"text-align: justify;\">En <em><strong>Python</strong></em>, le module&nbsp;<em><strong><code>abc</code></strong></em> permet de simuler ce type d&rsquo;approche. Le nom de ce module est la contraction de&nbsp;<strong><em>abstract base classes</em></strong>. Ce module fournit une <em><strong>m&eacute;ta-classe</strong></em> appel&eacute;e&nbsp;<code><span><em><strong>ABCMeta</strong></em></span></code> qui permet de transformer une classe <em><strong>Python</strong> </em>en classe abstraite. Ce module fournit &eacute;galement le d&eacute;corateur <em><strong><code>@abstractmethod</code></strong></em> qui permet de d&eacute;clarer comme abstraite une m&eacute;thode, une m&eacute;thode statique, une m&eacute;thode de classe ou une propri&eacute;t&eacute;. Cela signifie qu&rsquo;il n&rsquo;est pas possible de cr&eacute;er une instance d&rsquo;une classe qui h&eacute;rite d&rsquo;une classe abstraite tant que toutes les m&eacute;thodes abstraites ne sont pas impl&eacute;ment&eacute;es.</p>\n",
    "<p style=\"text-align: justify;\">Si nous reprenons notre exemple de la classe&nbsp;<em><strong><code>Animal</code></strong></em>. Cette classe d&eacute;clare une m&eacute;thode <em><strong><code>crier()</code>&nbsp;</strong></em>pour laquelle il n&rsquo;est pas vraiment possible de fournir une impl&eacute;mentation correcte pour un animal. On peut donc consid&eacute;rer que la classe&nbsp;<em><strong><code>Animal</code></strong></em> est abstraite en d&eacute;clarant que sa <em><strong>m&eacute;ta-classe</strong></em> est <em><strong><code>ABCMeta</code></strong></em> et d&eacute;clarer la <em><strong>m&eacute;thode</strong></em><code><span><em><strong>crier()</strong></em></span></code> comme une m&eacute;thode abstraite.</p>"
   ]
  },
  {
   "cell_type": "code",
   "execution_count": 57,
   "id": "3cd6b4ed",
   "metadata": {},
   "outputs": [],
   "source": [
    "from abc import ABCMeta, abstractmethod\n",
    "\n",
    "\n",
    "class Animal(metaclass=ABCMeta):\n",
    "\n",
    "    @abstractmethod\n",
    "    def crier(self):\n",
    "        pass"
   ]
  },
  {
   "cell_type": "markdown",
   "id": "0d783929",
   "metadata": {},
   "source": [
    "<p>Toute tentative de cr&eacute;er un objet de type&nbsp;<code><span><em><strong>Animal</strong></em></span></code> &eacute;chouera &agrave; l&rsquo;ex&eacute;cution:</p>"
   ]
  },
  {
   "cell_type": "code",
   "execution_count": 58,
   "id": "8a816ffd",
   "metadata": {},
   "outputs": [
    {
     "ename": "TypeError",
     "evalue": "Can't instantiate abstract class Animal with abstract method crier",
     "output_type": "error",
     "traceback": [
      "\u001b[1;31m---------------------------------------------------------------------------\u001b[0m",
      "\u001b[1;31mTypeError\u001b[0m                                 Traceback (most recent call last)",
      "Input \u001b[1;32mIn [58]\u001b[0m, in \u001b[0;36m<cell line: 1>\u001b[1;34m()\u001b[0m\n\u001b[1;32m----> 1\u001b[0m a \u001b[38;5;241m=\u001b[39m \u001b[43mAnimal\u001b[49m\u001b[43m(\u001b[49m\u001b[43m)\u001b[49m\n",
      "\u001b[1;31mTypeError\u001b[0m: Can't instantiate abstract class Animal with abstract method crier"
     ]
    }
   ],
   "source": [
    "a = Animal()"
   ]
  },
  {
   "cell_type": "markdown",
   "id": "92cd7d14",
   "metadata": {},
   "source": [
    "<p style=\"text-align: justify;\"><span>La classe&nbsp;</span><code><span><em><strong>Animal</strong></em></span></code><span>&nbsp;est en quelque sorte devenu un contrat qui indique que toute classe qui en h&eacute;rite doit fournir une impl&eacute;mentation pour la m&eacute;thode&nbsp;</span><em><strong><code><span>crier()</span></code></strong></em><span>.</span></p>"
   ]
  },
  {
   "cell_type": "code",
   "execution_count": 59,
   "id": "6390e656",
   "metadata": {},
   "outputs": [],
   "source": [
    "class Chien(Animal):\n",
    "\n",
    "    def crier(self):\n",
    "        print(\"whouaf whouaf !\")"
   ]
  },
  {
   "cell_type": "code",
   "execution_count": 60,
   "id": "e8b27a38",
   "metadata": {},
   "outputs": [
    {
     "name": "stdout",
     "output_type": "stream",
     "text": [
      "whouaf whouaf !\n"
     ]
    }
   ],
   "source": [
    "c = Chien()\n",
    "c.crier()"
   ]
  },
  {
   "cell_type": "code",
   "execution_count": null,
   "id": "ed5962c1",
   "metadata": {},
   "outputs": [],
   "source": []
  }
 ],
 "metadata": {
  "kernelspec": {
   "display_name": "Python 3.10.6 64-bit",
   "language": "python",
   "name": "python3"
  },
  "language_info": {
   "codemirror_mode": {
    "name": "ipython",
    "version": 3
   },
   "file_extension": ".py",
   "mimetype": "text/x-python",
   "name": "python",
   "nbconvert_exporter": "python",
   "pygments_lexer": "ipython3",
   "version": "3.10.6"
  },
  "vscode": {
   "interpreter": {
    "hash": "aee8b7b246df8f9039afb4144a1f6fd8d2ca17a180786b69acc140d282b71a49"
   }
  }
 },
 "nbformat": 4,
 "nbformat_minor": 5
}
