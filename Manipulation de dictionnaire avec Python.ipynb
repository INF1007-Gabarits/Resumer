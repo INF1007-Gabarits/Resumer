{
 "cells": [
  {
   "cell_type": "markdown",
   "id": "0d6b0656",
   "metadata": {},
   "source": [
    "<h1 style=\"text-align: justify;\"><u>Manipulation de dictionnaires avec <em>Python</em></u></h1>\n",
    "<div>\n",
    "<p style=\"text-align: justify;\">Les dictionnaires sont des <strong>collections d'objets non-ordonn&eacute;es.&nbsp;</strong>Il est compos&eacute; d'&eacute;l&eacute;ments et chaque &eacute;l&eacute;ment se compose d'une paire <strong><em><code>cl&eacute;: valeur</code></em></strong>. Dans d'autres langages de programmation, on parle de tableaux associatifs ou de hashs.</p>\n",
    "<p style=\"text-align: justify;\">Comme les <em><strong>listes</strong></em>, les <em><strong>dictionnaires&nbsp;</strong></em>sont des <strong>objets muables</strong> et <strong>dynamiques</strong>. Ils peuvent &ecirc;tre modifi&eacute;s et s'&eacute;tendre selon vos besoins. Un dictionnaire peut <strong>contenir des objets de n'importe quel type</strong> et m&ecirc;me <strong>inclure d'autres dictionnaires.&nbsp;</strong>C'est gr&acirc;ce &agrave; ces caract&eacute;ristiques que les dictionnaires sont souvent utilis&eacute;s pour <strong>cr&eacute;er des structures de donn&eacute;es complexes</strong> o&ugrave; plusieurs &eacute;l&eacute;ments sont imbriqu&eacute;s les uns dans les autres !</p>\n",
    "<h2 style=\"text-align: justify;\"><span style=\"text-decoration: underline;\">1. Cr&eacute;er un dictionnaire</span></h2>\n",
    "<p style=\"text-align: justify;\">La fa&ccedil;on la plus simple de cr&eacute;er un dictionnaire est d'ouvrir des accolades <em><strong><code>{}</code></strong></em> et d'y ins&eacute;rer des paires de <em><strong>cl&eacute;s&nbsp;</strong></em>et de <em><strong>valeurs</strong></em>. Pour &eacute;crire une paire, il faut respecter la syntaxe suivante: <em><strong><code>cl&eacute;: valeur</code></strong></em>. Chaque paire doit &ecirc;tre s&eacute;par&eacute;e de l'autre par une virgule.</p>\n",
    "<p style=\"text-align: justify;\">Les valeurs peuvent &ecirc;tre de n'importe quel type alors que les cl&eacute;s doivent obligatoirement &ecirc;tre de <strong>type immuable</strong> !</p>\n",
    "<p style=\"text-align: justify;\">Vous pouvez ainsi utiliser un <em><strong><code>float</code>&nbsp;</strong></em>ou un <em><strong><code>tuple</code>&nbsp;</strong></em>comme cl&eacute; sans probl&egrave;me:</p>\n",
    "</div>\n",
    "\n",
    "```python\n",
    "En théorie\n",
    "d = {\n",
    "        clé: valeur,\n",
    "        clé: valeur,\n",
    "        clé: valeur,\n",
    "        ...\n",
    "        clé: valeur\n",
    "}\n",
    "```"
   ]
  },
  {
   "cell_type": "code",
   "execution_count": 1,
   "id": "90274e48",
   "metadata": {},
   "outputs": [
    {
     "name": "stdout",
     "output_type": "stream",
     "text": [
      "{}\n",
      "{'spam': 'eggs', 'knights': 'lumberjack', 'bacon': 'sausage'}\n",
      "{1: 'one', 'deux': 2, (3, 4, 5): 'pas_de_soucis', 9.9: 'nine_point_nine'}\n"
     ]
    }
   ],
   "source": [
    "# Dictionnaire vide\n",
    "d = {}\n",
    "print(d)\n",
    "\n",
    "# Dictionnaire dont les clés ne sont que des chaînes de caractères\n",
    "d = {\n",
    "        'spam': 'eggs',\n",
    "        'knights': 'lumberjack',\n",
    "        'bacon': 'sausage'    \n",
    "}\n",
    "\n",
    "print(d)\n",
    "\n",
    "# Dictionnaire dont les clés sont des objets de différents types\n",
    "d = {\n",
    "        1: 'one',\n",
    "        'deux': 2 ,\n",
    "        (3, 4, 5): 'pas_de_soucis',\n",
    "        9.9: 'nine_point_nine'\n",
    "}\n",
    "print(d)"
   ]
  },
  {
   "cell_type": "markdown",
   "id": "2b1f571f",
   "metadata": {},
   "source": [
    "<p>Vous pouvez aussi cr&eacute;er un dictionnaire gr&acirc;ce la fonction <em><strong><code>dict()</code> </strong></em>:</p>"
   ]
  },
  {
   "cell_type": "code",
   "execution_count": 2,
   "id": "f9e12c45",
   "metadata": {},
   "outputs": [
    {
     "name": "stdout",
     "output_type": "stream",
     "text": [
      "{'spam': 'eggs', 'knights': 'lumberjack', 'bacon': 'sausage'}\n"
     ]
    }
   ],
   "source": [
    "d = dict() # {}\n",
    "\n",
    "d = dict({\n",
    "    'spam': 'eggs',\n",
    "    'knights': 'lumberjack',\n",
    "    'bacon': 'sausage'    \n",
    "})\n",
    "print(d)"
   ]
  },
  {
   "cell_type": "markdown",
   "id": "5ccca228",
   "metadata": {},
   "source": [
    "<p>Une cl&eacute; doit &ecirc;tre <em><strong>unique</strong></em>, les doublons ne sont pas autoris&eacute;s. Si cela arrive, cela ne va pas cr&eacute;er d'erreur mais votre seconde cl&eacute; &eacute;crasera la premi&egrave;re.</p>"
   ]
  },
  {
   "cell_type": "code",
   "execution_count": 3,
   "id": "207f7432",
   "metadata": {},
   "outputs": [
    {
     "name": "stdout",
     "output_type": "stream",
     "text": [
      "{'spam': 'eggs', 'knights': 'ham', 'bacon': 'sausage'}\n"
     ]
    }
   ],
   "source": [
    "d = {\n",
    "        'spam': 'eggs', \n",
    "        'knights': 'lumberjack', # 1ère clé 'knights'\n",
    "        'bacon': 'sausage',\n",
    "        'knights': 'ham' # 2ème clé 'knights' qui va écraser la première\n",
    "}\n",
    "\n",
    "print(d)"
   ]
  },
  {
   "cell_type": "markdown",
   "id": "d3c8ed8d",
   "metadata": {},
   "source": [
    "<p>Une <em><strong>cl&eacute;</strong> </em>ne peut pas &ecirc;tre un objet muable<strong>:</strong></p>"
   ]
  },
  {
   "cell_type": "code",
   "execution_count": 4,
   "id": "170fb0e1",
   "metadata": {},
   "outputs": [
    {
     "ename": "TypeError",
     "evalue": "unhashable type: 'list'",
     "output_type": "error",
     "traceback": [
      "\u001b[1;31m---------------------------------------------------------------------------\u001b[0m",
      "\u001b[1;31mTypeError\u001b[0m                                 Traceback (most recent call last)",
      "Input \u001b[1;32mIn [4]\u001b[0m, in \u001b[0;36m<cell line: 2>\u001b[1;34m()\u001b[0m\n\u001b[1;32m----> 1\u001b[0m d \u001b[38;5;241m=\u001b[39m {\n\u001b[0;32m      2\u001b[0m     [\u001b[38;5;124m'\u001b[39m\u001b[38;5;124mspam\u001b[39m\u001b[38;5;124m'\u001b[39m]: \u001b[38;5;124m'\u001b[39m\u001b[38;5;124meggs\u001b[39m\u001b[38;5;124m'\u001b[39m \u001b[38;5;66;03m# TypeError: unhashable type: 'list'\u001b[39;00m\n\u001b[0;32m      3\u001b[0m }\n",
      "\u001b[1;31mTypeError\u001b[0m: unhashable type: 'list'"
     ]
    }
   ],
   "source": [
    "d = {\n",
    "    ['spam']: 'eggs' # TypeError: unhashable type: 'list'\n",
    "}"
   ]
  },
  {
   "cell_type": "markdown",
   "id": "9421f092",
   "metadata": {},
   "source": [
    "<h2><span style=\"text-decoration: underline;\">2. Acc&eacute;der &agrave; un &eacute;l&eacute;ment dans un dictionnaire</span></h2>\n",
    "<p>Alors qu'on acc&egrave;de aux &eacute;l&eacute;ments contenus dans une <em><strong>liste</strong> </em>ou un tuple gr&acirc;ce &agrave; leurs indices (car ce sont des structures ordonn&eacute;s), pour les dictionnaires, <strong>on utilise une cl&eacute;</strong>.</p>\n",
    "<p>On peut utiliser cette <em><strong>cl&eacute;</strong> </em>&agrave; l'int&eacute;rieur de crochets <strong><em><code>[]</code></em></strong> ou via la m&eacute;thode <em><strong><code>get()</code></strong></em>.</p>\n",
    "<p>La diff&eacute;rence entre les deux ? Avec les crochets, une erreur de type <em><strong><code>KeyError</code> </strong></em>est lev&eacute;e si vous tentez d'utiliser une <em><strong>cl&eacute; inexistante</strong></em>. Alors que la m&eacute;thode <em><strong><code>get()</code></strong></em> vous retournera simplement <em><strong><code>None</code> </strong></em>ou un objet de votre choix.</p>"
   ]
  },
  {
   "cell_type": "code",
   "execution_count": 5,
   "id": "b216e2df",
   "metadata": {},
   "outputs": [
    {
     "name": "stdout",
     "output_type": "stream",
     "text": [
      "eggs\n",
      "eggs\n",
      "None\n",
      "Cette clé n'existe pas...\n"
     ]
    }
   ],
   "source": [
    "d = {\n",
    "        'spam': 'eggs',\n",
    "        'knights': 'lumberjack',\n",
    "        'bacon': 'sausage'    \n",
    "}\n",
    "\n",
    "print(d['spam'])  # 'eggs'\n",
    "\n",
    "# Si on essaie d'accéder à une clé inexistante avec les crochets, on a une erreur (KeyError)\n",
    "# print(d['ham'])\n",
    "\n",
    "print(d.get('spam'))  # 'eggs'\n",
    "\n",
    "# Avec get, si la clé n'existe pas, on récupère None\n",
    "print(d.get('ham'))  # None\n",
    "\n",
    "# Ou la valeur par défaut que l'on passe en deuxième argument\n",
    "print(d.get('ham', \"Cette clé n'existe pas...\"))  # \"Cette clé n'existe pas...\""
   ]
  },
  {
   "cell_type": "markdown",
   "id": "80b4cf03",
   "metadata": {},
   "source": [
    "<h2><span style=\"text-decoration: underline;\">3. Ajouter et modifier des &eacute;l&eacute;ments dans un&nbsp;dictionnaires&nbsp;</span></h2>\n",
    "<p>Les dictionnaires &eacute;tant des objets muables, ils sont faciles &agrave; modifier:</p>"
   ]
  },
  {
   "cell_type": "code",
   "execution_count": 18,
   "id": "71d236d8",
   "metadata": {},
   "outputs": [
    {
     "name": "stdout",
     "output_type": "stream",
     "text": [
      "{'spam': 'eggs', 'knights': 'lumberjack'}\n",
      "{'spam': 'ham', 'knights': 'lumberjack', 'bacon': 'sausage'}\n"
     ]
    }
   ],
   "source": [
    "d = {\n",
    "    'spam': 'eggs',\n",
    "    'knights': 'lumberjack',   \n",
    "}\n",
    "print(d)\n",
    "d['spam'] = 'ham' # Clé existe déjà, remplace la valeur\n",
    "d['bacon'] = 'sausage' # Nouvelle clé, on créer la paire clé/valeur dans le dico\n",
    "\n",
    "print(d)"
   ]
  },
  {
   "cell_type": "markdown",
   "id": "ed6cb8ef",
   "metadata": {},
   "source": [
    "<p style=\"text-align: justify;\">Cela signifie que vous pouvez aussi cr&eacute;er des dictionnaires <em>&agrave; la vol&eacute;e</em> et y <em><strong>ajouter/supprimer</strong></em> des &eacute;l&eacute;ments en fonction de ce qu'il se passe dans votre code&nbsp;</p>\n",
    "<h2><span style=\"text-decoration: underline;\">4. Supprimer des items d'un dictionnaire</span></h2>\n",
    "<p>Pour les suppressions, plusieurs possibilit&eacute;s en fonction de votre besoin.</p>\n",
    "<p>Utiliser la m&eacute;thode <em><strong><code>pop()</code></strong></em> pour <em><strong>supprimer</strong> </em>un &eacute;l&eacute;ment et r&eacute;cup&eacute;rer sa valeur dans une variable:</p>"
   ]
  },
  {
   "cell_type": "code",
   "execution_count": 7,
   "id": "960e423b",
   "metadata": {},
   "outputs": [
    {
     "name": "stdout",
     "output_type": "stream",
     "text": [
      "{'spam': 'ham', 'bacon': 'sausage'}\n",
      "lumberjack\n"
     ]
    }
   ],
   "source": [
    "d = {\n",
    "    'spam': 'ham',\n",
    "    'knights': 'lumberjack',\n",
    "    'bacon': 'sausage'\n",
    "}\n",
    "\n",
    "item = d.pop('knights') # 'lumberjack'\n",
    "print(d)\n",
    "print(item)"
   ]
  },
  {
   "cell_type": "markdown",
   "id": "39a0b335",
   "metadata": {},
   "source": [
    "<p>Utiliser la m&eacute;thode <code><em><strong>popitem</strong></em></code> pour supprimer le dernier &eacute;l&eacute;ment et r&eacute;cup&eacute;rer un <code><em><strong>tuple</strong></em></code> contenant la <em><strong>cl&eacute;</strong></em> et sa <em><strong>valeur</strong></em>.</p>"
   ]
  },
  {
   "cell_type": "code",
   "execution_count": 8,
   "id": "6063a545",
   "metadata": {},
   "outputs": [],
   "source": [
    "d = {\n",
    "    'spam': 'ham',\n",
    "    'knights': 'lumberjack',\n",
    "    'bacon': 'sausage'\n",
    "}\n",
    "\n",
    "item = d.popitem() # ('bacon', 'sausage') OU ('spam', 'ham') OU ('knights': 'lumberjack')"
   ]
  },
  {
   "cell_type": "markdown",
   "id": "abe2f0c8",
   "metadata": {},
   "source": [
    "<p>Utiliser <em><strong><code>clear()</code></strong></em> pour vider le dictionnaire.</p>"
   ]
  },
  {
   "cell_type": "code",
   "execution_count": 9,
   "id": "830f39c5",
   "metadata": {},
   "outputs": [
    {
     "name": "stdout",
     "output_type": "stream",
     "text": [
      "{}\n"
     ]
    }
   ],
   "source": [
    "d = {\n",
    "    'spam': 'ham',\n",
    "    'knights': 'lumberjack',\n",
    "    'bacon': 'sausage'\n",
    "}\n",
    "\n",
    "d.clear() # {}\n",
    "print(d)"
   ]
  },
  {
   "cell_type": "markdown",
   "id": "9de6acf7",
   "metadata": {},
   "source": [
    "<p>Supprimer enti&egrave;rement le dictionnaire gr&acirc;ce &agrave; l'instruction <em><strong><code>del.</code></strong></em></p>"
   ]
  },
  {
   "cell_type": "code",
   "execution_count": 21,
   "id": "4a8b482b",
   "metadata": {},
   "outputs": [
    {
     "ename": "NameError",
     "evalue": "name 'd' is not defined",
     "output_type": "error",
     "traceback": [
      "\u001b[1;31m---------------------------------------------------------------------------\u001b[0m",
      "\u001b[1;31mNameError\u001b[0m                                 Traceback (most recent call last)",
      "Input \u001b[1;32mIn [21]\u001b[0m, in \u001b[0;36m<cell line: 8>\u001b[1;34m()\u001b[0m\n\u001b[0;32m      1\u001b[0m d \u001b[38;5;241m=\u001b[39m {\n\u001b[0;32m      2\u001b[0m     \u001b[38;5;124m'\u001b[39m\u001b[38;5;124mspam\u001b[39m\u001b[38;5;124m'\u001b[39m: \u001b[38;5;124m'\u001b[39m\u001b[38;5;124mham\u001b[39m\u001b[38;5;124m'\u001b[39m,\n\u001b[0;32m      3\u001b[0m     \u001b[38;5;124m'\u001b[39m\u001b[38;5;124mknights\u001b[39m\u001b[38;5;124m'\u001b[39m: \u001b[38;5;124m'\u001b[39m\u001b[38;5;124mlumberjack\u001b[39m\u001b[38;5;124m'\u001b[39m,\n\u001b[0;32m      4\u001b[0m     \u001b[38;5;124m'\u001b[39m\u001b[38;5;124mbacon\u001b[39m\u001b[38;5;124m'\u001b[39m: \u001b[38;5;124m'\u001b[39m\u001b[38;5;124msausage\u001b[39m\u001b[38;5;124m'\u001b[39m\n\u001b[0;32m      5\u001b[0m }\n\u001b[0;32m      7\u001b[0m \u001b[38;5;28;01mdel\u001b[39;00m d\n\u001b[1;32m----> 8\u001b[0m \u001b[38;5;28mprint\u001b[39m(\u001b[43md\u001b[49m)\n",
      "\u001b[1;31mNameError\u001b[0m: name 'd' is not defined"
     ]
    }
   ],
   "source": [
    "d = {\n",
    "    'spam': 'ham',\n",
    "    'knights': 'lumberjack',\n",
    "    'bacon': 'sausage'\n",
    "}\n",
    "\n",
    "del d\n",
    "print(d) # NameError: name 'd' is not defined"
   ]
  },
  {
   "cell_type": "markdown",
   "id": "9027ad87",
   "metadata": {},
   "source": [
    "<h2><span style=\"text-decoration: underline;\">5. It&eacute;rer sur un dictionnaire</span></h2>\n",
    "<p>Comme les dictionnaires sont des collections d'objets, vous pouvez it&eacute;rer dessus pour r&eacute;cup&eacute;rer et modifier des valeurs.</p>\n",
    "<p>Python nous donne plusieurs outils pour faire &ccedil;a que je vous pr&eacute;sente tout de suite:</p>\n",
    "<h3><span style=\"text-decoration: underline;\"><strong>5.1. Avec une boucle for</strong></span></h3>\n",
    "<p>La boucle <code><em><strong>for</strong></em></code> classique que vous connaissez ! Il faut savoir que sur un dictionnaire, une boucle <code><em><strong>for</strong></em></code> va it&eacute;rer sur les <strong>cl&eacute;s uniquement</strong> :</p>"
   ]
  },
  {
   "cell_type": "code",
   "execution_count": 10,
   "id": "bc4d92e3",
   "metadata": {},
   "outputs": [
    {
     "name": "stdout",
     "output_type": "stream",
     "text": [
      "spam\n",
      "knights\n",
      "bacon\n"
     ]
    }
   ],
   "source": [
    "d = {\n",
    "    'spam': 'ham',\n",
    "    'knights': 'lumberjack',\n",
    "    'bacon': 'sausage'\n",
    "}\n",
    "\n",
    "for key in d:\n",
    "    print(key)"
   ]
  },
  {
   "cell_type": "markdown",
   "id": "f0807618",
   "metadata": {},
   "source": [
    "<p>On pourrait utiliser la cl&eacute; pour r&eacute;cup&eacute;rer la valeur de cette fa&ccedil;on :</p>"
   ]
  },
  {
   "cell_type": "code",
   "execution_count": 11,
   "id": "aa13825d",
   "metadata": {},
   "outputs": [
    {
     "name": "stdout",
     "output_type": "stream",
     "text": [
      "spam ham\n",
      "knights lumberjack\n",
      "bacon sausage\n"
     ]
    }
   ],
   "source": [
    "d = {\n",
    "    'spam': 'ham',\n",
    "    'knights': 'lumberjack',\n",
    "    'bacon': 'sausage'\n",
    "}\n",
    "\n",
    "for key in d:\n",
    "    print(key, d[key])"
   ]
  },
  {
   "cell_type": "markdown",
   "id": "142955ad",
   "metadata": {},
   "source": [
    "<h3><span style=\"text-decoration: underline;\">5.2. Avec <code>keys</code>, <code>values</code> et <code>items</code></span></h3>\n",
    "<p>Pour it&eacute;rer sur les <em><strong>cl&eacute;s</strong></em>, vous pouvez aussi utiliser la m&eacute;thode <em><strong><code>keys()</code></strong></em>.</p>\n",
    "<p>Cela revient au m&ecirc;me r&eacute;sultat que ce qu'on a vu avec la boucle <em><strong><code>for</code>&nbsp;</strong></em>&agrave; la diff&eacute;rence que vous pouvez aussi l'utiliser en dehors d'une boucle.</p>"
   ]
  },
  {
   "cell_type": "code",
   "execution_count": 12,
   "id": "21a093b3",
   "metadata": {},
   "outputs": [
    {
     "name": "stdout",
     "output_type": "stream",
     "text": [
      "spam\n",
      "knights\n",
      "bacon\n",
      "dict_keys(['spam', 'knights', 'bacon'])\n"
     ]
    }
   ],
   "source": [
    "d = {\n",
    "    'spam': 'ham',\n",
    "    'knights': 'lumberjack',\n",
    "    'bacon': 'sausage'\n",
    "}\n",
    "\n",
    "for key in d.keys():\n",
    "    print(key)\n",
    "\n",
    "keys = d.keys()\n",
    "print(keys)"
   ]
  },
  {
   "cell_type": "markdown",
   "id": "08deef91",
   "metadata": {},
   "source": [
    "<p>Pour it&eacute;rer sur les valeurs, Python met &agrave; notre disposition la m&eacute;thode <em><strong><code>values</code></strong></em>:</p>"
   ]
  },
  {
   "cell_type": "code",
   "execution_count": 20,
   "id": "4ca77977",
   "metadata": {},
   "outputs": [
    {
     "name": "stdout",
     "output_type": "stream",
     "text": [
      "ham\n",
      "lumberjack\n",
      "sausage\n"
     ]
    }
   ],
   "source": [
    "d = {\n",
    "    'spam': 'ham',\n",
    "    'knights': 'lumberjack',\n",
    "    'bacon': 'sausage'\n",
    "}\n",
    "\n",
    "for value in d.values():\n",
    "    print(value)"
   ]
  },
  {
   "cell_type": "markdown",
   "id": "c046d63f",
   "metadata": {},
   "source": [
    "<p>Vous pouvez combiner les deux r&eacute;sultats pr&eacute;c&eacute;dents gr&acirc;ce &agrave; la m&eacute;thode <em><strong><code>items()</code></strong></em> qui permet de r&eacute;cup&eacute;rer toutes les paires <em><strong>cl&eacute;s / valeurs</strong></em>:</p>"
   ]
  },
  {
   "cell_type": "code",
   "execution_count": 19,
   "id": "7a524e4b",
   "metadata": {},
   "outputs": [
    {
     "name": "stdout",
     "output_type": "stream",
     "text": [
      "spam ham\n",
      "knights lumberjack\n",
      "bacon sausage\n"
     ]
    }
   ],
   "source": [
    "d = {\n",
    "    'spam': 'ham',\n",
    "    'knights': 'lumberjack',\n",
    "    'bacon': 'sausage'\n",
    "}\n",
    "\n",
    "for key, value in d.items():\n",
    "    print(key, value)"
   ]
  },
  {
   "cell_type": "markdown",
   "id": "520e0446",
   "metadata": {},
   "source": [
    "<h2><span style=\"text-decoration: underline;\">6. Compr&eacute;hension de dictionnaire</span></h2>\n",
    "<p>Comme pour les <em><strong>listes</strong></em>, il est aussi possible de passer par une <em><strong>compr&eacute;hension de dictionnaire.</strong></em></p>"
   ]
  },
  {
   "cell_type": "code",
   "execution_count": 15,
   "id": "c88322c4",
   "metadata": {},
   "outputs": [
    {
     "name": "stdout",
     "output_type": "stream",
     "text": [
      "{'spam': 'hams', 'knights': 'lumberjacks', 'bacon': 'sausages'}\n"
     ]
    }
   ],
   "source": [
    "d = {\n",
    "    'spam': 'ham',\n",
    "    'knights': 'lumberjack',\n",
    "    'bacon': 'sausage'\n",
    "}\n",
    "\n",
    "d_with_s = {k:v + 's' for k, v in d.items()}  # Ajoute un 's' à toutes les valeurs\n",
    "print(d_with_s)"
   ]
  },
  {
   "cell_type": "markdown",
   "id": "14691709",
   "metadata": {},
   "source": [
    "<h2><span style=\"text-decoration: underline;\">7. V&eacute;rifier la pr&eacute;sence d'une cl&eacute; dans un dictionnaire</span></h2>\n",
    "<p>Vous pouvez v&eacute;rifier qu'une cl&eacute; est pr&eacute;sente dans un dictionnaire gr&acirc;ce &agrave; l'op&eacute;rateur <em><strong><code>in</code></strong></em>:</p>"
   ]
  },
  {
   "cell_type": "code",
   "execution_count": 16,
   "id": "f911f2d9",
   "metadata": {},
   "outputs": [
    {
     "name": "stdout",
     "output_type": "stream",
     "text": [
      "True\n",
      "False\n"
     ]
    }
   ],
   "source": [
    "d = {\n",
    "    'spam': 'ham',\n",
    "    'knights': 'lumberjack',\n",
    "    'bacon': 'sausage'\n",
    "}\n",
    "\n",
    "print('bacon' in d)  # True\n",
    "print('ham' in d)    # False"
   ]
  },
  {
   "cell_type": "markdown",
   "id": "2571584a",
   "metadata": {},
   "source": [
    "<h2><span style=\"text-decoration: underline;\">8. R&eacute;sum&eacute; des fonction utiliser par les dictionnaire</span></h2>\n",
    "\n",
    "<table>\n",
    "<tbody>\n",
    "<tr>\n",
    "<td>\n",
    "<p><code><span>x </span><span>in </span><span>d</span></code></p>\n",
    "</td>\n",
    "<td>\n",
    "<p>vrai si<code><span>x</span></code>est une des cl&eacute;s de<code><span>d</span></code></p>\n",
    "</td>\n",
    "</tr>\n",
    "<tr>\n",
    "<td>\n",
    "<p><code><span>x </span><span>not </span><span>in </span><span>d</span></code></p>\n",
    "</td>\n",
    "<td>\n",
    "<p>r&eacute;ciproque de la ligne pr&eacute;c&eacute;dente</p>\n",
    "</td>\n",
    "</tr>\n",
    "<tr>\n",
    "<td>\n",
    "<p><code><span>d[i]</span></code></p>\n",
    "</td>\n",
    "<td>\n",
    "<p>retourne l&rsquo;&eacute;l&eacute;ment associ&eacute; &agrave; la cl&eacute;&nbsp;<code><span>i</span></code></p>\n",
    "</td>\n",
    "</tr>\n",
    "<tr>\n",
    "<td>\n",
    "<p><code><span>len(d)</span></code></p>\n",
    "</td>\n",
    "<td>\n",
    "<p>nombre d&rsquo;&eacute;l&eacute;ments de<code><span>d</span></code></p>\n",
    "</td>\n",
    "</tr>\n",
    "<tr>\n",
    "<td>\n",
    "<p><code><span>min(d)</span></code></p>\n",
    "</td>\n",
    "<td>\n",
    "<p>plus petite cl&eacute;</p>\n",
    "</td>\n",
    "</tr>\n",
    "<tr>\n",
    "<td>\n",
    "<p><code><span>max(d)</span></code></p>\n",
    "</td>\n",
    "<td>\n",
    "<p>plus grande cl&eacute;</p>\n",
    "</td>\n",
    "</tr>\n",
    "<tr>\n",
    "<td>\n",
    "<p><code><span>del</span><span>d</span><span>[i]</span></code></p>\n",
    "</td>\n",
    "<td>\n",
    "<p>supprime l&rsquo;&eacute;l&eacute;ment associ&eacute; &agrave; la cl&eacute;<code><span>i</span></code></p>\n",
    "</td>\n",
    "</tr>\n",
    "<tr>\n",
    "<td>\n",
    "<p><code><span>list</span><span>(d)</span></code></p>\n",
    "</td>\n",
    "<td>\n",
    "<p>retourne une liste contenant toutes les cl&eacute;s du dictionnaire<code><span>d</span></code></p>\n",
    "</td>\n",
    "</tr>\n",
    "<tr>\n",
    "<td>\n",
    "<p><code><span>dict</span><span>(x)</span></code></p>\n",
    "</td>\n",
    "<td>\n",
    "<p>convertit<code><span>x</span></code>en un dictionnaire si cela est possible,<code><span>d</span></code>est alors &eacute;gal &agrave;&nbsp;<code><span>dict</span><span>(</span><span>d.items</span><span>()</span><span>)</span></code></p>\n",
    "</td>\n",
    "</tr>\n",
    "<tr>\n",
    "<td>\n",
    "<p><code><span>d.copy</span><span>()</span></code></p>\n",
    "</td>\n",
    "<td>\n",
    "<p>Retourne une copie de<code><span>d</span></code></p>\n",
    "</td>\n",
    "</tr>\n",
    "<tr>\n",
    "<td>\n",
    "<p><code><span>d.items</span><span>()</span></code></p>\n",
    "</td>\n",
    "<td>\n",
    "<p>Retourne un it&eacute;rateur sur tous les couples (cl&eacute;, valeur) inclus dans le dictionnaire.</p>\n",
    "</td>\n",
    "</tr>\n",
    "<tr>\n",
    "<td>\n",
    "<p><code><span>d.keys</span><span>()</span></code></p>\n",
    "</td>\n",
    "<td>\n",
    "<p>Retourne un it&eacute;rateur sur toutes les cl&eacute;s du dictionnaire<code><span>d</span></code></p>\n",
    "</td>\n",
    "</tr>\n",
    "<tr>\n",
    "<td>\n",
    "<p><code><span>d.values</span><span>()</span></code></p>\n",
    "</td>\n",
    "<td>\n",
    "<p>Retourne un it&eacute;rateur sur toutes les valeurs du dictionnaire<code><span>d</span></code></p>\n",
    "</td>\n",
    "</tr>\n",
    "<tr>\n",
    "<td>\n",
    "<p><code><span>d.get</span><span>(k[,x])</span></code></p>\n",
    "</td>\n",
    "<td>\n",
    "<p>Retourne<code><span>d[k]</span></code>, si la cl&eacute;<code><span>k</span></code>est manquante, alors la valeur<code><span>None</span></code>est retourn&eacute;e &agrave; moins que le param&egrave;tre optionnel<code><span>x</span></code>soit renseign&eacute;, auquel cas, ce sera cette valeur qui sera retourn&eacute;.</p>\n",
    "</td>\n",
    "</tr>\n",
    "<tr>\n",
    "<td>\n",
    "<p><code><span>d.clear</span><span>()</span></code></p>\n",
    "</td>\n",
    "<td>\n",
    "<p>Supprime tous les &eacute;l&eacute;ments du dictionnaire.</p>\n",
    "</td>\n",
    "</tr>\n",
    "<tr>\n",
    "<td>\n",
    "<p><code><span>d.pop()</span></code></p>\n",
    "</td>\n",
    "<td>\n",
    "<p>Retourne un &eacute;l&eacute;ment et le supprime du dictionnaire.</p>\n",
    "</td>\n",
    "</tr>\n",
    "</tbody>\n",
    "</table>"
   ]
  },
  {
   "cell_type": "code",
   "execution_count": null,
   "id": "777c6027",
   "metadata": {},
   "outputs": [],
   "source": []
  }
 ],
 "metadata": {
  "kernelspec": {
   "display_name": "Python 3 (ipykernel)",
   "language": "python",
   "name": "python3"
  },
  "language_info": {
   "codemirror_mode": {
    "name": "ipython",
    "version": 3
   },
   "file_extension": ".py",
   "mimetype": "text/x-python",
   "name": "python",
   "nbconvert_exporter": "python",
   "pygments_lexer": "ipython3",
   "version": "3.9.12"
  }
 },
 "nbformat": 4,
 "nbformat_minor": 5
}
