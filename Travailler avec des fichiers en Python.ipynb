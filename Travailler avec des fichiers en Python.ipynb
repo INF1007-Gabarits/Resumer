{
 "cells": [
  {
   "cell_type": "markdown",
   "id": "cdffe453",
   "metadata": {},
   "source": [
    "<h1 style=\"text-align: justify;\"><span style=\"text-decoration: underline;\">Travailler avec des fichiers en Python</span></h1>\n",
    "<p style=\"text-align: justify;\">Les fichiers sont des emplacements nomm&eacute;s sur le disque pour stocker les informations associ&eacute;es. Ils sont utilis&eacute;s pour stocker en permanence des donn&eacute;es dans une m&eacute;moire non volatile (ex. Disque dur).</p>\n",
    "<p style=\"text-align: justify;\">&Eacute;tant donn&eacute; que la m&eacute;moire vive (RAM) est volatile (qui perd ses donn&eacute;es lorsque l&rsquo;ordinateur est &eacute;teint), nous utilisons des fichiers pour une utilisation future des donn&eacute;es en les stockant de mani&egrave;re permanente.</p>\n",
    "<h2 style=\"text-align: justify;\"><br /><span style=\"text-decoration: underline;\">1. Utilisation des fichiers en <em>Python</em></span></h2>\n",
    "<p style=\"text-align: justify;\">L&rsquo;utilisation d&rsquo;un fichier ressemble beaucoup &agrave; l&rsquo;utilisation d&rsquo;un livre. Pour utiliser un livre, vous devez d&rsquo;abord le trouver (&agrave; l&rsquo;aide de son titre), puis l&rsquo;ouvrir. Lorsque vous avez fini de l&rsquo;utiliser, vous le refermez. Tant qu&rsquo;il est ouvert, vous pouvez y lire des informations diverses, et vous pouvez aussi y &eacute;crire des annotations, mais g&eacute;n&eacute;ralement vous ne faites pas les deux &agrave; la fois.</p>\n",
    "<p style=\"text-align: justify;\">Dans tous les cas, vous pouvez vous situer &agrave; l&rsquo;int&eacute;rieur du livre, notamment en vous aidant des num&eacute;ros de pages. Vous lisez la plupart des livres en suivant l&rsquo;ordre normal des pages, mais vous pouvez aussi d&eacute;cider de consulter n&rsquo;importe quel paragraphe dans le d&eacute;sordre.</p>\n",
    "<p style=\"text-align: justify;\">Tout ce que nous venons de dire des livres s&rsquo;applique &eacute;galement aux fichiers informatiques. Un fichier se compose de donn&eacute;es enregistr&eacute;es sur votre disque dur, sur une disquette, une clef USB ou un CD-Rom. Vous y acc&eacute;dez gr&acirc;ce &agrave; son nom (lequel peut inclure aussi un nom de r&eacute;pertoire). Vous pouvez toujours consid&eacute;rer le contenu d&rsquo;un fichier comme une suite de caract&egrave;res, ce qui signifie que vous pouvez traiter ce contenu, ou une partie quelconque de celui-ci, &agrave; l&rsquo;aide des fonctions servant &agrave; traiter les cha&icirc;nes de caract&egrave;res.</p>\n",
    "<h2 style=\"text-align: justify;\"><span style=\"text-decoration: underline;\">2. Noms de fichiers &ndash; le r&eacute;pertoire courant</span></h2>\n",
    "<p style=\"text-align: justify;\">Si vous travaillez avec IDLE, vous souhaiterez donc certainement forcer <strong><em>Python</em> </strong>&agrave; changer son r&eacute;pertoire courant, afin que celui-ci corresponde &agrave; vos attentes.</p>\n",
    "<p style=\"text-align: justify;\">Pour ce faire, utilisez les commandes suivantes en d&eacute;but de session. Nous supposons pour la d&eacute;monstration que le r&eacute;pertoire vis&eacute; est le r&eacute;pertoire /home/jules/exercices .</p>\n",
    "<p style=\"text-align: justify;\">M&ecirc;me si vous travaillez sous Windows (o&ugrave; ce n&rsquo;est pas la r&egrave;gle), vous pouvez utiliser cette syntaxe (c&rsquo;est-&agrave;-dire des caract&egrave;res / et non \\ en guise de s&eacute;parateurs : c&rsquo;est la convention en vigueur dans le monde Unix). <em><strong>Python</strong> </em>effectuera automatiquement les conversions n&eacute;cessaires, suivant que vous travaillez sous Mac OS, Linux, ou Windows</p>\n",
    "<h2 style=\"text-align: justify;\"><span style=\"text-decoration: underline;\">3. Les deux formes d&rsquo;importation</span></h2>\n",
    "<p style=\"text-align: justify;\">Pour utiliser les fonctions d&rsquo;un module, il suffit de les importer. Mais cela peut se faire de deux mani&egrave;res diff&eacute;rentes, comme nous allons le voir ci-dessous. Chacune des deux m&eacute;thodes pr&eacute;sente des avantages et des inconv&eacute;nients.</p>\n",
    "<h3 style=\"text-align: justify;\"><span style=\"text-decoration: underline;\">3.1. La premi&egrave;re m&eacute;thode:</span></h3>"
   ]
  },
  {
   "cell_type": "code",
   "execution_count": 2,
   "id": "39da4693",
   "metadata": {},
   "outputs": [
    {
     "name": "stdout",
     "output_type": "stream",
     "text": [
      "C:\\Users\\Saad\\Downloads\\Resume_Python\n"
     ]
    }
   ],
   "source": [
    "import os\n",
    "rep_cour = os.getcwd()\n",
    "print(rep_cour)"
   ]
  },
  {
   "cell_type": "markdown",
   "id": "1ad573af",
   "metadata": {},
   "source": [
    "<p style=\"text-align: justify;\">La premi&egrave;re ligne de cet exemple importe l&rsquo;int&eacute;gralit&eacute; du module <em><strong><code>os</code></strong></em>, lequel contient de nombreuses fonctions int&eacute;ressantes pour l&rsquo;acc&egrave;s au syst&egrave;me d&rsquo;exploitation.</p>\n",
    "<p style=\"text-align: justify;\">La seconde ligne utilise la fonction <em><code><strong>getcwd()</strong></code></em> du module <em><strong><code>os</code></strong></em>. Comme vous pouvez le constater, la fonction <em><code>getcwd()</code></em> renvoie le nom du r&eacute;pertoire courant (<em><strong><code>getcwd = get current working directory</code></strong></em>).</p>\n",
    "<h3 style=\"text-align: justify;\"><span style=\"text-decoration: underline;\">3.2. La Deuxi&egrave;me m&eacute;thode :</span></h3>"
   ]
  },
  {
   "cell_type": "code",
   "execution_count": 3,
   "id": "a06f1c00",
   "metadata": {},
   "outputs": [
    {
     "name": "stdout",
     "output_type": "stream",
     "text": [
      "C:\\Users\\Saad\\Downloads\\Resume_Python\n"
     ]
    }
   ],
   "source": [
    "from os import getcwd\n",
    "rep_cour = getcwd()\n",
    "print(rep_cour)"
   ]
  },
  {
   "cell_type": "markdown",
   "id": "53b38baa",
   "metadata": {},
   "source": [
    "<p style=\"text-align: justify;\">Dans ce nouvel exemple, nous n&rsquo;avons import&eacute; du module <em><strong><code>os</code></strong></em> que la fonction <em><strong><code>getcwd()</code></strong></em>. Import&eacute;e de cette mani&egrave;re, la fonction s&rsquo;int&egrave;gre &agrave; notre propre code comme si nous l&rsquo;avions &eacute;crite nous-m&ecirc;mes.</p>\n",
    "<p style=\"text-align: justify;\">Dans les lignes o&ugrave; nous l&rsquo;utilisons, il n&rsquo;est pas n&eacute;cessaire de rappeler qu&rsquo;elle fait partie du module <em><strong><code>os</code></strong></em>.</p>\n",
    "<h2 style=\"text-align: justify;\"><span style=\"text-decoration: underline;\">4. Les types de fichiers</span></h2>\n",
    "<p style=\"text-align: justify;\">Il existe deux types de fichiers qui peuvent &ecirc;tre g&eacute;r&eacute;s en <em><strong>Python</strong></em>, les fichiers texte normaux et les fichiers binaires (&eacute;crits en langage binaire, 0 et 1).</p>\n",
    "<ul>\n",
    "<li style=\"text-align: justify;\"><strong>Fichiers texte: </strong>Dans ce type de fichier, chaque ligne de texte se termine par un caract&egrave;re sp&eacute;cial appel&eacute; EOL (End of Line), qui est le caract&egrave;re de nouvelle ligne (&lsquo;\\n&rsquo;) en <em><strong>Python</strong> </em>par d&eacute;faut.</li>\n",
    "<li style=\"text-align: justify;\"><strong>Fichiers binaires:</strong> Dans ce type de fichier, il n&rsquo;y a pas de terminateur pour une ligne et les donn&eacute;es sont stock&eacute;es apr&egrave;s leur conversion en langage binaire compr&eacute;hensible par machine.</li>\n",
    "</ul>"
   ]
  },
  {
   "cell_type": "markdown",
   "id": "71f4ce56",
   "metadata": {},
   "source": [
    "<h2 style=\"text-align: justify;\"><span style=\"text-decoration: underline;\">5. Ficher texte</span></h2>\n",
    "<p style=\"text-align: justify;\">Un fichier texte est un fichier qui contient des caract&egrave;res imprimables et des espaces organis&eacute;s en lignes successives, ces lignes &eacute;tant s&eacute;par&eacute;es les unes des autres par un caract&egrave;re sp&eacute;cial non-imprimable appel&eacute; \"marqueur de fin de ligne\"</p>\n",
    "<p style=\"text-align: justify;\">Les fichiers textes sont humainement lisibles. Autrement dit, ils contiennent du texte (lettres, ponctuations, nombres, &hellip;). Leur contenu est souvent divis&eacute; en lignes.</p>\n",
    "<h3 style=\"text-align: justify;\"><span style=\"text-decoration: underline;\">5.1. Modes d&rsquo;acc&egrave;s aux fichiers</span></h3>\n",
    "<p style=\"text-align: justify;\">Les modes d&rsquo;acc&egrave;s r&eacute;gissent le type d&rsquo;op&eacute;rations possibles dans le fichier ouvert. Il fait r&eacute;f&eacute;rence &agrave; la mani&egrave;re dont le fichier sera utilis&eacute; une fois qu&rsquo;il sera ouvert. Ces modes d&eacute;finissent &eacute;galement l&rsquo;emplacement du descripteur de fichier dans le fichier. La poign&eacute;e de fichier est comme un curseur, qui d&eacute;finit &agrave; partir de laquelle les donn&eacute;es doivent &ecirc;tre lues ou &eacute;crites dans le fichier. Il existe 6 modes d&rsquo;acc&egrave;s en <em><strong>Python</strong></em>.</p>\n",
    "\n",
    "<table>\n",
    "<thead>\n",
    "<tr>\n",
    "<th>\n",
    "<p>Mode</p>\n",
    "</th>\n",
    "<th>\n",
    "<p>Description</p>\n",
    "</th>\n",
    "</tr>\n",
    "</thead>\n",
    "<tbody>\n",
    "<tr>\n",
    "<td>\n",
    "<p>r</p>\n",
    "</td>\n",
    "<td>\n",
    "<p>ouverture en lecture (mode par d&eacute;faut)</p>\n",
    "</td>\n",
    "</tr>\n",
    "<tr>\n",
    "<td>\n",
    "<p>w</p>\n",
    "</td>\n",
    "<td>\n",
    "<p>ouverture en &eacute;criture (efface le contenu pr&eacute;c&eacute;dent)</p>\n",
    "</td>\n",
    "</tr>\n",
    "<tr>\n",
    "<td>\n",
    "<p>x</p>\n",
    "</td>\n",
    "<td>\n",
    "<p>ouverture uniquement pour cr&eacute;ation (l&rsquo;ouverture &eacute;choue si le fichier existe d&eacute;j&agrave;)</p>\n",
    "</td>\n",
    "</tr>\n",
    "<tr>\n",
    "<td>\n",
    "<p>+</p>\n",
    "</td>\n",
    "<td>\n",
    "<p>ouverture en lecture et &eacute;criture</p>\n",
    "</td>\n",
    "</tr>\n",
    "<tr>\n",
    "<td>\n",
    "<p>a</p>\n",
    "</td>\n",
    "<td>\n",
    "<p>ouverture en &eacute;criture pour ajout en fin de fichier</p>\n",
    "</td>\n",
    "</tr>\n",
    "<tr>\n",
    "<td>\n",
    "<p>b</p>\n",
    "</td>\n",
    "<td>\n",
    "<p>fichier binaire</p>\n",
    "</td>\n",
    "</tr>\n",
    "<tr>\n",
    "<td>\n",
    "<p>t</p>\n",
    "</td>\n",
    "<td>\n",
    "<p>fichier texte (mode par d&eacute;faut)</p>\n",
    "</td>\n",
    "</tr>\n",
    "</tbody>\n",
    "</table>\n",
    "\n",
    "<h3 style=\"text-align: justify;\"><span style=\"text-decoration: underline;\">5.2. &Eacute;tapes &agrave; suivre et erreurs rencontr&eacute;es</span></h3>\n",
    "<h4 style=\"text-align: justify;\"><span style=\"text-decoration: underline;\">5.2.1. &Eacute;tapes &agrave; suivre</span></h4>\n",
    "<p style=\"text-align: justify;\">Pour manipuler un fichier, que ce soit en mode texte ou binaire, il y a trois principales &eacute;tapes &agrave; suivre.</p>\n",
    "<ul style=\"text-align: justify;\">\n",
    "<li>Il faut d&rsquo;abord ouvrir le fichier d&eacute;sir&eacute;, en lecture ou en &eacute;criture. S&rsquo;il s&rsquo;agit d&rsquo;un nouveau fichier, il doit &ecirc;tre avant tout cr&eacute;&eacute;.</li>\n",
    "<li>Une fois le fichier ouvert, on va pouvoir effectuer des op&eacute;rations de lecture et d&rsquo;&eacute;criture sur ce dernier.</li>\n",
    "<li>Enfin, une fois que l&rsquo;on a termin&eacute;, il faut fermer le fichier pour lib&eacute;rer les ressources allou&eacute;es par le syst&egrave;me d&rsquo;exploitation.</li>\n",
    "</ul>\n",
    "<h4 style=\"text-align: justify;\"><span style=\"text-decoration: underline;\">5.2.2. Erreurs rencontr&eacute;es</span></h4>\n",
    "<ul style=\"text-align: justify;\">\n",
    "<li><strong>Deux erreurs</strong> peuvent survenir lorsqu&rsquo;on manipule un fichier.</li>\n",
    "<li>Tout d&rsquo;abord, il se peut que le fichier que l&rsquo;on tente d&rsquo;ouvrir n&rsquo;existe pas, dans lequel cas une erreur de type <code>FileNotFoundError</code> est g&eacute;n&eacute;r&eacute;e.</li>\n",
    "<li>Ensuite, durant la lecture ou l&rsquo;&eacute;criture, diff&eacute;rentes situations d&rsquo;erreur peuvent survenir comme le disque qui devient plein, l&rsquo;utilisateur qui n&rsquo;a pas les droits suffisants pour lire/&eacute;crire un fichier, etc.</li>\n",
    "<li>Dans toutes ces situations, une erreur de type <em><strong><code>IOError</code>&nbsp;</strong></em>survient, signalant en fait une erreur <em><strong>d&rsquo;entr&eacute;e/sortie</strong></em>. Si on veut un programme robuste, il faudra les traiter &agrave; l&rsquo;aide d&rsquo;un <em><strong><code>try-except</code></strong></em>.</li>\n",
    "<li>L&rsquo;exception <em><strong><code>IOError</code>est</strong>&nbsp;</em>en fait une erreur g&eacute;n&eacute;rique d&rsquo;entr&eacute;e/sortie et on peut se limiter &agrave; g&eacute;rer cette derni&egrave;re. N&eacute;anmoins, il est parfois utile de g&eacute;rer ses cas particuliers, parmi lesquels on a :\n",
    "<ul>\n",
    "<li><em><strong><code>FileNotFoundError</code>&nbsp;</strong></em>si le fichier n&rsquo;existe pas ;</li>\n",
    "<li><em><strong><code>FileExistsError</code>&nbsp;</strong></em>si le fichier existe d&eacute;j&agrave; ;</li>\n",
    "<li><em><strong><code>PermissionError</code>&nbsp;</strong></em>si le programme n&rsquo;a pas les droits d&rsquo;acc&egrave;s n&eacute;cessaires sur le fichier ;</li>\n",
    "<li><em><strong><code>IsADirectoryError</code>&nbsp;</strong></em>si le fichier est en fait un dossier.</li>\n",
    "</ul>\n",
    "</li>\n",
    "</ul>\n",
    "<h3 style=\"text-align: justify;\"><span style=\"text-decoration: underline;\">5.3. Ouverture d&rsquo;un fichier</span></h3>\n",
    "<p style=\"text-align: justify;\">Cela se fait en utilisant la fonction <strong><code>open()</code></strong>. Aucun module ne doit &ecirc;tre import&eacute; pour cette fonction.</p>\n",
    "<p style=\"text-align: justify;\"><strong><code>File_object = open (r \"File_Name\", \"Access_Mode\")</code></strong>&nbsp;</p>\n",
    "<p style=\"text-align: justify;\">Elle prend en param&egrave;tre :</p>\n",
    "<ul style=\"text-align: justify;\">\n",
    "<li>Le chemin (<strong>absolu ou relatif</strong>) menant au fichier &agrave; ouvrir ;</li>\n",
    "<li>Le mode d&rsquo;ouverture.</li>\n",
    "</ul>\n",
    "<p style=\"text-align: justify;\">Le fichier doit exister dans le m&ecirc;me r&eacute;pertoire que le fichier du programme <em><strong>Python</strong> </em>sinon, l&rsquo;adresse compl&egrave;te du fichier doit &ecirc;tre &eacute;crite &agrave; la place du nom de fichier.</p>\n",
    "<h3 style=\"text-align: justify;\"><u>5.4. Lecture d&rsquo;un fichier</u></h3>\n",
    "<h4 style=\"text-align: justify;\"><u>5.4.1. Lecture en bloc avec&nbsp;</u><code><u><em>read()</em></u></code></h4>\n",
    "<h4 style=\"text-align: justify;\"><img src=\"https://apcpedagogie.com/wp-content/uploads/2020/08/fichier-text-python.jpg\" alt=\"fichier text python\" width=\"955\" height=\"653\" srcset=\"https://apcpedagogie.com/wp-content/uploads/2020/08/fichier-text-python.jpg 955w, https://apcpedagogie.com/wp-content/uploads/2020/08/fichier-text-python-600x410.jpg 600w, https://apcpedagogie.com/wp-content/uploads/2020/08/fichier-text-python-300x205.jpg 300w, https://apcpedagogie.com/wp-content/uploads/2020/08/fichier-text-python-768x525.jpg 768w\" sizes=\"(max-width: 955px) 100vw, 955px\" /><u><em>5.4.2. Lecture en bloc avec <code><em>readlines</em></code> (avec \"s\")</em></u></h4>\n",
    "<p style=\"text-align: justify;\">La m&eacute;thode <strong><em><code>readlines()</code></em></strong> transf&egrave;re toutes les lignes restantes dans une liste de cha&icirc;nes :</p>\n",
    "<ul>\n",
    "<li style=\"text-align: justify;\">La m&eacute;thode <strong><em><code>readlines()</code></em></strong> permet donc de lire l&rsquo;int&eacute;gralit&eacute; d&rsquo;un fichier en une instruction seulement. Cela n&rsquo;est possible toutefois que si le fichier &agrave; lire n&rsquo;est pas trop gros : puisqu&rsquo;il est copi&eacute; int&eacute;gralement dans une variable, c&rsquo;est-&agrave;-dire dans la m&eacute;moire vive de l&rsquo;ordinateur, il faut que la taille de celle-ci soit suffisante. Si vous devez traiter de gros fichiers, utilisez plut&ocirc;t la m&eacute;thode <strong><em><code>readlines()</code></em></strong> dans une boucle.</li>\n",
    "<li style=\"text-align: justify;\">Notez bien que <strong><em><code>readlines()</code></em></strong> est une m&eacute;thode qui renvoie une cha&icirc;ne de caract&egrave;res, alors que la m&eacute;thode <strong><em><code>readlines()</code></em></strong> renvoie une liste. &Agrave; la fin du fichier, <strong><em><code>readlines()</code></em></strong> renvoie une cha&icirc;ne vide, tandis que <strong><em><code>readlines()</code></em></strong> renvoie une liste vide</li>\n",
    "</ul>"
   ]
  },
  {
   "cell_type": "code",
   "execution_count": null,
   "id": "14463ff3",
   "metadata": {},
   "outputs": [],
   "source": [
    "# -*- coding: utf -*-\n",
    "#ouverture en lecture\n",
    "f = open(\"voitures.txt\", mode=\"r\")\n",
    "#lecture\n",
    "lst = f.readlines()\n",
    "#affichage\n",
    "print(\"** contenu de lst **\")\n",
    "print(lst)\n",
    "print(\"** fin contenu **\")\n",
    "#information sur lst\n",
    "print(\"type de s : \",type(lst))\n",
    "print(\"longueur de s : \", len(lst))\n",
    "#fermeture\n",
    "f.close()"
   ]
  },
  {
   "cell_type": "markdown",
   "id": "57fa2f3c",
   "metadata": {},
   "source": [
    "<p style=\"text-align: justify;\">Le contenu du fichier est stock&eacute; dans une liste, <strong>une ligne = un &eacute;l&eacute;ment</strong>. Le caract&egrave;re <em><strong><code>\\n</code></strong></em> est maintenu. Il n&rsquo;est pas pr&eacute;sent sur la derni&egrave;re ligne de notre fichier exemple.</p>\n",
    "<p style=\"text-align: justify;\"><img src=\"https://apcpedagogie.com/wp-content/uploads/2020/08/fichier-text-python-1.jpg\" alt=\"fichier text python\" width=\"959\" height=\"451\" srcset=\"https://apcpedagogie.com/wp-content/uploads/2020/08/fichier-text-python-1.jpg 959w, https://apcpedagogie.com/wp-content/uploads/2020/08/fichier-text-python-1-600x282.jpg 600w, https://apcpedagogie.com/wp-content/uploads/2020/08/fichier-text-python-1-300x141.jpg 300w, https://apcpedagogie.com/wp-content/uploads/2020/08/fichier-text-python-1-768x361.jpg 768w\" sizes=\"(max-width: 959px) 100vw, 959px\" /></p>\n",
    "<h4 style=\"text-align: justify;\"><u><em>5.4.3. Lecture en bloc avec <code><em>readlines</em></code> (sans \"s\")</em></u></h4>\n",
    "<p style=\"text-align: justify;\"><img src=\"https://apcpedagogie.com/wp-content/uploads/2020/08/fichier-text-python-2.jpg\" alt=\"fichier text python\" width=\"593\" height=\"444\" srcset=\"https://apcpedagogie.com/wp-content/uploads/2020/08/fichier-text-python-2.jpg 593w, https://apcpedagogie.com/wp-content/uploads/2020/08/fichier-text-python-2-300x225.jpg 300w\" sizes=\"(max-width: 593px) 100vw, 593px\" /></p>\n",
    "<h4 style=\"text-align: justify;\"><u>5.4.4. Lecture ligne par ligne en it&eacute;rant sur l&rsquo;objet fichier</u></h4>"
   ]
  },
  {
   "cell_type": "code",
   "execution_count": null,
   "id": "cdb3e905",
   "metadata": {},
   "outputs": [],
   "source": [
    "# -*- coding: utf -*-\n",
    "#ouverture en lecture\n",
    "f = open(\"voitures.txt\",\"r\")\n",
    "#lecture ligne itérativement\n",
    "for s in f:\n",
    "    print(s,len(s))\n",
    "\n",
    "#fermeture\n",
    "f.close()"
   ]
  },
  {
   "cell_type": "markdown",
   "id": "e5dce34c",
   "metadata": {},
   "source": [
    "<p style=\"text-align: justify;\">C&rsquo;est la forme la plus efficace et la plus concise pour une lecture ligne &agrave; ligne. Le caract&egrave;re <em><strong><code>\\n</code></strong></em> est pr&eacute;sent toujours, noter la longueur de la cha&icirc;ne (+1 pour toutes sauf la derni&egrave;re)</p>\n",
    "<h3 style=\"text-align: justify;\"><u>5.5. Ecriture d&rsquo;un fichier texte</u></h3>\n",
    "<h4 style=\"text-align: justify;\"><u>5.5.1. Ecriture d&rsquo;un fichier texte avec <em><code>write()</code></em></u></h4>\n",
    "<p style=\"text-align: justify;\">La m&eacute;thode <em><strong><code>write()</code></strong></em> &eacute;crit une cha&icirc;ne <em><strong><code>str</code> </strong></em>dans le fichier. Il n&rsquo;y a pas de valeur de retour. En raison de la mise en m&eacute;moire tampon, la cha&icirc;ne peut ne pas appara&icirc;tre dans le fichier tant que la m&eacute;thode <code><em><strong>flush()</strong></em></code> ou <em><strong><code>close()</code></strong></em> n&rsquo;est pas appel&eacute;e.</p>"
   ]
  },
  {
   "cell_type": "code",
   "execution_count": null,
   "id": "4884f736",
   "metadata": {},
   "outputs": [],
   "source": [
    "# -*- coding: utf -*-\n",
    "#ouverture en écriture\n",
    "f = open(\"moto.txt\",\"w\")\n",
    "#écriture\n",
    "f.write(\"honda\\n\")\n",
    "f.write(\"yamaha\\n\")\n",
    "f.write(\"ducati\")\n",
    "#fermeture\n",
    "f.close()"
   ]
  },
  {
   "cell_type": "markdown",
   "id": "e19ffc97",
   "metadata": {},
   "source": [
    "<p style=\"text-align: justify;\">Nous ins&eacute;rons le caract&egrave;re saut de ligne&nbsp;<em><strong><code>\\n</code></strong></em>&nbsp;apr&egrave;s chaque moto, sauf la derni&egrave;re</p>\n",
    "<h4 style=\"text-align: justify;\"><u>5.5.2. Ecriture d&rsquo;un fichier texte avec <code>writelines()</code></u></h4>\n",
    "<p style=\"text-align: justify;\">La m&eacute;thode <strong><em><code>writelines()</code></em></strong> &eacute;crit les &eacute;l&eacute;ments d&rsquo;une liste dans le fichier. <code><em><strong>writelines()</strong></em></code> permet d&rsquo;&eacute;crire directement le contenu d&rsquo;une liste. Nous devons quand m&ecirc;me ins&eacute;rer le caract&egrave;re <em><strong><code>\\n</code></strong></em> pour que le saut de ligne soit effectif dans le fichier.</p>\n",
    "<p style=\"text-align: justify;\">L&rsquo;endroit o&ugrave; les textes seront ins&eacute;r&eacute;s d&eacute;pend du mode de fichier et de la position du flux.</p>\n",
    "<ul>\n",
    "<li style=\"text-align: justify;\"><em><strong><code>a</code></strong></em>: Les textes seront ins&eacute;r&eacute;s &agrave; la position actuelle du flux de fichier, par d&eacute;faut &agrave; la fin du fichier.</li>\n",
    "<li style=\"text-align: justify;\"><em><strong><code>w</code></strong></em>: Le fichier sera vid&eacute; avant que les textes ne soient ins&eacute;r&eacute;s &agrave; la position actuelle du flux de fichiers, par d&eacute;faut 0.</li>\n",
    "</ul>"
   ]
  },
  {
   "cell_type": "markdown",
   "id": "44edc1e4",
   "metadata": {},
   "source": [
    "<h3><span style=\"text-decoration: underline;\">Sp&eacute;cificit&eacute; du mode texte</span></h3>\n",
    "<p>Ouvrir un fichier en mode texte (mode par d&eacute;faut ou<code><span>t</span></code>) entra&icirc;ne un travail de conversion par <em><strong>Python</strong></em>. Convertir les donn&eacute;es d&rsquo;un fichier en cha&icirc;ne de caract&egrave;res exige d&rsquo;utiliser une&nbsp;<em>famille d&rsquo;encodage</em>. Il est possible de pr&eacute;ciser la famille d&rsquo;encodage d&rsquo;un fichier gr&acirc;ce au param&egrave;tre&nbsp;<em><strong><code>encoding</code></strong></em>:</p>"
   ]
  },
  {
   "cell_type": "code",
   "execution_count": null,
   "id": "23503ebf",
   "metadata": {},
   "outputs": [],
   "source": [
    "# ouverture en écriture\n",
    "with open(\"dialogues.txt\", encoding=\"utf-8\") as f:\n",
    "    pass"
   ]
  },
  {
   "cell_type": "markdown",
   "id": "4b4ae5a1",
   "metadata": {},
   "source": [
    "<p>Si le param&egrave;tre&nbsp;<code><span><em><strong>encoding</strong></em></span></code> n&rsquo;est pas sp&eacute;cifi&eacute; alors <em><strong>Python</strong> </em>utilise un encodage qui est&nbsp;<strong><em>d&eacute;pendant du syst&egrave;me</em>&nbsp;</strong>qui ex&eacute;cute le code (ce qui peut nuire &agrave; la portabilit&eacute; des fichiers produits). Pour conna&icirc;tre l&rsquo;encodage utilis&eacute; par d&eacute;faut par l&rsquo;interpr&eacute;teur, il faut utiliser les m&eacute;thodes du module&nbsp;<em><strong><code>locale</code></strong></em>:</p>"
   ]
  },
  {
   "cell_type": "code",
   "execution_count": 1,
   "id": "62c965c4",
   "metadata": {},
   "outputs": [
    {
     "data": {
      "text/plain": [
       "'cp1252'"
      ]
     },
     "execution_count": 1,
     "metadata": {},
     "output_type": "execute_result"
    }
   ],
   "source": [
    "import locale\n",
    "locale.getpreferredencoding()"
   ]
  },
  {
   "cell_type": "markdown",
   "id": "ef5db7d1",
   "metadata": {},
   "source": [
    "<p style=\"text-align: justify;\">Le mode texte entra&icirc;ne &eacute;galement une conversion des caract&egrave;res de fin de ligne puisque tous les syst&egrave;mes d&rsquo;exploitation n&rsquo;utilisent pas la m&ecirc;me convention. <em><strong>Python</strong> </em>garantit une repr&eacute;sentation universelle du caract&egrave;re de fin de ligne en utilisant <em><strong><code>\\n</code></strong></em>.</p>"
   ]
  },
  {
   "cell_type": "markdown",
   "id": "1734821a",
   "metadata": {},
   "source": [
    "<h2 style=\"text-align: justify;\"><span>6. fichier binaire</span></h2>\n",
    "<p style=\"text-align: justify;\">Un fichier binaire est constitu&eacute; d&rsquo;une s&eacute;quence de bits, organis&eacute;s en paquets de huit, appel&eacute;s octets. Un fichier .png avec une image est un exemple d&rsquo;un tel fichier.</p>\n",
    "<p style=\"text-align: justify;\">L&rsquo;avantage des fichiers binaires, par rapport aux fichiers textes est qu&rsquo;ils sont plus compacts en termes d&rsquo;espace occup&eacute; et &eacute;galement plus rapide &agrave; lire et &eacute;crire. Par contre, la difficult&eacute; avec ces fichiers est qu&rsquo;il faut, pour pouvoir les manipuler, connaitre pr&eacute;cis&eacute;ment l&rsquo;organisation des donn&eacute;es en leur sein.<br /><br /></p>\n",
    "<h3 style=\"text-align: justify;\"><span>6.1. Lecture et &eacute;criture dans un fichier binaire</span></h3>\n",
    "<p style=\"text-align: justify;\">La fonction <em><strong><code>open()</code></strong></em> ouvre un fichier au format texte par d&eacute;faut. Pour ouvrir un fichier au format binaire, ajoutez <strong><em><code>b</code></em></strong>&nbsp;au param&egrave;tre mode. Par cons&eacute;quent, le mode <code><em><strong>rb</strong></em></code>&nbsp;ouvre le fichier au format binaire pour la lecture, tandis que le mode <em><strong><code>wb</code>&nbsp;</strong></em>ouvre le fichier au format binaire pour l&rsquo;&eacute;criture.</p>\n",
    "<p style=\"text-align: justify;\">Contrairement aux fichiers en mode texte, les fichiers binaires ne sont pas lisibles par l&rsquo;homme. Lorsqu&rsquo;elles sont ouvertes &agrave; l&rsquo;aide d&rsquo;un &eacute;diteur de texte, les donn&eacute;es sont m&eacute;connaissables.</p>\n",
    "<h4 style=\"text-align: justify;\"><span>6.1.1. Ecrire dans un fichier binaire</span></h4>\n",
    "<p style=\"text-align: justify;\">Pour &eacute;crire du texte dans un fichier binaire, vous devez pr&eacute;fixer la cha&icirc;ne avec le caract&egrave;re <strong><em><code>b</code></em></strong>&nbsp;pour indiquer &agrave; <em><strong>Python</strong> </em>qu&rsquo;il s&rsquo;agit d&rsquo;une cha&icirc;ne binaire, alors convertissez-la vous-m&ecirc;me en une s&eacute;quence d&rsquo;octets</p>\n",
    "<p style=\"text-align: justify;\">Le code suivant stocke une liste de nombres dans un fichier binaire. La liste est d&rsquo;abord convertie dans un tableau d&rsquo;octets avant l&rsquo;&eacute;criture. La fonction int&eacute;gr&eacute;e <strong><em><code>bytearray()</code></em></strong> renvoie une repr&eacute;sentation octet de l&rsquo;objet.</p>"
   ]
  },
  {
   "cell_type": "code",
   "execution_count": null,
   "id": "205b0a96",
   "metadata": {},
   "outputs": [],
   "source": [
    "f = open('note.txt', \"wb\")\n",
    "num=[5, 10, 15, 20, 25]\n",
    "arr=bytearray(num)\n",
    "f.write(arr)\n",
    "f.close()"
   ]
  },
  {
   "cell_type": "markdown",
   "id": "c7a2d100",
   "metadata": {},
   "source": [
    "<h4><span style=\"text-decoration: underline;\">6.1.2. Lire dans un fichier binaire</span></h4>\n",
    "<p style=\"text-align: justify;\">Pour lire le fichier binaire ci-dessus, la sortie de la m&eacute;thode <em><strong><code>read()</code></strong></em> est convertie en une liste &agrave; l&rsquo;aide de la fonction <em><strong><code>list()</code></strong></em>.</p>"
   ]
  },
  {
   "cell_type": "code",
   "execution_count": null,
   "id": "4cf5d119",
   "metadata": {},
   "outputs": [],
   "source": [
    "f = open('note.txt', \"rb\")\n",
    "num=list(f.read())\n",
    "print (num)\n",
    "f.close()"
   ]
  },
  {
   "cell_type": "markdown",
   "id": "8d611968",
   "metadata": {},
   "source": [
    "<table class=\"table table-striped\" style=\"height: 234px;\">\n",
    "<thead>\n",
    "<tr style=\"height: 18px;\">\n",
    "<th style=\"text-align: left; height: 18px; width: 148px;\">M&eacute;thode</th>\n",
    "<th style=\"text-align: left; height: 18px; width: 402px;\">La description</th>\n",
    "</tr>\n",
    "</thead>\n",
    "<tbody>\n",
    "<tr style=\"height: 18px;\">\n",
    "<td style=\"height: 18px; width: 148px; text-align: left;\">file.close ()</td>\n",
    "<td style=\"height: 18px; width: 402px; text-align: left;\">Ferme le file.</td>\n",
    "</tr>\n",
    "<tr style=\"height: 18px;\">\n",
    "<td style=\"height: 18px; width: 148px; text-align: left;\">file.flush ()</td>\n",
    "<td style=\"height: 18px; width: 402px; text-align: left;\">Vide le tampon interne.</td>\n",
    "</tr>\n",
    "<tr style=\"height: 36px;\">\n",
    "<td style=\"height: 36px; width: 148px; text-align: left;\">next(file)</td>\n",
    "<td style=\"height: 36px; width: 402px; text-align: left;\">Renvoie la ligne suivante du fichier chaque fois qu&rsquo;il est appel&eacute;.</td>\n",
    "</tr>\n",
    "<tr style=\"height: 18px;\">\n",
    "<td style=\"height: 18px; width: 148px; text-align: left;\">file.read ([taille])</td>\n",
    "<td style=\"height: 18px; width: 402px; text-align: left;\">Lit un nombre sp&eacute;cifi&eacute; d&rsquo;octets dans le file.</td>\n",
    "</tr>\n",
    "<tr style=\"height: 18px;\">\n",
    "<td style=\"height: 18px; width: 148px; text-align: left;\">file.readline ()</td>\n",
    "<td style=\"height: 18px; width: 402px; text-align: left;\">Lit une ligne enti&egrave;re du file.</td>\n",
    "</tr>\n",
    "<tr style=\"height: 18px;\">\n",
    "<td style=\"height: 18px; width: 148px; text-align: left;\">file.readlines ()</td>\n",
    "<td style=\"height: 18px; width: 402px; text-align: left;\">Lit jusqu&rsquo;&agrave; EOF et renvoie une liste contenant les lignes.</td>\n",
    "</tr>\n",
    "<tr style=\"height: 36px;\">\n",
    "<td style=\"height: 36px; width: 148px; text-align: left;\">file.seek(offset, from)</td>\n",
    "<td style=\"height: 36px; width: 402px; text-align: left;\">D&eacute;finit la position actuelle du file.</td>\n",
    "</tr>\n",
    "<tr style=\"height: 18px;\">\n",
    "<td style=\"height: 18px; width: 148px; text-align: left;\">file.tell ()</td>\n",
    "<td style=\"height: 18px; width: 402px; text-align: left;\">Renvoie la position actuelle du fichier</td>\n",
    "</tr>\n",
    "<tr style=\"height: 36px;\">\n",
    "<td style=\"height: 36px; width: 148px; text-align: left;\">file.write (str)</td>\n",
    "<td style=\"height: 36px; width: 402px; text-align: left;\">&Eacute;crit une cha&icirc;ne dans le file. Il n&rsquo;y a pas de valeur de retour.</td>\n",
    "</tr>\n",
    "</tbody>\n",
    "</table>"
   ]
  },
  {
   "cell_type": "code",
   "execution_count": null,
   "id": "3d643cf9",
   "metadata": {},
   "outputs": [],
   "source": []
  }
 ],
 "metadata": {
  "kernelspec": {
   "display_name": "Python 3 (ipykernel)",
   "language": "python",
   "name": "python3"
  },
  "language_info": {
   "codemirror_mode": {
    "name": "ipython",
    "version": 3
   },
   "file_extension": ".py",
   "mimetype": "text/x-python",
   "name": "python",
   "nbconvert_exporter": "python",
   "pygments_lexer": "ipython3",
   "version": "3.9.12"
  }
 },
 "nbformat": 4,
 "nbformat_minor": 5
}
