{
 "cells": [
  {
   "cell_type": "markdown",
   "id": "1fcfe234",
   "metadata": {},
   "source": [
    "<h1 style=\"text-align: justify;\"><strong><span><u>La programmation orient&eacute;e objet</u></span></strong></h1>\n",
    "<p style=\"text-align: justify;\"><span>La programmation orient&eacute;e objet (ou <em><strong>POO&nbsp;</strong></em>en abr&eacute;g&eacute;) correspond &agrave; une autre mani&egrave;re d&rsquo;imaginer, de construire et d&rsquo;organiser son code. Elle</span><span> repose sur le concept d&rsquo;objets qui sont des entit&eacute;s qui vont pouvoir poss&eacute;der un ensemble de variables et de fonctions qui leur sont propres.</span></p>\n",
    "<p style=\"text-align: justify;\"><span>Les objectifs principaux de la <em><strong>POO</strong></em>&nbsp;sont de nous permettre de cr&eacute;er des scripts plus clairs, mieux structur&eacute;s, plus modulables et plus faciles &agrave; maintenir et &agrave; d&eacute;bogue</span></p>\n",
    "<p style=\"text-align: justify;\"><span><em><strong>Python</strong> </em>est un langage r&eacute;solument orient&eacute; objet, ce qui signifie que le langage tout entier est construit autour de la notion d&rsquo;objets.&nbsp;</span><span>En fait, quasiment tout en <em><strong>Python&nbsp;</strong></em>est avant tout un objet et nous avons manipul&eacute; des objets depuis le d&eacute;but de ce cours sans nous en rendre compte: les types <em><strong><code>str</code></strong></em>,&nbsp;<em><strong><code>int</code></strong></em>,&nbsp;<em><strong><code>list</code>&nbsp;</strong></em>...&nbsp;<em><strong><code>etc</code></strong></em></span><span>. sont avant tout des objets, les fonctions sont des objets, etc.</span></p>\n",
    "<p style=\"text-align: justify;\"><span>Pour v&eacute;ritablement maitriser <em><strong>Python</strong></em> et utiliser toutes ses fonctionnalit&eacute;s, il est donc indispensable de comprendre cette composante orient&eacute; objet.</span></p>\n",
    "<h2 style=\"text-align: justify;\"><strong><span><u>1. La classe et les instances</u></span></strong></h2>\n",
    "<p style=\"text-align: justify;\"><span>En <em><strong>POO</strong></em>, un objet ne peut pas &ecirc;tre cr&eacute;&eacute; &agrave; partir de rien. La plupart des langages qui supportent l&rsquo;orient&eacute; objet (dont le <em><strong>Python</strong></em>) utilisent d&rsquo;autres entit&eacute;s pour cr&eacute;er des objets qu&rsquo;on appelle des classes.</span></p>\n",
    "<p style=\"text-align: justify;\"><span>Une classe est &eacute;galement un ensemble coh&eacute;rent de code qui contient g&eacute;n&eacute;ralement &agrave; la fois des variables et des fonctions et qui va nous servir de plan pour cr&eacute;er des objets poss&eacute;dant un m&ecirc;me ensemble de d&rsquo;attributs de donn&eacute;es et de m&eacute;thodes de base.</span></p>\n",
    "<p style=\"text-align: justify;\"><span>En fait, on peut aller jusqu&rsquo;&agrave; consid&eacute;rer que les classes sont les principaux outils de la <em><strong>POO&nbsp;</strong></em>puisqu&rsquo;elles permettent de mettre en place des concepts fondamentaux de la <em><strong>POO</strong></em> comme l&rsquo;h&eacute;ritage, l&rsquo;encapsulation ou le polymorphisme qui sont des concepts qu&rsquo;on expliquera et qu&rsquo;on &eacute;tudiera en d&eacute;tail plus tard.</span></p>\n",
    "<p style=\"text-align: justify;\"><span>Pour le moment, contentez vous de retenir qu&rsquo;une classe va servir de plan de cr&eacute;ation pour un type d&rsquo;objets. Cr&eacute;er une nouvelle classe en <em><strong>Python&nbsp;</strong></em>correspond &agrave; d&eacute;finir un nouveau type d&rsquo;objets ou un nouveau type de donn&eacute;es.</span></p>\n",
    "<p style=\"text-align: justify;\"><span>Par exemple, imaginons une classe <em><strong><code>Voiture</code>&nbsp;</strong></em></span><span>qui servira &agrave; cr&eacute;er des objets qui sont des voitures. Cette classe va pouvoir d&eacute;finir un attribut <em><strong><code>couleur</code></strong></em></span><span>, un attribut <em><strong><code>vitesse</code></strong></em></span><span>, etc. Ces attributs correspondent &agrave; des propri&eacute;t&eacute;s qui peuvent exister pour une voiture. La classe <em><strong><code>Voiture</code>&nbsp;</strong></em></span><span>pourra &eacute;galement d&eacute;finir une m&eacute;thode <em><strong><code>rouler()</code></strong></em></span><span>. Une m&eacute;thode correspond en quelque sorte &agrave; une action, ici l&rsquo;action de rouler peut &ecirc;tre r&eacute;alis&eacute;e pour une voiture.</span></p>\n",
    "<p style=\"text-align: justify;\"><span><img src=\"https://courspython.com/_images/classe_voiture.svg\" alt=\"\" style=\"display: block; margin-left: auto; margin-right: auto;\" /></span><span>Apr&egrave;s avoir pr&eacute;sent&eacute; la notion de <em>classe</em>, nous allons voir la notion <strong><em>d'</em></strong><strong><em><strong>objet</strong></em></strong>. On dit qu&rsquo;un <strong><em>objet est une instance de classe</em></strong>. Si on revient &agrave; la classe <em><strong><code>Voiture</code></strong></em></span><span>, nous pourrons avoir plusieurs voitures qui seront chacune des instances bien distinctes. Par exemple, la voiture de Jonathan, qui est de couleur rouge avec une vitesse de 30 km/h, est une instance de la classe&nbsp;</span><span> <em><strong><code>Voiture</code></strong></em></span><span>, c&rsquo;est un <strong><em>objet</em></strong>. De m&ecirc;me, la voiture de Denis, qui est de couleur grise avec une vitesse de 50 km/h, est un autre objet. Nous pouvons donc avoir plusieurs objects pour une m&ecirc;me classe, en particulier ici deux objets (autrement dit : deux instances de la m&ecirc;me classe). Chacun des objets a des valeurs qui lui sont propres pour les attributs.</span></p>\n",
    "<p style=\"text-align: justify;\"><span>Un objet suit un mod&egrave;le (un patron) qui d&eacute;finit ses <strong><em>propri&eacute;t&eacute;s</em></strong> et ses comportements. Ce mod&egrave;le est appel&eacute; une <strong><em>classe&nbsp;</em></strong>et se d&eacute;finit en <strong><em>Python</em></strong> avec le mot-cl&eacute; <em><strong><code>class</code></strong></em>.</span></p>\n",
    "\n",
    "```python\n",
    "class Point:\n",
    "    \"Definition d'un point geometrique\"\n",
    "    pass\n",
    "```\n",
    "<p style=\"text-align: justify;\"><span>Une classe est d&eacute;finie par un nom et un bloc pr&eacute;cisant la d&eacute;finition de la classe. Si on ne veut rien pr&eacute;ciser de particulier dans le bloc, il faut utiliser le mot-cl&eacute;&nbsp;&nbsp;<code><strong><em>pass</em></strong></code>.</span></p>\n",
    "<p style=\"text-align: justify;\"><span>Par convention en&nbsp;<strong><em>Python</em></strong>, le nom identifiant une classe (qu&rsquo;on appelle aussi son identifiant) d&eacute;bute par une majuscule. Ici&nbsp;<em><code><strong>Point</strong></code></em> d&eacute;bute par un&nbsp;<em><code><strong>P</strong></code></em>&nbsp;majuscule.</span></p>\n",
    "\n",
    "<p><span>Pour cr&eacute;er un objet, il suffit d&rsquo;appeler la classe :</span></p>\n",
    "<p><span></span></p>\n",
    "\n",
    "```python \n",
    "point = Point() \n",
    "```\n",
    "\n",
    "<p><span>La variable <em><strong><code>point</code> </strong></em></span><span>r&eacute;f&eacute;rence l&rsquo;objet cr&eacute;e. On dit que l&rsquo;objet est une&nbsp;<em><strong>instance</strong>&nbsp;</em>de <code><em>Point</em></code></span><span>. Une classe d&eacute;finit un nouveau type dans le langage. La&nbsp;<strong><em>POO</em></strong>&nbsp;est d&rsquo;abord un mod&egrave;le de programmation qui permet d&rsquo;ajouter dans le langage des nouveaux types d&rsquo;objet.&nbsp;</span></p>\n",
    "<h2><span style=\"text-decoration: underline;\"><strong>2. Les attributs</strong></span></h2>\n",
    "<p><span>Un <em><strong>objet</strong> </em>est d&eacute;fini par son &eacute;tat interne form&eacute; par l&rsquo;ensemble de ses&nbsp;<strong>attributs</strong>. Supposons que nous voulions repr&eacute;senter la notion de vecteur dans un espace &agrave; deux dimensions dans notre syst&egrave;me. Nous allons d&eacute;clarer une classe&nbsp;</span><em><strong><code>Vecteur</code></strong></em><span>.</span></p>"
   ]
  },
  {
   "cell_type": "code",
   "execution_count": 24,
   "id": "a678af6d",
   "metadata": {},
   "outputs": [],
   "source": [
    "class Point:\n",
    "    \"Definition d'un point geometrique\"\n",
    "    pass"
   ]
  },
  {
   "cell_type": "markdown",
   "id": "0223fdec",
   "metadata": {},
   "source": [
    "<p style=\"text-align: justify;\"><span>Nous pouvons maintenant cr&eacute;er autant de vecteurs que nous le souhaitons en leur attribuant &agrave; chacun une valeur pour ses attributs&nbsp;</span><em><strong><code>x</code></strong></em><span>&nbsp;et&nbsp;</span><code><em><strong>y</strong></em></code><span>:</span></p>"
   ]
  },
  {
   "cell_type": "code",
   "execution_count": 25,
   "id": "0c250093",
   "metadata": {},
   "outputs": [
    {
     "name": "stdout",
     "output_type": "stream",
     "text": [
      "p : x = 1 y = 2\n"
     ]
    }
   ],
   "source": [
    "p = Point()\n",
    "p.x = 1\n",
    "p.y = 2\n",
    "print(\"p : x =\", p.x, \"y =\", p.y)"
   ]
  },
  {
   "cell_type": "markdown",
   "id": "6ce2725f",
   "metadata": {},
   "source": [
    "<p><span>L&rsquo;objet dont la r&eacute;f&eacute;rence est dans&nbsp;</span><strong><em><code><span>p</span></code></em></strong><span>&nbsp;poss&egrave;de deux attributs :&nbsp;</span><em><strong><code><span>x</span></code></strong></em><span>&nbsp;et <code><em><strong>y</strong></em></code></span></p>\n",
    "<p><img src=\"https://courspython.com/_images/2014-11-22_13-30-47.png\" alt=\"\" style=\"display: block; margin-left: auto; margin-right: auto;\" /></p>"
   ]
  },
  {
   "cell_type": "markdown",
   "id": "096695f9",
   "metadata": {},
   "source": [
    "<p style=\"text-align: justify;\"><span>La syntaxe pour acc&eacute;der &agrave; un attribut est la suivante : on va utiliser la variable qui contient la r&eacute;f&eacute;rence &agrave; l&rsquo;objet et on va mettre un point&nbsp;<em><strong><code class=\"docutils literal notranslate\"><span class=\"pre\">.</span></code></strong></em>&nbsp;puis le nom de l&rsquo;attribut.</span></p>"
   ]
  },
  {
   "cell_type": "code",
   "execution_count": 26,
   "id": "a1b260e6",
   "metadata": {},
   "outputs": [
    {
     "name": "stdout",
     "output_type": "stream",
     "text": [
      "a : x = 1 y = 2\n",
      "b : x = 3 y = 4\n"
     ]
    }
   ],
   "source": [
    "a = Point()\n",
    "a.x = 1\n",
    "a.y = 2\n",
    "b = Point()\n",
    "b.x = 3\n",
    "b.y = 4\n",
    "print(\"a : x =\", a.x, \"y =\", a.y)\n",
    "print(\"b : x =\", b.x, \"y =\", b.y)"
   ]
  },
  {
   "cell_type": "markdown",
   "id": "53dd9e95",
   "metadata": {},
   "source": [
    "<p style=\"text-align: justify;\">Ici, on a 2 instances de la classe<span>&nbsp;</span><em><strong><code class=\"xref py py-class docutils literal notranslate\"><span class=\"pre\">Point</span></code></strong></em>, c&rsquo;est-&agrave;-dire <em><strong>2 objets</strong></em> de type<span>&nbsp;</span><em><strong><code class=\"xref py py-class docutils literal notranslate\"><span class=\"pre\">Point</span></code></strong></em>. Pour chacun d&rsquo;eux, les attributs prennent des valeurs qui sont propres &agrave; l&rsquo;instance.</p>\n",
    "<p><span><img alt=\"_images/2014-11-22_09-47-40.png\" src=\"https://courspython.com/_images/2014-11-22_09-47-40.png\" style=\"display: block; margin-left: auto; margin-right: auto;\" /></span></p>"
   ]
  },
  {
   "cell_type": "markdown",
   "id": "b9054dcf",
   "metadata": {},
   "source": [
    "<p style=\"text-align: justify;\"><span>Si vous essayez d&rsquo;acc&eacute;der &agrave; un attribut qui n&rsquo;existe pas pour en consulter la valeur, l&rsquo;op&eacute;ration &eacute;choue avec une <em><strong>erreur de type</strong></em>&nbsp;</span><em><code><span style=\"color: #ff0000;\"><strong>AttributeError</strong></span></code></em><span>.</span></p>"
   ]
  },
  {
   "cell_type": "code",
   "execution_count": 28,
   "id": "50e7b3c7",
   "metadata": {},
   "outputs": [
    {
     "ename": "AttributeError",
     "evalue": "'Point' object has no attribute 'z'",
     "output_type": "error",
     "traceback": [
      "\u001b[1;31m---------------------------------------------------------------------------\u001b[0m",
      "\u001b[1;31mAttributeError\u001b[0m                            Traceback (most recent call last)",
      "Input \u001b[1;32mIn [28]\u001b[0m, in \u001b[0;36m<cell line: 6>\u001b[1;34m()\u001b[0m\n\u001b[0;32m      4\u001b[0m x \u001b[38;5;241m=\u001b[39m p\u001b[38;5;241m.\u001b[39mx\n\u001b[0;32m      5\u001b[0m y \u001b[38;5;241m=\u001b[39m p\u001b[38;5;241m.\u001b[39my\n\u001b[1;32m----> 6\u001b[0m z \u001b[38;5;241m=\u001b[39m \u001b[43mp\u001b[49m\u001b[38;5;241;43m.\u001b[39;49m\u001b[43mz\u001b[49m\n",
      "\u001b[1;31mAttributeError\u001b[0m: 'Point' object has no attribute 'z'"
     ]
    }
   ],
   "source": [
    "p = Point()\n",
    "p.x = 1\n",
    "p.y = 2\n",
    "x = p.x\n",
    "y = p.y\n",
    "z = p.z"
   ]
  },
  {
   "cell_type": "markdown",
   "id": "5d160ae3",
   "metadata": {},
   "source": [
    "<p style=\"text-align: justify;\"><span>Chaque objet poss&egrave;de ses propres valeurs pour ses attributs. C&rsquo;est pour cela que l&rsquo;on dit que les attributs permettent de d&eacute;finir l&rsquo;&eacute;tat interne de l&rsquo;objet.</span></p>\n",
    "<h2><span style=\"text-decoration: underline;\"><strong>3. Distinction entre variable et objet</strong></span></h2>\n",
    "<p>L&rsquo;exemple suivant montre bien la distinction entre <em><strong>variable</strong> </em>et <em><strong>objet</strong></em>:</p>"
   ]
  },
  {
   "cell_type": "code",
   "execution_count": 27,
   "id": "117fc746",
   "metadata": {},
   "outputs": [
    {
     "name": "stdout",
     "output_type": "stream",
     "text": [
      "a : x = 1 y = 2\n",
      "b : x = 1 y = 2\n",
      "a : x = 3 y = 4\n",
      "b : x = 3 y = 4\n"
     ]
    }
   ],
   "source": [
    "a = Point()\n",
    "a.x = 1\n",
    "a.y = 2\n",
    "b = a\n",
    "print(\"a : x =\", a.x, \"y =\", a.y)\n",
    "print(\"b : x =\", b.x, \"y =\", b.y)\n",
    "a.x = 3\n",
    "a.y = 4\n",
    "print(\"a : x =\", a.x, \"y =\", a.y)\n",
    "print(\"b : x =\", b.x, \"y =\", b.y)"
   ]
  },
  {
   "cell_type": "markdown",
   "id": "3158e5c3",
   "metadata": {},
   "source": [
    "<p><span><img alt=\"_images/2014-11-22_09-56-48.png\" src=\"https://courspython.com/_images/2014-11-22_09-56-48.png\" style=\"display: block; margin-left: auto; margin-right: auto;\" /></span></p>\n",
    "<p style=\"text-align: justify;\">Ici les variables<span>&nbsp;</span><code class=\"docutils literal notranslate\"><span class=\"pre\"><em><strong>a</strong></em></span></code><span>&nbsp;</span>et<span>&nbsp;</span><code class=\"docutils literal notranslate\"><span class=\"pre\"><em><strong>b</strong></em></span></code><span>&nbsp;</span>font r&eacute;f&eacute;rence au m&ecirc;me objet. En effet, lors de l&rsquo;affectation<span>&nbsp;</span><em><strong><code class=\"docutils literal notranslate\"><span class=\"pre\">b</span>&nbsp;<span class=\"pre\">=</span>&nbsp;<span class=\"pre\">a</span></code></strong></em>, on met dans la variable<span>&nbsp;</span><code class=\"docutils literal notranslate\"><span class=\"pre\"><em><strong>b</strong></em></span></code><span>&nbsp;</span>la r&eacute;f&eacute;rence contenue dans la variable<span>&nbsp;</span><em><strong><code class=\"docutils literal notranslate\"><span class=\"pre\">a</span></code></strong></em>. Par cons&eacute;quent, toute modification des valeurs des attributs de l&rsquo;objet dont la r&eacute;f&eacute;rence est contenue dans<span>&nbsp;</span><code class=\"docutils literal notranslate\"><span class=\"pre\"><em><strong>a</strong></em></span></code><span>&nbsp;</span>entra&icirc;ne une modification pour<span>&nbsp;</span><em><strong><code class=\"docutils literal notranslate\"><span class=\"pre\">b</span></code></strong></em>.</p>\n",
    "<h2><span style=\"text-decoration: underline;\"><strong>4. Les attributs implicites</strong></span></h2>\n",
    "<p><span>Il existe des attributs implicites (c&rsquo;est-&agrave;-dire pour lesquels il n&rsquo;est pas n&eacute;cessaire de fournir une valeur) pour chaque objet.</span></p>\n",
    "<h3><span style=\"text-decoration: underline;\"><strong>4.1. __doc__</strong></span></h3>\n",
    "<p><span>Cet attribut contient la documentation de la classe. Pour renseigner cet attribut, il suffit d&rsquo;ajouter une cha&icirc;ne de caract&egrave;res directement apr&egrave;s la ligne de d&eacute;claration du nom de la classe:</span></p>"
   ]
  },
  {
   "cell_type": "code",
   "execution_count": 11,
   "id": "a3ae8e8b",
   "metadata": {},
   "outputs": [],
   "source": [
    "class Vecteur:\n",
    "    \"\"\"Un vecteur à deux dimensions\"\"\"\n",
    "    pass"
   ]
  },
  {
   "cell_type": "markdown",
   "id": "edccc2e7",
   "metadata": {},
   "source": [
    "<p style=\"text-align: justify;\"><span>La documentation peut &ecirc;tre affich&eacute;e dans la console&nbsp;<strong><em>Python</em></strong>&nbsp;gr&acirc;ce &agrave; la fonction&nbsp;<code><em><strong>help()</strong></em></code>. Pour sortir du mode d&rsquo;aide, il faut g&eacute;n&eacute;ralement appuyer sur la touche <strong>Q</strong>.</span></p>"
   ]
  },
  {
   "cell_type": "code",
   "execution_count": 12,
   "id": "67b5a802",
   "metadata": {},
   "outputs": [
    {
     "name": "stdout",
     "output_type": "stream",
     "text": [
      "Help on Vecteur in module __main__ object:\n",
      "\n",
      "class Vecteur(builtins.object)\n",
      " |  Un vecteur à deux dimensions\n",
      " |  \n",
      " |  Data descriptors defined here:\n",
      " |  \n",
      " |  __dict__\n",
      " |      dictionary for instance variables (if defined)\n",
      " |  \n",
      " |  __weakref__\n",
      " |      list of weak references to the object (if defined)\n",
      "\n"
     ]
    }
   ],
   "source": [
    "v = Vecteur()\n",
    "help(v)"
   ]
  },
  {
   "cell_type": "markdown",
   "id": "dd5e33b1",
   "metadata": {},
   "source": [
    "<p><span>On peut aussi simplement acc&eacute;der &agrave; l&rsquo;attribut&nbsp;<em><code><strong>__doc__</strong></code></em>:</span></p>"
   ]
  },
  {
   "cell_type": "code",
   "execution_count": 13,
   "id": "4f018365",
   "metadata": {},
   "outputs": [
    {
     "data": {
      "text/plain": [
       "'Un vecteur à deux dimensions'"
      ]
     },
     "execution_count": 13,
     "metadata": {},
     "output_type": "execute_result"
    }
   ],
   "source": [
    "v.__doc__"
   ]
  },
  {
   "cell_type": "markdown",
   "id": "618433bc",
   "metadata": {},
   "source": [
    "<h3><span style=\"text-decoration: underline;\"><strong>4.2. __class__</strong></span></h3>\n",
    "<p style=\"text-align: justify;\"><span>Cet attribut contient l&rsquo;objet qui d&eacute;crit la classe d&rsquo;un objet. En&nbsp;<strong><em>Python</em></strong>&nbsp;m&ecirc;me les classes sont repr&eacute;sent&eacute;es par des objets! C&rsquo;est cet attribut qui est notamment utilis&eacute; pour les fonctions&nbsp;<code><em><strong>type()</strong>&nbsp;</em></code>et&nbsp;<code><em><strong>isinstance()</strong></em></code>.</span></p>"
   ]
  },
  {
   "cell_type": "code",
   "execution_count": 14,
   "id": "348fe68e",
   "metadata": {},
   "outputs": [
    {
     "data": {
      "text/plain": [
       "__main__.Vecteur"
      ]
     },
     "execution_count": 14,
     "metadata": {},
     "output_type": "execute_result"
    }
   ],
   "source": [
    "v.__class__"
   ]
  },
  {
   "cell_type": "markdown",
   "id": "f24ec018",
   "metadata": {},
   "source": [
    "<h3><span style=\"text-decoration: underline;\"><strong>4.3. __module__</strong></span></h3>\n",
    "<p><span>Cet attribut contient le nom du module auquel l&rsquo;objet appartient.</span></p>"
   ]
  },
  {
   "cell_type": "code",
   "execution_count": 15,
   "id": "40e5ee09",
   "metadata": {},
   "outputs": [
    {
     "data": {
      "text/plain": [
       "'__main__'"
      ]
     },
     "execution_count": 15,
     "metadata": {},
     "output_type": "execute_result"
    }
   ],
   "source": [
    "v.__module__"
   ]
  },
  {
   "cell_type": "markdown",
   "id": "7100ca54",
   "metadata": {},
   "source": [
    "<h3><span style=\"text-decoration: underline;\"><strong>4.4. __dict__</strong></span></h3>\n",
    "<p><span>Cet attribut est le dictionnaire des attributs de l&rsquo;objet.</span></p>"
   ]
  },
  {
   "cell_type": "code",
   "execution_count": 18,
   "id": "d3580760",
   "metadata": {},
   "outputs": [
    {
     "data": {
      "text/plain": [
       "{'x': 2, 'y': 3}"
      ]
     },
     "execution_count": 18,
     "metadata": {},
     "output_type": "execute_result"
    }
   ],
   "source": [
    "v = Vecteur()\n",
    "v.x = 2\n",
    "v.y = 3\n",
    "v.__dict__"
   ]
  },
  {
   "cell_type": "markdown",
   "id": "96e4246c",
   "metadata": {},
   "source": [
    "<p><span>Cet attribut est notamment utilis&eacute; par la fonction&nbsp;<code><em><strong>vars()</strong></em></code>&nbsp;qui permet de cr&eacute;er un dictionnaire &agrave; partir d&rsquo;un objet :</span></p>"
   ]
  },
  {
   "cell_type": "code",
   "execution_count": 19,
   "id": "dc27eeea",
   "metadata": {},
   "outputs": [
    {
     "data": {
      "text/plain": [
       "{'x': 2, 'y': 3}"
      ]
     },
     "execution_count": 19,
     "metadata": {},
     "output_type": "execute_result"
    }
   ],
   "source": [
    "vars(v)"
   ]
  },
  {
   "cell_type": "markdown",
   "id": "123ac748",
   "metadata": {},
   "source": [
    "Cet attribut permet également de mettre à jour tous les attributs à partir d’un dictionnaire."
   ]
  },
  {
   "cell_type": "code",
   "execution_count": 55,
   "id": "cf4c0991",
   "metadata": {},
   "outputs": [
    {
     "name": "stdout",
     "output_type": "stream",
     "text": [
      "x = 3 , y = 8\n"
     ]
    }
   ],
   "source": [
    "v.__dict__={'y':8,'x':3}\n",
    "print(\"x =\", v.x,\", y =\", v.y)"
   ]
  },
  {
   "cell_type": "markdown",
   "id": "70e88e8c",
   "metadata": {},
   "source": [
    "<p style=\"text-align: justify;\"><span>En&nbsp;<strong><em>Python</em></strong>, il est donc assez facile de passer d&rsquo;un objet &agrave; un dictionnaire et d&rsquo;un dictionnaire &agrave; un objet.</span></p>\n",
    "<h2><span style=\"text-decoration: underline;\"><strong>5. Les m&eacute;thodes</strong></span></h2>\n",
    "<p style=\"text-align: justify;\"><span>Les&nbsp;<strong><em>m&eacute;thodes</em></strong>&nbsp;repr&eacute;sentent les comportements des objets. Elles sont d&eacute;crites dans la classe en suivant les m&ecirc;mes r&egrave;gles d&rsquo;&eacute;criture que les fonctions.</span></p>\n",
    "<p style=\"text-align: justify;\"><span>Si on d&eacute;sire ajouter la possibilit&eacute; de calculer la norme du vecteur, on peut ajouter la&nbsp;<strong><em>m&eacute;thode</em></strong>&nbsp;</span><em><strong><code>calculer_norme</code></strong></em><span>.</span></p>"
   ]
  },
  {
   "cell_type": "code",
   "execution_count": 29,
   "id": "49a05b9d",
   "metadata": {},
   "outputs": [],
   "source": [
    "import math\n",
    "\n",
    "class Vecteur:\n",
    "\n",
    "    def calculer_norme(self):\n",
    "        return math.sqrt(self.x**2 + self.y**2)\n"
   ]
  },
  {
   "cell_type": "markdown",
   "id": "d524dceb",
   "metadata": {},
   "source": [
    "<p style=\"text-align: justify;\">La <strong><em>m&eacute;thode</em></strong>&nbsp;<code><strong>calculer_norme&nbsp;</strong></code>prend un premier param&egrave;tre qui est appel&eacute; par convention&nbsp;<code><em><strong>self</strong></em></code>.&nbsp;Le param&egrave;tre&nbsp;<code><em><strong>self&nbsp;</strong></em></code>n&rsquo;est pas un mot-cl&eacute; m&ecirc;me si le premier param&egrave;tre est le plus souvent appel&eacute;&nbsp;<code><em><strong>self</strong></em></code>. Il d&eacute;signe l&rsquo;instance de la classe sur laquelle va s&rsquo;appliquer la m&eacute;thode. La d&eacute;claration d&rsquo;une m&eacute;thode inclut toujours un param&egrave;tre&nbsp;<code><em><strong>self&nbsp;</strong></em></code>de sorte que&nbsp;<code>self.nom_attribut</code>&nbsp;d&eacute;signe un attribut de la classe.&nbsp;<code><strong><em>nom_attribut&nbsp;</em></strong></code>seul d&eacute;signerait une variable locale sans aucun rapport avec un attribut portant le m&ecirc;me nom. Les attributs peuvent &ecirc;tre d&eacute;clar&eacute;s &agrave; l&rsquo;int&eacute;rieur de n&rsquo;importe quelle m&eacute;thode, voire &agrave; l&rsquo;ext&eacute;rieur de la classe elle-m&ecirc;me. Il est donc possible d&rsquo;acc&eacute;der aux attributs&nbsp;<em><strong><code>self.x</code></strong></em>&nbsp;et&nbsp;<code><em><strong>self.y</strong></em></code>&nbsp;pour r&eacute;aliser le calcul:</p>"
   ]
  },
  {
   "cell_type": "code",
   "execution_count": 30,
   "id": "0ae8fcc6",
   "metadata": {},
   "outputs": [
    {
     "data": {
      "text/plain": [
       "3.605551275463989"
      ]
     },
     "execution_count": 30,
     "metadata": {},
     "output_type": "execute_result"
    }
   ],
   "source": [
    "v = Vecteur()\n",
    "v.x = 2\n",
    "v.y = 3\n",
    "v.calculer_norme()"
   ]
  },
  {
   "cell_type": "markdown",
   "id": "c43ca7cf",
   "metadata": {},
   "source": [
    "<p style=\"text-align: justify;\">Pour appeler une <strong><em>m&eacute;thode</em></strong>, on utilise l&rsquo;op&eacute;rateur&nbsp;<code><em><strong>.</strong></em></code>&nbsp;entre la variable qui d&eacute;signe l&rsquo;objet et la <strong><em>m&eacute;thode</em></strong>.</p>\n",
    "<p style=\"text-align: justify;\">Pour simplifier, nous pourrions dire qu&rsquo;une <strong><em>m&eacute;thode</em></strong> est une fonction qui appartient &agrave; l&rsquo;espace de nom de la classe et dont le premier param&egrave;tre est l&rsquo;objet lui-m&ecirc;me. Ainsi l&rsquo;&eacute;criture avec l&rsquo;op&eacute;rateur&nbsp;<code><em><strong>.</strong></em></code>&nbsp;est une mani&egrave;re plus simple et raccourcie d&rsquo;appeler une <strong><em>m&eacute;thode</em></strong> mais nous pouvons tous aussi bien &eacute;crire en <strong><em>Python</em></strong>:</p>"
   ]
  },
  {
   "cell_type": "code",
   "execution_count": 31,
   "id": "7f9196e2",
   "metadata": {},
   "outputs": [
    {
     "data": {
      "text/plain": [
       "3.605551275463989"
      ]
     },
     "execution_count": 31,
     "metadata": {},
     "output_type": "execute_result"
    }
   ],
   "source": [
    "v = Vecteur()\n",
    "v.x = 2\n",
    "v.y = 3\n",
    "Vecteur.calculer_norme(v)"
   ]
  },
  {
   "cell_type": "markdown",
   "id": "6f47e861",
   "metadata": {},
   "source": [
    "<p style=\"text-align: justify;\">On comprend mieux ainsi la pr&eacute;sence obligatoire du param&egrave;tre&nbsp;<code><em><strong>self&nbsp;</strong></em></code>dans la d&eacute;claration d&rsquo;une <strong><em>m&eacute;thode</em></strong> pour repr&eacute;senter l&rsquo;objet.</p>\n",
    "<p style=\"text-align: justify;\">En plus du param&egrave;tre&nbsp;<code><em><strong>self</strong></em></code>, une <strong><em>m&eacute;thode</em></strong> peut avoir d&rsquo;autres param&egrave;tres exactement comme une fonction. Nous pouvons ainsi ajouter une <strong><em>m&eacute;thode</em></strong> pour calculer le produit scalaire entre le vecteur courant et un autre vecteur pass&eacute; en param&egrave;tre:</p>"
   ]
  },
  {
   "cell_type": "code",
   "execution_count": 32,
   "id": "262575fe",
   "metadata": {},
   "outputs": [],
   "source": [
    "import math\n",
    "\n",
    "class Vecteur:\n",
    "\n",
    "    def calculer_norme(self):\n",
    "        return math.sqrt(self.x**2 + self.y**2)\n",
    "\n",
    "    def calculer_produit_scalaire(self, v):\n",
    "        return self.x * v.x + self.y * v.y"
   ]
  },
  {
   "cell_type": "code",
   "execution_count": 33,
   "id": "bae3e1d0",
   "metadata": {},
   "outputs": [
    {
     "data": {
      "text/plain": [
       "-1"
      ]
     },
     "execution_count": 33,
     "metadata": {},
     "output_type": "execute_result"
    }
   ],
   "source": [
    "v1 = Vecteur()\n",
    "v1.x = 2\n",
    "v1.y = 3\n",
    "v2 = Vecteur()\n",
    "v2.x = 1\n",
    "v2.y = -1\n",
    "v1.calculer_produit_scalaire(v2)"
   ]
  },
  {
   "cell_type": "markdown",
   "id": "886d8bbf",
   "metadata": {},
   "source": [
    "<p style=\"text-align: justify;\">Une <strong><em>m&eacute;thode</em></strong> peut se contenter de modifier l&rsquo;&eacute;tat interne d&rsquo;un objet (ses attributs) et ainsi agir comme une proc&eacute;dure. Par exemple, la <strong><em>m&eacute;thode</em></strong>&nbsp;<code><em><strong>normaliser&nbsp;</strong></em></code>pour la <em><strong>classe&nbsp;</strong></em><code><em><strong>Vecteur&nbsp;</strong></em></code>ne produit pas de r&eacute;sultat mais modifie les attributs <code><em><strong>x</strong></em></code> et <code><em><strong>y</strong></em></code> pour garantir que la norme du vecteur est <code><em><strong>1</strong></em></code>.</p>"
   ]
  },
  {
   "cell_type": "code",
   "execution_count": 34,
   "id": "3f7eb311",
   "metadata": {},
   "outputs": [],
   "source": [
    "import math\n",
    "\n",
    "class Vecteur:\n",
    "\n",
    "    def calculer_norme(self):\n",
    "        return math.sqrt(self.x**2 + self.y**2)\n",
    "\n",
    "    def calculer_produit_scalaire(self, v):\n",
    "        return self.x * v.x + self.y * v.y\n",
    "\n",
    "    def normaliser(self):\n",
    "        norme = self.calculer_norme()\n",
    "        self.x /= norme\n",
    "        self.y /= norme\n"
   ]
  },
  {
   "cell_type": "markdown",
   "id": "bd61a6d1",
   "metadata": {},
   "source": [
    "<p>Notez comment la <strong><em>m&eacute;thode</em></strong>&nbsp;<code><em><strong>normaliser()&nbsp;</strong></em></code>appelle la <strong><em>m&eacute;thode</em></strong>&nbsp;<code><em><strong>calculer_norme()</strong></em></code>.</p>"
   ]
  },
  {
   "cell_type": "code",
   "execution_count": 54,
   "id": "aba76717",
   "metadata": {},
   "outputs": [
    {
     "name": "stdout",
     "output_type": "stream",
     "text": [
      "x = 0.5547001962252291 , y = 0.8320502943378437\n",
      "x = 0.5547001962252291 , y = 0.8320502943378437\n"
     ]
    }
   ],
   "source": [
    "v = Vecteur()\n",
    "v.x = 2\n",
    "v.y = 3\n",
    "v.normaliser()\n",
    "print(\"x =\", v.x,\", y =\", v.y)\n",
    "v.calculer_norme()\n",
    "print(\"x =\", v.x,\", y =\", v.y)"
   ]
  },
  {
   "cell_type": "markdown",
   "id": "6bfaf110",
   "metadata": {},
   "source": [
    "<h2><span style=\"text-decoration: underline;\"><strong>6. Le constructeur</strong></span></h2>\n",
    "<p style=\"text-align: justify;\">L&rsquo;impl&eacute;mentation de notre classe&nbsp;<code><strong>Vecteur</strong></code> a un inconv&eacute;nient majeur. Toutes ses <strong><em>m&eacute;thodes</em></strong> utilisent les attributs <code><em><strong>x</strong></em></code>&nbsp;et&nbsp;<code><em><strong>y</strong></em></code> pour r&eacute;aliser leur traitement. Que se passe-t-il si on oublie de donner des valeurs pour les attributs&nbsp;<code><em><strong>x</strong></em></code>&nbsp;et&nbsp;<code><em><strong>y</strong></em></code>?</p>"
   ]
  },
  {
   "cell_type": "code",
   "execution_count": 36,
   "id": "5885cfde",
   "metadata": {},
   "outputs": [
    {
     "ename": "AttributeError",
     "evalue": "'Vecteur' object has no attribute 'x'",
     "output_type": "error",
     "traceback": [
      "\u001b[1;31m---------------------------------------------------------------------------\u001b[0m",
      "\u001b[1;31mAttributeError\u001b[0m                            Traceback (most recent call last)",
      "Input \u001b[1;32mIn [36]\u001b[0m, in \u001b[0;36m<cell line: 2>\u001b[1;34m()\u001b[0m\n\u001b[0;32m      1\u001b[0m v \u001b[38;5;241m=\u001b[39m Vecteur()\n\u001b[1;32m----> 2\u001b[0m \u001b[43mv\u001b[49m\u001b[38;5;241;43m.\u001b[39;49m\u001b[43mcalculer_norme\u001b[49m\u001b[43m(\u001b[49m\u001b[43m)\u001b[49m\n",
      "Input \u001b[1;32mIn [34]\u001b[0m, in \u001b[0;36mVecteur.calculer_norme\u001b[1;34m(self)\u001b[0m\n\u001b[0;32m      5\u001b[0m \u001b[38;5;28;01mdef\u001b[39;00m \u001b[38;5;21mcalculer_norme\u001b[39m(\u001b[38;5;28mself\u001b[39m):\n\u001b[1;32m----> 6\u001b[0m     \u001b[38;5;28;01mreturn\u001b[39;00m math\u001b[38;5;241m.\u001b[39msqrt(\u001b[38;5;28;43mself\u001b[39;49m\u001b[38;5;241;43m.\u001b[39;49m\u001b[43mx\u001b[49m\u001b[38;5;241m*\u001b[39m\u001b[38;5;241m*\u001b[39m\u001b[38;5;241m2\u001b[39m \u001b[38;5;241m+\u001b[39m \u001b[38;5;28mself\u001b[39m\u001b[38;5;241m.\u001b[39my\u001b[38;5;241m*\u001b[39m\u001b[38;5;241m*\u001b[39m\u001b[38;5;241m2\u001b[39m)\n",
      "\u001b[1;31mAttributeError\u001b[0m: 'Vecteur' object has no attribute 'x'"
     ]
    }
   ],
   "source": [
    "v = Vecteur()\n",
    "v.calculer_norme()"
   ]
  },
  {
   "cell_type": "markdown",
   "id": "a5180dd4",
   "metadata": {},
   "source": [
    "<p style=\"text-align: justify;\">Dans l&rsquo;exemple ci-dessus, l&rsquo;appel &agrave; la <strong><em>m&eacute;thode</em></strong>&nbsp;<code><em><strong>calculer_norme()</strong></em></code>&nbsp;produit une erreur de type&nbsp;<code><span style=\"color: #ff0000;\"><em><strong>AttributeError</strong></em></span></code>&nbsp;car l&rsquo;objet n&rsquo;a pas les attributs attendus. Cela signifie que si un d&eacute;veloppeur veut utiliser correctement la classe&nbsp;<code><em><strong>Vecteur</strong></em></code>, il doit affecter une valeur pour les attributs&nbsp;<code><em><strong>x</strong></em></code>&nbsp;et&nbsp;<code><em><strong>y</strong></em></code>&nbsp;pour chacun des objets de type&nbsp;<code><em><strong>Vecteur</strong></em></code>.</p>\n",
    "<p style=\"text-align: justify;\">Un constructeur est une <strong><em>m&eacute;thode</em></strong> sp&eacute;ciale qui est appel&eacute;e&nbsp;<strong>au moment de la cr&eacute;ation de l&rsquo;objet</strong>. Il permet de garantir que l&rsquo;objet est dans un &eacute;tat coh&eacute;rent d&egrave;s sa cr&eacute;ation. En <strong><em>Python</em></strong>, le constructeur s&rsquo;appelle&nbsp;<code><em><strong>__init__()</strong></em></code>&nbsp;est prend comme premier param&egrave;tre l&rsquo;objet en cours de cr&eacute;ation.</p>"
   ]
  },
  {
   "cell_type": "code",
   "execution_count": 37,
   "id": "cdae8626",
   "metadata": {},
   "outputs": [],
   "source": [
    "import math\n",
    "\n",
    "class Vecteur:\n",
    "\n",
    "    def __init__(self):\n",
    "        self.x = 0\n",
    "        self.y = 0\n",
    "\n",
    "    def calculer_norme(self):\n",
    "        return math.sqrt(self.x**2 + self.y**2)\n",
    "\n",
    "    def calculer_produit_scalaire(self, v):\n",
    "        return self.x * v.x + self.y * v.y\n",
    "\n",
    "    def normaliser(self):\n",
    "        norme = self.calculer_norme()\n",
    "        self.x /= norme\n",
    "        self.y /= norme\n"
   ]
  },
  {
   "cell_type": "markdown",
   "id": "d5f64f2c",
   "metadata": {},
   "source": [
    "<p>Le constructeur de notre classe&nbsp;<code><em><strong>Vecteur</strong></em></code> positionne &agrave; <code><em><strong>0</strong></em></code> les attributs n&eacute;cessaires aux objets de ce type. Nous avons maintenant corrig&eacute; notre probl&egrave;me.</p>"
   ]
  },
  {
   "cell_type": "code",
   "execution_count": 53,
   "id": "255457aa",
   "metadata": {},
   "outputs": [
    {
     "name": "stdout",
     "output_type": "stream",
     "text": [
      "x = 0 , y = 0\n"
     ]
    }
   ],
   "source": [
    "v = Vecteur()\n",
    "print(\"x =\", v.x,\", y =\", v.y)"
   ]
  },
  {
   "cell_type": "markdown",
   "id": "f1be1852",
   "metadata": {},
   "source": [
    "<p style=\"text-align: justify;\">M&ecirc;me si un constructeur est une <strong><em>m&eacute;thode</em></strong> un peu particuli&egrave;re, il peut accepter autant de param&egrave;tres que n&eacute;cessaire. La valeur de ces param&egrave;tres est donn&eacute;e au moment de la cr&eacute;ation de l&rsquo;objet.</p>"
   ]
  },
  {
   "cell_type": "code",
   "execution_count": 51,
   "id": "3a746153",
   "metadata": {},
   "outputs": [],
   "source": [
    "import math\n",
    "\n",
    "class Vecteur:\n",
    "\n",
    "    def __init__(self, x=0, y=0):\n",
    "        self.x = x\n",
    "        self.y = y\n",
    "\n",
    "    def calculer_norme(self):\n",
    "        return math.sqrt(self.x**2 + self.y**2)\n",
    "\n",
    "    def calculer_produit_scalaire(self, v):\n",
    "        return self.x * v.x + self.y * v.y\n",
    "\n",
    "    def normaliser(self):\n",
    "        norme = self.calculer_norme()\n",
    "        self.x /= norme\n",
    "        self.y /= norme\n"
   ]
  },
  {
   "cell_type": "code",
   "execution_count": 52,
   "id": "58cf3066",
   "metadata": {},
   "outputs": [
    {
     "name": "stdout",
     "output_type": "stream",
     "text": [
      "x = 0 , y = 0\n",
      "x = 1 , y = 2\n",
      "x = 12 , y = 6\n"
     ]
    }
   ],
   "source": [
    "v = Vecteur()\n",
    "print(\"x =\", v.x,\", y =\", v.y)\n",
    "v = Vecteur(1, 2)\n",
    "print(\"x =\", v.x,\", y =\", v.y)\n",
    "v = Vecteur(y=6, x=12)\n",
    "print(\"x =\", v.x,\", y =\", v.y)"
   ]
  },
  {
   "cell_type": "markdown",
   "id": "261e13d0",
   "metadata": {},
   "source": [
    "<h2><strong>7. Les propri&eacute;t&eacute;s</strong></h2>\n",
    "<p style=\"text-align: justify;\">Les attributs permettent de d&eacute;finir l&rsquo;&eacute;tat d&rsquo;un objet mais il existe d&rsquo;autres donn&eacute;es qui peuvent &ecirc;tre repr&eacute;sentatives de cet &eacute;tat. Pour reprendre notre exemple du vecteur, la norme d&rsquo;un vecteur est &eacute;galement une donn&eacute;e qui est simplement calcul&eacute;e &agrave; partir des coordonn&eacute;es <code><em><strong>x</strong></em></code> et <code><em><strong>y</strong></em></code>. L&rsquo;ensemble de ces donn&eacute;es sont appel&eacute;es les <strong><em>propri&eacute;t&eacute;s</em></strong>&nbsp; de l&rsquo;objet. Si on souhaite cr&eacute;er une <strong><em>propri&eacute;t&eacute;</em></strong>&nbsp; calcul&eacute;e, on peut le faire gr&acirc;ce au d&eacute;corateur&nbsp;<code><em><strong>@property</strong></em></code>.</p>"
   ]
  },
  {
   "cell_type": "code",
   "execution_count": 42,
   "id": "7e3db316",
   "metadata": {},
   "outputs": [],
   "source": [
    "import math\n",
    "\n",
    "class Vecteur:\n",
    "\n",
    "    def __init__(self, x=0, y=0):\n",
    "        self.x = x\n",
    "        self.y = y\n",
    "\n",
    "    @property\n",
    "    def norme(self):\n",
    "        return math.sqrt(self.x**2 + self.y**2)\n",
    "\n",
    "    def calculer_produit_scalaire(self, v):\n",
    "        return self.x * v.x + self.y * v.y\n",
    "\n",
    "    def normaliser(self):\n",
    "        norme = self.norme\n",
    "        self.x /= norme\n",
    "        self.y /= norme\n"
   ]
  },
  {
   "cell_type": "markdown",
   "id": "7b5d265a",
   "metadata": {},
   "source": [
    "<p>En transformant le calcul de la norme en une <strong><em>propri&eacute;t&eacute;</em></strong>&nbsp;&nbsp;<strong><em><code>norme</code></em></strong>, il est possible d&rsquo;y acc&eacute;der comme s&rsquo;il s&rsquo;agissait d&rsquo;un attribut:</p>"
   ]
  },
  {
   "cell_type": "code",
   "execution_count": 43,
   "id": "a0e1907e",
   "metadata": {},
   "outputs": [
    {
     "data": {
      "text/plain": [
       "3.605551275463989"
      ]
     },
     "execution_count": 43,
     "metadata": {},
     "output_type": "execute_result"
    }
   ],
   "source": [
    "v = Vecteur(2, 3)\n",
    "v.norme"
   ]
  },
  {
   "cell_type": "markdown",
   "id": "e931084d",
   "metadata": {},
   "source": [
    "<h2><span style=\"text-decoration: underline;\">8. Accesseurs et mutateurs</span></h2>\n",
    "<p style=\"text-align: justify;\">Parmi les diff&eacute;rentes m&eacute;thodes que comporte une classe, on a souvent tendance &agrave; distinguer :</p>\n",
    "<ul style=\"text-align: justify;\">\n",
    "<li>les&nbsp;<em><strong>accesseurs</strong></em>(en anglais&nbsp;<em>accessor</em>) qui fournissent des informations relatives &agrave; l&rsquo;&eacute;tat d&rsquo;un objet, c&rsquo;est-&agrave;-dire aux valeurs de certains de ses attributs (g&eacute;n&eacute;ralement priv&eacute;s) sans les modifier ;</li>\n",
    "<li>les&nbsp;<em><strong>mutateurs</strong></em>(en anglais&nbsp;<em>mutator</em>) qui modifient l&rsquo;&eacute;tat d&rsquo;un objet, donc les valeurs de certains de ses attributs.</li>\n",
    "</ul>\n",
    "<p style=\"text-align: justify;\">On rencontre souvent l&rsquo;utilisation de noms de la forme&nbsp;<code><em><strong>get_XXXX()</strong></em></code>&nbsp;pour les accesseurs et&nbsp;<em><strong>set_XXXX()</strong>&nbsp;</em>pour les mutateurs, y compris dans des programmes dans lesquels les noms de variable sont francis&eacute;s. Par exemple, pour la classe <b><code><em>Vecteur</em></code>&nbsp;</b>sur laquelle nous avons d&eacute;j&agrave; travaill&eacute; on peut d&eacute;finir les m&eacute;thodes suivantes:</p>"
   ]
  },
  {
   "cell_type": "code",
   "execution_count": 46,
   "id": "4224f565",
   "metadata": {},
   "outputs": [],
   "source": [
    "import math\n",
    "\n",
    "class Vecteur:\n",
    "\n",
    "    def __init__(self, x=0, y=0):\n",
    "        self.set_x(x)\n",
    "        self.set_y(y)\n",
    "\n",
    "\n",
    "    @property\n",
    "    def norme(self):\n",
    "        return math.sqrt(self.x**2 + self.y**2)\n",
    "\n",
    "    def calculer_produit_scalaire(self, v):\n",
    "        return self.x * v.x + self.y * v.y\n",
    "\n",
    "    def normaliser(self):\n",
    "        norme = self.norme\n",
    "        self.x /= norme\n",
    "        self.y /= norme\n",
    "    \n",
    "    def get_x(self):\n",
    "        return self.__x\n",
    "\n",
    "    def set_x(self, x):\n",
    "        self.__x = x\n",
    "\n",
    "    def get_y(self):\n",
    "        return self.__y\n",
    "\n",
    "    def set_y(self, y):\n",
    "        self.__y = y\n"
   ]
  },
  {
   "cell_type": "code",
   "execution_count": 49,
   "id": "2412f280",
   "metadata": {},
   "outputs": [
    {
     "name": "stdout",
     "output_type": "stream",
     "text": [
      "x = 2 , y = 3\n",
      "x = 6 , y = 10\n"
     ]
    }
   ],
   "source": [
    "v = Vecteur(2, 3)\n",
    "print(\"x =\", v.get_x(),\", y =\", v.get_y())\n",
    "v.set_x(6)\n",
    "v.set_y(10)\n",
    "print(\"x =\", v.get_x(),\", y =\", v.get_y())"
   ]
  },
  {
   "cell_type": "markdown",
   "id": "51bdab23",
   "metadata": {},
   "source": [
    "<p style=\"text-align: justify;\">L&rsquo;utilisation d&rsquo;un <em>mutateur </em>pour fixer la valeur d&rsquo;un attribut autorise la possibilit&eacute; d&rsquo;effectuer un contr&ocirc;le sur les valeurs de l&rsquo;attribut.</p>\n",
    "<p style=\"text-align: justify;\">Par d&eacute;faut, une <strong><em>propri&eacute;t&eacute;</em></strong> cr&eacute;&eacute;e gr&acirc;ce <strong>au d&eacute;corateur <code><em>@property</em></code></strong> n&rsquo;est pas modifiable. Pour indiquer les <strong><em>m&eacute;thodes</em></strong> qui doivent &ecirc;tre appel&eacute;es si on souhaite modifier ou supprimer la <strong><em>propri&eacute;t&eacute;</em></strong>&nbsp;, il faut utiliser le m&ecirc;me nom de <strong><em>m&eacute;thode</em></strong> et ajouter des d&eacute;corateurs de la forme <code><strong>@nom.setter</strong></code>&nbsp;et <code><strong>@nom.deleter</strong></code>.</p>"
   ]
  },
  {
   "cell_type": "code",
   "execution_count": 97,
   "id": "f9f5f123",
   "metadata": {},
   "outputs": [],
   "source": [
    "import math\n",
    "\n",
    "class Vecteur:\n",
    "\n",
    "    def __init__(self, x=0, y=0):\n",
    "        self.__x = x\n",
    "        self.__y = y\n",
    "\n",
    "\n",
    "    @property\n",
    "    def norme(self):\n",
    "        return math.sqrt(self.__x**2 + self.__y**2)\n",
    "    \n",
    "    @property\n",
    "    def calculer_produit_scalaire(self, v):\n",
    "        return self.__x * v.__x + self.__y * v.__y\n",
    "\n",
    "    @property\n",
    "    def normaliser(self):\n",
    "        norme = self.norme\n",
    "        self.__x /= norme\n",
    "        self.__y /= norme\n",
    "    \n",
    "    @property\n",
    "    def x(self):\n",
    "        return self.__x\n",
    "\n",
    "    @x.setter\n",
    "    def x(self, x):\n",
    "        self.__x = x\n",
    "\n",
    "    @property\n",
    "    def y(self):\n",
    "        return self.__y\n",
    "\n",
    "    @y.setter\n",
    "    def y(self, y):\n",
    "        self.__y = y\n",
    "        \n",
    "    @x.deleter\n",
    "    def x(self):\n",
    "        del self.__x\n",
    "        \n",
    "    @y.deleter\n",
    "    def y(self):\n",
    "        del self.__y\n",
    "\n"
   ]
  },
  {
   "cell_type": "code",
   "execution_count": 93,
   "id": "4336a48a",
   "metadata": {},
   "outputs": [
    {
     "name": "stdout",
     "output_type": "stream",
     "text": [
      "x = 2 , y = 3\n",
      "x = 10 , y = 3\n"
     ]
    }
   ],
   "source": [
    "v = Vecteur(2, 3)\n",
    "print(\"x =\", v.x,\", y =\", v.y)\n",
    "v.x = 10\n",
    "print(\"x =\", v.x,\", y =\", v.y)"
   ]
  },
  {
   "cell_type": "code",
   "execution_count": 94,
   "id": "92ee3bb3",
   "metadata": {},
   "outputs": [
    {
     "data": {
      "text/plain": [
       "3"
      ]
     },
     "execution_count": 94,
     "metadata": {},
     "output_type": "execute_result"
    }
   ],
   "source": [
    "del v.x\n",
    "v.y"
   ]
  },
  {
   "cell_type": "code",
   "execution_count": 95,
   "id": "a9fb89c3",
   "metadata": {},
   "outputs": [
    {
     "ename": "AttributeError",
     "evalue": "'Vecteur' object has no attribute '_Vecteur__x'",
     "output_type": "error",
     "traceback": [
      "\u001b[1;31m---------------------------------------------------------------------------\u001b[0m",
      "\u001b[1;31mAttributeError\u001b[0m                            Traceback (most recent call last)",
      "Input \u001b[1;32mIn [95]\u001b[0m, in \u001b[0;36m<cell line: 1>\u001b[1;34m()\u001b[0m\n\u001b[1;32m----> 1\u001b[0m \u001b[43mv\u001b[49m\u001b[38;5;241;43m.\u001b[39;49m\u001b[43mx\u001b[49m\n",
      "Input \u001b[1;32mIn [92]\u001b[0m, in \u001b[0;36mVecteur.x\u001b[1;34m(self)\u001b[0m\n\u001b[0;32m     22\u001b[0m \u001b[38;5;129m@property\u001b[39m\n\u001b[0;32m     23\u001b[0m \u001b[38;5;28;01mdef\u001b[39;00m \u001b[38;5;21mx\u001b[39m(\u001b[38;5;28mself\u001b[39m):\n\u001b[1;32m---> 24\u001b[0m     \u001b[38;5;28;01mreturn\u001b[39;00m \u001b[38;5;28;43mself\u001b[39;49m\u001b[38;5;241;43m.\u001b[39;49m\u001b[43m__x\u001b[49m\n",
      "\u001b[1;31mAttributeError\u001b[0m: 'Vecteur' object has no attribute '_Vecteur__x'"
     ]
    }
   ],
   "source": [
    "v.x"
   ]
  },
  {
   "cell_type": "code",
   "execution_count": 96,
   "id": "91b46eaa",
   "metadata": {},
   "outputs": [
    {
     "ename": "AttributeError",
     "evalue": "'Vecteur' object has no attribute '_Vecteur__y'",
     "output_type": "error",
     "traceback": [
      "\u001b[1;31m---------------------------------------------------------------------------\u001b[0m",
      "\u001b[1;31mAttributeError\u001b[0m                            Traceback (most recent call last)",
      "Input \u001b[1;32mIn [96]\u001b[0m, in \u001b[0;36m<cell line: 2>\u001b[1;34m()\u001b[0m\n\u001b[0;32m      1\u001b[0m \u001b[38;5;28;01mdel\u001b[39;00m v\u001b[38;5;241m.\u001b[39my\n\u001b[1;32m----> 2\u001b[0m \u001b[43mv\u001b[49m\u001b[38;5;241;43m.\u001b[39;49m\u001b[43my\u001b[49m\n",
      "Input \u001b[1;32mIn [92]\u001b[0m, in \u001b[0;36mVecteur.y\u001b[1;34m(self)\u001b[0m\n\u001b[0;32m     30\u001b[0m \u001b[38;5;129m@property\u001b[39m\n\u001b[0;32m     31\u001b[0m \u001b[38;5;28;01mdef\u001b[39;00m \u001b[38;5;21my\u001b[39m(\u001b[38;5;28mself\u001b[39m):\n\u001b[1;32m---> 32\u001b[0m     \u001b[38;5;28;01mreturn\u001b[39;00m \u001b[38;5;28;43mself\u001b[39;49m\u001b[38;5;241;43m.\u001b[39;49m\u001b[43m__y\u001b[49m\n",
      "\u001b[1;31mAttributeError\u001b[0m: 'Vecteur' object has no attribute '_Vecteur__y'"
     ]
    }
   ],
   "source": [
    "del v.y\n",
    "v.y"
   ]
  },
  {
   "cell_type": "markdown",
   "id": "e27f99ea",
   "metadata": {},
   "source": [
    "<h2><span style=\"text-decoration: underline;\"><strong>9. Les attributs de classe</strong></span></h2>\n",
    "<p style=\"text-align: justify;\">Une classe peut &eacute;galement avoir des attributs. Pour cela, il suffit de les d&eacute;clarer dans le corps de la classe. Les attributs de classe sont accessibles depuis la classe elle-m&ecirc;me et sont partag&eacute;s par tous les objets. Si un objet modifie un attribut de classe, cette modification est visible de tous les autres objets.</p>"
   ]
  },
  {
   "cell_type": "code",
   "execution_count": 100,
   "id": "aa8111ff",
   "metadata": {},
   "outputs": [],
   "source": [
    "import math\n",
    "\n",
    "class Vecteur:\n",
    "    \n",
    "    nb_instances = 0\n",
    "\n",
    "    def __init__(self, x=0, y=0):\n",
    "        self.__x = x\n",
    "        self.__y = y\n",
    "        Vecteur.nb_instances += 1\n",
    "\n",
    "\n",
    "    @property\n",
    "    def norme(self):\n",
    "        return math.sqrt(self.__x**2 + self.__y**2)\n",
    "    \n",
    "    @property\n",
    "    def calculer_produit_scalaire(self, v):\n",
    "        return self.__x * v.__x + self.__y * v.__y\n",
    "\n",
    "    @property\n",
    "    def normaliser(self):\n",
    "        norme = self.norme\n",
    "        self.__x /= norme\n",
    "        self.__y /= norme\n",
    "    \n",
    "    @property\n",
    "    def x(self):\n",
    "        return self.__x\n",
    "\n",
    "    @x.setter\n",
    "    def x(self, x):\n",
    "        self.__x = x\n",
    "\n",
    "    @property\n",
    "    def y(self):\n",
    "        return self.__y\n",
    "\n",
    "    @y.setter\n",
    "    def y(self, y):\n",
    "        self.__y = y\n",
    "        \n",
    "    @x.deleter\n",
    "    def x(self):\n",
    "        del self.__x\n",
    "        \n",
    "    @y.deleter\n",
    "    def y(self):\n",
    "        del self.__y\n",
    "\n"
   ]
  },
  {
   "cell_type": "code",
   "execution_count": 101,
   "id": "03e4f601",
   "metadata": {},
   "outputs": [
    {
     "data": {
      "text/plain": [
       "3"
      ]
     },
     "execution_count": 101,
     "metadata": {},
     "output_type": "execute_result"
    }
   ],
   "source": [
    "v1 = Vecteur(1,2)\n",
    "v2 = Vecteur(2,4)\n",
    "v3 = Vecteur(5,6)\n",
    "Vecteur.nb_instances"
   ]
  },
  {
   "cell_type": "markdown",
   "id": "16208504",
   "metadata": {},
   "source": [
    "<p style=\"text-align: justify;\">Dans cet exemple simple, l&rsquo;attribut de classe&nbsp;<code><em><strong>nb_instances&nbsp;</strong></em></code>est incr&eacute;ment&eacute; &agrave; chaque fois que le constructeur de la classe est appel&eacute;. Donc cela permet de compter le nombre d&rsquo;objets de ce type cr&eacute;&eacute;s par le programme.</p>\n",
    "<p style=\"text-align: justify;\"><span style=\"color: #ff0000;\">Notez comment l&rsquo;attribut de classe&nbsp;<code><em><strong>nb_instances</strong></em></code> est modifi&eacute; dans le constructeur de la classe&nbsp;<code><em><strong>Vecteur</strong></em></code>. On utilise le nom de la classe et non&nbsp;<code><em><strong>self&nbsp;</strong></em></code>car sinon il s&rsquo;agirait de l&rsquo;attribut de l&rsquo;objet. Il est possible d&rsquo;utiliser&nbsp;<code><em><strong>self</strong></em></code> pour lire le contenu d&rsquo;une variable de classe mais cela est fortement d&eacute;conseill&eacute; car cela peut donner lieu &agrave; une ambigu&iuml;t&eacute; &agrave; la lecture du code.</span></p>\n",
    "<p style=\"text-align: justify;\">Les attributs de classe sont le plus souvent utilis&eacute;s pour repr&eacute;senter des constantes.</p>\n",
    "<h2><span style=\"text-decoration: underline;\"><strong>10. M&eacute;thodes de classe</strong></span></h2>\n",
    "<p style=\"text-align: justify;\">Tout comme il est possible de d&eacute;clarer des attributs de classe, il est &eacute;galement possible de d&eacute;clarer des <strong><em>m&eacute;thodes</em></strong> de classe. Pour cela, on utilise le d&eacute;corateur&nbsp;<code><em><strong>@classmethod</strong></em></code>. Comme une <strong><em>m&eacute;thode</em></strong> de classe appartient &agrave; une classe, le premier param&egrave;tre correspond &agrave; la classe. Par convention, on appelle ce param&egrave;tre&nbsp;<code><em><strong>cls</strong></em></code>&nbsp;pour pr&eacute;ciser qu&rsquo;il s&rsquo;agit de la classe et pour le distinguer de&nbsp;<code><em><strong>self</strong></em></code>.</p>"
   ]
  },
  {
   "cell_type": "code",
   "execution_count": 102,
   "id": "933e5c1d",
   "metadata": {},
   "outputs": [],
   "source": [
    "import math\n",
    "\n",
    "class Vecteur:\n",
    "    \n",
    "    nb_instances = 0\n",
    "\n",
    "    def __init__(self, x=0, y=0):\n",
    "        self.__x = x\n",
    "        self.__y = y\n",
    "        Vecteur.nb_instances += 1\n",
    "\n",
    "    @classmethod\n",
    "    def reinitialiser_compteur(cls):\n",
    "        cls.nb_instances = 0\n",
    "\n",
    "    @property\n",
    "    def norme(self):\n",
    "        return math.sqrt(self.__x**2 + self.__y**2)\n",
    "    \n",
    "    @property\n",
    "    def calculer_produit_scalaire(self, v):\n",
    "        return self.__x * v.__x + self.__y * v.__y\n",
    "\n",
    "    @property\n",
    "    def normaliser(self):\n",
    "        norme = self.norme\n",
    "        self.__x /= norme\n",
    "        self.__y /= norme\n",
    "    \n",
    "    @property\n",
    "    def x(self):\n",
    "        return self.__x\n",
    "\n",
    "    @x.setter\n",
    "    def x(self, x):\n",
    "        self.__x = x\n",
    "\n",
    "    @property\n",
    "    def y(self):\n",
    "        return self.__y\n",
    "\n",
    "    @y.setter\n",
    "    def y(self, y):\n",
    "        self.__y = y\n",
    "        \n",
    "    @x.deleter\n",
    "    def x(self):\n",
    "        del self.__x\n",
    "        \n",
    "    @y.deleter\n",
    "    def y(self):\n",
    "        del self.__y\n",
    "\n"
   ]
  },
  {
   "cell_type": "code",
   "execution_count": 105,
   "id": "cb475abb",
   "metadata": {},
   "outputs": [
    {
     "name": "stdout",
     "output_type": "stream",
     "text": [
      "3\n",
      "0\n"
     ]
    }
   ],
   "source": [
    "v1 = Vecteur(1,2)\n",
    "v2 = Vecteur(2,4)\n",
    "v3 = Vecteur(5,6)\n",
    "print(Vecteur.nb_instances)\n",
    "Vecteur.reinitialiser_compteur()\n",
    "print(Vecteur.nb_instances)"
   ]
  },
  {
   "cell_type": "markdown",
   "id": "d69eafeb",
   "metadata": {},
   "source": [
    "<h2 style=\"text-align: justify;\"><em><strong>11. M&eacute;thodes statiques</strong></em></h2>\n",
    "<p style=\"text-align: justify;\">Une <strong><em>m&eacute;thode</em></strong> <em><strong>statique</strong> </em>est une <strong><em>m&eacute;thode</em></strong> qui appartient &agrave; la classe mais qui n&rsquo;a pas besoin de s&rsquo;ex&eacute;cuter dans le contexte d&rsquo;une classe. Autrement dit, c&rsquo;est une <strong><em>m&eacute;thode</em></strong> qui ne doit pas prendre le param&egrave;tre&nbsp;cls&nbsp;comme premier param&egrave;tre. Pour d&eacute;clarer une <strong><em>m&eacute;thode</em></strong> statique, on utilise le d&eacute;corateur&nbsp;<code><em><strong>@staticmethod</strong></em></code>. Les <strong><em>m&eacute;thodes</em></strong> statiques sont des <strong><em>m&eacute;thodes</em></strong> utilitaires tr&egrave;s proches des fonctions mais que l&rsquo;on souhaite d&eacute;clarer dans le corps d&rsquo;une classe.</p>"
   ]
  },
  {
   "cell_type": "code",
   "execution_count": 106,
   "id": "7dd340fd",
   "metadata": {},
   "outputs": [],
   "source": [
    "import math\n",
    "\n",
    "class Vecteur:\n",
    "    \n",
    "    nb_instances = 0\n",
    "\n",
    "    def __init__(self, x=0, y=0):\n",
    "        self.__x = x\n",
    "        self.__y = y\n",
    "        Vecteur.nb_instances += 1\n",
    "        \n",
    "    @staticmethod\n",
    "    def une_methode():\n",
    "        print(\"appel de la méthode\")\n",
    "\n",
    "    @classmethod\n",
    "    def reinitialiser_compteur(cls):\n",
    "        cls.nb_instances = 0\n",
    "\n",
    "    @property\n",
    "    def norme(self):\n",
    "        return math.sqrt(self.__x**2 + self.__y**2)\n",
    "    \n",
    "    @property\n",
    "    def calculer_produit_scalaire(self, v):\n",
    "        return self.__x * v.__x + self.__y * v.__y\n",
    "\n",
    "    @property\n",
    "    def normaliser(self):\n",
    "        norme = self.norme\n",
    "        self.__x /= norme\n",
    "        self.__y /= norme\n",
    "    \n",
    "    @property\n",
    "    def x(self):\n",
    "        return self.__x\n",
    "\n",
    "    @x.setter\n",
    "    def x(self, x):\n",
    "        self.__x = x\n",
    "\n",
    "    @property\n",
    "    def y(self):\n",
    "        return self.__y\n",
    "\n",
    "    @y.setter\n",
    "    def y(self, y):\n",
    "        self.__y = y\n",
    "        \n",
    "    @x.deleter\n",
    "    def x(self):\n",
    "        del self.__x\n",
    "        \n",
    "    @y.deleter\n",
    "    def y(self):\n",
    "        del self.__y\n",
    "\n"
   ]
  },
  {
   "cell_type": "code",
   "execution_count": 108,
   "id": "6c986341",
   "metadata": {},
   "outputs": [
    {
     "name": "stdout",
     "output_type": "stream",
     "text": [
      "appel de la méthode\n"
     ]
    }
   ],
   "source": [
    "Vecteur.une_methode()"
   ]
  },
  {
   "cell_type": "markdown",
   "id": "0e106c7d",
   "metadata": {},
   "source": [
    "<h2><span style=\"text-decoration: underline;\"><strong>12. Fermer la liste des attributs</strong></span></h2>\n",
    "<p style=\"text-align: justify;\">Nous avons vu au d&eacute;but que nous pouvons cr&eacute;er autant d&rsquo;attributs que nous le souhaitons pour un objet. Cela peut conduire &agrave; des bugs ou des difficult&eacute;s de compr&eacute;hension du code. Si nous reprenons notre classe&nbsp;<code><em><strong>Vecteur</strong></em></code>, nous pouvons &eacute;crire:</p>"
   ]
  },
  {
   "cell_type": "code",
   "execution_count": 109,
   "id": "e06b49f1",
   "metadata": {},
   "outputs": [
    {
     "data": {
      "text/plain": [
       "1.0"
      ]
     },
     "execution_count": 109,
     "metadata": {},
     "output_type": "execute_result"
    }
   ],
   "source": [
    "v = Vecteur(1, 0)\n",
    "v.z = 4\n",
    "v.norme"
   ]
  },
  {
   "cell_type": "markdown",
   "id": "e84051e8",
   "metadata": {},
   "source": [
    "<p style=\"text-align: justify;\">&Agrave; la ligne <em><strong>2</strong></em>, le programme positionne la valeur d&rsquo;un nouvel attribut&nbsp;<em><strong><code>z</code></strong></em>. Un lecteur pourrait penser que le vecteur est en fait un vecteur &agrave; <em><strong>trois dimensions</strong></em>. Mais il n&rsquo;en est rien. La classe&nbsp;<code><em><strong>Vecteur</strong></em></code>&nbsp;n&rsquo;a pas &eacute;t&eacute; con&ccedil;ue pour prendre en charge cette <em><strong>troisi&egrave;me dimension</strong> </em>et la norme du vecteur sera bien de <code><em><strong>1</strong></em></code>.</p>\n",
    "<p style=\"text-align: justify;\">Pour &eacute;viter ce genre de situation, il est possible d&eacute;clarer la liste finie des attributs. Pour cela, on d&eacute;clare une attribut de classe appel&eacute;&nbsp;<code><em><strong>__slots__</strong></em></code>.</p>"
   ]
  },
  {
   "cell_type": "code",
   "execution_count": 113,
   "id": "68e8ddfd",
   "metadata": {},
   "outputs": [],
   "source": [
    "import math\n",
    "\n",
    "class Vecteur:\n",
    "    \n",
    "    __slots__ = ('__x', '__y')\n",
    "    nb_instances = 0\n",
    "\n",
    "    def __init__(self, x=0, y=0):\n",
    "        self.__x = x\n",
    "        self.__y = y\n",
    "        Vecteur.nb_instances += 1\n",
    "        \n",
    "    @staticmethod\n",
    "    def une_methode():\n",
    "        print(\"appel de la méthode\")\n",
    "\n",
    "    @classmethod\n",
    "    def reinitialiser_compteur(cls):\n",
    "        cls.nb_instances = 0\n",
    "\n",
    "    @property\n",
    "    def norme(self):\n",
    "        return math.sqrt(self.__x**2 + self.__y**2)\n",
    "    \n",
    "    @property\n",
    "    def calculer_produit_scalaire(self, v):\n",
    "        return self.__x * v.__x + self.__y * v.__y\n",
    "\n",
    "    @property\n",
    "    def normaliser(self):\n",
    "        norme = self.norme\n",
    "        self.__x /= norme\n",
    "        self.__y /= norme\n",
    "    \n",
    "    @property\n",
    "    def x(self):\n",
    "        return self.__x\n",
    "\n",
    "    @x.setter\n",
    "    def x(self, x):\n",
    "        self.__x = x\n",
    "\n",
    "    @property\n",
    "    def y(self):\n",
    "        return self.__y\n",
    "\n",
    "    @y.setter\n",
    "    def y(self, y):\n",
    "        self.__y = y\n",
    "        \n",
    "    @x.deleter\n",
    "    def x(self):\n",
    "        del self.__x\n",
    "        \n",
    "    @y.deleter\n",
    "    def y(self):\n",
    "        del self.__y\n",
    "\n"
   ]
  },
  {
   "cell_type": "markdown",
   "id": "c55402c9",
   "metadata": {},
   "source": [
    "<p style=\"text-align: justify;\">Si maintenant un programme essaie de positionner la valeur d&rsquo;un attribut qui ne fait pas partie de la d&eacute;finition de la classe, l&rsquo;interpr&eacute;teur g&eacute;n&egrave;re une erreur&nbsp;<code><em><span style=\"color: #ff0000;\"><strong>AttributeError</strong></span></em></code>.</p>"
   ]
  },
  {
   "cell_type": "code",
   "execution_count": 115,
   "id": "9d36548c",
   "metadata": {},
   "outputs": [
    {
     "ename": "AttributeError",
     "evalue": "'Vecteur' object has no attribute 'z'",
     "output_type": "error",
     "traceback": [
      "\u001b[1;31m---------------------------------------------------------------------------\u001b[0m",
      "\u001b[1;31mAttributeError\u001b[0m                            Traceback (most recent call last)",
      "Input \u001b[1;32mIn [115]\u001b[0m, in \u001b[0;36m<cell line: 2>\u001b[1;34m()\u001b[0m\n\u001b[0;32m      1\u001b[0m v \u001b[38;5;241m=\u001b[39m Vecteur(\u001b[38;5;241m1\u001b[39m, \u001b[38;5;241m0\u001b[39m)\n\u001b[1;32m----> 2\u001b[0m v\u001b[38;5;241m.\u001b[39mz \u001b[38;5;241m=\u001b[39m \u001b[38;5;241m4\u001b[39m\n",
      "\u001b[1;31mAttributeError\u001b[0m: 'Vecteur' object has no attribute 'z'"
     ]
    }
   ],
   "source": [
    "v = Vecteur(1, 0)\n",
    "v.z = 4"
   ]
  },
  {
   "cell_type": "markdown",
   "id": "c4cb34a7",
   "metadata": {},
   "source": [
    "<p style=\"text-align: justify;\">L&rsquo;attribut&nbsp;<code><em><strong>__slots__</strong></em></code>&nbsp;a &eacute;galement une utilit&eacute; pour l&rsquo;optimisation du code. Comme on indique &agrave; l&rsquo;interpr&eacute;teur le nombre exact d&rsquo;attributs, il peut optimiser l&rsquo;allocation m&eacute;moire pour un objet de ce type.</p>\n",
    "<h2><span style=\"text-decoration: underline;\">13. Op&eacute;rateurs</span></h2>\n",
    "<p style=\"text-align: justify;\">Les <em><strong>op&eacute;rateurs</strong> </em>sont des symboles du langages comme&nbsp;<em><strong><code>+</code></strong></em>,&nbsp;<code><strong><em>-</em></strong></code>,&nbsp;<code><strong><em>+=</em></strong></code>, <strong><em><code>&hellip;</code></em></strong> Au travers des op&eacute;rateurs, il est possible de donner un sens &agrave; une syntaxe comme celle de l&rsquo;exemple suivant:</p>"
   ]
  },
  {
   "cell_type": "code",
   "execution_count": 117,
   "id": "971c5484",
   "metadata": {},
   "outputs": [
    {
     "ename": "TypeError",
     "evalue": "unsupported operand type(s) for +: 'Vecteur' and 'Vecteur'",
     "output_type": "error",
     "traceback": [
      "\u001b[1;31m---------------------------------------------------------------------------\u001b[0m",
      "\u001b[1;31mTypeError\u001b[0m                                 Traceback (most recent call last)",
      "Input \u001b[1;32mIn [117]\u001b[0m, in \u001b[0;36m<cell line: 3>\u001b[1;34m()\u001b[0m\n\u001b[0;32m      1\u001b[0m v1 \u001b[38;5;241m=\u001b[39m Vecteur(\u001b[38;5;241m1\u001b[39m, \u001b[38;5;241m0\u001b[39m)\n\u001b[0;32m      2\u001b[0m v2 \u001b[38;5;241m=\u001b[39m Vecteur(\u001b[38;5;241m1\u001b[39m, \u001b[38;5;241m5\u001b[39m)\n\u001b[1;32m----> 3\u001b[0m v3 \u001b[38;5;241m=\u001b[39m \u001b[43mv1\u001b[49m\u001b[43m \u001b[49m\u001b[38;5;241;43m+\u001b[39;49m\u001b[43m \u001b[49m\u001b[43mv2\u001b[49m\n",
      "\u001b[1;31mTypeError\u001b[0m: unsupported operand type(s) for +: 'Vecteur' and 'Vecteur'"
     ]
    }
   ],
   "source": [
    "v1 = Vecteur(1, 0)\n",
    "v2 = Vecteur(1, 5)\n",
    "v3 = v1 + v2"
   ]
  },
  {
   "cell_type": "markdown",
   "id": "f05431ef",
   "metadata": {},
   "source": [
    "<p style=\"text-align: justify;\"><span>L&rsquo;addition n&rsquo;est pas le seul symbole concern&eacute;, le langage&nbsp;<em><strong>P</strong></em></span><em><strong>ython</strong></em><span><em><strong>&nbsp;</strong></em>permet de donner un sens &agrave; tous les op&eacute;rateurs num&eacute;riques et d&rsquo;autres reli&eacute;s &agrave; des fonctions du langage comme&nbsp;</span><em><strong><code class=\"docutils literal notranslate\"><span class=\"pre\">len</span></code></strong></em><span><em><strong>&nbsp;</strong></em>ou&nbsp;</span><em><strong><code class=\"docutils literal notranslate\"><span class=\"pre\">max</span></code></strong></em><span>. Le programme suivant contient une classe d&eacute;finissant un nombre complexe. La m&eacute;thode&nbsp;</span><code class=\"docutils literal notranslate\"><span class=\"pre\"><em><strong>ajoute</strong></em></span></code><span>&nbsp;d&eacute;finit ce qu&rsquo;est une addition entre nombres complexes.</span></p>"
   ]
  },
  {
   "cell_type": "code",
   "execution_count": 120,
   "id": "b0efa251",
   "metadata": {},
   "outputs": [
    {
     "name": "stdout",
     "output_type": "stream",
     "text": [
      "1 1\n"
     ]
    }
   ],
   "source": [
    "import math\n",
    "\n",
    "\n",
    "class nombre_complexe:\n",
    "    def __init__(self, a=0, b=0):\n",
    "        self.a, self.b = a, b\n",
    "\n",
    "    def get_module(self):\n",
    "        return math.sqrt(self.a * self.a + self.b * self.b)\n",
    "\n",
    "    def ajoute(self, c):\n",
    "        return nombre_complexe(self.a + c.a, self.b + c.b)\n",
    "\n",
    "\n",
    "c1 = nombre_complexe(0, 1)\n",
    "c2 = nombre_complexe(1, 0)\n",
    "\n",
    "c = c1.ajoute(c2)         # c = c1 + c2\n",
    "print(c.a, c.b)"
   ]
  },
  {
   "cell_type": "markdown",
   "id": "98c98ea1",
   "metadata": {},
   "source": [
    "<p style=\"text-align: justify;\"><span>Toutefois, on aimerait bien &eacute;crire simplement&nbsp;</span><em><strong><code class=\"docutils literal notranslate\"><span class=\"pre\">c</span>&nbsp;<span class=\"pre\">=</span>&nbsp;<span class=\"pre\">c1</span>&nbsp;<span class=\"pre\">+</span>&nbsp;<span class=\"pre\">c2</span></code></strong></em><span>&nbsp;au lieu de&nbsp;</span><em><strong><code class=\"docutils literal notranslate\"><span class=\"pre\">c</span>&nbsp;<span class=\"pre\">=</span>&nbsp;<span class=\"pre\">c1.ajoute(c2)</span></code></strong></em><span>&nbsp;car cette syntaxe est plus facile &agrave; lire et surtout plus intuitive. Le langage&nbsp;<em><strong>P</strong></em></span><em><strong>ython</strong></em><span><em><strong>&nbsp;</strong></em>offre cette possibilit&eacute;. Il existe en effet des m&eacute;thodes&nbsp;</span><em>cl&eacute;s</em><span>&nbsp;dont l&rsquo;impl&eacute;mentation d&eacute;finit ce qui doit &ecirc;tre fait dans le cas d&rsquo;une addition, d&rsquo;une comparaison, d&rsquo;un affichage, &hellip; A l&rsquo;instar du <em><strong>constructeur</strong></em>, toutes ces m&eacute;thodes cl&eacute;s, qu&rsquo;on appelle des&nbsp;</span><strong><em>op&eacute;rateurs</em></strong><span>, sont encadr&eacute;es par deux blancs soulign&eacute;s, leur d&eacute;claration suit invariablement le m&ecirc;me sch&eacute;ma. Voici celui de l&rsquo;op&eacute;rateur&nbsp;</span><em><strong><code class=\"docutils literal notranslate\"><span class=\"pre\">__add__</span></code></strong></em><span>&nbsp;qui d&eacute;crit ce qu&rsquo;il faut faire pour une <em><strong>addition</strong></em>.</span></p>\n",
    "<p style=\"text-align: justify;\"><span>Le programme suivant reprend le pr&eacute;c&eacute;dent de mani&egrave;re &agrave; ce que l&rsquo;addition de deux nombres complexes soit dor&eacute;navant une syntaxe correcte.</span></p>"
   ]
  },
  {
   "cell_type": "code",
   "execution_count": 121,
   "id": "6025d278",
   "metadata": {},
   "outputs": [
    {
     "name": "stdout",
     "output_type": "stream",
     "text": [
      "1 1\n"
     ]
    }
   ],
   "source": [
    "import math\n",
    "\n",
    "\n",
    "class nombre_complexe:\n",
    "    def __init__(self, a=0, b=0):\n",
    "        self.a, self.b = a, b\n",
    "\n",
    "    def get_module(self):\n",
    "        return math.sqrt(self.a * self.a + self.b * self.b)\n",
    "\n",
    "    def __add__(self, c):\n",
    "        return nombre_complexe(self.a + c.a, self.b + c.b)\n",
    "\n",
    "\n",
    "c1 = nombre_complexe(0, 1)\n",
    "c2 = nombre_complexe(1, 0)\n",
    "c = c1 + c2          # cette expression est maintenant syntaxiquement correcte\n",
    "c = c1.__add__(c2)  # même ligne que la précédente mais écrite explicitement\n",
    "print(c.a, c.b)"
   ]
  },
  {
   "cell_type": "markdown",
   "id": "2a8ec5b1",
   "metadata": {},
   "source": [
    "<p>Chaque op&eacute;rateur poss&egrave;de sa m&eacute;thode-cl&eacute; associ&eacute;e. L&rsquo;op&eacute;rateur <code><em><strong>+=</strong></em></code>, diff&eacute;rent de <code><em><strong>+</strong></em></code> est associ&eacute; &agrave; la m&eacute;thode-cl&eacute; <code><em><strong>__iadd__</strong></em></code>.</p>"
   ]
  },
  {
   "cell_type": "code",
   "execution_count": 122,
   "id": "6d9cc704",
   "metadata": {},
   "outputs": [
    {
     "name": "stdout",
     "output_type": "stream",
     "text": [
      "2 1\n"
     ]
    }
   ],
   "source": [
    "import math\n",
    "\n",
    "\n",
    "class nombre_complexe:\n",
    "    def __init__(self, a=0, b=0):\n",
    "        self.a, self.b = a, b\n",
    "\n",
    "    def get_module(self):\n",
    "        return math.sqrt(self.a * self.a + self.b * self.b)\n",
    "\n",
    "    def __add__(self, c):\n",
    "        return nombre_complexe(self.a + c.a, self.b + c.b)\n",
    "    \n",
    "    def __iadd__(self, c):\n",
    "        self.a += c.a\n",
    "        self.b += c.b\n",
    "        return self\n",
    "\n",
    "\n",
    "c1 = nombre_complexe(0, 1)\n",
    "c2 = nombre_complexe(1, 0)\n",
    "c1 += c2           # utilisation de l'opérateur +=\n",
    "c1.__iadd__(c2)   # c'est la transcription explicite de la ligne précédente\n",
    "print(c1.a, c1.b)"
   ]
  },
  {
   "cell_type": "markdown",
   "id": "2a659946",
   "metadata": {},
   "source": [
    "<p><span>Un autre op&eacute;rateur souvent utilis&eacute; est&nbsp;</span><em><strong><code>__str__</code></strong></em><span>&nbsp;qui permet de red&eacute;finir l&rsquo;affichage d&rsquo;un objet lors d&rsquo;un appel &agrave; l&rsquo;instruction&nbsp;</span><em><strong><code><span>print</span></code></strong></em><span>.</span></p>"
   ]
  },
  {
   "cell_type": "code",
   "execution_count": 123,
   "id": "f2b97d57",
   "metadata": {},
   "outputs": [
    {
     "name": "stdout",
     "output_type": "stream",
     "text": [
      "1.000000 + 1.000000 i\n"
     ]
    }
   ],
   "source": [
    "class nombre_complexe:\n",
    "    \n",
    "    def __init__(self, a=0, b=0):\n",
    "        self.a, self.b = a, b\n",
    "\n",
    "    def get_module(self):\n",
    "        return math.sqrt(self.a * self.a + self.b * self.b)\n",
    "\n",
    "    def __add__(self, c):\n",
    "        return nombre_complexe(self.a + c.a, self.b + c.b)\n",
    "    \n",
    "    def __iadd__(self, c):\n",
    "        self.a += c.a\n",
    "        self.b += c.b\n",
    "        return self\n",
    "\n",
    "    def __str__(self):\n",
    "        if self.b == 0:\n",
    "            return \"%f\" % (self.a)\n",
    "        elif self.b > 0:\n",
    "            return \"%f + %f i\" % (self.a, self.b)\n",
    "        else:\n",
    "            return \"%f - %f i\" % (self.a, -self.b)\n",
    "\n",
    "\n",
    "c1 = nombre_complexe(0, 1)\n",
    "c2 = nombre_complexe(1, 0)\n",
    "c3 = c1 + c2\n",
    "print(c3)       # affiche 1.000000 + 1.000000 i"
   ]
  },
  {
   "cell_type": "markdown",
   "id": "dea5b62c",
   "metadata": {},
   "source": [
    "<p style=\"text-align: justify;\">Il existe de nombreux op&eacute;rateurs qu&rsquo;il est possible de d&eacute;finir. La table<span>&nbsp;</span><span class=\"xref std std-ref\">operateur_classe</span><span>&nbsp;</span>pr&eacute;sente les plus utilis&eacute;s. Parmi ceux-l&agrave;, on peut s&rsquo;attarder sur les op&eacute;rateurs<span>&nbsp;</span><em><strong><code class=\"docutils literal notranslate\"><span class=\"pre\">__getitem__</span></code></strong></em><span>&nbsp;</span>et<span>&nbsp;</span><em><strong><code class=\"docutils literal notranslate\"><span class=\"pre\">__setitem__</span></code></strong></em>, ils red&eacute;finissent l&rsquo;op&eacute;rateur<span>&nbsp;</span><em><strong><code class=\"docutils literal notranslate\"><span class=\"pre\">[]</span></code></strong></em><span>&nbsp;</span>permettant d&rsquo;acc&eacute;der &agrave; un &eacute;l&eacute;ment d&rsquo;une liste ou d&rsquo;un dictionnaire. Le premier,<span>&nbsp;</span><em><strong><code class=\"docutils literal notranslate\"><span class=\"pre\">__getitem__</span></code></strong></em><span>&nbsp;</span>est utilis&eacute; lors d&rsquo;un calcul, un affichage. Le second,<span>&nbsp;</span><em><strong><code class=\"docutils literal notranslate\"><span class=\"pre\">__setitem__</span></code></strong></em>, est utilis&eacute; pour affecter une valeur.</p>\n",
    "<p style=\"text-align: justify;\">L&rsquo;exemple suivant d&eacute;finit un point de l&rsquo;espace avec trois coordonn&eacute;es. Il red&eacute;finit ou<span>&nbsp;</span><em>surcharge</em><span>&nbsp;</span>les op&eacute;rateurs<span>&nbsp;</span><em><strong><code class=\"docutils literal notranslate\"><span class=\"pre\">__getitem__</span></code></strong></em><span>&nbsp;</span>et<span>&nbsp;</span><em><strong><code class=\"docutils literal notranslate\"><span class=\"pre\">__setitem__</span></code></strong></em><span>&nbsp;</span>de mani&egrave;re &agrave; pouvoir acc&eacute;der aux coordonn&eacute;es de la classe<span>&nbsp;</span><em><strong><code class=\"docutils literal notranslate\"><span class=\"pre\">point_espace</span></code></strong></em><span>&nbsp;</span>qui d&eacute;finit un point dans l&rsquo;espace. En r&egrave;gle g&eacute;n&eacute;rale, lorsque les indices ne sont pas corrects, ces deux op&eacute;rateurs l&egrave;vent l&rsquo;exception<span>&nbsp;</span><span style=\"color: #ff0000;\"><em><strong><code class=\"docutils literal notranslate\"><span class=\"pre\">IndexError</span></code></strong></em></span>.</p>"
   ]
  },
  {
   "cell_type": "code",
   "execution_count": 132,
   "id": "905c94d6",
   "metadata": {},
   "outputs": [
    {
     "name": "stdout",
     "output_type": "stream",
     "text": [
      "(1.000000,-2.000000,3.000000)\n",
      "abscisse :  1\n",
      "ordonnée :  2\n",
      "altitude :  3\n"
     ]
    }
   ],
   "source": [
    "class point_espace:\n",
    "    def __init__(self, x, y, z):\n",
    "        self._x, self._y, self._z = x, y, z\n",
    "\n",
    "    def __getitem__(self, i):\n",
    "        if i == 0:\n",
    "            return self._x\n",
    "        if i == 1:\n",
    "            return self._y\n",
    "        if i == 2:\n",
    "            return self._z\n",
    "        # pour tous les autres cas --> erreur\n",
    "        raise IndexError(\"indice impossible, 0,1,2 autorisés\")\n",
    "\n",
    "    def __setitem__(self, i, x):\n",
    "        if i == 0:\n",
    "            self._x = x\n",
    "        elif i == 1:\n",
    "            self._y = y\n",
    "        elif i == 2:\n",
    "            self._z = z\n",
    "        else:\n",
    "            # pour tous les autres cas --> erreur\n",
    "            raise IndexError(\"indice impossible, 0,1,2 autorisés\")\n",
    "\n",
    "    def __str__(self):\n",
    "        return \"(%f,%f,%f)\" % (self._x, self._y, self._z)\n",
    "\n",
    "\n",
    "a = point_espace(1, -2, 3)\n",
    "\n",
    "print(a)                     # affiche (1.000000,-2.000000,3.000000)\n",
    "a.__setitem__(1,2)                   # (__setitem__) affecte -3 à a.y\n",
    "print(\"abscisse : \", a[0])  # (__getitem__) affiche abscisse :  1\n",
    "print(\"ordonnée : \", a[1])  # (__getitem__) affiche ordonnée :  -3\n",
    "print(\"altitude : \", a[2])  # (__getitem__) affiche altitude :  3"
   ]
  },
  {
   "cell_type": "markdown",
   "id": "403107fa",
   "metadata": {},
   "source": [
    "<p style=\"text-align: justify;\">La liste compl&egrave;te est accessible &agrave; Operators.&nbsp;</p>\n",
    "<table style=\"margin-right: calc(5%); width: 95%;\">\n",
    "    <tbody>\n",
    "        <tr>\n",
    "            <td style=\"width: 20%;\" width=\"310\">\n",
    "                <p style=\"text-align: justify;\">__cmp__(self,x)</p>\n",
    "            </td>\n",
    "            <td style=\"width: 58.9597%;\" width=\"349\">\n",
    "                <p style=\"text-align: justify;\">Retourne un entier &eacute;gal &agrave; -1, 0, 1, chacune de ces valeurs &eacute;tant associ&eacute;s respectivement &agrave;: self &lt; x, self == x, self &gt; x. Cet op&eacute;rateur est appel&eacute; par la fonction cmp.</p>\n",
    "            </td>\n",
    "        </tr>\n",
    "        <tr>\n",
    "            <td style=\"width: 40.8821%;\" width=\"310\">\n",
    "                <p style=\"text-align: justify;\">__str__(self)</p>\n",
    "            </td>\n",
    "            <td style=\"width: 58.9597%;\" width=\"349\">\n",
    "                <p style=\"text-align: justify;\">Convertit un objet en une cha&icirc;ne de caract&egrave;re qui sera affich&eacute;e par la fonction print ou obtenu avec la fonction str.</p>\n",
    "            </td>\n",
    "        </tr>\n",
    "        <tr>\n",
    "            <td style=\"width: 40.8821%;\" width=\"310\">\n",
    "                <p style=\"text-align: justify;\">__contains__(self,x)</p>\n",
    "            </td>\n",
    "            <td style=\"width: 58.9597%;\" width=\"349\">\n",
    "                <p style=\"text-align: justify;\">Retourne True ou False selon que x appartient &agrave; self. Le mot-cl&eacute; in renvoie &agrave; cet op&eacute;rateur. En d&rsquo;autres termes, if x in obj: appelle obj.__contains__(x).</p>\n",
    "            </td>\n",
    "        </tr>\n",
    "        <tr>\n",
    "            <td style=\"width: 40.8821%;\" width=\"310\">\n",
    "                <p style=\"text-align: justify;\">__len__(self)</p>\n",
    "            </td>\n",
    "            <td style=\"width: 58.9597%;\" width=\"349\">\n",
    "                <p style=\"text-align: justify;\">Retourne le nombre d&rsquo;&eacute;l&eacute;ment de&nbsp;self. Cet op&eacute;rateur est appel&eacute; par la fonction&nbsp;len.</p>\n",
    "            </td>\n",
    "        </tr>\n",
    "        <tr>\n",
    "            <td style=\"width: 40.8821%;\" width=\"310\">\n",
    "                <p style=\"text-align: justify;\">__abs__(self)</p>\n",
    "            </td>\n",
    "            <td style=\"width: 58.9597%;\" width=\"349\">\n",
    "                <p style=\"text-align: justify;\">Cet op&eacute;rateur est appel&eacute; par la fonction&nbsp;abs.</p>\n",
    "            </td>\n",
    "        </tr>\n",
    "        <tr>\n",
    "            <td style=\"width: 40.8821%;\" width=\"310\">\n",
    "                <p style=\"text-align: justify;\">__getitem__(self,i)</p>\n",
    "            </td>\n",
    "            <td style=\"width: 58.9597%;\" width=\"349\">\n",
    "                <p style=\"text-align: justify;\">Cet op&eacute;rateur est appel&eacute; lorsqu&rsquo;on cherche &agrave; acc&eacute;der &agrave; un &eacute;l&eacute;ment de l&rsquo;objet self d&rsquo;indice i comme si c&rsquo;&eacute;tait une liste. Si l&rsquo;indice i est incorrect, l&rsquo;exception IndexError doit &ecirc;tre lev&eacute;e.</p>\n",
    "            </td>\n",
    "        </tr>\n",
    "        <tr>\n",
    "            <td style=\"width: 40.8821%;\" width=\"310\">\n",
    "                <p style=\"text-align: justify;\">__setitem__(self,i,v)</p>\n",
    "            </td>\n",
    "            <td style=\"width: 58.9597%;\" width=\"349\">\n",
    "                <p style=\"text-align: justify;\">Cet op&eacute;rateur est appel&eacute; lorsqu&rsquo;on cherche &agrave; affecter une valeur v &agrave; un &eacute;l&eacute;ment de l&rsquo;objet self d&rsquo;indice i comme si c&rsquo;&eacute;tait une liste ou un dictionnaire. Si l&rsquo;indice i est incorrect, l&rsquo;exception IndexError.</p>\n",
    "            </td>\n",
    "        </tr>\n",
    "        <tr>\n",
    "            <td style=\"width: 40.8821%;\" width=\"310\">\n",
    "                <p style=\"text-align: justify;\">__delitem__(self,i)</p>\n",
    "            </td>\n",
    "            <td style=\"width: 58.9597%;\" width=\"349\">\n",
    "                <p style=\"text-align: justify;\">Cet op&eacute;rateur est appel&eacute; lorsqu&rsquo;on cherche &agrave; supprimer l&rsquo;&eacute;l&eacute;ment de l&rsquo;objet self d&rsquo;indice i comme si c&rsquo;&eacute;tait une liste ou un dictionnaire. Si l&rsquo;indice i est incorrect, l&rsquo;exception IndexError doit &ecirc;tre lev&eacute;e.</p>\n",
    "            </td>\n",
    "        </tr>\n",
    "        <tr>\n",
    "            <td style=\"width: 40.8821%;\" width=\"310\">\n",
    "                <p style=\"text-align: justify;\">__int__(self),__float__(self),</p>\n",
    "                <p style=\"text-align: justify;\">__complex__(self)</p>\n",
    "            </td>\n",
    "            <td style=\"width: 58.9597%;\" width=\"349\">\n",
    "                <p style=\"text-align: justify;\">Ces op&eacute;rateurs impl&eacute;mentent la conversion de l&rsquo;instance&nbsp;self&nbsp;en entier, r&eacute;el ou complexe.</p>\n",
    "            </td>\n",
    "        </tr>\n",
    "        <tr>\n",
    "            <td style=\"width: 40.8821%;\" width=\"310\">\n",
    "                <p style=\"text-align: justify;\">__add__(self,x),__div__(self,x),</p>\n",
    "                <p style=\"text-align: justify;\">__mul__(self,x)__sub__(self,x),</p>\n",
    "                <p style=\"text-align: justify;\">__pow__(self,x),__lshift__(self,x),</p>\n",
    "                <p style=\"text-align: justify;\">__rshift__(self,x)</p>\n",
    "            </td>\n",
    "            <td style=\"width: 58.9597%;\" width=\"349\">\n",
    "                <p style=\"text-align: justify;\">Op&eacute;rateurs appel&eacute;s pour les op&eacute;rations+,/,*,-,**,&lt;,&lt;</p>\n",
    "            </td>\n",
    "        </tr>\n",
    "        <tr>\n",
    "            <td width=\"310\">\n",
    "                <p style=\"text-align: justify;\">__iadd__(self,x),__idiv__(self,x),</p>\n",
    "                <p style=\"text-align: justify;\">__imul__(self,x),__isub__(self,x),</p>\n",
    "                <p style=\"text-align: justify;\">&nbsp;__ipow__(self,x),&nbsp;__ilshift__(self,&nbsp;x),&nbsp;</p>\n",
    "                <p style=\"text-align: justify;\">__irshift__(self,x)</p>\n",
    "            </td>\n",
    "            <td style=\"width: 58.9597%;\" width=\"349\">\n",
    "                <p style=\"text-align: justify;\">Op&eacute;rateurs appel&eacute;s pour les op&eacute;rations +=, /=, *=, -=, **=, &lt;&lt;=, &gt;&gt;=</p>\n",
    "            </td>\n",
    "        </tr>\n",
    "    </tbody>\n",
    "</table>"
   ]
  },
  {
   "cell_type": "markdown",
   "id": "abf144d5",
   "metadata": {},
   "source": [
    "<h2 style=\"text-align: justify;\"><span style=\"text-decoration: underline;\">14. It&eacute;rateurs</span></h2>\n",
    "<p style=\"text-align: justify;\">L&rsquo;op&eacute;rateur&nbsp;<em><strong><code>__iter__</code>&nbsp;</strong></em>permet de d&eacute;finir ce qu&rsquo;on appelle un it&eacute;rateur. C&rsquo;est un objet qui permet d&rsquo;en explorer un autre, comme une liste ou un dictionnaire. Un it&eacute;rateur est un objet qui d&eacute;signe un &eacute;l&eacute;ment d&rsquo;un ensemble &agrave; parcourir et qui conna&icirc;t l&rsquo;&eacute;l&eacute;ment suivant &agrave; visiter. Il doit pour cela contenir une r&eacute;f&eacute;rence &agrave; l&rsquo;objet qu&rsquo;il doit explorer et inclure une m&eacute;thode&nbsp;<code><em><strong>__next__</strong></em></code>&nbsp;qui retourne l&rsquo;&eacute;l&eacute;ment suivant ou l&egrave;ve une exception si l&rsquo;&eacute;l&eacute;ment actuel est le dernier.</p>\n",
    "<p style=\"text-align: justify;\">Par exemple, on cherche &agrave; explorer tous les &eacute;l&eacute;ments d&rsquo;un objet de type&nbsp;<code><em><strong>PointEspace</strong></em></code>&nbsp;d&eacute;fini au paragraphe pr&eacute;c&eacute;dent. Cette exploration doit s&rsquo;effectuer au moyen d&rsquo;une boucle&nbsp;<code><em><strong>for</strong></em></code>.</p>"
   ]
  },
  {
   "cell_type": "code",
   "execution_count": 148,
   "id": "38238558",
   "metadata": {},
   "outputs": [],
   "source": [
    "import math\n",
    "\n",
    "class Vecteur:\n",
    "    \n",
    "    __slots__ = ('__x', '__y')\n",
    "    nb_instances = 0\n",
    "\n",
    "    def __init__(self, x=0, y=0):\n",
    "        self.__x = x\n",
    "        self.__y = y\n",
    "        Vecteur.nb_instances += 1\n",
    "        \n",
    "    @staticmethod\n",
    "    def une_methode():\n",
    "        print(\"appel de la méthode\")\n",
    "\n",
    "    @classmethod\n",
    "    def reinitialiser_compteur(cls):\n",
    "        cls.nb_instances = 0\n",
    "\n",
    "    @property\n",
    "    def norme(self):\n",
    "        return math.sqrt(self.__x**2 + self.__y**2)\n",
    "    \n",
    "    @property\n",
    "    def calculer_produit_scalaire(self, v):\n",
    "        return self.__x * v.__x + self.__y * v.__y\n",
    "\n",
    "    @property\n",
    "    def normaliser(self):\n",
    "        norme = self.norme\n",
    "        self.__x /= norme\n",
    "        self.__y /= norme\n",
    "    \n",
    "    @property\n",
    "    def x(self):\n",
    "        return self.__x\n",
    "\n",
    "    @x.setter\n",
    "    def x(self, x):\n",
    "        self.__x = x\n",
    "\n",
    "    @property\n",
    "    def y(self):\n",
    "        return self.__y\n",
    "\n",
    "    @y.setter\n",
    "    def y(self, y):\n",
    "        self.__y = y\n",
    "        \n",
    "    @x.deleter\n",
    "    def x(self):\n",
    "        del self.__x\n",
    "        \n",
    "    @y.deleter\n",
    "    def y(self):\n",
    "        del self.__y\n",
    "\n",
    "    def __iter__(self):\n",
    "        yield self.__x\n",
    "        yield self.__y\n"
   ]
  },
  {
   "cell_type": "code",
   "execution_count": 149,
   "id": "6c07c9db",
   "metadata": {},
   "outputs": [
    {
     "name": "stdout",
     "output_type": "stream",
     "text": [
      "1\n",
      "-2\n"
     ]
    }
   ],
   "source": [
    "v = Vecteur(1, -2)\n",
    "\n",
    "for x in v:\n",
    "    print(x)      # affiche successivement 1,-2"
   ]
  },
  {
   "cell_type": "markdown",
   "id": "3e96eeca",
   "metadata": {},
   "source": [
    "<h2><span style=\"text-decoration: underline;\">14. Copie d&rsquo;instances</span></h2>\n",
    "<h3><span style=\"text-decoration: underline;\">14.1. Copie d&rsquo;instance de classe simple</span></h3>\n",
    "<p style=\"text-align: justify;\">Aussi &eacute;trange que cela puisse para&icirc;tre, le signe&nbsp;<code><em><strong>=</strong></em></code>&nbsp;ne permet pas de recopier une instance de classe. Il permet d&rsquo;obtenir deux noms diff&eacute;rents pour d&eacute;signer le m&ecirc;me objet. Dans l&rsquo;exemple qui suit, la ligne&nbsp;<code><em><strong>nb2&nbsp;=&nbsp;nb</strong></em></code>&nbsp;ne fait pas de copie de l&rsquo;instance&nbsp;<code><em><strong>nb</strong></em></code>, elle permet d&rsquo;obtenir un second nom&nbsp;<code><em><strong>nb2</strong></em></code> pour l&rsquo;instance&nbsp;<code><em><strong>nb</strong></em></code>. Vu de l&rsquo;ext&eacute;rieur, la ligne&nbsp;<em><strong><code>nb2.rnd&nbsp;=&nbsp;0</code>&nbsp;</strong></em>para&icirc;t modifier &agrave; la fois les objets&nbsp;<code><em><strong>nb</strong></em></code> et&nbsp;<code><em><strong>nb2</strong></em></code>&nbsp;puisque les lignes&nbsp;<code><em><strong>print(nb.rnd)</strong></em></code>&nbsp;et&nbsp;<code><em><strong>print(nb2.rnd)</strong></em></code>&nbsp;affichent la m&ecirc;me chose. En r&eacute;alit&eacute;,&nbsp;<code><em><strong>nb</strong></em></code>&nbsp;et&nbsp;<code><em><strong>nb2</strong></em></code>&nbsp;d&eacute;signent le m&ecirc;me <em><strong>objet</strong></em>.</p>"
   ]
  },
  {
   "cell_type": "code",
   "execution_count": 146,
   "id": "6feb7d24",
   "metadata": {},
   "outputs": [
    {
     "name": "stdout",
     "output_type": "stream",
     "text": [
      "1 1\n",
      "-2 -2\n",
      "1 1\n",
      "0 0\n"
     ]
    }
   ],
   "source": [
    "a = Vecteur(1, -2)\n",
    "b = a\n",
    "\n",
    "for x,y in zip(a,b):\n",
    "    print(x,y)      # affiche successivement 1,-2\n",
    "\n",
    "b.y = 0\n",
    "\n",
    "for x,y in zip(a,b):\n",
    "    print(x,y)      # affiche successivement 1,-2"
   ]
  },
  {
   "cell_type": "markdown",
   "id": "b3234922",
   "metadata": {},
   "source": [
    "<p>Pour cr&eacute;er une copie de l&rsquo;instance&nbsp;<code><em><strong>nb</strong></em></code>, il faut le dire explicitement en utilisant la fonction&nbsp;<code><em><strong>copy&nbsp;</strong></em></code>du module&nbsp;<code><em><strong>copy</strong></em></code>.</p>\n",
    "\n",
    "```python\n",
    "from copy import copy\n",
    "nom_copy = copy(nom_instance)\n",
    "```\n",
    "<p style=\"text-align: justify;\"><code class=\"docutils literal notranslate\"><span class=\"pre\"><em><strong>nom_instance</strong></em></span></code><span>&nbsp;est une instance &agrave; copier,&nbsp;</span><em><strong><code class=\"docutils literal notranslate\"><span class=\"pre\">nom_copy</span></code></strong></em><span>&nbsp;est le nom d&eacute;signant la copie. L&rsquo;exemple suivant applique cette copie sur la classe&nbsp;</span><em><strong><code class=\"docutils literal notranslate\"><span class=\"pre\">exemple_classe</span></code></strong></em><span>&nbsp;g&eacute;n&eacute;rant des nombres al&eacute;atoires.</span></p>"
   ]
  },
  {
   "cell_type": "code",
   "execution_count": 196,
   "id": "ac39519a",
   "metadata": {},
   "outputs": [],
   "source": [
    "import math\n",
    "\n",
    "class Vecteur:\n",
    "    \n",
    "    __slots__ = ('__x', '__y')\n",
    "    nb_instances = 0\n",
    "\n",
    "    def __init__(self, x=0, y=0):\n",
    "        self.__x = x\n",
    "        self.__y = y\n",
    "        Vecteur.nb_instances += 1\n",
    "        \n",
    "    @staticmethod\n",
    "    def une_methode():\n",
    "        print(\"appel de la méthode\")\n",
    "\n",
    "    @classmethod\n",
    "    def reinitialiser_compteur(cls):\n",
    "        cls.nb_instances = 0\n",
    "\n",
    "    @property\n",
    "    def norme(self):\n",
    "        return math.sqrt(self.__x**2 + self.__y**2)\n",
    "    \n",
    "    @property\n",
    "    def calculer_produit_scalaire(self, v):\n",
    "        return self.__x * v.__x + self.__y * v.__y\n",
    "\n",
    "    @property\n",
    "    def normaliser(self):\n",
    "        norme = self.norme\n",
    "        self.__x /= norme\n",
    "        self.__y /= norme\n",
    "    \n",
    "    @property\n",
    "    def x(self):\n",
    "        return self.__x\n",
    "\n",
    "    @x.setter\n",
    "    def x(self, x):\n",
    "        self.__x = x\n",
    "\n",
    "    @property\n",
    "    def y(self):\n",
    "        return self.__y\n",
    "\n",
    "    @y.setter\n",
    "    def y(self, y):\n",
    "        self.__y = y\n",
    "        \n",
    "    @x.deleter\n",
    "    def x(self):\n",
    "        del self.__x\n",
    "        \n",
    "    @y.deleter\n",
    "    def y(self):\n",
    "        del self.__y\n",
    "\n",
    "    def __iter__(self):\n",
    "        yield self.__x\n",
    "        yield self.__y \n",
    "    "
   ]
  },
  {
   "cell_type": "code",
   "execution_count": 197,
   "id": "6f54d193",
   "metadata": {},
   "outputs": [
    {
     "name": "stdout",
     "output_type": "stream",
     "text": [
      "1 1\n",
      "-2 -2\n",
      "1 1\n",
      "-2 0\n"
     ]
    }
   ],
   "source": [
    "from copy import copy\n",
    "\n",
    "a = Vecteur(1, -2)\n",
    "b = copy(a)\n",
    "\n",
    "for x,y in zip(a,b):\n",
    "    print(x,y)      # affiche successivement 1,-2\n",
    "\n",
    "b.y = 0\n",
    "\n",
    "for x,y in zip(a,b):\n",
    "    print(x,y)      # affiche successivement 1,-2"
   ]
  },
  {
   "cell_type": "markdown",
   "id": "54a2d34f",
   "metadata": {},
   "source": [
    "<h3><span style=\"text-decoration: underline;\">15.2. Copie d&rsquo;instance de classes incluant d&rsquo;autres classes</span></h3>\n",
    "<p style=\"text-align: justify;\">La fonction&nbsp;<strong><em><code>copy</code>&nbsp;</em></strong>n&rsquo;est pas suffisante lorsqu&rsquo;une <em><strong>classe</strong> </em>inclut des <em><strong>attributs</strong> </em>qui sont eux-m&ecirc;mes des <em><strong>classes</strong> </em>incluant des <em><strong>attributs</strong></em>. Dans l&rsquo;exemple qui suit, la classe&nbsp;<code><em><strong>Vecteur</strong></em></code>&nbsp;inclut un attribut de type&nbsp;<em><strong>Point</strong></em>&nbsp;qui contient les attributs&nbsp;<span><code><em><strong>x</strong></em></code> et <em><strong>y</strong></em></span>. Lors de la copie &agrave; l&rsquo;aide de l&rsquo;instruction <code><em><strong>b&nbsp;=&nbsp;copy(a)</strong></em></code>, l&rsquo;attribut&nbsp;<span>inclus</span>&nbsp;<span style=\"color: #ff0000;\"><em><strong>n&rsquo;est pas copi&eacute;</strong></em></span>, on se retrouve donc avec deux noms qui d&eacute;signent encore le m&ecirc;me objet.</p>"
   ]
  },
  {
   "cell_type": "code",
   "execution_count": 200,
   "id": "2bd12ddb",
   "metadata": {},
   "outputs": [],
   "source": [
    "import math\n",
    "\n",
    "class Point:\n",
    "    \n",
    "    __slots__ = ('__x', '__y')\n",
    "    \n",
    "    def __init__(self, x=0, y=0):\n",
    "        self.__x = x\n",
    "        self.__y = y\n",
    "    \n",
    "    @property\n",
    "    def x(self):\n",
    "        return self.__x\n",
    "\n",
    "    @x.setter\n",
    "    def x(self, x):\n",
    "        self.__x = x\n",
    "\n",
    "    @property\n",
    "    def y(self):\n",
    "        return self.__y\n",
    "\n",
    "    @y.setter\n",
    "    def y(self, y):\n",
    "        self.__y = y\n",
    "        \n",
    "    @x.deleter\n",
    "    def x(self):\n",
    "        del self.__x\n",
    "        \n",
    "    @y.deleter\n",
    "    def y(self):\n",
    "        del self.__y\n",
    "\n",
    "    def __iter__(self):\n",
    "        yield self.__x\n",
    "        yield self.__y \n",
    "    \n",
    "class Vecteur:\n",
    "    \n",
    "    \n",
    "    nb_instances = 0\n",
    "\n",
    "    def __init__(self, x=0, y=0, nom=\"\"):\n",
    "        self.__point = Point(x,y)\n",
    "        self.__nom = nom\n",
    "        Vecteur.nb_instances += 1\n",
    "        \n",
    "    @staticmethod\n",
    "    def une_methode():\n",
    "        print(\"appel de la méthode\")\n",
    "\n",
    "    @classmethod\n",
    "    def reinitialiser_compteur(cls):\n",
    "        cls.nb_instances = 0\n",
    "\n",
    "    @property\n",
    "    def norme(self):\n",
    "        return math.sqrt(self.__x**2 + self.__y**2)\n",
    "    \n",
    "    @property\n",
    "    def calculer_produit_scalaire(self, v):\n",
    "        return self.__point.x * v.__point.x + self.__point.y * v.__point.y\n",
    "\n",
    "    @property\n",
    "    def normaliser(self):\n",
    "        norme = self.norme\n",
    "        self.__point.x /= norme\n",
    "        self.__point.y /= norme\n",
    "        \n",
    "    @property\n",
    "    def point(self):\n",
    "        return self.__point\n",
    "    \n",
    "         \n",
    "    @property\n",
    "    def nom(self):\n",
    "        return self.__nom\n",
    "\n",
    "    @point.setter\n",
    "    def point(self, point):\n",
    "        self.__point = point\n",
    "        \n",
    "    \n",
    "    @nom.setter\n",
    "    def nom(self, nom):\n",
    "        self.__nom = nom\n",
    "    \n",
    "    \n",
    "    def __iter__(self):\n",
    "        yield self.point.x\n",
    "        yield self.point.y \n",
    "        yield self.nom\n",
    "    "
   ]
  },
  {
   "cell_type": "code",
   "execution_count": 201,
   "id": "fab00895",
   "metadata": {},
   "outputs": [
    {
     "name": "stdout",
     "output_type": "stream",
     "text": [
      "0 0\n",
      "0 0\n",
      "Vecteur a Vecteur a\n",
      "5 5\n",
      "0 0\n",
      "Vecteur a Vecteur a\n"
     ]
    }
   ],
   "source": [
    "a = Vecteur(nom=\"Vecteur a\")\n",
    "b = copy(a)\n",
    "\n",
    "for x,y in zip(a,b):\n",
    "    print(x,y)      # affiche successivement 1,-2\n",
    "\n",
    "b.point.x = 5\n",
    "\n",
    "for x,y in zip(a,b):\n",
    "    print(x,y)      # affiche successivement 1,-2"
   ]
  },
  {
   "cell_type": "markdown",
   "id": "0141c1a4",
   "metadata": {},
   "source": [
    "<p style=\"text-align: justify;\"><span>Pour effectivement copier les attributs dont le type est une classe, la premi&egrave;re option la plus simple est de remplacer la fonction&nbsp;</span><em><strong><code class=\"docutils literal notranslate\"><span class=\"pre\">copy</span></code></strong></em><span>&nbsp;par la fonction&nbsp;</span><em><strong><code class=\"docutils literal notranslate\"><span class=\"pre\">deepcopy</span></code></strong></em><span>. Le comportement de cette fonction dans le cas des classes est le m&ecirc;me que dans le cas des <em><strong>listes</strong></em></span><span>. La seconde solution, rarement utilis&eacute;e, est d&rsquo;utiliser l&rsquo;op&eacute;rateur&nbsp;</span><em><strong><code class=\"docutils literal notranslate\"><span class=\"pre\">__copy__</span></code></strong></em><span><em><strong>&nbsp;</strong></em>et ainsi &eacute;crire le code associ&eacute; &agrave; la copie des attributs de la classe.</span></p>\n",
    "\n",
    "```python\n",
    "class nom_classe :\n",
    "    def __copy__ () :\n",
    "        copie = nom_classe(...)\n",
    "        # ...\n",
    "        return copie\n",
    "```\n",
    "<p><em><strong><code class=\"docutils literal notranslate\"><span class=\"pre\">nom_classe</span></code></strong></em><span>&nbsp;</span>est le nom d&rsquo;une classe. La m&eacute;thode<span>&nbsp;</span><em><strong><code class=\"docutils literal notranslate\"><span class=\"pre\">__copy__</span></code></strong></em><span>&nbsp;</span>doit retourner une instance de la classe<span>&nbsp;</span><em><strong><code class=\"docutils literal notranslate\"><span class=\"pre\">nom_classe</span></code></strong></em>, dans cet exemple, cette instance a pour nom<span>&nbsp;</span><em><strong><code class=\"docutils literal notranslate\"><span class=\"pre\">copie</span></code></strong></em>.</p>\n",
    "<p>L&rsquo;exemple suivant montre un exemple d&rsquo;impl&eacute;mentation de la classe<span>&nbsp;</span><em><strong><code class=\"docutils literal notranslate\"><span class=\"pre\">__copy__</span></code></strong></em>.&nbsp;</p>"
   ]
  },
  {
   "cell_type": "code",
   "execution_count": 202,
   "id": "1b60eb19",
   "metadata": {},
   "outputs": [],
   "source": [
    "import math\n",
    "\n",
    "class Point:\n",
    "    \n",
    "    __slots__ = ('__x', '__y')\n",
    "    \n",
    "    def __init__(self, x=0, y=0):\n",
    "        self.__x = x\n",
    "        self.__y = y\n",
    "    \n",
    "    @property\n",
    "    def x(self):\n",
    "        return self.__x\n",
    "\n",
    "    @x.setter\n",
    "    def x(self, x):\n",
    "        self.__x = x\n",
    "\n",
    "    @property\n",
    "    def y(self):\n",
    "        return self.__y\n",
    "\n",
    "    @y.setter\n",
    "    def y(self, y):\n",
    "        self.__y = y\n",
    "        \n",
    "    @x.deleter\n",
    "    def x(self):\n",
    "        del self.__x\n",
    "        \n",
    "    @y.deleter\n",
    "    def y(self):\n",
    "        del self.__y\n",
    "\n",
    "    def __iter__(self):\n",
    "        yield self.__x\n",
    "        yield self.__y \n",
    "    \n",
    "class Vecteur:\n",
    "    \n",
    "    \n",
    "    nb_instances = 0\n",
    "\n",
    "    def __init__(self, x=0, y=0, nom=\"\"):\n",
    "        self.__point = Point(x,y)\n",
    "        self.__nom = nom\n",
    "        Vecteur.nb_instances += 1\n",
    "        \n",
    "    @staticmethod\n",
    "    def une_methode():\n",
    "        print(\"appel de la méthode\")\n",
    "\n",
    "    @classmethod\n",
    "    def reinitialiser_compteur(cls):\n",
    "        cls.nb_instances = 0\n",
    "\n",
    "    @property\n",
    "    def norme(self):\n",
    "        return math.sqrt(self.__x**2 + self.__y**2)\n",
    "    \n",
    "    @property\n",
    "    def calculer_produit_scalaire(self, v):\n",
    "        return self.__point.x * v.__point.x + self.__point.y * v.__point.y\n",
    "\n",
    "    @property\n",
    "    def normaliser(self):\n",
    "        norme = self.norme\n",
    "        self.__point.x /= norme\n",
    "        self.__point.y /= norme\n",
    "        \n",
    "    @property\n",
    "    def point(self):\n",
    "        return self.__point\n",
    "    \n",
    "         \n",
    "    @property\n",
    "    def nom(self):\n",
    "        return self.__nom\n",
    "\n",
    "    @point.setter\n",
    "    def point(self, point):\n",
    "        self.__point = point\n",
    "        \n",
    "    \n",
    "    @nom.setter\n",
    "    def nom(self, nom):\n",
    "        self.__nom = nom\n",
    "    \n",
    "    \n",
    "    def __iter__(self):\n",
    "        yield self.point.x\n",
    "        yield self.point.y \n",
    "        yield self.nom\n",
    "    \n",
    "    def __copy__(self):\n",
    "        return Vecteur(self.__point.x, self.__point.x, self.__nom)\n",
    "\n"
   ]
  },
  {
   "cell_type": "code",
   "execution_count": 203,
   "id": "31ad4f46",
   "metadata": {},
   "outputs": [
    {
     "name": "stdout",
     "output_type": "stream",
     "text": [
      "0 0\n",
      "0 0\n",
      "Vecteur a Vecteur a\n",
      "0 5\n",
      "0 0\n",
      "Vecteur a Vecteur a\n"
     ]
    }
   ],
   "source": [
    "a = Vecteur(nom=\"Vecteur a\")\n",
    "b = copy(a)\n",
    "\n",
    "for x,y in zip(a,b):\n",
    "    print(x,y)      # affiche successivement 1,-2\n",
    "\n",
    "b.point.x = 5\n",
    "\n",
    "for x,y in zip(a,b):\n",
    "    print(x,y)      # affiche successivement 1,-2"
   ]
  },
  {
   "cell_type": "code",
   "execution_count": null,
   "id": "5344120c",
   "metadata": {},
   "outputs": [],
   "source": []
  }
 ],
 "metadata": {
  "kernelspec": {
   "display_name": "Python 3 (ipykernel)",
   "language": "python",
   "name": "python3"
  },
  "language_info": {
   "codemirror_mode": {
    "name": "ipython",
    "version": 3
   },
   "file_extension": ".py",
   "mimetype": "text/x-python",
   "name": "python",
   "nbconvert_exporter": "python",
   "pygments_lexer": "ipython3",
   "version": "3.9.12"
  }
 },
 "nbformat": 4,
 "nbformat_minor": 5
}
